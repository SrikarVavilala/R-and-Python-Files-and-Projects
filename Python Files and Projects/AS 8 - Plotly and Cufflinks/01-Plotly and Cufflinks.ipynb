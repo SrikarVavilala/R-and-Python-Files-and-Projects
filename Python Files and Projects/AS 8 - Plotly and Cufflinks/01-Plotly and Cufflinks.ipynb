{
 "cells": [
  {
   "cell_type": "markdown",
   "metadata": {},
   "source": [
    "___\n",
    "\n",
    "<a href='http://www.pieriandata.com'> <img src='../Pierian_Data_Logo.png' /></a>\n",
    "___\n",
    "# Plotly and Cufflinks"
   ]
  },
  {
   "cell_type": "markdown",
   "metadata": {},
   "source": [
    "Plotly is a library that allows you to create interactive plots that you can use in dashboards or websites (you can save them as html files or static images).\n",
    "\n",
    "## Installation\n",
    "\n",
    "In order for this all to work, you'll need to install plotly and cufflinks to call plots directly off of a pandas dataframe. These libraries are not currently available through **conda** but are available through **pip**. Install the libraries at your command line/terminal using:\n",
    "\n",
    "    pip install plotly\n",
    "    pip install cufflinks\n",
    "\n",
    "** NOTE: Make sure you only have one installation of Python on your computer when you do this, otherwise the installation may not work. **\n",
    "\n",
    "## Imports and Set-up"
   ]
  },
  {
   "cell_type": "code",
   "execution_count": 14,
   "metadata": {},
   "outputs": [],
   "source": [
    "import pandas as pd\n",
    "import numpy as np\n",
    "import chart_studio.plotly as py\n"
   ]
  },
  {
   "cell_type": "code",
   "execution_count": 15,
   "metadata": {
    "jupyter": {
     "outputs_hidden": false
    }
   },
   "outputs": [
    {
     "name": "stdout",
     "output_type": "stream",
     "text": [
      "4.9.0\n"
     ]
    }
   ],
   "source": [
    "from plotly import __version__\n",
    "from plotly.offline import download_plotlyjs, init_notebook_mode, plot, iplot\n",
    "\n",
    "print(__version__) # requires version >= 1.9.0"
   ]
  },
  {
   "cell_type": "code",
   "execution_count": 16,
   "metadata": {},
   "outputs": [],
   "source": [
    "import cufflinks as cf"
   ]
  },
  {
   "cell_type": "code",
   "execution_count": 17,
   "metadata": {
    "jupyter": {
     "outputs_hidden": false
    }
   },
   "outputs": [
    {
     "data": {
      "text/html": [
       "        <script type=\"text/javascript\">\n",
       "        window.PlotlyConfig = {MathJaxConfig: 'local'};\n",
       "        if (window.MathJax) {MathJax.Hub.Config({SVG: {font: \"STIX-Web\"}});}\n",
       "        if (typeof require !== 'undefined') {\n",
       "        require.undef(\"plotly\");\n",
       "        requirejs.config({\n",
       "            paths: {\n",
       "                'plotly': ['https://cdn.plot.ly/plotly-latest.min']\n",
       "            }\n",
       "        });\n",
       "        require(['plotly'], function(Plotly) {\n",
       "            window._Plotly = Plotly;\n",
       "        });\n",
       "        }\n",
       "        </script>\n",
       "        "
      ]
     },
     "metadata": {},
     "output_type": "display_data"
    }
   ],
   "source": [
    "# For Notebooks\n",
    "init_notebook_mode(connected=True)"
   ]
  },
  {
   "cell_type": "code",
   "execution_count": 18,
   "metadata": {
    "jupyter": {
     "outputs_hidden": false
    }
   },
   "outputs": [
    {
     "data": {
      "text/html": [
       "        <script type=\"text/javascript\">\n",
       "        window.PlotlyConfig = {MathJaxConfig: 'local'};\n",
       "        if (window.MathJax) {MathJax.Hub.Config({SVG: {font: \"STIX-Web\"}});}\n",
       "        if (typeof require !== 'undefined') {\n",
       "        require.undef(\"plotly\");\n",
       "        requirejs.config({\n",
       "            paths: {\n",
       "                'plotly': ['https://cdn.plot.ly/plotly-latest.min']\n",
       "            }\n",
       "        });\n",
       "        require(['plotly'], function(Plotly) {\n",
       "            window._Plotly = Plotly;\n",
       "        });\n",
       "        }\n",
       "        </script>\n",
       "        "
      ]
     },
     "metadata": {},
     "output_type": "display_data"
    }
   ],
   "source": [
    "# For offline use\n",
    "cf.go_offline()"
   ]
  },
  {
   "cell_type": "markdown",
   "metadata": {},
   "source": [
    "### Fake Data"
   ]
  },
  {
   "cell_type": "code",
   "execution_count": 19,
   "metadata": {
    "jupyter": {
     "outputs_hidden": false
    }
   },
   "outputs": [],
   "source": [
    "df = pd.DataFrame(np.random.randn(100,4),columns='A B C D'.split())"
   ]
  },
  {
   "cell_type": "code",
   "execution_count": 20,
   "metadata": {
    "jupyter": {
     "outputs_hidden": false
    }
   },
   "outputs": [
    {
     "data": {
      "text/html": [
       "<div>\n",
       "<style scoped>\n",
       "    .dataframe tbody tr th:only-of-type {\n",
       "        vertical-align: middle;\n",
       "    }\n",
       "\n",
       "    .dataframe tbody tr th {\n",
       "        vertical-align: top;\n",
       "    }\n",
       "\n",
       "    .dataframe thead th {\n",
       "        text-align: right;\n",
       "    }\n",
       "</style>\n",
       "<table border=\"1\" class=\"dataframe\">\n",
       "  <thead>\n",
       "    <tr style=\"text-align: right;\">\n",
       "      <th></th>\n",
       "      <th>A</th>\n",
       "      <th>B</th>\n",
       "      <th>C</th>\n",
       "      <th>D</th>\n",
       "    </tr>\n",
       "  </thead>\n",
       "  <tbody>\n",
       "    <tr>\n",
       "      <th>0</th>\n",
       "      <td>0.468036</td>\n",
       "      <td>-0.743499</td>\n",
       "      <td>0.838976</td>\n",
       "      <td>-0.251918</td>\n",
       "    </tr>\n",
       "    <tr>\n",
       "      <th>1</th>\n",
       "      <td>-0.180897</td>\n",
       "      <td>-0.460762</td>\n",
       "      <td>1.013718</td>\n",
       "      <td>0.419815</td>\n",
       "    </tr>\n",
       "    <tr>\n",
       "      <th>2</th>\n",
       "      <td>0.003483</td>\n",
       "      <td>1.878078</td>\n",
       "      <td>-0.729737</td>\n",
       "      <td>-1.314094</td>\n",
       "    </tr>\n",
       "    <tr>\n",
       "      <th>3</th>\n",
       "      <td>-0.850323</td>\n",
       "      <td>0.048288</td>\n",
       "      <td>0.604914</td>\n",
       "      <td>1.231843</td>\n",
       "    </tr>\n",
       "    <tr>\n",
       "      <th>4</th>\n",
       "      <td>0.814611</td>\n",
       "      <td>-0.002936</td>\n",
       "      <td>0.772385</td>\n",
       "      <td>-0.148979</td>\n",
       "    </tr>\n",
       "  </tbody>\n",
       "</table>\n",
       "</div>"
      ],
      "text/plain": [
       "          A         B         C         D\n",
       "0  0.468036 -0.743499  0.838976 -0.251918\n",
       "1 -0.180897 -0.460762  1.013718  0.419815\n",
       "2  0.003483  1.878078 -0.729737 -1.314094\n",
       "3 -0.850323  0.048288  0.604914  1.231843\n",
       "4  0.814611 -0.002936  0.772385 -0.148979"
      ]
     },
     "execution_count": 20,
     "metadata": {},
     "output_type": "execute_result"
    }
   ],
   "source": [
    "df.head()"
   ]
  },
  {
   "cell_type": "code",
   "execution_count": 21,
   "metadata": {},
   "outputs": [],
   "source": [
    "df2 = pd.DataFrame({'Category':['A','B','C'],'Values':[32,43,50]})"
   ]
  },
  {
   "cell_type": "code",
   "execution_count": 22,
   "metadata": {
    "jupyter": {
     "outputs_hidden": false
    }
   },
   "outputs": [
    {
     "data": {
      "text/html": [
       "<div>\n",
       "<style scoped>\n",
       "    .dataframe tbody tr th:only-of-type {\n",
       "        vertical-align: middle;\n",
       "    }\n",
       "\n",
       "    .dataframe tbody tr th {\n",
       "        vertical-align: top;\n",
       "    }\n",
       "\n",
       "    .dataframe thead th {\n",
       "        text-align: right;\n",
       "    }\n",
       "</style>\n",
       "<table border=\"1\" class=\"dataframe\">\n",
       "  <thead>\n",
       "    <tr style=\"text-align: right;\">\n",
       "      <th></th>\n",
       "      <th>Category</th>\n",
       "      <th>Values</th>\n",
       "    </tr>\n",
       "  </thead>\n",
       "  <tbody>\n",
       "    <tr>\n",
       "      <th>0</th>\n",
       "      <td>A</td>\n",
       "      <td>32</td>\n",
       "    </tr>\n",
       "    <tr>\n",
       "      <th>1</th>\n",
       "      <td>B</td>\n",
       "      <td>43</td>\n",
       "    </tr>\n",
       "    <tr>\n",
       "      <th>2</th>\n",
       "      <td>C</td>\n",
       "      <td>50</td>\n",
       "    </tr>\n",
       "  </tbody>\n",
       "</table>\n",
       "</div>"
      ],
      "text/plain": [
       "  Category  Values\n",
       "0        A      32\n",
       "1        B      43\n",
       "2        C      50"
      ]
     },
     "execution_count": 22,
     "metadata": {},
     "output_type": "execute_result"
    }
   ],
   "source": [
    "df2.head()"
   ]
  },
  {
   "cell_type": "markdown",
   "metadata": {},
   "source": [
    "## Using Cufflinks and iplot()\n",
    "\n",
    "* scatter\n",
    "* bar\n",
    "* box\n",
    "* spread\n",
    "* ratio\n",
    "* heatmap\n",
    "* surface\n",
    "* histogram\n",
    "* bubble"
   ]
  },
  {
   "cell_type": "markdown",
   "metadata": {},
   "source": [
    "## Scatter"
   ]
  },
  {
   "cell_type": "code",
   "execution_count": 33,
   "metadata": {
    "jupyter": {
     "outputs_hidden": false
    }
   },
   "outputs": [
    {
     "data": {
      "application/vnd.plotly.v1+json": {
       "config": {
        "linkText": "Export to plot.ly",
        "plotlyServerURL": "https://plot.ly",
        "showLink": true
       },
       "data": [
        {
         "line": {
          "color": "rgba(255, 153, 51, 1.0)",
          "dash": "solid",
          "shape": "linear",
          "width": 1.3
         },
         "marker": {
          "size": 10,
          "symbol": "circle"
         },
         "mode": "markers",
         "name": "B",
         "text": "",
         "type": "scatter",
         "x": [
          0.4680357176729802,
          -0.18089695435687647,
          0.003483194029145718,
          -0.8503226748006865,
          0.8146106228274449,
          0.15146587172216824,
          0.12723478221447262,
          0.3351004387413441,
          0.9414103775281865,
          -0.8857734378332426,
          -0.5701687051204497,
          -0.8893540639512774,
          0.14019123212902615,
          -0.966403721687782,
          0.33538370842415655,
          0.6702165022341717,
          -0.015213378402976164,
          -1.6090697702945362,
          0.7768280979717406,
          -0.020888206099068173,
          -1.3080179624540567,
          0.007249009389868164,
          0.2945209102593891,
          -0.9992695366250636,
          -0.6447006902415953,
          -1.0905563070634021,
          0.028797804449134032,
          -0.8843550330471293,
          1.0386401862451842,
          -0.6372696659703778,
          -0.07546361030812403,
          -0.6885808917640587,
          0.6960913089883859,
          0.7967344770276393,
          -0.31311403394368115,
          0.44535646682353447,
          1.2184826503543367,
          0.4897504444752817,
          1.0975181333688733,
          -1.2899287196667168,
          0.7672041598633657,
          -1.2666068328758595,
          1.0388834302251584,
          -2.7642984677037763,
          0.7743643434944764,
          0.5383447940237172,
          0.47174339868068116,
          -0.9813512577834447,
          -1.9094619873718108,
          0.09403883020114603,
          -0.16567173008209463,
          0.3497701577167347,
          0.7786062683999717,
          -0.9749299704877334,
          1.895335438858008,
          -0.4681186971331524,
          1.6906002800833542,
          -0.3863554355065704,
          -2.0996821386621938,
          0.13576410988414953,
          0.49662193548416167,
          0.6652139195938592,
          1.318582804966973,
          -0.03610763629279586,
          -0.4325131784953337,
          -0.6569998826577392,
          0.7840142952369771,
          1.3376479675287218,
          -0.24358433096939566,
          0.7227382172365205,
          -0.8355487413044241,
          0.7365537375544133,
          -0.5896650123534253,
          0.6979532707491521,
          0.4168212480194256,
          -1.156999280240315,
          0.49573377418729586,
          -0.8131742308332868,
          -0.023724459695214212,
          -0.6662885802270111,
          -0.5650900186908255,
          -0.14085214787252726,
          0.5047821408545787,
          -1.5536765581644607,
          -0.12215501843578472,
          -0.47462127467704807,
          -0.739431884829175,
          -0.28716816395346373,
          1.7938082735840795,
          -1.721425966026441,
          0.6277844324474082,
          -0.13192234352890128,
          0.5491320236601649,
          -0.5930336917559829,
          0.13740697896731097,
          1.1271661097434316,
          -0.5372438603757769,
          -0.7756176374275516,
          1.9872765631996863,
          1.1777260909975629
         ],
         "y": [
          -0.7434989651960935,
          -0.4607615024270917,
          1.8780782846811968,
          0.04828809145899935,
          -0.0029359171677269995,
          -0.08753811400269597,
          -0.3979045501815003,
          -1.3587319206144035,
          1.3058393881672048,
          -2.3358469828562334,
          1.7778387243432399,
          -0.8702029541219694,
          0.9935992049714233,
          1.4798461388258817,
          1.1275258510799964,
          1.477737769433274,
          0.36461748526784393,
          0.1831140969875315,
          0.17955620423002,
          2.12826660679801,
          -1.1186449675805272,
          1.1949120889777742,
          0.6551153688968544,
          0.7735108164924516,
          -0.7619829421982433,
          0.3818031659229591,
          -0.13223350833946632,
          -1.0411027537542916,
          0.7270464129765776,
          -0.46302451921768606,
          0.5627073813462292,
          0.08627527498922588,
          0.20036806041275756,
          0.01589035106560516,
          -1.5745988477361705,
          -0.5007655647549084,
          -1.874963053783075,
          -1.1902805653365587,
          -0.6179762986534144,
          0.3369724337050894,
          -0.09505535904528267,
          -0.5306506763564895,
          -0.030613138796697234,
          0.6341060188575188,
          0.23753214374573461,
          0.5756485863333742,
          -0.32928971144601865,
          0.07337782328325868,
          -0.3357057393863871,
          0.5900992992421492,
          -0.40898656611231804,
          -0.47322322257176525,
          0.2934714022237347,
          -0.3757543883540172,
          -0.1585512845422061,
          -0.25357244880222723,
          -1.5140291466870681,
          -0.7753885030539748,
          0.797052517782712,
          -0.3686557886848596,
          0.2855546620487415,
          1.6705044922929793,
          -0.43515134559370927,
          1.6595080594016447,
          -0.7252495287174796,
          -0.8330399931977461,
          -0.679219802873046,
          0.9390544951462232,
          0.09387454731372896,
          -0.3566775006611743,
          -2.1088990387458413,
          1.4528512643473823,
          -1.0261340964628949,
          0.23497758020160772,
          -0.4534270194828116,
          0.11397050565362599,
          0.2381586255109007,
          0.9988085406776966,
          0.025876815884210955,
          -1.2177486952525969,
          0.3174027772821797,
          0.5425099678014165,
          -1.1060029879681268,
          -1.9040147003254828,
          -0.09788757039869198,
          0.5027980532650275,
          0.5946564386503808,
          0.9040607377477198,
          -0.4997921123188726,
          1.0758831897921548,
          0.9939541985768044,
          1.4467641393910968,
          1.6622260071966777,
          -0.22074290486403597,
          0.0831484383304875,
          -1.0252544617631951,
          0.5697014336041655,
          -0.6944539659705443,
          0.2582200223961893,
          0.7920863962548249
         ]
        }
       ],
       "layout": {
        "legend": {
         "bgcolor": "#F5F6F9",
         "font": {
          "color": "#4D5663"
         }
        },
        "paper_bgcolor": "#F5F6F9",
        "plot_bgcolor": "#F5F6F9",
        "template": {
         "data": {
          "bar": [
           {
            "error_x": {
             "color": "#2a3f5f"
            },
            "error_y": {
             "color": "#2a3f5f"
            },
            "marker": {
             "line": {
              "color": "#E5ECF6",
              "width": 0.5
             }
            },
            "type": "bar"
           }
          ],
          "barpolar": [
           {
            "marker": {
             "line": {
              "color": "#E5ECF6",
              "width": 0.5
             }
            },
            "type": "barpolar"
           }
          ],
          "carpet": [
           {
            "aaxis": {
             "endlinecolor": "#2a3f5f",
             "gridcolor": "white",
             "linecolor": "white",
             "minorgridcolor": "white",
             "startlinecolor": "#2a3f5f"
            },
            "baxis": {
             "endlinecolor": "#2a3f5f",
             "gridcolor": "white",
             "linecolor": "white",
             "minorgridcolor": "white",
             "startlinecolor": "#2a3f5f"
            },
            "type": "carpet"
           }
          ],
          "choropleth": [
           {
            "colorbar": {
             "outlinewidth": 0,
             "ticks": ""
            },
            "type": "choropleth"
           }
          ],
          "contour": [
           {
            "colorbar": {
             "outlinewidth": 0,
             "ticks": ""
            },
            "colorscale": [
             [
              0,
              "#0d0887"
             ],
             [
              0.1111111111111111,
              "#46039f"
             ],
             [
              0.2222222222222222,
              "#7201a8"
             ],
             [
              0.3333333333333333,
              "#9c179e"
             ],
             [
              0.4444444444444444,
              "#bd3786"
             ],
             [
              0.5555555555555556,
              "#d8576b"
             ],
             [
              0.6666666666666666,
              "#ed7953"
             ],
             [
              0.7777777777777778,
              "#fb9f3a"
             ],
             [
              0.8888888888888888,
              "#fdca26"
             ],
             [
              1,
              "#f0f921"
             ]
            ],
            "type": "contour"
           }
          ],
          "contourcarpet": [
           {
            "colorbar": {
             "outlinewidth": 0,
             "ticks": ""
            },
            "type": "contourcarpet"
           }
          ],
          "heatmap": [
           {
            "colorbar": {
             "outlinewidth": 0,
             "ticks": ""
            },
            "colorscale": [
             [
              0,
              "#0d0887"
             ],
             [
              0.1111111111111111,
              "#46039f"
             ],
             [
              0.2222222222222222,
              "#7201a8"
             ],
             [
              0.3333333333333333,
              "#9c179e"
             ],
             [
              0.4444444444444444,
              "#bd3786"
             ],
             [
              0.5555555555555556,
              "#d8576b"
             ],
             [
              0.6666666666666666,
              "#ed7953"
             ],
             [
              0.7777777777777778,
              "#fb9f3a"
             ],
             [
              0.8888888888888888,
              "#fdca26"
             ],
             [
              1,
              "#f0f921"
             ]
            ],
            "type": "heatmap"
           }
          ],
          "heatmapgl": [
           {
            "colorbar": {
             "outlinewidth": 0,
             "ticks": ""
            },
            "colorscale": [
             [
              0,
              "#0d0887"
             ],
             [
              0.1111111111111111,
              "#46039f"
             ],
             [
              0.2222222222222222,
              "#7201a8"
             ],
             [
              0.3333333333333333,
              "#9c179e"
             ],
             [
              0.4444444444444444,
              "#bd3786"
             ],
             [
              0.5555555555555556,
              "#d8576b"
             ],
             [
              0.6666666666666666,
              "#ed7953"
             ],
             [
              0.7777777777777778,
              "#fb9f3a"
             ],
             [
              0.8888888888888888,
              "#fdca26"
             ],
             [
              1,
              "#f0f921"
             ]
            ],
            "type": "heatmapgl"
           }
          ],
          "histogram": [
           {
            "marker": {
             "colorbar": {
              "outlinewidth": 0,
              "ticks": ""
             }
            },
            "type": "histogram"
           }
          ],
          "histogram2d": [
           {
            "colorbar": {
             "outlinewidth": 0,
             "ticks": ""
            },
            "colorscale": [
             [
              0,
              "#0d0887"
             ],
             [
              0.1111111111111111,
              "#46039f"
             ],
             [
              0.2222222222222222,
              "#7201a8"
             ],
             [
              0.3333333333333333,
              "#9c179e"
             ],
             [
              0.4444444444444444,
              "#bd3786"
             ],
             [
              0.5555555555555556,
              "#d8576b"
             ],
             [
              0.6666666666666666,
              "#ed7953"
             ],
             [
              0.7777777777777778,
              "#fb9f3a"
             ],
             [
              0.8888888888888888,
              "#fdca26"
             ],
             [
              1,
              "#f0f921"
             ]
            ],
            "type": "histogram2d"
           }
          ],
          "histogram2dcontour": [
           {
            "colorbar": {
             "outlinewidth": 0,
             "ticks": ""
            },
            "colorscale": [
             [
              0,
              "#0d0887"
             ],
             [
              0.1111111111111111,
              "#46039f"
             ],
             [
              0.2222222222222222,
              "#7201a8"
             ],
             [
              0.3333333333333333,
              "#9c179e"
             ],
             [
              0.4444444444444444,
              "#bd3786"
             ],
             [
              0.5555555555555556,
              "#d8576b"
             ],
             [
              0.6666666666666666,
              "#ed7953"
             ],
             [
              0.7777777777777778,
              "#fb9f3a"
             ],
             [
              0.8888888888888888,
              "#fdca26"
             ],
             [
              1,
              "#f0f921"
             ]
            ],
            "type": "histogram2dcontour"
           }
          ],
          "mesh3d": [
           {
            "colorbar": {
             "outlinewidth": 0,
             "ticks": ""
            },
            "type": "mesh3d"
           }
          ],
          "parcoords": [
           {
            "line": {
             "colorbar": {
              "outlinewidth": 0,
              "ticks": ""
             }
            },
            "type": "parcoords"
           }
          ],
          "pie": [
           {
            "automargin": true,
            "type": "pie"
           }
          ],
          "scatter": [
           {
            "marker": {
             "colorbar": {
              "outlinewidth": 0,
              "ticks": ""
             }
            },
            "type": "scatter"
           }
          ],
          "scatter3d": [
           {
            "line": {
             "colorbar": {
              "outlinewidth": 0,
              "ticks": ""
             }
            },
            "marker": {
             "colorbar": {
              "outlinewidth": 0,
              "ticks": ""
             }
            },
            "type": "scatter3d"
           }
          ],
          "scattercarpet": [
           {
            "marker": {
             "colorbar": {
              "outlinewidth": 0,
              "ticks": ""
             }
            },
            "type": "scattercarpet"
           }
          ],
          "scattergeo": [
           {
            "marker": {
             "colorbar": {
              "outlinewidth": 0,
              "ticks": ""
             }
            },
            "type": "scattergeo"
           }
          ],
          "scattergl": [
           {
            "marker": {
             "colorbar": {
              "outlinewidth": 0,
              "ticks": ""
             }
            },
            "type": "scattergl"
           }
          ],
          "scattermapbox": [
           {
            "marker": {
             "colorbar": {
              "outlinewidth": 0,
              "ticks": ""
             }
            },
            "type": "scattermapbox"
           }
          ],
          "scatterpolar": [
           {
            "marker": {
             "colorbar": {
              "outlinewidth": 0,
              "ticks": ""
             }
            },
            "type": "scatterpolar"
           }
          ],
          "scatterpolargl": [
           {
            "marker": {
             "colorbar": {
              "outlinewidth": 0,
              "ticks": ""
             }
            },
            "type": "scatterpolargl"
           }
          ],
          "scatterternary": [
           {
            "marker": {
             "colorbar": {
              "outlinewidth": 0,
              "ticks": ""
             }
            },
            "type": "scatterternary"
           }
          ],
          "surface": [
           {
            "colorbar": {
             "outlinewidth": 0,
             "ticks": ""
            },
            "colorscale": [
             [
              0,
              "#0d0887"
             ],
             [
              0.1111111111111111,
              "#46039f"
             ],
             [
              0.2222222222222222,
              "#7201a8"
             ],
             [
              0.3333333333333333,
              "#9c179e"
             ],
             [
              0.4444444444444444,
              "#bd3786"
             ],
             [
              0.5555555555555556,
              "#d8576b"
             ],
             [
              0.6666666666666666,
              "#ed7953"
             ],
             [
              0.7777777777777778,
              "#fb9f3a"
             ],
             [
              0.8888888888888888,
              "#fdca26"
             ],
             [
              1,
              "#f0f921"
             ]
            ],
            "type": "surface"
           }
          ],
          "table": [
           {
            "cells": {
             "fill": {
              "color": "#EBF0F8"
             },
             "line": {
              "color": "white"
             }
            },
            "header": {
             "fill": {
              "color": "#C8D4E3"
             },
             "line": {
              "color": "white"
             }
            },
            "type": "table"
           }
          ]
         },
         "layout": {
          "annotationdefaults": {
           "arrowcolor": "#2a3f5f",
           "arrowhead": 0,
           "arrowwidth": 1
          },
          "coloraxis": {
           "colorbar": {
            "outlinewidth": 0,
            "ticks": ""
           }
          },
          "colorscale": {
           "diverging": [
            [
             0,
             "#8e0152"
            ],
            [
             0.1,
             "#c51b7d"
            ],
            [
             0.2,
             "#de77ae"
            ],
            [
             0.3,
             "#f1b6da"
            ],
            [
             0.4,
             "#fde0ef"
            ],
            [
             0.5,
             "#f7f7f7"
            ],
            [
             0.6,
             "#e6f5d0"
            ],
            [
             0.7,
             "#b8e186"
            ],
            [
             0.8,
             "#7fbc41"
            ],
            [
             0.9,
             "#4d9221"
            ],
            [
             1,
             "#276419"
            ]
           ],
           "sequential": [
            [
             0,
             "#0d0887"
            ],
            [
             0.1111111111111111,
             "#46039f"
            ],
            [
             0.2222222222222222,
             "#7201a8"
            ],
            [
             0.3333333333333333,
             "#9c179e"
            ],
            [
             0.4444444444444444,
             "#bd3786"
            ],
            [
             0.5555555555555556,
             "#d8576b"
            ],
            [
             0.6666666666666666,
             "#ed7953"
            ],
            [
             0.7777777777777778,
             "#fb9f3a"
            ],
            [
             0.8888888888888888,
             "#fdca26"
            ],
            [
             1,
             "#f0f921"
            ]
           ],
           "sequentialminus": [
            [
             0,
             "#0d0887"
            ],
            [
             0.1111111111111111,
             "#46039f"
            ],
            [
             0.2222222222222222,
             "#7201a8"
            ],
            [
             0.3333333333333333,
             "#9c179e"
            ],
            [
             0.4444444444444444,
             "#bd3786"
            ],
            [
             0.5555555555555556,
             "#d8576b"
            ],
            [
             0.6666666666666666,
             "#ed7953"
            ],
            [
             0.7777777777777778,
             "#fb9f3a"
            ],
            [
             0.8888888888888888,
             "#fdca26"
            ],
            [
             1,
             "#f0f921"
            ]
           ]
          },
          "colorway": [
           "#636efa",
           "#EF553B",
           "#00cc96",
           "#ab63fa",
           "#FFA15A",
           "#19d3f3",
           "#FF6692",
           "#B6E880",
           "#FF97FF",
           "#FECB52"
          ],
          "font": {
           "color": "#2a3f5f"
          },
          "geo": {
           "bgcolor": "white",
           "lakecolor": "white",
           "landcolor": "#E5ECF6",
           "showlakes": true,
           "showland": true,
           "subunitcolor": "white"
          },
          "hoverlabel": {
           "align": "left"
          },
          "hovermode": "closest",
          "mapbox": {
           "style": "light"
          },
          "paper_bgcolor": "white",
          "plot_bgcolor": "#E5ECF6",
          "polar": {
           "angularaxis": {
            "gridcolor": "white",
            "linecolor": "white",
            "ticks": ""
           },
           "bgcolor": "#E5ECF6",
           "radialaxis": {
            "gridcolor": "white",
            "linecolor": "white",
            "ticks": ""
           }
          },
          "scene": {
           "xaxis": {
            "backgroundcolor": "#E5ECF6",
            "gridcolor": "white",
            "gridwidth": 2,
            "linecolor": "white",
            "showbackground": true,
            "ticks": "",
            "zerolinecolor": "white"
           },
           "yaxis": {
            "backgroundcolor": "#E5ECF6",
            "gridcolor": "white",
            "gridwidth": 2,
            "linecolor": "white",
            "showbackground": true,
            "ticks": "",
            "zerolinecolor": "white"
           },
           "zaxis": {
            "backgroundcolor": "#E5ECF6",
            "gridcolor": "white",
            "gridwidth": 2,
            "linecolor": "white",
            "showbackground": true,
            "ticks": "",
            "zerolinecolor": "white"
           }
          },
          "shapedefaults": {
           "line": {
            "color": "#2a3f5f"
           }
          },
          "ternary": {
           "aaxis": {
            "gridcolor": "white",
            "linecolor": "white",
            "ticks": ""
           },
           "baxis": {
            "gridcolor": "white",
            "linecolor": "white",
            "ticks": ""
           },
           "bgcolor": "#E5ECF6",
           "caxis": {
            "gridcolor": "white",
            "linecolor": "white",
            "ticks": ""
           }
          },
          "title": {
           "x": 0.05
          },
          "xaxis": {
           "automargin": true,
           "gridcolor": "white",
           "linecolor": "white",
           "ticks": "",
           "title": {
            "standoff": 15
           },
           "zerolinecolor": "white",
           "zerolinewidth": 2
          },
          "yaxis": {
           "automargin": true,
           "gridcolor": "white",
           "linecolor": "white",
           "ticks": "",
           "title": {
            "standoff": 15
           },
           "zerolinecolor": "white",
           "zerolinewidth": 2
          }
         }
        },
        "title": {
         "font": {
          "color": "#4D5663"
         }
        },
        "xaxis": {
         "gridcolor": "#E1E5ED",
         "showgrid": true,
         "tickfont": {
          "color": "#4D5663"
         },
         "title": {
          "font": {
           "color": "#4D5663"
          },
          "text": ""
         },
         "zerolinecolor": "#E1E5ED"
        },
        "yaxis": {
         "gridcolor": "#E1E5ED",
         "showgrid": true,
         "tickfont": {
          "color": "#4D5663"
         },
         "title": {
          "font": {
           "color": "#4D5663"
          },
          "text": ""
         },
         "zerolinecolor": "#E1E5ED"
        }
       }
      },
      "text/html": [
       "<div>\n",
       "        \n",
       "        \n",
       "            <div id=\"81f5d0ef-92f2-48e5-b9a4-603cfef04c2a\" class=\"plotly-graph-div\" style=\"height:525px; width:100%;\"></div>\n",
       "            <script type=\"text/javascript\">\n",
       "                require([\"plotly\"], function(Plotly) {\n",
       "                    window.PLOTLYENV=window.PLOTLYENV || {};\n",
       "                    window.PLOTLYENV.BASE_URL='https://plot.ly';\n",
       "                    \n",
       "                if (document.getElementById(\"81f5d0ef-92f2-48e5-b9a4-603cfef04c2a\")) {\n",
       "                    Plotly.newPlot(\n",
       "                        '81f5d0ef-92f2-48e5-b9a4-603cfef04c2a',\n",
       "                        [{\"line\": {\"color\": \"rgba(255, 153, 51, 1.0)\", \"dash\": \"solid\", \"shape\": \"linear\", \"width\": 1.3}, \"marker\": {\"size\": 10, \"symbol\": \"circle\"}, \"mode\": \"markers\", \"name\": \"B\", \"text\": \"\", \"type\": \"scatter\", \"x\": [0.4680357176729802, -0.18089695435687647, 0.003483194029145718, -0.8503226748006865, 0.8146106228274449, 0.15146587172216824, 0.12723478221447262, 0.3351004387413441, 0.9414103775281865, -0.8857734378332426, -0.5701687051204497, -0.8893540639512774, 0.14019123212902615, -0.966403721687782, 0.33538370842415655, 0.6702165022341717, -0.015213378402976164, -1.6090697702945362, 0.7768280979717406, -0.020888206099068173, -1.3080179624540567, 0.007249009389868164, 0.2945209102593891, -0.9992695366250636, -0.6447006902415953, -1.0905563070634021, 0.028797804449134032, -0.8843550330471293, 1.0386401862451842, -0.6372696659703778, -0.07546361030812403, -0.6885808917640587, 0.6960913089883859, 0.7967344770276393, -0.31311403394368115, 0.44535646682353447, 1.2184826503543367, 0.4897504444752817, 1.0975181333688733, -1.2899287196667168, 0.7672041598633657, -1.2666068328758595, 1.0388834302251584, -2.7642984677037763, 0.7743643434944764, 0.5383447940237172, 0.47174339868068116, -0.9813512577834447, -1.9094619873718108, 0.09403883020114603, -0.16567173008209463, 0.3497701577167347, 0.7786062683999717, -0.9749299704877334, 1.895335438858008, -0.4681186971331524, 1.6906002800833542, -0.3863554355065704, -2.0996821386621938, 0.13576410988414953, 0.49662193548416167, 0.6652139195938592, 1.318582804966973, -0.03610763629279586, -0.4325131784953337, -0.6569998826577392, 0.7840142952369771, 1.3376479675287218, -0.24358433096939566, 0.7227382172365205, -0.8355487413044241, 0.7365537375544133, -0.5896650123534253, 0.6979532707491521, 0.4168212480194256, -1.156999280240315, 0.49573377418729586, -0.8131742308332868, -0.023724459695214212, -0.6662885802270111, -0.5650900186908255, -0.14085214787252726, 0.5047821408545787, -1.5536765581644607, -0.12215501843578472, -0.47462127467704807, -0.739431884829175, -0.28716816395346373, 1.7938082735840795, -1.721425966026441, 0.6277844324474082, -0.13192234352890128, 0.5491320236601649, -0.5930336917559829, 0.13740697896731097, 1.1271661097434316, -0.5372438603757769, -0.7756176374275516, 1.9872765631996863, 1.1777260909975629], \"y\": [-0.7434989651960935, -0.4607615024270917, 1.8780782846811968, 0.04828809145899935, -0.0029359171677269995, -0.08753811400269597, -0.3979045501815003, -1.3587319206144035, 1.3058393881672048, -2.3358469828562334, 1.7778387243432399, -0.8702029541219694, 0.9935992049714233, 1.4798461388258817, 1.1275258510799964, 1.477737769433274, 0.36461748526784393, 0.1831140969875315, 0.17955620423002, 2.12826660679801, -1.1186449675805272, 1.1949120889777742, 0.6551153688968544, 0.7735108164924516, -0.7619829421982433, 0.3818031659229591, -0.13223350833946632, -1.0411027537542916, 0.7270464129765776, -0.46302451921768606, 0.5627073813462292, 0.08627527498922588, 0.20036806041275756, 0.01589035106560516, -1.5745988477361705, -0.5007655647549084, -1.874963053783075, -1.1902805653365587, -0.6179762986534144, 0.3369724337050894, -0.09505535904528267, -0.5306506763564895, -0.030613138796697234, 0.6341060188575188, 0.23753214374573461, 0.5756485863333742, -0.32928971144601865, 0.07337782328325868, -0.3357057393863871, 0.5900992992421492, -0.40898656611231804, -0.47322322257176525, 0.2934714022237347, -0.3757543883540172, -0.1585512845422061, -0.25357244880222723, -1.5140291466870681, -0.7753885030539748, 0.797052517782712, -0.3686557886848596, 0.2855546620487415, 1.6705044922929793, -0.43515134559370927, 1.6595080594016447, -0.7252495287174796, -0.8330399931977461, -0.679219802873046, 0.9390544951462232, 0.09387454731372896, -0.3566775006611743, -2.1088990387458413, 1.4528512643473823, -1.0261340964628949, 0.23497758020160772, -0.4534270194828116, 0.11397050565362599, 0.2381586255109007, 0.9988085406776966, 0.025876815884210955, -1.2177486952525969, 0.3174027772821797, 0.5425099678014165, -1.1060029879681268, -1.9040147003254828, -0.09788757039869198, 0.5027980532650275, 0.5946564386503808, 0.9040607377477198, -0.4997921123188726, 1.0758831897921548, 0.9939541985768044, 1.4467641393910968, 1.6622260071966777, -0.22074290486403597, 0.0831484383304875, -1.0252544617631951, 0.5697014336041655, -0.6944539659705443, 0.2582200223961893, 0.7920863962548249]}],\n",
       "                        {\"legend\": {\"bgcolor\": \"#F5F6F9\", \"font\": {\"color\": \"#4D5663\"}}, \"paper_bgcolor\": \"#F5F6F9\", \"plot_bgcolor\": \"#F5F6F9\", \"template\": {\"data\": {\"bar\": [{\"error_x\": {\"color\": \"#2a3f5f\"}, \"error_y\": {\"color\": \"#2a3f5f\"}, \"marker\": {\"line\": {\"color\": \"#E5ECF6\", \"width\": 0.5}}, \"type\": \"bar\"}], \"barpolar\": [{\"marker\": {\"line\": {\"color\": \"#E5ECF6\", \"width\": 0.5}}, \"type\": \"barpolar\"}], \"carpet\": [{\"aaxis\": {\"endlinecolor\": \"#2a3f5f\", \"gridcolor\": \"white\", \"linecolor\": \"white\", \"minorgridcolor\": \"white\", \"startlinecolor\": \"#2a3f5f\"}, \"baxis\": {\"endlinecolor\": \"#2a3f5f\", \"gridcolor\": \"white\", \"linecolor\": \"white\", \"minorgridcolor\": \"white\", \"startlinecolor\": \"#2a3f5f\"}, \"type\": \"carpet\"}], \"choropleth\": [{\"colorbar\": {\"outlinewidth\": 0, \"ticks\": \"\"}, \"type\": \"choropleth\"}], \"contour\": [{\"colorbar\": {\"outlinewidth\": 0, \"ticks\": \"\"}, \"colorscale\": [[0.0, \"#0d0887\"], [0.1111111111111111, \"#46039f\"], [0.2222222222222222, \"#7201a8\"], [0.3333333333333333, \"#9c179e\"], [0.4444444444444444, \"#bd3786\"], [0.5555555555555556, \"#d8576b\"], [0.6666666666666666, \"#ed7953\"], [0.7777777777777778, \"#fb9f3a\"], [0.8888888888888888, \"#fdca26\"], [1.0, \"#f0f921\"]], \"type\": \"contour\"}], \"contourcarpet\": [{\"colorbar\": {\"outlinewidth\": 0, \"ticks\": \"\"}, \"type\": \"contourcarpet\"}], \"heatmap\": [{\"colorbar\": {\"outlinewidth\": 0, \"ticks\": \"\"}, \"colorscale\": [[0.0, \"#0d0887\"], [0.1111111111111111, \"#46039f\"], [0.2222222222222222, \"#7201a8\"], [0.3333333333333333, \"#9c179e\"], [0.4444444444444444, \"#bd3786\"], [0.5555555555555556, \"#d8576b\"], [0.6666666666666666, \"#ed7953\"], [0.7777777777777778, \"#fb9f3a\"], [0.8888888888888888, \"#fdca26\"], [1.0, \"#f0f921\"]], \"type\": \"heatmap\"}], \"heatmapgl\": [{\"colorbar\": {\"outlinewidth\": 0, \"ticks\": \"\"}, \"colorscale\": [[0.0, \"#0d0887\"], [0.1111111111111111, \"#46039f\"], [0.2222222222222222, \"#7201a8\"], [0.3333333333333333, \"#9c179e\"], [0.4444444444444444, \"#bd3786\"], [0.5555555555555556, \"#d8576b\"], [0.6666666666666666, \"#ed7953\"], [0.7777777777777778, \"#fb9f3a\"], [0.8888888888888888, \"#fdca26\"], [1.0, \"#f0f921\"]], \"type\": \"heatmapgl\"}], \"histogram\": [{\"marker\": {\"colorbar\": {\"outlinewidth\": 0, \"ticks\": \"\"}}, \"type\": \"histogram\"}], \"histogram2d\": [{\"colorbar\": {\"outlinewidth\": 0, \"ticks\": \"\"}, \"colorscale\": [[0.0, \"#0d0887\"], [0.1111111111111111, \"#46039f\"], [0.2222222222222222, \"#7201a8\"], [0.3333333333333333, \"#9c179e\"], [0.4444444444444444, \"#bd3786\"], [0.5555555555555556, \"#d8576b\"], [0.6666666666666666, \"#ed7953\"], [0.7777777777777778, \"#fb9f3a\"], [0.8888888888888888, \"#fdca26\"], [1.0, \"#f0f921\"]], \"type\": \"histogram2d\"}], \"histogram2dcontour\": [{\"colorbar\": {\"outlinewidth\": 0, \"ticks\": \"\"}, \"colorscale\": [[0.0, \"#0d0887\"], [0.1111111111111111, \"#46039f\"], [0.2222222222222222, \"#7201a8\"], [0.3333333333333333, \"#9c179e\"], [0.4444444444444444, \"#bd3786\"], [0.5555555555555556, \"#d8576b\"], [0.6666666666666666, \"#ed7953\"], [0.7777777777777778, \"#fb9f3a\"], [0.8888888888888888, \"#fdca26\"], [1.0, \"#f0f921\"]], \"type\": \"histogram2dcontour\"}], \"mesh3d\": [{\"colorbar\": {\"outlinewidth\": 0, \"ticks\": \"\"}, \"type\": \"mesh3d\"}], \"parcoords\": [{\"line\": {\"colorbar\": {\"outlinewidth\": 0, \"ticks\": \"\"}}, \"type\": \"parcoords\"}], \"pie\": [{\"automargin\": true, \"type\": \"pie\"}], \"scatter\": [{\"marker\": {\"colorbar\": {\"outlinewidth\": 0, \"ticks\": \"\"}}, \"type\": \"scatter\"}], \"scatter3d\": [{\"line\": {\"colorbar\": {\"outlinewidth\": 0, \"ticks\": \"\"}}, \"marker\": {\"colorbar\": {\"outlinewidth\": 0, \"ticks\": \"\"}}, \"type\": \"scatter3d\"}], \"scattercarpet\": [{\"marker\": {\"colorbar\": {\"outlinewidth\": 0, \"ticks\": \"\"}}, \"type\": \"scattercarpet\"}], \"scattergeo\": [{\"marker\": {\"colorbar\": {\"outlinewidth\": 0, \"ticks\": \"\"}}, \"type\": \"scattergeo\"}], \"scattergl\": [{\"marker\": {\"colorbar\": {\"outlinewidth\": 0, \"ticks\": \"\"}}, \"type\": \"scattergl\"}], \"scattermapbox\": [{\"marker\": {\"colorbar\": {\"outlinewidth\": 0, \"ticks\": \"\"}}, \"type\": \"scattermapbox\"}], \"scatterpolar\": [{\"marker\": {\"colorbar\": {\"outlinewidth\": 0, \"ticks\": \"\"}}, \"type\": \"scatterpolar\"}], \"scatterpolargl\": [{\"marker\": {\"colorbar\": {\"outlinewidth\": 0, \"ticks\": \"\"}}, \"type\": \"scatterpolargl\"}], \"scatterternary\": [{\"marker\": {\"colorbar\": {\"outlinewidth\": 0, \"ticks\": \"\"}}, \"type\": \"scatterternary\"}], \"surface\": [{\"colorbar\": {\"outlinewidth\": 0, \"ticks\": \"\"}, \"colorscale\": [[0.0, \"#0d0887\"], [0.1111111111111111, \"#46039f\"], [0.2222222222222222, \"#7201a8\"], [0.3333333333333333, \"#9c179e\"], [0.4444444444444444, \"#bd3786\"], [0.5555555555555556, \"#d8576b\"], [0.6666666666666666, \"#ed7953\"], [0.7777777777777778, \"#fb9f3a\"], [0.8888888888888888, \"#fdca26\"], [1.0, \"#f0f921\"]], \"type\": \"surface\"}], \"table\": [{\"cells\": {\"fill\": {\"color\": \"#EBF0F8\"}, \"line\": {\"color\": \"white\"}}, \"header\": {\"fill\": {\"color\": \"#C8D4E3\"}, \"line\": {\"color\": \"white\"}}, \"type\": \"table\"}]}, \"layout\": {\"annotationdefaults\": {\"arrowcolor\": \"#2a3f5f\", \"arrowhead\": 0, \"arrowwidth\": 1}, \"coloraxis\": {\"colorbar\": {\"outlinewidth\": 0, \"ticks\": \"\"}}, \"colorscale\": {\"diverging\": [[0, \"#8e0152\"], [0.1, \"#c51b7d\"], [0.2, \"#de77ae\"], [0.3, \"#f1b6da\"], [0.4, \"#fde0ef\"], [0.5, \"#f7f7f7\"], [0.6, \"#e6f5d0\"], [0.7, \"#b8e186\"], [0.8, \"#7fbc41\"], [0.9, \"#4d9221\"], [1, \"#276419\"]], \"sequential\": [[0.0, \"#0d0887\"], [0.1111111111111111, \"#46039f\"], [0.2222222222222222, \"#7201a8\"], [0.3333333333333333, \"#9c179e\"], [0.4444444444444444, \"#bd3786\"], [0.5555555555555556, \"#d8576b\"], [0.6666666666666666, \"#ed7953\"], [0.7777777777777778, \"#fb9f3a\"], [0.8888888888888888, \"#fdca26\"], [1.0, \"#f0f921\"]], \"sequentialminus\": [[0.0, \"#0d0887\"], [0.1111111111111111, \"#46039f\"], [0.2222222222222222, \"#7201a8\"], [0.3333333333333333, \"#9c179e\"], [0.4444444444444444, \"#bd3786\"], [0.5555555555555556, \"#d8576b\"], [0.6666666666666666, \"#ed7953\"], [0.7777777777777778, \"#fb9f3a\"], [0.8888888888888888, \"#fdca26\"], [1.0, \"#f0f921\"]]}, \"colorway\": [\"#636efa\", \"#EF553B\", \"#00cc96\", \"#ab63fa\", \"#FFA15A\", \"#19d3f3\", \"#FF6692\", \"#B6E880\", \"#FF97FF\", \"#FECB52\"], \"font\": {\"color\": \"#2a3f5f\"}, \"geo\": {\"bgcolor\": \"white\", \"lakecolor\": \"white\", \"landcolor\": \"#E5ECF6\", \"showlakes\": true, \"showland\": true, \"subunitcolor\": \"white\"}, \"hoverlabel\": {\"align\": \"left\"}, \"hovermode\": \"closest\", \"mapbox\": {\"style\": \"light\"}, \"paper_bgcolor\": \"white\", \"plot_bgcolor\": \"#E5ECF6\", \"polar\": {\"angularaxis\": {\"gridcolor\": \"white\", \"linecolor\": \"white\", \"ticks\": \"\"}, \"bgcolor\": \"#E5ECF6\", \"radialaxis\": {\"gridcolor\": \"white\", \"linecolor\": \"white\", \"ticks\": \"\"}}, \"scene\": {\"xaxis\": {\"backgroundcolor\": \"#E5ECF6\", \"gridcolor\": \"white\", \"gridwidth\": 2, \"linecolor\": \"white\", \"showbackground\": true, \"ticks\": \"\", \"zerolinecolor\": \"white\"}, \"yaxis\": {\"backgroundcolor\": \"#E5ECF6\", \"gridcolor\": \"white\", \"gridwidth\": 2, \"linecolor\": \"white\", \"showbackground\": true, \"ticks\": \"\", \"zerolinecolor\": \"white\"}, \"zaxis\": {\"backgroundcolor\": \"#E5ECF6\", \"gridcolor\": \"white\", \"gridwidth\": 2, \"linecolor\": \"white\", \"showbackground\": true, \"ticks\": \"\", \"zerolinecolor\": \"white\"}}, \"shapedefaults\": {\"line\": {\"color\": \"#2a3f5f\"}}, \"ternary\": {\"aaxis\": {\"gridcolor\": \"white\", \"linecolor\": \"white\", \"ticks\": \"\"}, \"baxis\": {\"gridcolor\": \"white\", \"linecolor\": \"white\", \"ticks\": \"\"}, \"bgcolor\": \"#E5ECF6\", \"caxis\": {\"gridcolor\": \"white\", \"linecolor\": \"white\", \"ticks\": \"\"}}, \"title\": {\"x\": 0.05}, \"xaxis\": {\"automargin\": true, \"gridcolor\": \"white\", \"linecolor\": \"white\", \"ticks\": \"\", \"title\": {\"standoff\": 15}, \"zerolinecolor\": \"white\", \"zerolinewidth\": 2}, \"yaxis\": {\"automargin\": true, \"gridcolor\": \"white\", \"linecolor\": \"white\", \"ticks\": \"\", \"title\": {\"standoff\": 15}, \"zerolinecolor\": \"white\", \"zerolinewidth\": 2}}}, \"title\": {\"font\": {\"color\": \"#4D5663\"}}, \"xaxis\": {\"gridcolor\": \"#E1E5ED\", \"showgrid\": true, \"tickfont\": {\"color\": \"#4D5663\"}, \"title\": {\"font\": {\"color\": \"#4D5663\"}, \"text\": \"\"}, \"zerolinecolor\": \"#E1E5ED\"}, \"yaxis\": {\"gridcolor\": \"#E1E5ED\", \"showgrid\": true, \"tickfont\": {\"color\": \"#4D5663\"}, \"title\": {\"font\": {\"color\": \"#4D5663\"}, \"text\": \"\"}, \"zerolinecolor\": \"#E1E5ED\"}},\n",
       "                        {\"showLink\": true, \"linkText\": \"Export to plot.ly\", \"plotlyServerURL\": \"https://plot.ly\", \"responsive\": true}\n",
       "                    ).then(function(){\n",
       "                            \n",
       "var gd = document.getElementById('81f5d0ef-92f2-48e5-b9a4-603cfef04c2a');\n",
       "var x = new MutationObserver(function (mutations, observer) {{\n",
       "        var display = window.getComputedStyle(gd).display;\n",
       "        if (!display || display === 'none') {{\n",
       "            console.log([gd, 'removed!']);\n",
       "            Plotly.purge(gd);\n",
       "            observer.disconnect();\n",
       "        }}\n",
       "}});\n",
       "\n",
       "// Listen for the removal of the full notebook cells\n",
       "var notebookContainer = gd.closest('#notebook-container');\n",
       "if (notebookContainer) {{\n",
       "    x.observe(notebookContainer, {childList: true});\n",
       "}}\n",
       "\n",
       "// Listen for the clearing of the current output cell\n",
       "var outputEl = gd.closest('.output');\n",
       "if (outputEl) {{\n",
       "    x.observe(outputEl, {childList: true});\n",
       "}}\n",
       "\n",
       "                        })\n",
       "                };\n",
       "                });\n",
       "            </script>\n",
       "        </div>"
      ]
     },
     "metadata": {},
     "output_type": "display_data"
    }
   ],
   "source": [
    "df.iplot(kind='scatter',x='A',y='B',mode='markers',size=10)"
   ]
  },
  {
   "cell_type": "markdown",
   "metadata": {},
   "source": [
    "## Bar Plots"
   ]
  },
  {
   "cell_type": "code",
   "execution_count": 24,
   "metadata": {
    "jupyter": {
     "outputs_hidden": false
    }
   },
   "outputs": [
    {
     "data": {
      "application/vnd.plotly.v1+json": {
       "config": {
        "linkText": "Export to plot.ly",
        "plotlyServerURL": "https://plot.ly",
        "showLink": true
       },
       "data": [
        {
         "marker": {
          "color": "rgba(255, 153, 51, 0.6)",
          "line": {
           "color": "rgba(255, 153, 51, 1.0)",
           "width": 1
          }
         },
         "name": "Values",
         "orientation": "v",
         "text": "",
         "type": "bar",
         "x": [
          "A",
          "B",
          "C"
         ],
         "y": [
          32,
          43,
          50
         ]
        }
       ],
       "layout": {
        "legend": {
         "bgcolor": "#F5F6F9",
         "font": {
          "color": "#4D5663"
         }
        },
        "paper_bgcolor": "#F5F6F9",
        "plot_bgcolor": "#F5F6F9",
        "template": {
         "data": {
          "bar": [
           {
            "error_x": {
             "color": "#2a3f5f"
            },
            "error_y": {
             "color": "#2a3f5f"
            },
            "marker": {
             "line": {
              "color": "#E5ECF6",
              "width": 0.5
             }
            },
            "type": "bar"
           }
          ],
          "barpolar": [
           {
            "marker": {
             "line": {
              "color": "#E5ECF6",
              "width": 0.5
             }
            },
            "type": "barpolar"
           }
          ],
          "carpet": [
           {
            "aaxis": {
             "endlinecolor": "#2a3f5f",
             "gridcolor": "white",
             "linecolor": "white",
             "minorgridcolor": "white",
             "startlinecolor": "#2a3f5f"
            },
            "baxis": {
             "endlinecolor": "#2a3f5f",
             "gridcolor": "white",
             "linecolor": "white",
             "minorgridcolor": "white",
             "startlinecolor": "#2a3f5f"
            },
            "type": "carpet"
           }
          ],
          "choropleth": [
           {
            "colorbar": {
             "outlinewidth": 0,
             "ticks": ""
            },
            "type": "choropleth"
           }
          ],
          "contour": [
           {
            "colorbar": {
             "outlinewidth": 0,
             "ticks": ""
            },
            "colorscale": [
             [
              0,
              "#0d0887"
             ],
             [
              0.1111111111111111,
              "#46039f"
             ],
             [
              0.2222222222222222,
              "#7201a8"
             ],
             [
              0.3333333333333333,
              "#9c179e"
             ],
             [
              0.4444444444444444,
              "#bd3786"
             ],
             [
              0.5555555555555556,
              "#d8576b"
             ],
             [
              0.6666666666666666,
              "#ed7953"
             ],
             [
              0.7777777777777778,
              "#fb9f3a"
             ],
             [
              0.8888888888888888,
              "#fdca26"
             ],
             [
              1,
              "#f0f921"
             ]
            ],
            "type": "contour"
           }
          ],
          "contourcarpet": [
           {
            "colorbar": {
             "outlinewidth": 0,
             "ticks": ""
            },
            "type": "contourcarpet"
           }
          ],
          "heatmap": [
           {
            "colorbar": {
             "outlinewidth": 0,
             "ticks": ""
            },
            "colorscale": [
             [
              0,
              "#0d0887"
             ],
             [
              0.1111111111111111,
              "#46039f"
             ],
             [
              0.2222222222222222,
              "#7201a8"
             ],
             [
              0.3333333333333333,
              "#9c179e"
             ],
             [
              0.4444444444444444,
              "#bd3786"
             ],
             [
              0.5555555555555556,
              "#d8576b"
             ],
             [
              0.6666666666666666,
              "#ed7953"
             ],
             [
              0.7777777777777778,
              "#fb9f3a"
             ],
             [
              0.8888888888888888,
              "#fdca26"
             ],
             [
              1,
              "#f0f921"
             ]
            ],
            "type": "heatmap"
           }
          ],
          "heatmapgl": [
           {
            "colorbar": {
             "outlinewidth": 0,
             "ticks": ""
            },
            "colorscale": [
             [
              0,
              "#0d0887"
             ],
             [
              0.1111111111111111,
              "#46039f"
             ],
             [
              0.2222222222222222,
              "#7201a8"
             ],
             [
              0.3333333333333333,
              "#9c179e"
             ],
             [
              0.4444444444444444,
              "#bd3786"
             ],
             [
              0.5555555555555556,
              "#d8576b"
             ],
             [
              0.6666666666666666,
              "#ed7953"
             ],
             [
              0.7777777777777778,
              "#fb9f3a"
             ],
             [
              0.8888888888888888,
              "#fdca26"
             ],
             [
              1,
              "#f0f921"
             ]
            ],
            "type": "heatmapgl"
           }
          ],
          "histogram": [
           {
            "marker": {
             "colorbar": {
              "outlinewidth": 0,
              "ticks": ""
             }
            },
            "type": "histogram"
           }
          ],
          "histogram2d": [
           {
            "colorbar": {
             "outlinewidth": 0,
             "ticks": ""
            },
            "colorscale": [
             [
              0,
              "#0d0887"
             ],
             [
              0.1111111111111111,
              "#46039f"
             ],
             [
              0.2222222222222222,
              "#7201a8"
             ],
             [
              0.3333333333333333,
              "#9c179e"
             ],
             [
              0.4444444444444444,
              "#bd3786"
             ],
             [
              0.5555555555555556,
              "#d8576b"
             ],
             [
              0.6666666666666666,
              "#ed7953"
             ],
             [
              0.7777777777777778,
              "#fb9f3a"
             ],
             [
              0.8888888888888888,
              "#fdca26"
             ],
             [
              1,
              "#f0f921"
             ]
            ],
            "type": "histogram2d"
           }
          ],
          "histogram2dcontour": [
           {
            "colorbar": {
             "outlinewidth": 0,
             "ticks": ""
            },
            "colorscale": [
             [
              0,
              "#0d0887"
             ],
             [
              0.1111111111111111,
              "#46039f"
             ],
             [
              0.2222222222222222,
              "#7201a8"
             ],
             [
              0.3333333333333333,
              "#9c179e"
             ],
             [
              0.4444444444444444,
              "#bd3786"
             ],
             [
              0.5555555555555556,
              "#d8576b"
             ],
             [
              0.6666666666666666,
              "#ed7953"
             ],
             [
              0.7777777777777778,
              "#fb9f3a"
             ],
             [
              0.8888888888888888,
              "#fdca26"
             ],
             [
              1,
              "#f0f921"
             ]
            ],
            "type": "histogram2dcontour"
           }
          ],
          "mesh3d": [
           {
            "colorbar": {
             "outlinewidth": 0,
             "ticks": ""
            },
            "type": "mesh3d"
           }
          ],
          "parcoords": [
           {
            "line": {
             "colorbar": {
              "outlinewidth": 0,
              "ticks": ""
             }
            },
            "type": "parcoords"
           }
          ],
          "pie": [
           {
            "automargin": true,
            "type": "pie"
           }
          ],
          "scatter": [
           {
            "marker": {
             "colorbar": {
              "outlinewidth": 0,
              "ticks": ""
             }
            },
            "type": "scatter"
           }
          ],
          "scatter3d": [
           {
            "line": {
             "colorbar": {
              "outlinewidth": 0,
              "ticks": ""
             }
            },
            "marker": {
             "colorbar": {
              "outlinewidth": 0,
              "ticks": ""
             }
            },
            "type": "scatter3d"
           }
          ],
          "scattercarpet": [
           {
            "marker": {
             "colorbar": {
              "outlinewidth": 0,
              "ticks": ""
             }
            },
            "type": "scattercarpet"
           }
          ],
          "scattergeo": [
           {
            "marker": {
             "colorbar": {
              "outlinewidth": 0,
              "ticks": ""
             }
            },
            "type": "scattergeo"
           }
          ],
          "scattergl": [
           {
            "marker": {
             "colorbar": {
              "outlinewidth": 0,
              "ticks": ""
             }
            },
            "type": "scattergl"
           }
          ],
          "scattermapbox": [
           {
            "marker": {
             "colorbar": {
              "outlinewidth": 0,
              "ticks": ""
             }
            },
            "type": "scattermapbox"
           }
          ],
          "scatterpolar": [
           {
            "marker": {
             "colorbar": {
              "outlinewidth": 0,
              "ticks": ""
             }
            },
            "type": "scatterpolar"
           }
          ],
          "scatterpolargl": [
           {
            "marker": {
             "colorbar": {
              "outlinewidth": 0,
              "ticks": ""
             }
            },
            "type": "scatterpolargl"
           }
          ],
          "scatterternary": [
           {
            "marker": {
             "colorbar": {
              "outlinewidth": 0,
              "ticks": ""
             }
            },
            "type": "scatterternary"
           }
          ],
          "surface": [
           {
            "colorbar": {
             "outlinewidth": 0,
             "ticks": ""
            },
            "colorscale": [
             [
              0,
              "#0d0887"
             ],
             [
              0.1111111111111111,
              "#46039f"
             ],
             [
              0.2222222222222222,
              "#7201a8"
             ],
             [
              0.3333333333333333,
              "#9c179e"
             ],
             [
              0.4444444444444444,
              "#bd3786"
             ],
             [
              0.5555555555555556,
              "#d8576b"
             ],
             [
              0.6666666666666666,
              "#ed7953"
             ],
             [
              0.7777777777777778,
              "#fb9f3a"
             ],
             [
              0.8888888888888888,
              "#fdca26"
             ],
             [
              1,
              "#f0f921"
             ]
            ],
            "type": "surface"
           }
          ],
          "table": [
           {
            "cells": {
             "fill": {
              "color": "#EBF0F8"
             },
             "line": {
              "color": "white"
             }
            },
            "header": {
             "fill": {
              "color": "#C8D4E3"
             },
             "line": {
              "color": "white"
             }
            },
            "type": "table"
           }
          ]
         },
         "layout": {
          "annotationdefaults": {
           "arrowcolor": "#2a3f5f",
           "arrowhead": 0,
           "arrowwidth": 1
          },
          "coloraxis": {
           "colorbar": {
            "outlinewidth": 0,
            "ticks": ""
           }
          },
          "colorscale": {
           "diverging": [
            [
             0,
             "#8e0152"
            ],
            [
             0.1,
             "#c51b7d"
            ],
            [
             0.2,
             "#de77ae"
            ],
            [
             0.3,
             "#f1b6da"
            ],
            [
             0.4,
             "#fde0ef"
            ],
            [
             0.5,
             "#f7f7f7"
            ],
            [
             0.6,
             "#e6f5d0"
            ],
            [
             0.7,
             "#b8e186"
            ],
            [
             0.8,
             "#7fbc41"
            ],
            [
             0.9,
             "#4d9221"
            ],
            [
             1,
             "#276419"
            ]
           ],
           "sequential": [
            [
             0,
             "#0d0887"
            ],
            [
             0.1111111111111111,
             "#46039f"
            ],
            [
             0.2222222222222222,
             "#7201a8"
            ],
            [
             0.3333333333333333,
             "#9c179e"
            ],
            [
             0.4444444444444444,
             "#bd3786"
            ],
            [
             0.5555555555555556,
             "#d8576b"
            ],
            [
             0.6666666666666666,
             "#ed7953"
            ],
            [
             0.7777777777777778,
             "#fb9f3a"
            ],
            [
             0.8888888888888888,
             "#fdca26"
            ],
            [
             1,
             "#f0f921"
            ]
           ],
           "sequentialminus": [
            [
             0,
             "#0d0887"
            ],
            [
             0.1111111111111111,
             "#46039f"
            ],
            [
             0.2222222222222222,
             "#7201a8"
            ],
            [
             0.3333333333333333,
             "#9c179e"
            ],
            [
             0.4444444444444444,
             "#bd3786"
            ],
            [
             0.5555555555555556,
             "#d8576b"
            ],
            [
             0.6666666666666666,
             "#ed7953"
            ],
            [
             0.7777777777777778,
             "#fb9f3a"
            ],
            [
             0.8888888888888888,
             "#fdca26"
            ],
            [
             1,
             "#f0f921"
            ]
           ]
          },
          "colorway": [
           "#636efa",
           "#EF553B",
           "#00cc96",
           "#ab63fa",
           "#FFA15A",
           "#19d3f3",
           "#FF6692",
           "#B6E880",
           "#FF97FF",
           "#FECB52"
          ],
          "font": {
           "color": "#2a3f5f"
          },
          "geo": {
           "bgcolor": "white",
           "lakecolor": "white",
           "landcolor": "#E5ECF6",
           "showlakes": true,
           "showland": true,
           "subunitcolor": "white"
          },
          "hoverlabel": {
           "align": "left"
          },
          "hovermode": "closest",
          "mapbox": {
           "style": "light"
          },
          "paper_bgcolor": "white",
          "plot_bgcolor": "#E5ECF6",
          "polar": {
           "angularaxis": {
            "gridcolor": "white",
            "linecolor": "white",
            "ticks": ""
           },
           "bgcolor": "#E5ECF6",
           "radialaxis": {
            "gridcolor": "white",
            "linecolor": "white",
            "ticks": ""
           }
          },
          "scene": {
           "xaxis": {
            "backgroundcolor": "#E5ECF6",
            "gridcolor": "white",
            "gridwidth": 2,
            "linecolor": "white",
            "showbackground": true,
            "ticks": "",
            "zerolinecolor": "white"
           },
           "yaxis": {
            "backgroundcolor": "#E5ECF6",
            "gridcolor": "white",
            "gridwidth": 2,
            "linecolor": "white",
            "showbackground": true,
            "ticks": "",
            "zerolinecolor": "white"
           },
           "zaxis": {
            "backgroundcolor": "#E5ECF6",
            "gridcolor": "white",
            "gridwidth": 2,
            "linecolor": "white",
            "showbackground": true,
            "ticks": "",
            "zerolinecolor": "white"
           }
          },
          "shapedefaults": {
           "line": {
            "color": "#2a3f5f"
           }
          },
          "ternary": {
           "aaxis": {
            "gridcolor": "white",
            "linecolor": "white",
            "ticks": ""
           },
           "baxis": {
            "gridcolor": "white",
            "linecolor": "white",
            "ticks": ""
           },
           "bgcolor": "#E5ECF6",
           "caxis": {
            "gridcolor": "white",
            "linecolor": "white",
            "ticks": ""
           }
          },
          "title": {
           "x": 0.05
          },
          "xaxis": {
           "automargin": true,
           "gridcolor": "white",
           "linecolor": "white",
           "ticks": "",
           "title": {
            "standoff": 15
           },
           "zerolinecolor": "white",
           "zerolinewidth": 2
          },
          "yaxis": {
           "automargin": true,
           "gridcolor": "white",
           "linecolor": "white",
           "ticks": "",
           "title": {
            "standoff": 15
           },
           "zerolinecolor": "white",
           "zerolinewidth": 2
          }
         }
        },
        "title": {
         "font": {
          "color": "#4D5663"
         }
        },
        "xaxis": {
         "gridcolor": "#E1E5ED",
         "showgrid": true,
         "tickfont": {
          "color": "#4D5663"
         },
         "title": {
          "font": {
           "color": "#4D5663"
          },
          "text": ""
         },
         "zerolinecolor": "#E1E5ED"
        },
        "yaxis": {
         "gridcolor": "#E1E5ED",
         "showgrid": true,
         "tickfont": {
          "color": "#4D5663"
         },
         "title": {
          "font": {
           "color": "#4D5663"
          },
          "text": ""
         },
         "zerolinecolor": "#E1E5ED"
        }
       }
      },
      "text/html": [
       "<div>\n",
       "        \n",
       "        \n",
       "            <div id=\"a41d3225-c1cc-4ad9-9cf7-fe3b1bdea861\" class=\"plotly-graph-div\" style=\"height:525px; width:100%;\"></div>\n",
       "            <script type=\"text/javascript\">\n",
       "                require([\"plotly\"], function(Plotly) {\n",
       "                    window.PLOTLYENV=window.PLOTLYENV || {};\n",
       "                    window.PLOTLYENV.BASE_URL='https://plot.ly';\n",
       "                    \n",
       "                if (document.getElementById(\"a41d3225-c1cc-4ad9-9cf7-fe3b1bdea861\")) {\n",
       "                    Plotly.newPlot(\n",
       "                        'a41d3225-c1cc-4ad9-9cf7-fe3b1bdea861',\n",
       "                        [{\"marker\": {\"color\": \"rgba(255, 153, 51, 0.6)\", \"line\": {\"color\": \"rgba(255, 153, 51, 1.0)\", \"width\": 1}}, \"name\": \"Values\", \"orientation\": \"v\", \"text\": \"\", \"type\": \"bar\", \"x\": [\"A\", \"B\", \"C\"], \"y\": [32, 43, 50]}],\n",
       "                        {\"legend\": {\"bgcolor\": \"#F5F6F9\", \"font\": {\"color\": \"#4D5663\"}}, \"paper_bgcolor\": \"#F5F6F9\", \"plot_bgcolor\": \"#F5F6F9\", \"template\": {\"data\": {\"bar\": [{\"error_x\": {\"color\": \"#2a3f5f\"}, \"error_y\": {\"color\": \"#2a3f5f\"}, \"marker\": {\"line\": {\"color\": \"#E5ECF6\", \"width\": 0.5}}, \"type\": \"bar\"}], \"barpolar\": [{\"marker\": {\"line\": {\"color\": \"#E5ECF6\", \"width\": 0.5}}, \"type\": \"barpolar\"}], \"carpet\": [{\"aaxis\": {\"endlinecolor\": \"#2a3f5f\", \"gridcolor\": \"white\", \"linecolor\": \"white\", \"minorgridcolor\": \"white\", \"startlinecolor\": \"#2a3f5f\"}, \"baxis\": {\"endlinecolor\": \"#2a3f5f\", \"gridcolor\": \"white\", \"linecolor\": \"white\", \"minorgridcolor\": \"white\", \"startlinecolor\": \"#2a3f5f\"}, \"type\": \"carpet\"}], \"choropleth\": [{\"colorbar\": {\"outlinewidth\": 0, \"ticks\": \"\"}, \"type\": \"choropleth\"}], \"contour\": [{\"colorbar\": {\"outlinewidth\": 0, \"ticks\": \"\"}, \"colorscale\": [[0.0, \"#0d0887\"], [0.1111111111111111, \"#46039f\"], [0.2222222222222222, \"#7201a8\"], [0.3333333333333333, \"#9c179e\"], [0.4444444444444444, \"#bd3786\"], [0.5555555555555556, \"#d8576b\"], [0.6666666666666666, \"#ed7953\"], [0.7777777777777778, \"#fb9f3a\"], [0.8888888888888888, \"#fdca26\"], [1.0, \"#f0f921\"]], \"type\": \"contour\"}], \"contourcarpet\": [{\"colorbar\": {\"outlinewidth\": 0, \"ticks\": \"\"}, \"type\": \"contourcarpet\"}], \"heatmap\": [{\"colorbar\": {\"outlinewidth\": 0, \"ticks\": \"\"}, \"colorscale\": [[0.0, \"#0d0887\"], [0.1111111111111111, \"#46039f\"], [0.2222222222222222, \"#7201a8\"], [0.3333333333333333, \"#9c179e\"], [0.4444444444444444, \"#bd3786\"], [0.5555555555555556, \"#d8576b\"], [0.6666666666666666, \"#ed7953\"], [0.7777777777777778, \"#fb9f3a\"], [0.8888888888888888, \"#fdca26\"], [1.0, \"#f0f921\"]], \"type\": \"heatmap\"}], \"heatmapgl\": [{\"colorbar\": {\"outlinewidth\": 0, \"ticks\": \"\"}, \"colorscale\": [[0.0, \"#0d0887\"], [0.1111111111111111, \"#46039f\"], [0.2222222222222222, \"#7201a8\"], [0.3333333333333333, \"#9c179e\"], [0.4444444444444444, \"#bd3786\"], [0.5555555555555556, \"#d8576b\"], [0.6666666666666666, \"#ed7953\"], [0.7777777777777778, \"#fb9f3a\"], [0.8888888888888888, \"#fdca26\"], [1.0, \"#f0f921\"]], \"type\": \"heatmapgl\"}], \"histogram\": [{\"marker\": {\"colorbar\": {\"outlinewidth\": 0, \"ticks\": \"\"}}, \"type\": \"histogram\"}], \"histogram2d\": [{\"colorbar\": {\"outlinewidth\": 0, \"ticks\": \"\"}, \"colorscale\": [[0.0, \"#0d0887\"], [0.1111111111111111, \"#46039f\"], [0.2222222222222222, \"#7201a8\"], [0.3333333333333333, \"#9c179e\"], [0.4444444444444444, \"#bd3786\"], [0.5555555555555556, \"#d8576b\"], [0.6666666666666666, \"#ed7953\"], [0.7777777777777778, \"#fb9f3a\"], [0.8888888888888888, \"#fdca26\"], [1.0, \"#f0f921\"]], \"type\": \"histogram2d\"}], \"histogram2dcontour\": [{\"colorbar\": {\"outlinewidth\": 0, \"ticks\": \"\"}, \"colorscale\": [[0.0, \"#0d0887\"], [0.1111111111111111, \"#46039f\"], [0.2222222222222222, \"#7201a8\"], [0.3333333333333333, \"#9c179e\"], [0.4444444444444444, \"#bd3786\"], [0.5555555555555556, \"#d8576b\"], [0.6666666666666666, \"#ed7953\"], [0.7777777777777778, \"#fb9f3a\"], [0.8888888888888888, \"#fdca26\"], [1.0, \"#f0f921\"]], \"type\": \"histogram2dcontour\"}], \"mesh3d\": [{\"colorbar\": {\"outlinewidth\": 0, \"ticks\": \"\"}, \"type\": \"mesh3d\"}], \"parcoords\": [{\"line\": {\"colorbar\": {\"outlinewidth\": 0, \"ticks\": \"\"}}, \"type\": \"parcoords\"}], \"pie\": [{\"automargin\": true, \"type\": \"pie\"}], \"scatter\": [{\"marker\": {\"colorbar\": {\"outlinewidth\": 0, \"ticks\": \"\"}}, \"type\": \"scatter\"}], \"scatter3d\": [{\"line\": {\"colorbar\": {\"outlinewidth\": 0, \"ticks\": \"\"}}, \"marker\": {\"colorbar\": {\"outlinewidth\": 0, \"ticks\": \"\"}}, \"type\": \"scatter3d\"}], \"scattercarpet\": [{\"marker\": {\"colorbar\": {\"outlinewidth\": 0, \"ticks\": \"\"}}, \"type\": \"scattercarpet\"}], \"scattergeo\": [{\"marker\": {\"colorbar\": {\"outlinewidth\": 0, \"ticks\": \"\"}}, \"type\": \"scattergeo\"}], \"scattergl\": [{\"marker\": {\"colorbar\": {\"outlinewidth\": 0, \"ticks\": \"\"}}, \"type\": \"scattergl\"}], \"scattermapbox\": [{\"marker\": {\"colorbar\": {\"outlinewidth\": 0, \"ticks\": \"\"}}, \"type\": \"scattermapbox\"}], \"scatterpolar\": [{\"marker\": {\"colorbar\": {\"outlinewidth\": 0, \"ticks\": \"\"}}, \"type\": \"scatterpolar\"}], \"scatterpolargl\": [{\"marker\": {\"colorbar\": {\"outlinewidth\": 0, \"ticks\": \"\"}}, \"type\": \"scatterpolargl\"}], \"scatterternary\": [{\"marker\": {\"colorbar\": {\"outlinewidth\": 0, \"ticks\": \"\"}}, \"type\": \"scatterternary\"}], \"surface\": [{\"colorbar\": {\"outlinewidth\": 0, \"ticks\": \"\"}, \"colorscale\": [[0.0, \"#0d0887\"], [0.1111111111111111, \"#46039f\"], [0.2222222222222222, \"#7201a8\"], [0.3333333333333333, \"#9c179e\"], [0.4444444444444444, \"#bd3786\"], [0.5555555555555556, \"#d8576b\"], [0.6666666666666666, \"#ed7953\"], [0.7777777777777778, \"#fb9f3a\"], [0.8888888888888888, \"#fdca26\"], [1.0, \"#f0f921\"]], \"type\": \"surface\"}], \"table\": [{\"cells\": {\"fill\": {\"color\": \"#EBF0F8\"}, \"line\": {\"color\": \"white\"}}, \"header\": {\"fill\": {\"color\": \"#C8D4E3\"}, \"line\": {\"color\": \"white\"}}, \"type\": \"table\"}]}, \"layout\": {\"annotationdefaults\": {\"arrowcolor\": \"#2a3f5f\", \"arrowhead\": 0, \"arrowwidth\": 1}, \"coloraxis\": {\"colorbar\": {\"outlinewidth\": 0, \"ticks\": \"\"}}, \"colorscale\": {\"diverging\": [[0, \"#8e0152\"], [0.1, \"#c51b7d\"], [0.2, \"#de77ae\"], [0.3, \"#f1b6da\"], [0.4, \"#fde0ef\"], [0.5, \"#f7f7f7\"], [0.6, \"#e6f5d0\"], [0.7, \"#b8e186\"], [0.8, \"#7fbc41\"], [0.9, \"#4d9221\"], [1, \"#276419\"]], \"sequential\": [[0.0, \"#0d0887\"], [0.1111111111111111, \"#46039f\"], [0.2222222222222222, \"#7201a8\"], [0.3333333333333333, \"#9c179e\"], [0.4444444444444444, \"#bd3786\"], [0.5555555555555556, \"#d8576b\"], [0.6666666666666666, \"#ed7953\"], [0.7777777777777778, \"#fb9f3a\"], [0.8888888888888888, \"#fdca26\"], [1.0, \"#f0f921\"]], \"sequentialminus\": [[0.0, \"#0d0887\"], [0.1111111111111111, \"#46039f\"], [0.2222222222222222, \"#7201a8\"], [0.3333333333333333, \"#9c179e\"], [0.4444444444444444, \"#bd3786\"], [0.5555555555555556, \"#d8576b\"], [0.6666666666666666, \"#ed7953\"], [0.7777777777777778, \"#fb9f3a\"], [0.8888888888888888, \"#fdca26\"], [1.0, \"#f0f921\"]]}, \"colorway\": [\"#636efa\", \"#EF553B\", \"#00cc96\", \"#ab63fa\", \"#FFA15A\", \"#19d3f3\", \"#FF6692\", \"#B6E880\", \"#FF97FF\", \"#FECB52\"], \"font\": {\"color\": \"#2a3f5f\"}, \"geo\": {\"bgcolor\": \"white\", \"lakecolor\": \"white\", \"landcolor\": \"#E5ECF6\", \"showlakes\": true, \"showland\": true, \"subunitcolor\": \"white\"}, \"hoverlabel\": {\"align\": \"left\"}, \"hovermode\": \"closest\", \"mapbox\": {\"style\": \"light\"}, \"paper_bgcolor\": \"white\", \"plot_bgcolor\": \"#E5ECF6\", \"polar\": {\"angularaxis\": {\"gridcolor\": \"white\", \"linecolor\": \"white\", \"ticks\": \"\"}, \"bgcolor\": \"#E5ECF6\", \"radialaxis\": {\"gridcolor\": \"white\", \"linecolor\": \"white\", \"ticks\": \"\"}}, \"scene\": {\"xaxis\": {\"backgroundcolor\": \"#E5ECF6\", \"gridcolor\": \"white\", \"gridwidth\": 2, \"linecolor\": \"white\", \"showbackground\": true, \"ticks\": \"\", \"zerolinecolor\": \"white\"}, \"yaxis\": {\"backgroundcolor\": \"#E5ECF6\", \"gridcolor\": \"white\", \"gridwidth\": 2, \"linecolor\": \"white\", \"showbackground\": true, \"ticks\": \"\", \"zerolinecolor\": \"white\"}, \"zaxis\": {\"backgroundcolor\": \"#E5ECF6\", \"gridcolor\": \"white\", \"gridwidth\": 2, \"linecolor\": \"white\", \"showbackground\": true, \"ticks\": \"\", \"zerolinecolor\": \"white\"}}, \"shapedefaults\": {\"line\": {\"color\": \"#2a3f5f\"}}, \"ternary\": {\"aaxis\": {\"gridcolor\": \"white\", \"linecolor\": \"white\", \"ticks\": \"\"}, \"baxis\": {\"gridcolor\": \"white\", \"linecolor\": \"white\", \"ticks\": \"\"}, \"bgcolor\": \"#E5ECF6\", \"caxis\": {\"gridcolor\": \"white\", \"linecolor\": \"white\", \"ticks\": \"\"}}, \"title\": {\"x\": 0.05}, \"xaxis\": {\"automargin\": true, \"gridcolor\": \"white\", \"linecolor\": \"white\", \"ticks\": \"\", \"title\": {\"standoff\": 15}, \"zerolinecolor\": \"white\", \"zerolinewidth\": 2}, \"yaxis\": {\"automargin\": true, \"gridcolor\": \"white\", \"linecolor\": \"white\", \"ticks\": \"\", \"title\": {\"standoff\": 15}, \"zerolinecolor\": \"white\", \"zerolinewidth\": 2}}}, \"title\": {\"font\": {\"color\": \"#4D5663\"}}, \"xaxis\": {\"gridcolor\": \"#E1E5ED\", \"showgrid\": true, \"tickfont\": {\"color\": \"#4D5663\"}, \"title\": {\"font\": {\"color\": \"#4D5663\"}, \"text\": \"\"}, \"zerolinecolor\": \"#E1E5ED\"}, \"yaxis\": {\"gridcolor\": \"#E1E5ED\", \"showgrid\": true, \"tickfont\": {\"color\": \"#4D5663\"}, \"title\": {\"font\": {\"color\": \"#4D5663\"}, \"text\": \"\"}, \"zerolinecolor\": \"#E1E5ED\"}},\n",
       "                        {\"showLink\": true, \"linkText\": \"Export to plot.ly\", \"plotlyServerURL\": \"https://plot.ly\", \"responsive\": true}\n",
       "                    ).then(function(){\n",
       "                            \n",
       "var gd = document.getElementById('a41d3225-c1cc-4ad9-9cf7-fe3b1bdea861');\n",
       "var x = new MutationObserver(function (mutations, observer) {{\n",
       "        var display = window.getComputedStyle(gd).display;\n",
       "        if (!display || display === 'none') {{\n",
       "            console.log([gd, 'removed!']);\n",
       "            Plotly.purge(gd);\n",
       "            observer.disconnect();\n",
       "        }}\n",
       "}});\n",
       "\n",
       "// Listen for the removal of the full notebook cells\n",
       "var notebookContainer = gd.closest('#notebook-container');\n",
       "if (notebookContainer) {{\n",
       "    x.observe(notebookContainer, {childList: true});\n",
       "}}\n",
       "\n",
       "// Listen for the clearing of the current output cell\n",
       "var outputEl = gd.closest('.output');\n",
       "if (outputEl) {{\n",
       "    x.observe(outputEl, {childList: true});\n",
       "}}\n",
       "\n",
       "                        })\n",
       "                };\n",
       "                });\n",
       "            </script>\n",
       "        </div>"
      ]
     },
     "metadata": {},
     "output_type": "display_data"
    }
   ],
   "source": [
    "df2.iplot(kind='bar',x='Category',y='Values')"
   ]
  },
  {
   "cell_type": "code",
   "execution_count": 25,
   "metadata": {
    "jupyter": {
     "outputs_hidden": false
    }
   },
   "outputs": [
    {
     "data": {
      "application/vnd.plotly.v1+json": {
       "config": {
        "linkText": "Export to plot.ly",
        "plotlyServerURL": "https://plot.ly",
        "showLink": true
       },
       "data": [
        {
         "marker": {
          "color": "rgba(255, 153, 51, 0.6)",
          "line": {
           "color": "rgba(255, 153, 51, 1.0)",
           "width": 1
          }
         },
         "name": "None",
         "orientation": "v",
         "text": "",
         "type": "bar",
         "x": [
          "A",
          "B",
          "C",
          "D"
         ],
         "y": [
          100,
          100,
          100,
          100
         ]
        }
       ],
       "layout": {
        "legend": {
         "bgcolor": "#F5F6F9",
         "font": {
          "color": "#4D5663"
         }
        },
        "paper_bgcolor": "#F5F6F9",
        "plot_bgcolor": "#F5F6F9",
        "template": {
         "data": {
          "bar": [
           {
            "error_x": {
             "color": "#2a3f5f"
            },
            "error_y": {
             "color": "#2a3f5f"
            },
            "marker": {
             "line": {
              "color": "#E5ECF6",
              "width": 0.5
             }
            },
            "type": "bar"
           }
          ],
          "barpolar": [
           {
            "marker": {
             "line": {
              "color": "#E5ECF6",
              "width": 0.5
             }
            },
            "type": "barpolar"
           }
          ],
          "carpet": [
           {
            "aaxis": {
             "endlinecolor": "#2a3f5f",
             "gridcolor": "white",
             "linecolor": "white",
             "minorgridcolor": "white",
             "startlinecolor": "#2a3f5f"
            },
            "baxis": {
             "endlinecolor": "#2a3f5f",
             "gridcolor": "white",
             "linecolor": "white",
             "minorgridcolor": "white",
             "startlinecolor": "#2a3f5f"
            },
            "type": "carpet"
           }
          ],
          "choropleth": [
           {
            "colorbar": {
             "outlinewidth": 0,
             "ticks": ""
            },
            "type": "choropleth"
           }
          ],
          "contour": [
           {
            "colorbar": {
             "outlinewidth": 0,
             "ticks": ""
            },
            "colorscale": [
             [
              0,
              "#0d0887"
             ],
             [
              0.1111111111111111,
              "#46039f"
             ],
             [
              0.2222222222222222,
              "#7201a8"
             ],
             [
              0.3333333333333333,
              "#9c179e"
             ],
             [
              0.4444444444444444,
              "#bd3786"
             ],
             [
              0.5555555555555556,
              "#d8576b"
             ],
             [
              0.6666666666666666,
              "#ed7953"
             ],
             [
              0.7777777777777778,
              "#fb9f3a"
             ],
             [
              0.8888888888888888,
              "#fdca26"
             ],
             [
              1,
              "#f0f921"
             ]
            ],
            "type": "contour"
           }
          ],
          "contourcarpet": [
           {
            "colorbar": {
             "outlinewidth": 0,
             "ticks": ""
            },
            "type": "contourcarpet"
           }
          ],
          "heatmap": [
           {
            "colorbar": {
             "outlinewidth": 0,
             "ticks": ""
            },
            "colorscale": [
             [
              0,
              "#0d0887"
             ],
             [
              0.1111111111111111,
              "#46039f"
             ],
             [
              0.2222222222222222,
              "#7201a8"
             ],
             [
              0.3333333333333333,
              "#9c179e"
             ],
             [
              0.4444444444444444,
              "#bd3786"
             ],
             [
              0.5555555555555556,
              "#d8576b"
             ],
             [
              0.6666666666666666,
              "#ed7953"
             ],
             [
              0.7777777777777778,
              "#fb9f3a"
             ],
             [
              0.8888888888888888,
              "#fdca26"
             ],
             [
              1,
              "#f0f921"
             ]
            ],
            "type": "heatmap"
           }
          ],
          "heatmapgl": [
           {
            "colorbar": {
             "outlinewidth": 0,
             "ticks": ""
            },
            "colorscale": [
             [
              0,
              "#0d0887"
             ],
             [
              0.1111111111111111,
              "#46039f"
             ],
             [
              0.2222222222222222,
              "#7201a8"
             ],
             [
              0.3333333333333333,
              "#9c179e"
             ],
             [
              0.4444444444444444,
              "#bd3786"
             ],
             [
              0.5555555555555556,
              "#d8576b"
             ],
             [
              0.6666666666666666,
              "#ed7953"
             ],
             [
              0.7777777777777778,
              "#fb9f3a"
             ],
             [
              0.8888888888888888,
              "#fdca26"
             ],
             [
              1,
              "#f0f921"
             ]
            ],
            "type": "heatmapgl"
           }
          ],
          "histogram": [
           {
            "marker": {
             "colorbar": {
              "outlinewidth": 0,
              "ticks": ""
             }
            },
            "type": "histogram"
           }
          ],
          "histogram2d": [
           {
            "colorbar": {
             "outlinewidth": 0,
             "ticks": ""
            },
            "colorscale": [
             [
              0,
              "#0d0887"
             ],
             [
              0.1111111111111111,
              "#46039f"
             ],
             [
              0.2222222222222222,
              "#7201a8"
             ],
             [
              0.3333333333333333,
              "#9c179e"
             ],
             [
              0.4444444444444444,
              "#bd3786"
             ],
             [
              0.5555555555555556,
              "#d8576b"
             ],
             [
              0.6666666666666666,
              "#ed7953"
             ],
             [
              0.7777777777777778,
              "#fb9f3a"
             ],
             [
              0.8888888888888888,
              "#fdca26"
             ],
             [
              1,
              "#f0f921"
             ]
            ],
            "type": "histogram2d"
           }
          ],
          "histogram2dcontour": [
           {
            "colorbar": {
             "outlinewidth": 0,
             "ticks": ""
            },
            "colorscale": [
             [
              0,
              "#0d0887"
             ],
             [
              0.1111111111111111,
              "#46039f"
             ],
             [
              0.2222222222222222,
              "#7201a8"
             ],
             [
              0.3333333333333333,
              "#9c179e"
             ],
             [
              0.4444444444444444,
              "#bd3786"
             ],
             [
              0.5555555555555556,
              "#d8576b"
             ],
             [
              0.6666666666666666,
              "#ed7953"
             ],
             [
              0.7777777777777778,
              "#fb9f3a"
             ],
             [
              0.8888888888888888,
              "#fdca26"
             ],
             [
              1,
              "#f0f921"
             ]
            ],
            "type": "histogram2dcontour"
           }
          ],
          "mesh3d": [
           {
            "colorbar": {
             "outlinewidth": 0,
             "ticks": ""
            },
            "type": "mesh3d"
           }
          ],
          "parcoords": [
           {
            "line": {
             "colorbar": {
              "outlinewidth": 0,
              "ticks": ""
             }
            },
            "type": "parcoords"
           }
          ],
          "pie": [
           {
            "automargin": true,
            "type": "pie"
           }
          ],
          "scatter": [
           {
            "marker": {
             "colorbar": {
              "outlinewidth": 0,
              "ticks": ""
             }
            },
            "type": "scatter"
           }
          ],
          "scatter3d": [
           {
            "line": {
             "colorbar": {
              "outlinewidth": 0,
              "ticks": ""
             }
            },
            "marker": {
             "colorbar": {
              "outlinewidth": 0,
              "ticks": ""
             }
            },
            "type": "scatter3d"
           }
          ],
          "scattercarpet": [
           {
            "marker": {
             "colorbar": {
              "outlinewidth": 0,
              "ticks": ""
             }
            },
            "type": "scattercarpet"
           }
          ],
          "scattergeo": [
           {
            "marker": {
             "colorbar": {
              "outlinewidth": 0,
              "ticks": ""
             }
            },
            "type": "scattergeo"
           }
          ],
          "scattergl": [
           {
            "marker": {
             "colorbar": {
              "outlinewidth": 0,
              "ticks": ""
             }
            },
            "type": "scattergl"
           }
          ],
          "scattermapbox": [
           {
            "marker": {
             "colorbar": {
              "outlinewidth": 0,
              "ticks": ""
             }
            },
            "type": "scattermapbox"
           }
          ],
          "scatterpolar": [
           {
            "marker": {
             "colorbar": {
              "outlinewidth": 0,
              "ticks": ""
             }
            },
            "type": "scatterpolar"
           }
          ],
          "scatterpolargl": [
           {
            "marker": {
             "colorbar": {
              "outlinewidth": 0,
              "ticks": ""
             }
            },
            "type": "scatterpolargl"
           }
          ],
          "scatterternary": [
           {
            "marker": {
             "colorbar": {
              "outlinewidth": 0,
              "ticks": ""
             }
            },
            "type": "scatterternary"
           }
          ],
          "surface": [
           {
            "colorbar": {
             "outlinewidth": 0,
             "ticks": ""
            },
            "colorscale": [
             [
              0,
              "#0d0887"
             ],
             [
              0.1111111111111111,
              "#46039f"
             ],
             [
              0.2222222222222222,
              "#7201a8"
             ],
             [
              0.3333333333333333,
              "#9c179e"
             ],
             [
              0.4444444444444444,
              "#bd3786"
             ],
             [
              0.5555555555555556,
              "#d8576b"
             ],
             [
              0.6666666666666666,
              "#ed7953"
             ],
             [
              0.7777777777777778,
              "#fb9f3a"
             ],
             [
              0.8888888888888888,
              "#fdca26"
             ],
             [
              1,
              "#f0f921"
             ]
            ],
            "type": "surface"
           }
          ],
          "table": [
           {
            "cells": {
             "fill": {
              "color": "#EBF0F8"
             },
             "line": {
              "color": "white"
             }
            },
            "header": {
             "fill": {
              "color": "#C8D4E3"
             },
             "line": {
              "color": "white"
             }
            },
            "type": "table"
           }
          ]
         },
         "layout": {
          "annotationdefaults": {
           "arrowcolor": "#2a3f5f",
           "arrowhead": 0,
           "arrowwidth": 1
          },
          "coloraxis": {
           "colorbar": {
            "outlinewidth": 0,
            "ticks": ""
           }
          },
          "colorscale": {
           "diverging": [
            [
             0,
             "#8e0152"
            ],
            [
             0.1,
             "#c51b7d"
            ],
            [
             0.2,
             "#de77ae"
            ],
            [
             0.3,
             "#f1b6da"
            ],
            [
             0.4,
             "#fde0ef"
            ],
            [
             0.5,
             "#f7f7f7"
            ],
            [
             0.6,
             "#e6f5d0"
            ],
            [
             0.7,
             "#b8e186"
            ],
            [
             0.8,
             "#7fbc41"
            ],
            [
             0.9,
             "#4d9221"
            ],
            [
             1,
             "#276419"
            ]
           ],
           "sequential": [
            [
             0,
             "#0d0887"
            ],
            [
             0.1111111111111111,
             "#46039f"
            ],
            [
             0.2222222222222222,
             "#7201a8"
            ],
            [
             0.3333333333333333,
             "#9c179e"
            ],
            [
             0.4444444444444444,
             "#bd3786"
            ],
            [
             0.5555555555555556,
             "#d8576b"
            ],
            [
             0.6666666666666666,
             "#ed7953"
            ],
            [
             0.7777777777777778,
             "#fb9f3a"
            ],
            [
             0.8888888888888888,
             "#fdca26"
            ],
            [
             1,
             "#f0f921"
            ]
           ],
           "sequentialminus": [
            [
             0,
             "#0d0887"
            ],
            [
             0.1111111111111111,
             "#46039f"
            ],
            [
             0.2222222222222222,
             "#7201a8"
            ],
            [
             0.3333333333333333,
             "#9c179e"
            ],
            [
             0.4444444444444444,
             "#bd3786"
            ],
            [
             0.5555555555555556,
             "#d8576b"
            ],
            [
             0.6666666666666666,
             "#ed7953"
            ],
            [
             0.7777777777777778,
             "#fb9f3a"
            ],
            [
             0.8888888888888888,
             "#fdca26"
            ],
            [
             1,
             "#f0f921"
            ]
           ]
          },
          "colorway": [
           "#636efa",
           "#EF553B",
           "#00cc96",
           "#ab63fa",
           "#FFA15A",
           "#19d3f3",
           "#FF6692",
           "#B6E880",
           "#FF97FF",
           "#FECB52"
          ],
          "font": {
           "color": "#2a3f5f"
          },
          "geo": {
           "bgcolor": "white",
           "lakecolor": "white",
           "landcolor": "#E5ECF6",
           "showlakes": true,
           "showland": true,
           "subunitcolor": "white"
          },
          "hoverlabel": {
           "align": "left"
          },
          "hovermode": "closest",
          "mapbox": {
           "style": "light"
          },
          "paper_bgcolor": "white",
          "plot_bgcolor": "#E5ECF6",
          "polar": {
           "angularaxis": {
            "gridcolor": "white",
            "linecolor": "white",
            "ticks": ""
           },
           "bgcolor": "#E5ECF6",
           "radialaxis": {
            "gridcolor": "white",
            "linecolor": "white",
            "ticks": ""
           }
          },
          "scene": {
           "xaxis": {
            "backgroundcolor": "#E5ECF6",
            "gridcolor": "white",
            "gridwidth": 2,
            "linecolor": "white",
            "showbackground": true,
            "ticks": "",
            "zerolinecolor": "white"
           },
           "yaxis": {
            "backgroundcolor": "#E5ECF6",
            "gridcolor": "white",
            "gridwidth": 2,
            "linecolor": "white",
            "showbackground": true,
            "ticks": "",
            "zerolinecolor": "white"
           },
           "zaxis": {
            "backgroundcolor": "#E5ECF6",
            "gridcolor": "white",
            "gridwidth": 2,
            "linecolor": "white",
            "showbackground": true,
            "ticks": "",
            "zerolinecolor": "white"
           }
          },
          "shapedefaults": {
           "line": {
            "color": "#2a3f5f"
           }
          },
          "ternary": {
           "aaxis": {
            "gridcolor": "white",
            "linecolor": "white",
            "ticks": ""
           },
           "baxis": {
            "gridcolor": "white",
            "linecolor": "white",
            "ticks": ""
           },
           "bgcolor": "#E5ECF6",
           "caxis": {
            "gridcolor": "white",
            "linecolor": "white",
            "ticks": ""
           }
          },
          "title": {
           "x": 0.05
          },
          "xaxis": {
           "automargin": true,
           "gridcolor": "white",
           "linecolor": "white",
           "ticks": "",
           "title": {
            "standoff": 15
           },
           "zerolinecolor": "white",
           "zerolinewidth": 2
          },
          "yaxis": {
           "automargin": true,
           "gridcolor": "white",
           "linecolor": "white",
           "ticks": "",
           "title": {
            "standoff": 15
           },
           "zerolinecolor": "white",
           "zerolinewidth": 2
          }
         }
        },
        "title": {
         "font": {
          "color": "#4D5663"
         }
        },
        "xaxis": {
         "gridcolor": "#E1E5ED",
         "showgrid": true,
         "tickfont": {
          "color": "#4D5663"
         },
         "title": {
          "font": {
           "color": "#4D5663"
          },
          "text": ""
         },
         "zerolinecolor": "#E1E5ED"
        },
        "yaxis": {
         "gridcolor": "#E1E5ED",
         "showgrid": true,
         "tickfont": {
          "color": "#4D5663"
         },
         "title": {
          "font": {
           "color": "#4D5663"
          },
          "text": ""
         },
         "zerolinecolor": "#E1E5ED"
        }
       }
      },
      "text/html": [
       "<div>\n",
       "        \n",
       "        \n",
       "            <div id=\"c75a9871-2b4c-49dd-84df-8fdb844dad91\" class=\"plotly-graph-div\" style=\"height:525px; width:100%;\"></div>\n",
       "            <script type=\"text/javascript\">\n",
       "                require([\"plotly\"], function(Plotly) {\n",
       "                    window.PLOTLYENV=window.PLOTLYENV || {};\n",
       "                    window.PLOTLYENV.BASE_URL='https://plot.ly';\n",
       "                    \n",
       "                if (document.getElementById(\"c75a9871-2b4c-49dd-84df-8fdb844dad91\")) {\n",
       "                    Plotly.newPlot(\n",
       "                        'c75a9871-2b4c-49dd-84df-8fdb844dad91',\n",
       "                        [{\"marker\": {\"color\": \"rgba(255, 153, 51, 0.6)\", \"line\": {\"color\": \"rgba(255, 153, 51, 1.0)\", \"width\": 1}}, \"name\": \"None\", \"orientation\": \"v\", \"text\": \"\", \"type\": \"bar\", \"x\": [\"A\", \"B\", \"C\", \"D\"], \"y\": [100, 100, 100, 100]}],\n",
       "                        {\"legend\": {\"bgcolor\": \"#F5F6F9\", \"font\": {\"color\": \"#4D5663\"}}, \"paper_bgcolor\": \"#F5F6F9\", \"plot_bgcolor\": \"#F5F6F9\", \"template\": {\"data\": {\"bar\": [{\"error_x\": {\"color\": \"#2a3f5f\"}, \"error_y\": {\"color\": \"#2a3f5f\"}, \"marker\": {\"line\": {\"color\": \"#E5ECF6\", \"width\": 0.5}}, \"type\": \"bar\"}], \"barpolar\": [{\"marker\": {\"line\": {\"color\": \"#E5ECF6\", \"width\": 0.5}}, \"type\": \"barpolar\"}], \"carpet\": [{\"aaxis\": {\"endlinecolor\": \"#2a3f5f\", \"gridcolor\": \"white\", \"linecolor\": \"white\", \"minorgridcolor\": \"white\", \"startlinecolor\": \"#2a3f5f\"}, \"baxis\": {\"endlinecolor\": \"#2a3f5f\", \"gridcolor\": \"white\", \"linecolor\": \"white\", \"minorgridcolor\": \"white\", \"startlinecolor\": \"#2a3f5f\"}, \"type\": \"carpet\"}], \"choropleth\": [{\"colorbar\": {\"outlinewidth\": 0, \"ticks\": \"\"}, \"type\": \"choropleth\"}], \"contour\": [{\"colorbar\": {\"outlinewidth\": 0, \"ticks\": \"\"}, \"colorscale\": [[0.0, \"#0d0887\"], [0.1111111111111111, \"#46039f\"], [0.2222222222222222, \"#7201a8\"], [0.3333333333333333, \"#9c179e\"], [0.4444444444444444, \"#bd3786\"], [0.5555555555555556, \"#d8576b\"], [0.6666666666666666, \"#ed7953\"], [0.7777777777777778, \"#fb9f3a\"], [0.8888888888888888, \"#fdca26\"], [1.0, \"#f0f921\"]], \"type\": \"contour\"}], \"contourcarpet\": [{\"colorbar\": {\"outlinewidth\": 0, \"ticks\": \"\"}, \"type\": \"contourcarpet\"}], \"heatmap\": [{\"colorbar\": {\"outlinewidth\": 0, \"ticks\": \"\"}, \"colorscale\": [[0.0, \"#0d0887\"], [0.1111111111111111, \"#46039f\"], [0.2222222222222222, \"#7201a8\"], [0.3333333333333333, \"#9c179e\"], [0.4444444444444444, \"#bd3786\"], [0.5555555555555556, \"#d8576b\"], [0.6666666666666666, \"#ed7953\"], [0.7777777777777778, \"#fb9f3a\"], [0.8888888888888888, \"#fdca26\"], [1.0, \"#f0f921\"]], \"type\": \"heatmap\"}], \"heatmapgl\": [{\"colorbar\": {\"outlinewidth\": 0, \"ticks\": \"\"}, \"colorscale\": [[0.0, \"#0d0887\"], [0.1111111111111111, \"#46039f\"], [0.2222222222222222, \"#7201a8\"], [0.3333333333333333, \"#9c179e\"], [0.4444444444444444, \"#bd3786\"], [0.5555555555555556, \"#d8576b\"], [0.6666666666666666, \"#ed7953\"], [0.7777777777777778, \"#fb9f3a\"], [0.8888888888888888, \"#fdca26\"], [1.0, \"#f0f921\"]], \"type\": \"heatmapgl\"}], \"histogram\": [{\"marker\": {\"colorbar\": {\"outlinewidth\": 0, \"ticks\": \"\"}}, \"type\": \"histogram\"}], \"histogram2d\": [{\"colorbar\": {\"outlinewidth\": 0, \"ticks\": \"\"}, \"colorscale\": [[0.0, \"#0d0887\"], [0.1111111111111111, \"#46039f\"], [0.2222222222222222, \"#7201a8\"], [0.3333333333333333, \"#9c179e\"], [0.4444444444444444, \"#bd3786\"], [0.5555555555555556, \"#d8576b\"], [0.6666666666666666, \"#ed7953\"], [0.7777777777777778, \"#fb9f3a\"], [0.8888888888888888, \"#fdca26\"], [1.0, \"#f0f921\"]], \"type\": \"histogram2d\"}], \"histogram2dcontour\": [{\"colorbar\": {\"outlinewidth\": 0, \"ticks\": \"\"}, \"colorscale\": [[0.0, \"#0d0887\"], [0.1111111111111111, \"#46039f\"], [0.2222222222222222, \"#7201a8\"], [0.3333333333333333, \"#9c179e\"], [0.4444444444444444, \"#bd3786\"], [0.5555555555555556, \"#d8576b\"], [0.6666666666666666, \"#ed7953\"], [0.7777777777777778, \"#fb9f3a\"], [0.8888888888888888, \"#fdca26\"], [1.0, \"#f0f921\"]], \"type\": \"histogram2dcontour\"}], \"mesh3d\": [{\"colorbar\": {\"outlinewidth\": 0, \"ticks\": \"\"}, \"type\": \"mesh3d\"}], \"parcoords\": [{\"line\": {\"colorbar\": {\"outlinewidth\": 0, \"ticks\": \"\"}}, \"type\": \"parcoords\"}], \"pie\": [{\"automargin\": true, \"type\": \"pie\"}], \"scatter\": [{\"marker\": {\"colorbar\": {\"outlinewidth\": 0, \"ticks\": \"\"}}, \"type\": \"scatter\"}], \"scatter3d\": [{\"line\": {\"colorbar\": {\"outlinewidth\": 0, \"ticks\": \"\"}}, \"marker\": {\"colorbar\": {\"outlinewidth\": 0, \"ticks\": \"\"}}, \"type\": \"scatter3d\"}], \"scattercarpet\": [{\"marker\": {\"colorbar\": {\"outlinewidth\": 0, \"ticks\": \"\"}}, \"type\": \"scattercarpet\"}], \"scattergeo\": [{\"marker\": {\"colorbar\": {\"outlinewidth\": 0, \"ticks\": \"\"}}, \"type\": \"scattergeo\"}], \"scattergl\": [{\"marker\": {\"colorbar\": {\"outlinewidth\": 0, \"ticks\": \"\"}}, \"type\": \"scattergl\"}], \"scattermapbox\": [{\"marker\": {\"colorbar\": {\"outlinewidth\": 0, \"ticks\": \"\"}}, \"type\": \"scattermapbox\"}], \"scatterpolar\": [{\"marker\": {\"colorbar\": {\"outlinewidth\": 0, \"ticks\": \"\"}}, \"type\": \"scatterpolar\"}], \"scatterpolargl\": [{\"marker\": {\"colorbar\": {\"outlinewidth\": 0, \"ticks\": \"\"}}, \"type\": \"scatterpolargl\"}], \"scatterternary\": [{\"marker\": {\"colorbar\": {\"outlinewidth\": 0, \"ticks\": \"\"}}, \"type\": \"scatterternary\"}], \"surface\": [{\"colorbar\": {\"outlinewidth\": 0, \"ticks\": \"\"}, \"colorscale\": [[0.0, \"#0d0887\"], [0.1111111111111111, \"#46039f\"], [0.2222222222222222, \"#7201a8\"], [0.3333333333333333, \"#9c179e\"], [0.4444444444444444, \"#bd3786\"], [0.5555555555555556, \"#d8576b\"], [0.6666666666666666, \"#ed7953\"], [0.7777777777777778, \"#fb9f3a\"], [0.8888888888888888, \"#fdca26\"], [1.0, \"#f0f921\"]], \"type\": \"surface\"}], \"table\": [{\"cells\": {\"fill\": {\"color\": \"#EBF0F8\"}, \"line\": {\"color\": \"white\"}}, \"header\": {\"fill\": {\"color\": \"#C8D4E3\"}, \"line\": {\"color\": \"white\"}}, \"type\": \"table\"}]}, \"layout\": {\"annotationdefaults\": {\"arrowcolor\": \"#2a3f5f\", \"arrowhead\": 0, \"arrowwidth\": 1}, \"coloraxis\": {\"colorbar\": {\"outlinewidth\": 0, \"ticks\": \"\"}}, \"colorscale\": {\"diverging\": [[0, \"#8e0152\"], [0.1, \"#c51b7d\"], [0.2, \"#de77ae\"], [0.3, \"#f1b6da\"], [0.4, \"#fde0ef\"], [0.5, \"#f7f7f7\"], [0.6, \"#e6f5d0\"], [0.7, \"#b8e186\"], [0.8, \"#7fbc41\"], [0.9, \"#4d9221\"], [1, \"#276419\"]], \"sequential\": [[0.0, \"#0d0887\"], [0.1111111111111111, \"#46039f\"], [0.2222222222222222, \"#7201a8\"], [0.3333333333333333, \"#9c179e\"], [0.4444444444444444, \"#bd3786\"], [0.5555555555555556, \"#d8576b\"], [0.6666666666666666, \"#ed7953\"], [0.7777777777777778, \"#fb9f3a\"], [0.8888888888888888, \"#fdca26\"], [1.0, \"#f0f921\"]], \"sequentialminus\": [[0.0, \"#0d0887\"], [0.1111111111111111, \"#46039f\"], [0.2222222222222222, \"#7201a8\"], [0.3333333333333333, \"#9c179e\"], [0.4444444444444444, \"#bd3786\"], [0.5555555555555556, \"#d8576b\"], [0.6666666666666666, \"#ed7953\"], [0.7777777777777778, \"#fb9f3a\"], [0.8888888888888888, \"#fdca26\"], [1.0, \"#f0f921\"]]}, \"colorway\": [\"#636efa\", \"#EF553B\", \"#00cc96\", \"#ab63fa\", \"#FFA15A\", \"#19d3f3\", \"#FF6692\", \"#B6E880\", \"#FF97FF\", \"#FECB52\"], \"font\": {\"color\": \"#2a3f5f\"}, \"geo\": {\"bgcolor\": \"white\", \"lakecolor\": \"white\", \"landcolor\": \"#E5ECF6\", \"showlakes\": true, \"showland\": true, \"subunitcolor\": \"white\"}, \"hoverlabel\": {\"align\": \"left\"}, \"hovermode\": \"closest\", \"mapbox\": {\"style\": \"light\"}, \"paper_bgcolor\": \"white\", \"plot_bgcolor\": \"#E5ECF6\", \"polar\": {\"angularaxis\": {\"gridcolor\": \"white\", \"linecolor\": \"white\", \"ticks\": \"\"}, \"bgcolor\": \"#E5ECF6\", \"radialaxis\": {\"gridcolor\": \"white\", \"linecolor\": \"white\", \"ticks\": \"\"}}, \"scene\": {\"xaxis\": {\"backgroundcolor\": \"#E5ECF6\", \"gridcolor\": \"white\", \"gridwidth\": 2, \"linecolor\": \"white\", \"showbackground\": true, \"ticks\": \"\", \"zerolinecolor\": \"white\"}, \"yaxis\": {\"backgroundcolor\": \"#E5ECF6\", \"gridcolor\": \"white\", \"gridwidth\": 2, \"linecolor\": \"white\", \"showbackground\": true, \"ticks\": \"\", \"zerolinecolor\": \"white\"}, \"zaxis\": {\"backgroundcolor\": \"#E5ECF6\", \"gridcolor\": \"white\", \"gridwidth\": 2, \"linecolor\": \"white\", \"showbackground\": true, \"ticks\": \"\", \"zerolinecolor\": \"white\"}}, \"shapedefaults\": {\"line\": {\"color\": \"#2a3f5f\"}}, \"ternary\": {\"aaxis\": {\"gridcolor\": \"white\", \"linecolor\": \"white\", \"ticks\": \"\"}, \"baxis\": {\"gridcolor\": \"white\", \"linecolor\": \"white\", \"ticks\": \"\"}, \"bgcolor\": \"#E5ECF6\", \"caxis\": {\"gridcolor\": \"white\", \"linecolor\": \"white\", \"ticks\": \"\"}}, \"title\": {\"x\": 0.05}, \"xaxis\": {\"automargin\": true, \"gridcolor\": \"white\", \"linecolor\": \"white\", \"ticks\": \"\", \"title\": {\"standoff\": 15}, \"zerolinecolor\": \"white\", \"zerolinewidth\": 2}, \"yaxis\": {\"automargin\": true, \"gridcolor\": \"white\", \"linecolor\": \"white\", \"ticks\": \"\", \"title\": {\"standoff\": 15}, \"zerolinecolor\": \"white\", \"zerolinewidth\": 2}}}, \"title\": {\"font\": {\"color\": \"#4D5663\"}}, \"xaxis\": {\"gridcolor\": \"#E1E5ED\", \"showgrid\": true, \"tickfont\": {\"color\": \"#4D5663\"}, \"title\": {\"font\": {\"color\": \"#4D5663\"}, \"text\": \"\"}, \"zerolinecolor\": \"#E1E5ED\"}, \"yaxis\": {\"gridcolor\": \"#E1E5ED\", \"showgrid\": true, \"tickfont\": {\"color\": \"#4D5663\"}, \"title\": {\"font\": {\"color\": \"#4D5663\"}, \"text\": \"\"}, \"zerolinecolor\": \"#E1E5ED\"}},\n",
       "                        {\"showLink\": true, \"linkText\": \"Export to plot.ly\", \"plotlyServerURL\": \"https://plot.ly\", \"responsive\": true}\n",
       "                    ).then(function(){\n",
       "                            \n",
       "var gd = document.getElementById('c75a9871-2b4c-49dd-84df-8fdb844dad91');\n",
       "var x = new MutationObserver(function (mutations, observer) {{\n",
       "        var display = window.getComputedStyle(gd).display;\n",
       "        if (!display || display === 'none') {{\n",
       "            console.log([gd, 'removed!']);\n",
       "            Plotly.purge(gd);\n",
       "            observer.disconnect();\n",
       "        }}\n",
       "}});\n",
       "\n",
       "// Listen for the removal of the full notebook cells\n",
       "var notebookContainer = gd.closest('#notebook-container');\n",
       "if (notebookContainer) {{\n",
       "    x.observe(notebookContainer, {childList: true});\n",
       "}}\n",
       "\n",
       "// Listen for the clearing of the current output cell\n",
       "var outputEl = gd.closest('.output');\n",
       "if (outputEl) {{\n",
       "    x.observe(outputEl, {childList: true});\n",
       "}}\n",
       "\n",
       "                        })\n",
       "                };\n",
       "                });\n",
       "            </script>\n",
       "        </div>"
      ]
     },
     "metadata": {},
     "output_type": "display_data"
    }
   ],
   "source": [
    "df.count().iplot(kind='bar')"
   ]
  },
  {
   "cell_type": "markdown",
   "metadata": {},
   "source": [
    "## Boxplots"
   ]
  },
  {
   "cell_type": "code",
   "execution_count": 26,
   "metadata": {
    "jupyter": {
     "outputs_hidden": false
    }
   },
   "outputs": [
    {
     "data": {
      "application/vnd.plotly.v1+json": {
       "config": {
        "linkText": "Export to plot.ly",
        "plotlyServerURL": "https://plot.ly",
        "showLink": true
       },
       "data": [
        {
         "boxpoints": false,
         "line": {
          "width": 1.3
         },
         "marker": {
          "color": "rgba(255, 153, 51, 1.0)"
         },
         "name": "A",
         "orientation": "v",
         "type": "box",
         "y": [
          0.4680357176729802,
          -0.18089695435687647,
          0.003483194029145718,
          -0.8503226748006865,
          0.8146106228274449,
          0.15146587172216824,
          0.12723478221447262,
          0.3351004387413441,
          0.9414103775281865,
          -0.8857734378332426,
          -0.5701687051204497,
          -0.8893540639512774,
          0.14019123212902615,
          -0.966403721687782,
          0.33538370842415655,
          0.6702165022341717,
          -0.015213378402976164,
          -1.6090697702945362,
          0.7768280979717406,
          -0.020888206099068173,
          -1.3080179624540567,
          0.007249009389868164,
          0.2945209102593891,
          -0.9992695366250636,
          -0.6447006902415953,
          -1.0905563070634021,
          0.028797804449134032,
          -0.8843550330471293,
          1.0386401862451842,
          -0.6372696659703778,
          -0.07546361030812403,
          -0.6885808917640587,
          0.6960913089883859,
          0.7967344770276393,
          -0.31311403394368115,
          0.44535646682353447,
          1.2184826503543367,
          0.4897504444752817,
          1.0975181333688733,
          -1.2899287196667168,
          0.7672041598633657,
          -1.2666068328758595,
          1.0388834302251584,
          -2.7642984677037763,
          0.7743643434944764,
          0.5383447940237172,
          0.47174339868068116,
          -0.9813512577834447,
          -1.9094619873718108,
          0.09403883020114603,
          -0.16567173008209463,
          0.3497701577167347,
          0.7786062683999717,
          -0.9749299704877334,
          1.895335438858008,
          -0.4681186971331524,
          1.6906002800833542,
          -0.3863554355065704,
          -2.0996821386621938,
          0.13576410988414953,
          0.49662193548416167,
          0.6652139195938592,
          1.318582804966973,
          -0.03610763629279586,
          -0.4325131784953337,
          -0.6569998826577392,
          0.7840142952369771,
          1.3376479675287218,
          -0.24358433096939566,
          0.7227382172365205,
          -0.8355487413044241,
          0.7365537375544133,
          -0.5896650123534253,
          0.6979532707491521,
          0.4168212480194256,
          -1.156999280240315,
          0.49573377418729586,
          -0.8131742308332868,
          -0.023724459695214212,
          -0.6662885802270111,
          -0.5650900186908255,
          -0.14085214787252726,
          0.5047821408545787,
          -1.5536765581644607,
          -0.12215501843578472,
          -0.47462127467704807,
          -0.739431884829175,
          -0.28716816395346373,
          1.7938082735840795,
          -1.721425966026441,
          0.6277844324474082,
          -0.13192234352890128,
          0.5491320236601649,
          -0.5930336917559829,
          0.13740697896731097,
          1.1271661097434316,
          -0.5372438603757769,
          -0.7756176374275516,
          1.9872765631996863,
          1.1777260909975629
         ]
        },
        {
         "boxpoints": false,
         "line": {
          "width": 1.3
         },
         "marker": {
          "color": "rgba(55, 128, 191, 1.0)"
         },
         "name": "B",
         "orientation": "v",
         "type": "box",
         "y": [
          -0.7434989651960935,
          -0.4607615024270917,
          1.8780782846811968,
          0.04828809145899935,
          -0.0029359171677269995,
          -0.08753811400269597,
          -0.3979045501815003,
          -1.3587319206144035,
          1.3058393881672048,
          -2.3358469828562334,
          1.7778387243432399,
          -0.8702029541219694,
          0.9935992049714233,
          1.4798461388258817,
          1.1275258510799964,
          1.477737769433274,
          0.36461748526784393,
          0.1831140969875315,
          0.17955620423002,
          2.12826660679801,
          -1.1186449675805272,
          1.1949120889777742,
          0.6551153688968544,
          0.7735108164924516,
          -0.7619829421982433,
          0.3818031659229591,
          -0.13223350833946632,
          -1.0411027537542916,
          0.7270464129765776,
          -0.46302451921768606,
          0.5627073813462292,
          0.08627527498922588,
          0.20036806041275756,
          0.01589035106560516,
          -1.5745988477361705,
          -0.5007655647549084,
          -1.874963053783075,
          -1.1902805653365587,
          -0.6179762986534144,
          0.3369724337050894,
          -0.09505535904528267,
          -0.5306506763564895,
          -0.030613138796697234,
          0.6341060188575188,
          0.23753214374573461,
          0.5756485863333742,
          -0.32928971144601865,
          0.07337782328325868,
          -0.3357057393863871,
          0.5900992992421492,
          -0.40898656611231804,
          -0.47322322257176525,
          0.2934714022237347,
          -0.3757543883540172,
          -0.1585512845422061,
          -0.25357244880222723,
          -1.5140291466870681,
          -0.7753885030539748,
          0.797052517782712,
          -0.3686557886848596,
          0.2855546620487415,
          1.6705044922929793,
          -0.43515134559370927,
          1.6595080594016447,
          -0.7252495287174796,
          -0.8330399931977461,
          -0.679219802873046,
          0.9390544951462232,
          0.09387454731372896,
          -0.3566775006611743,
          -2.1088990387458413,
          1.4528512643473823,
          -1.0261340964628949,
          0.23497758020160772,
          -0.4534270194828116,
          0.11397050565362599,
          0.2381586255109007,
          0.9988085406776966,
          0.025876815884210955,
          -1.2177486952525969,
          0.3174027772821797,
          0.5425099678014165,
          -1.1060029879681268,
          -1.9040147003254828,
          -0.09788757039869198,
          0.5027980532650275,
          0.5946564386503808,
          0.9040607377477198,
          -0.4997921123188726,
          1.0758831897921548,
          0.9939541985768044,
          1.4467641393910968,
          1.6622260071966777,
          -0.22074290486403597,
          0.0831484383304875,
          -1.0252544617631951,
          0.5697014336041655,
          -0.6944539659705443,
          0.2582200223961893,
          0.7920863962548249
         ]
        },
        {
         "boxpoints": false,
         "line": {
          "width": 1.3
         },
         "marker": {
          "color": "rgba(50, 171, 96, 1.0)"
         },
         "name": "C",
         "orientation": "v",
         "type": "box",
         "y": [
          0.8389764892564305,
          1.013717717231092,
          -0.7297365537101015,
          0.6049139704487708,
          0.7723854906554027,
          0.21623666019717452,
          0.24654014892872012,
          0.7051543353596379,
          1.2091124520868546,
          -0.3219114610225776,
          -0.05848271170796087,
          0.3509714073961184,
          -1.1369574557963296,
          -1.5886052586822192,
          0.46897817236341155,
          1.600651483559872,
          1.0868744225621012,
          -0.8225697383868341,
          -0.5462549515435099,
          -1.0971324409605696,
          -0.42126901991509974,
          -0.40335240915835735,
          -0.06546332364885253,
          -0.7220096955108127,
          -0.24173070493788043,
          -0.7598326671349462,
          0.6241453849807918,
          0.5886794668426667,
          -0.8140869463568312,
          0.628972719389455,
          -0.24496151325077703,
          1.9084749507787575,
          0.5419417425942232,
          0.036735335651900826,
          -0.4792159487349968,
          -0.42916830260793176,
          -2.0635569387151755,
          -0.8682465428527645,
          1.0610949817311277,
          -1.840326548329223,
          0.1770727015256135,
          -0.5972928849101156,
          0.43234865840395753,
          0.36879339666131905,
          -0.31535918919124845,
          0.013286350305847863,
          0.839248722171213,
          -0.5391920294908384,
          0.9028477890920293,
          -0.1449266056100494,
          -0.5550747969708228,
          1.145173812738686,
          -3.9108580222565643,
          0.20059159084486752,
          0.8044663141218427,
          0.007719524278421231,
          -0.07497195612134629,
          -0.7483748180488207,
          -0.8848562233879459,
          0.7831684418093795,
          -0.8408722819203603,
          -0.6584752704475881,
          1.7632864008624585,
          0.4136157562434442,
          0.48584697095725743,
          0.048980905406493386,
          0.5879297579600218,
          -0.8481797780613902,
          -1.5696593179903302,
          -0.48235985761291955,
          -1.0057629092408216,
          0.5448252629602326,
          -0.10385777821915122,
          0.0034653602824622517,
          -0.7496905771230047,
          0.909499498712557,
          0.239924583265994,
          -1.6905948071653993,
          -0.3947023642386599,
          0.07330818187210192,
          -1.1687449252991113,
          -0.6927274731045221,
          -2.716605353800127,
          0.3213373310834251,
          0.13190931480579546,
          0.2755906045892328,
          -0.29173706907620944,
          -0.9130408164605344,
          -0.5978702046605517,
          1.5325682955088105,
          0.6030579947183526,
          -0.8182400542754837,
          -1.8411234610375216,
          1.8687986807306012,
          0.8290383550466602,
          -0.7397713800851328,
          0.6972307899398041,
          0.7355949199704094,
          1.8908724727703967,
          1.2874885440614134
         ]
        },
        {
         "boxpoints": false,
         "line": {
          "width": 1.3
         },
         "marker": {
          "color": "rgba(128, 0, 128, 1.0)"
         },
         "name": "D",
         "orientation": "v",
         "type": "box",
         "y": [
          -0.25191764743566786,
          0.4198145384895684,
          -1.3140941508038348,
          1.2318426219836836,
          -0.14897890875791223,
          -1.143166795336094,
          -1.0314134856330894,
          -1.1040878101495826,
          -0.0955712889122703,
          0.28520146090536724,
          0.6399015028076319,
          -0.8324485066954828,
          -0.07496044929395959,
          -0.7650854165785472,
          -1.2485280903188103,
          2.1795825771112973,
          -0.5620311364223277,
          -0.5585410294220939,
          -0.4537843776591725,
          1.233793314943582,
          0.3512069789710706,
          1.464975027321418,
          1.4746019752966584,
          -0.7371334777665244,
          -0.3636836678402213,
          -1.1003904903879351,
          -0.26791186145062823,
          1.0460755059400357,
          -0.7575438785027289,
          1.3470249818909699,
          0.07133753671463729,
          -0.01749365744707516,
          0.48036583265597094,
          1.1713636735859168,
          -0.5157245415583571,
          0.5016520145241842,
          0.3394304372496551,
          0.46647053193264854,
          -1.0188106058466928,
          1.4949434120261416,
          0.24926084734681345,
          -1.0489198293392754,
          -0.5869623591243232,
          -0.4092280759240029,
          0.5413342628376578,
          -1.5545202367727056,
          -0.8463730481017815,
          2.335589047731229,
          1.4719803000032543,
          1.114770745220192,
          0.0046618591717043694,
          0.23209447481814305,
          0.7197939214034708,
          -0.02268004328530468,
          -0.7705475169250952,
          -0.4059608801378683,
          -0.5030635358492516,
          -0.8643685639929041,
          1.0023979402469545,
          0.2979597397360903,
          1.1906332814088394,
          1.1501541102025645,
          -0.2979571434643375,
          0.7179382669095363,
          -0.8346320717706238,
          1.3723612403204208,
          -1.5862425603672,
          -1.899176752314106,
          0.7353372077394054,
          -0.6598542021621814,
          -0.339557181546737,
          -1.4171259531377154,
          -1.8014094698614205,
          -0.16763899618295058,
          -2.8202747028683604,
          2.2789088952890317,
          0.7425915113742065,
          -0.9350502296364102,
          0.07109195056103915,
          0.39849003187683757,
          0.48201874860427785,
          0.528536342311538,
          -0.8231155460076484,
          -0.5407270412105185,
          0.5105079121512099,
          -0.2005494666709388,
          -2.229405339748603,
          -0.8897868073956053,
          -0.015847545787378004,
          0.6477893421800326,
          0.2378032185505356,
          -1.1377323702203133,
          0.9803696608709259,
          -0.5202531721203323,
          -1.4329078151338888,
          0.7711951985853757,
          0.3764949065442717,
          0.7194210906701671,
          0.3824848220070624,
          0.5980286812170121
         ]
        }
       ],
       "layout": {
        "legend": {
         "bgcolor": "#F5F6F9",
         "font": {
          "color": "#4D5663"
         }
        },
        "paper_bgcolor": "#F5F6F9",
        "plot_bgcolor": "#F5F6F9",
        "template": {
         "data": {
          "bar": [
           {
            "error_x": {
             "color": "#2a3f5f"
            },
            "error_y": {
             "color": "#2a3f5f"
            },
            "marker": {
             "line": {
              "color": "#E5ECF6",
              "width": 0.5
             }
            },
            "type": "bar"
           }
          ],
          "barpolar": [
           {
            "marker": {
             "line": {
              "color": "#E5ECF6",
              "width": 0.5
             }
            },
            "type": "barpolar"
           }
          ],
          "carpet": [
           {
            "aaxis": {
             "endlinecolor": "#2a3f5f",
             "gridcolor": "white",
             "linecolor": "white",
             "minorgridcolor": "white",
             "startlinecolor": "#2a3f5f"
            },
            "baxis": {
             "endlinecolor": "#2a3f5f",
             "gridcolor": "white",
             "linecolor": "white",
             "minorgridcolor": "white",
             "startlinecolor": "#2a3f5f"
            },
            "type": "carpet"
           }
          ],
          "choropleth": [
           {
            "colorbar": {
             "outlinewidth": 0,
             "ticks": ""
            },
            "type": "choropleth"
           }
          ],
          "contour": [
           {
            "colorbar": {
             "outlinewidth": 0,
             "ticks": ""
            },
            "colorscale": [
             [
              0,
              "#0d0887"
             ],
             [
              0.1111111111111111,
              "#46039f"
             ],
             [
              0.2222222222222222,
              "#7201a8"
             ],
             [
              0.3333333333333333,
              "#9c179e"
             ],
             [
              0.4444444444444444,
              "#bd3786"
             ],
             [
              0.5555555555555556,
              "#d8576b"
             ],
             [
              0.6666666666666666,
              "#ed7953"
             ],
             [
              0.7777777777777778,
              "#fb9f3a"
             ],
             [
              0.8888888888888888,
              "#fdca26"
             ],
             [
              1,
              "#f0f921"
             ]
            ],
            "type": "contour"
           }
          ],
          "contourcarpet": [
           {
            "colorbar": {
             "outlinewidth": 0,
             "ticks": ""
            },
            "type": "contourcarpet"
           }
          ],
          "heatmap": [
           {
            "colorbar": {
             "outlinewidth": 0,
             "ticks": ""
            },
            "colorscale": [
             [
              0,
              "#0d0887"
             ],
             [
              0.1111111111111111,
              "#46039f"
             ],
             [
              0.2222222222222222,
              "#7201a8"
             ],
             [
              0.3333333333333333,
              "#9c179e"
             ],
             [
              0.4444444444444444,
              "#bd3786"
             ],
             [
              0.5555555555555556,
              "#d8576b"
             ],
             [
              0.6666666666666666,
              "#ed7953"
             ],
             [
              0.7777777777777778,
              "#fb9f3a"
             ],
             [
              0.8888888888888888,
              "#fdca26"
             ],
             [
              1,
              "#f0f921"
             ]
            ],
            "type": "heatmap"
           }
          ],
          "heatmapgl": [
           {
            "colorbar": {
             "outlinewidth": 0,
             "ticks": ""
            },
            "colorscale": [
             [
              0,
              "#0d0887"
             ],
             [
              0.1111111111111111,
              "#46039f"
             ],
             [
              0.2222222222222222,
              "#7201a8"
             ],
             [
              0.3333333333333333,
              "#9c179e"
             ],
             [
              0.4444444444444444,
              "#bd3786"
             ],
             [
              0.5555555555555556,
              "#d8576b"
             ],
             [
              0.6666666666666666,
              "#ed7953"
             ],
             [
              0.7777777777777778,
              "#fb9f3a"
             ],
             [
              0.8888888888888888,
              "#fdca26"
             ],
             [
              1,
              "#f0f921"
             ]
            ],
            "type": "heatmapgl"
           }
          ],
          "histogram": [
           {
            "marker": {
             "colorbar": {
              "outlinewidth": 0,
              "ticks": ""
             }
            },
            "type": "histogram"
           }
          ],
          "histogram2d": [
           {
            "colorbar": {
             "outlinewidth": 0,
             "ticks": ""
            },
            "colorscale": [
             [
              0,
              "#0d0887"
             ],
             [
              0.1111111111111111,
              "#46039f"
             ],
             [
              0.2222222222222222,
              "#7201a8"
             ],
             [
              0.3333333333333333,
              "#9c179e"
             ],
             [
              0.4444444444444444,
              "#bd3786"
             ],
             [
              0.5555555555555556,
              "#d8576b"
             ],
             [
              0.6666666666666666,
              "#ed7953"
             ],
             [
              0.7777777777777778,
              "#fb9f3a"
             ],
             [
              0.8888888888888888,
              "#fdca26"
             ],
             [
              1,
              "#f0f921"
             ]
            ],
            "type": "histogram2d"
           }
          ],
          "histogram2dcontour": [
           {
            "colorbar": {
             "outlinewidth": 0,
             "ticks": ""
            },
            "colorscale": [
             [
              0,
              "#0d0887"
             ],
             [
              0.1111111111111111,
              "#46039f"
             ],
             [
              0.2222222222222222,
              "#7201a8"
             ],
             [
              0.3333333333333333,
              "#9c179e"
             ],
             [
              0.4444444444444444,
              "#bd3786"
             ],
             [
              0.5555555555555556,
              "#d8576b"
             ],
             [
              0.6666666666666666,
              "#ed7953"
             ],
             [
              0.7777777777777778,
              "#fb9f3a"
             ],
             [
              0.8888888888888888,
              "#fdca26"
             ],
             [
              1,
              "#f0f921"
             ]
            ],
            "type": "histogram2dcontour"
           }
          ],
          "mesh3d": [
           {
            "colorbar": {
             "outlinewidth": 0,
             "ticks": ""
            },
            "type": "mesh3d"
           }
          ],
          "parcoords": [
           {
            "line": {
             "colorbar": {
              "outlinewidth": 0,
              "ticks": ""
             }
            },
            "type": "parcoords"
           }
          ],
          "pie": [
           {
            "automargin": true,
            "type": "pie"
           }
          ],
          "scatter": [
           {
            "marker": {
             "colorbar": {
              "outlinewidth": 0,
              "ticks": ""
             }
            },
            "type": "scatter"
           }
          ],
          "scatter3d": [
           {
            "line": {
             "colorbar": {
              "outlinewidth": 0,
              "ticks": ""
             }
            },
            "marker": {
             "colorbar": {
              "outlinewidth": 0,
              "ticks": ""
             }
            },
            "type": "scatter3d"
           }
          ],
          "scattercarpet": [
           {
            "marker": {
             "colorbar": {
              "outlinewidth": 0,
              "ticks": ""
             }
            },
            "type": "scattercarpet"
           }
          ],
          "scattergeo": [
           {
            "marker": {
             "colorbar": {
              "outlinewidth": 0,
              "ticks": ""
             }
            },
            "type": "scattergeo"
           }
          ],
          "scattergl": [
           {
            "marker": {
             "colorbar": {
              "outlinewidth": 0,
              "ticks": ""
             }
            },
            "type": "scattergl"
           }
          ],
          "scattermapbox": [
           {
            "marker": {
             "colorbar": {
              "outlinewidth": 0,
              "ticks": ""
             }
            },
            "type": "scattermapbox"
           }
          ],
          "scatterpolar": [
           {
            "marker": {
             "colorbar": {
              "outlinewidth": 0,
              "ticks": ""
             }
            },
            "type": "scatterpolar"
           }
          ],
          "scatterpolargl": [
           {
            "marker": {
             "colorbar": {
              "outlinewidth": 0,
              "ticks": ""
             }
            },
            "type": "scatterpolargl"
           }
          ],
          "scatterternary": [
           {
            "marker": {
             "colorbar": {
              "outlinewidth": 0,
              "ticks": ""
             }
            },
            "type": "scatterternary"
           }
          ],
          "surface": [
           {
            "colorbar": {
             "outlinewidth": 0,
             "ticks": ""
            },
            "colorscale": [
             [
              0,
              "#0d0887"
             ],
             [
              0.1111111111111111,
              "#46039f"
             ],
             [
              0.2222222222222222,
              "#7201a8"
             ],
             [
              0.3333333333333333,
              "#9c179e"
             ],
             [
              0.4444444444444444,
              "#bd3786"
             ],
             [
              0.5555555555555556,
              "#d8576b"
             ],
             [
              0.6666666666666666,
              "#ed7953"
             ],
             [
              0.7777777777777778,
              "#fb9f3a"
             ],
             [
              0.8888888888888888,
              "#fdca26"
             ],
             [
              1,
              "#f0f921"
             ]
            ],
            "type": "surface"
           }
          ],
          "table": [
           {
            "cells": {
             "fill": {
              "color": "#EBF0F8"
             },
             "line": {
              "color": "white"
             }
            },
            "header": {
             "fill": {
              "color": "#C8D4E3"
             },
             "line": {
              "color": "white"
             }
            },
            "type": "table"
           }
          ]
         },
         "layout": {
          "annotationdefaults": {
           "arrowcolor": "#2a3f5f",
           "arrowhead": 0,
           "arrowwidth": 1
          },
          "coloraxis": {
           "colorbar": {
            "outlinewidth": 0,
            "ticks": ""
           }
          },
          "colorscale": {
           "diverging": [
            [
             0,
             "#8e0152"
            ],
            [
             0.1,
             "#c51b7d"
            ],
            [
             0.2,
             "#de77ae"
            ],
            [
             0.3,
             "#f1b6da"
            ],
            [
             0.4,
             "#fde0ef"
            ],
            [
             0.5,
             "#f7f7f7"
            ],
            [
             0.6,
             "#e6f5d0"
            ],
            [
             0.7,
             "#b8e186"
            ],
            [
             0.8,
             "#7fbc41"
            ],
            [
             0.9,
             "#4d9221"
            ],
            [
             1,
             "#276419"
            ]
           ],
           "sequential": [
            [
             0,
             "#0d0887"
            ],
            [
             0.1111111111111111,
             "#46039f"
            ],
            [
             0.2222222222222222,
             "#7201a8"
            ],
            [
             0.3333333333333333,
             "#9c179e"
            ],
            [
             0.4444444444444444,
             "#bd3786"
            ],
            [
             0.5555555555555556,
             "#d8576b"
            ],
            [
             0.6666666666666666,
             "#ed7953"
            ],
            [
             0.7777777777777778,
             "#fb9f3a"
            ],
            [
             0.8888888888888888,
             "#fdca26"
            ],
            [
             1,
             "#f0f921"
            ]
           ],
           "sequentialminus": [
            [
             0,
             "#0d0887"
            ],
            [
             0.1111111111111111,
             "#46039f"
            ],
            [
             0.2222222222222222,
             "#7201a8"
            ],
            [
             0.3333333333333333,
             "#9c179e"
            ],
            [
             0.4444444444444444,
             "#bd3786"
            ],
            [
             0.5555555555555556,
             "#d8576b"
            ],
            [
             0.6666666666666666,
             "#ed7953"
            ],
            [
             0.7777777777777778,
             "#fb9f3a"
            ],
            [
             0.8888888888888888,
             "#fdca26"
            ],
            [
             1,
             "#f0f921"
            ]
           ]
          },
          "colorway": [
           "#636efa",
           "#EF553B",
           "#00cc96",
           "#ab63fa",
           "#FFA15A",
           "#19d3f3",
           "#FF6692",
           "#B6E880",
           "#FF97FF",
           "#FECB52"
          ],
          "font": {
           "color": "#2a3f5f"
          },
          "geo": {
           "bgcolor": "white",
           "lakecolor": "white",
           "landcolor": "#E5ECF6",
           "showlakes": true,
           "showland": true,
           "subunitcolor": "white"
          },
          "hoverlabel": {
           "align": "left"
          },
          "hovermode": "closest",
          "mapbox": {
           "style": "light"
          },
          "paper_bgcolor": "white",
          "plot_bgcolor": "#E5ECF6",
          "polar": {
           "angularaxis": {
            "gridcolor": "white",
            "linecolor": "white",
            "ticks": ""
           },
           "bgcolor": "#E5ECF6",
           "radialaxis": {
            "gridcolor": "white",
            "linecolor": "white",
            "ticks": ""
           }
          },
          "scene": {
           "xaxis": {
            "backgroundcolor": "#E5ECF6",
            "gridcolor": "white",
            "gridwidth": 2,
            "linecolor": "white",
            "showbackground": true,
            "ticks": "",
            "zerolinecolor": "white"
           },
           "yaxis": {
            "backgroundcolor": "#E5ECF6",
            "gridcolor": "white",
            "gridwidth": 2,
            "linecolor": "white",
            "showbackground": true,
            "ticks": "",
            "zerolinecolor": "white"
           },
           "zaxis": {
            "backgroundcolor": "#E5ECF6",
            "gridcolor": "white",
            "gridwidth": 2,
            "linecolor": "white",
            "showbackground": true,
            "ticks": "",
            "zerolinecolor": "white"
           }
          },
          "shapedefaults": {
           "line": {
            "color": "#2a3f5f"
           }
          },
          "ternary": {
           "aaxis": {
            "gridcolor": "white",
            "linecolor": "white",
            "ticks": ""
           },
           "baxis": {
            "gridcolor": "white",
            "linecolor": "white",
            "ticks": ""
           },
           "bgcolor": "#E5ECF6",
           "caxis": {
            "gridcolor": "white",
            "linecolor": "white",
            "ticks": ""
           }
          },
          "title": {
           "x": 0.05
          },
          "xaxis": {
           "automargin": true,
           "gridcolor": "white",
           "linecolor": "white",
           "ticks": "",
           "title": {
            "standoff": 15
           },
           "zerolinecolor": "white",
           "zerolinewidth": 2
          },
          "yaxis": {
           "automargin": true,
           "gridcolor": "white",
           "linecolor": "white",
           "ticks": "",
           "title": {
            "standoff": 15
           },
           "zerolinecolor": "white",
           "zerolinewidth": 2
          }
         }
        },
        "title": {
         "font": {
          "color": "#4D5663"
         }
        },
        "xaxis": {
         "gridcolor": "#E1E5ED",
         "showgrid": true,
         "tickfont": {
          "color": "#4D5663"
         },
         "title": {
          "font": {
           "color": "#4D5663"
          },
          "text": ""
         },
         "zerolinecolor": "#E1E5ED"
        },
        "yaxis": {
         "gridcolor": "#E1E5ED",
         "showgrid": true,
         "tickfont": {
          "color": "#4D5663"
         },
         "title": {
          "font": {
           "color": "#4D5663"
          },
          "text": ""
         },
         "zerolinecolor": "#E1E5ED"
        }
       }
      },
      "text/html": [
       "<div>\n",
       "        \n",
       "        \n",
       "            <div id=\"5f3e04e4-ebbb-4924-a47c-a7cf56e54152\" class=\"plotly-graph-div\" style=\"height:525px; width:100%;\"></div>\n",
       "            <script type=\"text/javascript\">\n",
       "                require([\"plotly\"], function(Plotly) {\n",
       "                    window.PLOTLYENV=window.PLOTLYENV || {};\n",
       "                    window.PLOTLYENV.BASE_URL='https://plot.ly';\n",
       "                    \n",
       "                if (document.getElementById(\"5f3e04e4-ebbb-4924-a47c-a7cf56e54152\")) {\n",
       "                    Plotly.newPlot(\n",
       "                        '5f3e04e4-ebbb-4924-a47c-a7cf56e54152',\n",
       "                        [{\"boxpoints\": false, \"line\": {\"width\": 1.3}, \"marker\": {\"color\": \"rgba(255, 153, 51, 1.0)\"}, \"name\": \"A\", \"orientation\": \"v\", \"type\": \"box\", \"y\": [0.4680357176729802, -0.18089695435687647, 0.003483194029145718, -0.8503226748006865, 0.8146106228274449, 0.15146587172216824, 0.12723478221447262, 0.3351004387413441, 0.9414103775281865, -0.8857734378332426, -0.5701687051204497, -0.8893540639512774, 0.14019123212902615, -0.966403721687782, 0.33538370842415655, 0.6702165022341717, -0.015213378402976164, -1.6090697702945362, 0.7768280979717406, -0.020888206099068173, -1.3080179624540567, 0.007249009389868164, 0.2945209102593891, -0.9992695366250636, -0.6447006902415953, -1.0905563070634021, 0.028797804449134032, -0.8843550330471293, 1.0386401862451842, -0.6372696659703778, -0.07546361030812403, -0.6885808917640587, 0.6960913089883859, 0.7967344770276393, -0.31311403394368115, 0.44535646682353447, 1.2184826503543367, 0.4897504444752817, 1.0975181333688733, -1.2899287196667168, 0.7672041598633657, -1.2666068328758595, 1.0388834302251584, -2.7642984677037763, 0.7743643434944764, 0.5383447940237172, 0.47174339868068116, -0.9813512577834447, -1.9094619873718108, 0.09403883020114603, -0.16567173008209463, 0.3497701577167347, 0.7786062683999717, -0.9749299704877334, 1.895335438858008, -0.4681186971331524, 1.6906002800833542, -0.3863554355065704, -2.0996821386621938, 0.13576410988414953, 0.49662193548416167, 0.6652139195938592, 1.318582804966973, -0.03610763629279586, -0.4325131784953337, -0.6569998826577392, 0.7840142952369771, 1.3376479675287218, -0.24358433096939566, 0.7227382172365205, -0.8355487413044241, 0.7365537375544133, -0.5896650123534253, 0.6979532707491521, 0.4168212480194256, -1.156999280240315, 0.49573377418729586, -0.8131742308332868, -0.023724459695214212, -0.6662885802270111, -0.5650900186908255, -0.14085214787252726, 0.5047821408545787, -1.5536765581644607, -0.12215501843578472, -0.47462127467704807, -0.739431884829175, -0.28716816395346373, 1.7938082735840795, -1.721425966026441, 0.6277844324474082, -0.13192234352890128, 0.5491320236601649, -0.5930336917559829, 0.13740697896731097, 1.1271661097434316, -0.5372438603757769, -0.7756176374275516, 1.9872765631996863, 1.1777260909975629]}, {\"boxpoints\": false, \"line\": {\"width\": 1.3}, \"marker\": {\"color\": \"rgba(55, 128, 191, 1.0)\"}, \"name\": \"B\", \"orientation\": \"v\", \"type\": \"box\", \"y\": [-0.7434989651960935, -0.4607615024270917, 1.8780782846811968, 0.04828809145899935, -0.0029359171677269995, -0.08753811400269597, -0.3979045501815003, -1.3587319206144035, 1.3058393881672048, -2.3358469828562334, 1.7778387243432399, -0.8702029541219694, 0.9935992049714233, 1.4798461388258817, 1.1275258510799964, 1.477737769433274, 0.36461748526784393, 0.1831140969875315, 0.17955620423002, 2.12826660679801, -1.1186449675805272, 1.1949120889777742, 0.6551153688968544, 0.7735108164924516, -0.7619829421982433, 0.3818031659229591, -0.13223350833946632, -1.0411027537542916, 0.7270464129765776, -0.46302451921768606, 0.5627073813462292, 0.08627527498922588, 0.20036806041275756, 0.01589035106560516, -1.5745988477361705, -0.5007655647549084, -1.874963053783075, -1.1902805653365587, -0.6179762986534144, 0.3369724337050894, -0.09505535904528267, -0.5306506763564895, -0.030613138796697234, 0.6341060188575188, 0.23753214374573461, 0.5756485863333742, -0.32928971144601865, 0.07337782328325868, -0.3357057393863871, 0.5900992992421492, -0.40898656611231804, -0.47322322257176525, 0.2934714022237347, -0.3757543883540172, -0.1585512845422061, -0.25357244880222723, -1.5140291466870681, -0.7753885030539748, 0.797052517782712, -0.3686557886848596, 0.2855546620487415, 1.6705044922929793, -0.43515134559370927, 1.6595080594016447, -0.7252495287174796, -0.8330399931977461, -0.679219802873046, 0.9390544951462232, 0.09387454731372896, -0.3566775006611743, -2.1088990387458413, 1.4528512643473823, -1.0261340964628949, 0.23497758020160772, -0.4534270194828116, 0.11397050565362599, 0.2381586255109007, 0.9988085406776966, 0.025876815884210955, -1.2177486952525969, 0.3174027772821797, 0.5425099678014165, -1.1060029879681268, -1.9040147003254828, -0.09788757039869198, 0.5027980532650275, 0.5946564386503808, 0.9040607377477198, -0.4997921123188726, 1.0758831897921548, 0.9939541985768044, 1.4467641393910968, 1.6622260071966777, -0.22074290486403597, 0.0831484383304875, -1.0252544617631951, 0.5697014336041655, -0.6944539659705443, 0.2582200223961893, 0.7920863962548249]}, {\"boxpoints\": false, \"line\": {\"width\": 1.3}, \"marker\": {\"color\": \"rgba(50, 171, 96, 1.0)\"}, \"name\": \"C\", \"orientation\": \"v\", \"type\": \"box\", \"y\": [0.8389764892564305, 1.013717717231092, -0.7297365537101015, 0.6049139704487708, 0.7723854906554027, 0.21623666019717452, 0.24654014892872012, 0.7051543353596379, 1.2091124520868546, -0.3219114610225776, -0.05848271170796087, 0.3509714073961184, -1.1369574557963296, -1.5886052586822192, 0.46897817236341155, 1.600651483559872, 1.0868744225621012, -0.8225697383868341, -0.5462549515435099, -1.0971324409605696, -0.42126901991509974, -0.40335240915835735, -0.06546332364885253, -0.7220096955108127, -0.24173070493788043, -0.7598326671349462, 0.6241453849807918, 0.5886794668426667, -0.8140869463568312, 0.628972719389455, -0.24496151325077703, 1.9084749507787575, 0.5419417425942232, 0.036735335651900826, -0.4792159487349968, -0.42916830260793176, -2.0635569387151755, -0.8682465428527645, 1.0610949817311277, -1.840326548329223, 0.1770727015256135, -0.5972928849101156, 0.43234865840395753, 0.36879339666131905, -0.31535918919124845, 0.013286350305847863, 0.839248722171213, -0.5391920294908384, 0.9028477890920293, -0.1449266056100494, -0.5550747969708228, 1.145173812738686, -3.9108580222565643, 0.20059159084486752, 0.8044663141218427, 0.007719524278421231, -0.07497195612134629, -0.7483748180488207, -0.8848562233879459, 0.7831684418093795, -0.8408722819203603, -0.6584752704475881, 1.7632864008624585, 0.4136157562434442, 0.48584697095725743, 0.048980905406493386, 0.5879297579600218, -0.8481797780613902, -1.5696593179903302, -0.48235985761291955, -1.0057629092408216, 0.5448252629602326, -0.10385777821915122, 0.0034653602824622517, -0.7496905771230047, 0.909499498712557, 0.239924583265994, -1.6905948071653993, -0.3947023642386599, 0.07330818187210192, -1.1687449252991113, -0.6927274731045221, -2.716605353800127, 0.3213373310834251, 0.13190931480579546, 0.2755906045892328, -0.29173706907620944, -0.9130408164605344, -0.5978702046605517, 1.5325682955088105, 0.6030579947183526, -0.8182400542754837, -1.8411234610375216, 1.8687986807306012, 0.8290383550466602, -0.7397713800851328, 0.6972307899398041, 0.7355949199704094, 1.8908724727703967, 1.2874885440614134]}, {\"boxpoints\": false, \"line\": {\"width\": 1.3}, \"marker\": {\"color\": \"rgba(128, 0, 128, 1.0)\"}, \"name\": \"D\", \"orientation\": \"v\", \"type\": \"box\", \"y\": [-0.25191764743566786, 0.4198145384895684, -1.3140941508038348, 1.2318426219836836, -0.14897890875791223, -1.143166795336094, -1.0314134856330894, -1.1040878101495826, -0.0955712889122703, 0.28520146090536724, 0.6399015028076319, -0.8324485066954828, -0.07496044929395959, -0.7650854165785472, -1.2485280903188103, 2.1795825771112973, -0.5620311364223277, -0.5585410294220939, -0.4537843776591725, 1.233793314943582, 0.3512069789710706, 1.464975027321418, 1.4746019752966584, -0.7371334777665244, -0.3636836678402213, -1.1003904903879351, -0.26791186145062823, 1.0460755059400357, -0.7575438785027289, 1.3470249818909699, 0.07133753671463729, -0.01749365744707516, 0.48036583265597094, 1.1713636735859168, -0.5157245415583571, 0.5016520145241842, 0.3394304372496551, 0.46647053193264854, -1.0188106058466928, 1.4949434120261416, 0.24926084734681345, -1.0489198293392754, -0.5869623591243232, -0.4092280759240029, 0.5413342628376578, -1.5545202367727056, -0.8463730481017815, 2.335589047731229, 1.4719803000032543, 1.114770745220192, 0.0046618591717043694, 0.23209447481814305, 0.7197939214034708, -0.02268004328530468, -0.7705475169250952, -0.4059608801378683, -0.5030635358492516, -0.8643685639929041, 1.0023979402469545, 0.2979597397360903, 1.1906332814088394, 1.1501541102025645, -0.2979571434643375, 0.7179382669095363, -0.8346320717706238, 1.3723612403204208, -1.5862425603672, -1.899176752314106, 0.7353372077394054, -0.6598542021621814, -0.339557181546737, -1.4171259531377154, -1.8014094698614205, -0.16763899618295058, -2.8202747028683604, 2.2789088952890317, 0.7425915113742065, -0.9350502296364102, 0.07109195056103915, 0.39849003187683757, 0.48201874860427785, 0.528536342311538, -0.8231155460076484, -0.5407270412105185, 0.5105079121512099, -0.2005494666709388, -2.229405339748603, -0.8897868073956053, -0.015847545787378004, 0.6477893421800326, 0.2378032185505356, -1.1377323702203133, 0.9803696608709259, -0.5202531721203323, -1.4329078151338888, 0.7711951985853757, 0.3764949065442717, 0.7194210906701671, 0.3824848220070624, 0.5980286812170121]}],\n",
       "                        {\"legend\": {\"bgcolor\": \"#F5F6F9\", \"font\": {\"color\": \"#4D5663\"}}, \"paper_bgcolor\": \"#F5F6F9\", \"plot_bgcolor\": \"#F5F6F9\", \"template\": {\"data\": {\"bar\": [{\"error_x\": {\"color\": \"#2a3f5f\"}, \"error_y\": {\"color\": \"#2a3f5f\"}, \"marker\": {\"line\": {\"color\": \"#E5ECF6\", \"width\": 0.5}}, \"type\": \"bar\"}], \"barpolar\": [{\"marker\": {\"line\": {\"color\": \"#E5ECF6\", \"width\": 0.5}}, \"type\": \"barpolar\"}], \"carpet\": [{\"aaxis\": {\"endlinecolor\": \"#2a3f5f\", \"gridcolor\": \"white\", \"linecolor\": \"white\", \"minorgridcolor\": \"white\", \"startlinecolor\": \"#2a3f5f\"}, \"baxis\": {\"endlinecolor\": \"#2a3f5f\", \"gridcolor\": \"white\", \"linecolor\": \"white\", \"minorgridcolor\": \"white\", \"startlinecolor\": \"#2a3f5f\"}, \"type\": \"carpet\"}], \"choropleth\": [{\"colorbar\": {\"outlinewidth\": 0, \"ticks\": \"\"}, \"type\": \"choropleth\"}], \"contour\": [{\"colorbar\": {\"outlinewidth\": 0, \"ticks\": \"\"}, \"colorscale\": [[0.0, \"#0d0887\"], [0.1111111111111111, \"#46039f\"], [0.2222222222222222, \"#7201a8\"], [0.3333333333333333, \"#9c179e\"], [0.4444444444444444, \"#bd3786\"], [0.5555555555555556, \"#d8576b\"], [0.6666666666666666, \"#ed7953\"], [0.7777777777777778, \"#fb9f3a\"], [0.8888888888888888, \"#fdca26\"], [1.0, \"#f0f921\"]], \"type\": \"contour\"}], \"contourcarpet\": [{\"colorbar\": {\"outlinewidth\": 0, \"ticks\": \"\"}, \"type\": \"contourcarpet\"}], \"heatmap\": [{\"colorbar\": {\"outlinewidth\": 0, \"ticks\": \"\"}, \"colorscale\": [[0.0, \"#0d0887\"], [0.1111111111111111, \"#46039f\"], [0.2222222222222222, \"#7201a8\"], [0.3333333333333333, \"#9c179e\"], [0.4444444444444444, \"#bd3786\"], [0.5555555555555556, \"#d8576b\"], [0.6666666666666666, \"#ed7953\"], [0.7777777777777778, \"#fb9f3a\"], [0.8888888888888888, \"#fdca26\"], [1.0, \"#f0f921\"]], \"type\": \"heatmap\"}], \"heatmapgl\": [{\"colorbar\": {\"outlinewidth\": 0, \"ticks\": \"\"}, \"colorscale\": [[0.0, \"#0d0887\"], [0.1111111111111111, \"#46039f\"], [0.2222222222222222, \"#7201a8\"], [0.3333333333333333, \"#9c179e\"], [0.4444444444444444, \"#bd3786\"], [0.5555555555555556, \"#d8576b\"], [0.6666666666666666, \"#ed7953\"], [0.7777777777777778, \"#fb9f3a\"], [0.8888888888888888, \"#fdca26\"], [1.0, \"#f0f921\"]], \"type\": \"heatmapgl\"}], \"histogram\": [{\"marker\": {\"colorbar\": {\"outlinewidth\": 0, \"ticks\": \"\"}}, \"type\": \"histogram\"}], \"histogram2d\": [{\"colorbar\": {\"outlinewidth\": 0, \"ticks\": \"\"}, \"colorscale\": [[0.0, \"#0d0887\"], [0.1111111111111111, \"#46039f\"], [0.2222222222222222, \"#7201a8\"], [0.3333333333333333, \"#9c179e\"], [0.4444444444444444, \"#bd3786\"], [0.5555555555555556, \"#d8576b\"], [0.6666666666666666, \"#ed7953\"], [0.7777777777777778, \"#fb9f3a\"], [0.8888888888888888, \"#fdca26\"], [1.0, \"#f0f921\"]], \"type\": \"histogram2d\"}], \"histogram2dcontour\": [{\"colorbar\": {\"outlinewidth\": 0, \"ticks\": \"\"}, \"colorscale\": [[0.0, \"#0d0887\"], [0.1111111111111111, \"#46039f\"], [0.2222222222222222, \"#7201a8\"], [0.3333333333333333, \"#9c179e\"], [0.4444444444444444, \"#bd3786\"], [0.5555555555555556, \"#d8576b\"], [0.6666666666666666, \"#ed7953\"], [0.7777777777777778, \"#fb9f3a\"], [0.8888888888888888, \"#fdca26\"], [1.0, \"#f0f921\"]], \"type\": \"histogram2dcontour\"}], \"mesh3d\": [{\"colorbar\": {\"outlinewidth\": 0, \"ticks\": \"\"}, \"type\": \"mesh3d\"}], \"parcoords\": [{\"line\": {\"colorbar\": {\"outlinewidth\": 0, \"ticks\": \"\"}}, \"type\": \"parcoords\"}], \"pie\": [{\"automargin\": true, \"type\": \"pie\"}], \"scatter\": [{\"marker\": {\"colorbar\": {\"outlinewidth\": 0, \"ticks\": \"\"}}, \"type\": \"scatter\"}], \"scatter3d\": [{\"line\": {\"colorbar\": {\"outlinewidth\": 0, \"ticks\": \"\"}}, \"marker\": {\"colorbar\": {\"outlinewidth\": 0, \"ticks\": \"\"}}, \"type\": \"scatter3d\"}], \"scattercarpet\": [{\"marker\": {\"colorbar\": {\"outlinewidth\": 0, \"ticks\": \"\"}}, \"type\": \"scattercarpet\"}], \"scattergeo\": [{\"marker\": {\"colorbar\": {\"outlinewidth\": 0, \"ticks\": \"\"}}, \"type\": \"scattergeo\"}], \"scattergl\": [{\"marker\": {\"colorbar\": {\"outlinewidth\": 0, \"ticks\": \"\"}}, \"type\": \"scattergl\"}], \"scattermapbox\": [{\"marker\": {\"colorbar\": {\"outlinewidth\": 0, \"ticks\": \"\"}}, \"type\": \"scattermapbox\"}], \"scatterpolar\": [{\"marker\": {\"colorbar\": {\"outlinewidth\": 0, \"ticks\": \"\"}}, \"type\": \"scatterpolar\"}], \"scatterpolargl\": [{\"marker\": {\"colorbar\": {\"outlinewidth\": 0, \"ticks\": \"\"}}, \"type\": \"scatterpolargl\"}], \"scatterternary\": [{\"marker\": {\"colorbar\": {\"outlinewidth\": 0, \"ticks\": \"\"}}, \"type\": \"scatterternary\"}], \"surface\": [{\"colorbar\": {\"outlinewidth\": 0, \"ticks\": \"\"}, \"colorscale\": [[0.0, \"#0d0887\"], [0.1111111111111111, \"#46039f\"], [0.2222222222222222, \"#7201a8\"], [0.3333333333333333, \"#9c179e\"], [0.4444444444444444, \"#bd3786\"], [0.5555555555555556, \"#d8576b\"], [0.6666666666666666, \"#ed7953\"], [0.7777777777777778, \"#fb9f3a\"], [0.8888888888888888, \"#fdca26\"], [1.0, \"#f0f921\"]], \"type\": \"surface\"}], \"table\": [{\"cells\": {\"fill\": {\"color\": \"#EBF0F8\"}, \"line\": {\"color\": \"white\"}}, \"header\": {\"fill\": {\"color\": \"#C8D4E3\"}, \"line\": {\"color\": \"white\"}}, \"type\": \"table\"}]}, \"layout\": {\"annotationdefaults\": {\"arrowcolor\": \"#2a3f5f\", \"arrowhead\": 0, \"arrowwidth\": 1}, \"coloraxis\": {\"colorbar\": {\"outlinewidth\": 0, \"ticks\": \"\"}}, \"colorscale\": {\"diverging\": [[0, \"#8e0152\"], [0.1, \"#c51b7d\"], [0.2, \"#de77ae\"], [0.3, \"#f1b6da\"], [0.4, \"#fde0ef\"], [0.5, \"#f7f7f7\"], [0.6, \"#e6f5d0\"], [0.7, \"#b8e186\"], [0.8, \"#7fbc41\"], [0.9, \"#4d9221\"], [1, \"#276419\"]], \"sequential\": [[0.0, \"#0d0887\"], [0.1111111111111111, \"#46039f\"], [0.2222222222222222, \"#7201a8\"], [0.3333333333333333, \"#9c179e\"], [0.4444444444444444, \"#bd3786\"], [0.5555555555555556, \"#d8576b\"], [0.6666666666666666, \"#ed7953\"], [0.7777777777777778, \"#fb9f3a\"], [0.8888888888888888, \"#fdca26\"], [1.0, \"#f0f921\"]], \"sequentialminus\": [[0.0, \"#0d0887\"], [0.1111111111111111, \"#46039f\"], [0.2222222222222222, \"#7201a8\"], [0.3333333333333333, \"#9c179e\"], [0.4444444444444444, \"#bd3786\"], [0.5555555555555556, \"#d8576b\"], [0.6666666666666666, \"#ed7953\"], [0.7777777777777778, \"#fb9f3a\"], [0.8888888888888888, \"#fdca26\"], [1.0, \"#f0f921\"]]}, \"colorway\": [\"#636efa\", \"#EF553B\", \"#00cc96\", \"#ab63fa\", \"#FFA15A\", \"#19d3f3\", \"#FF6692\", \"#B6E880\", \"#FF97FF\", \"#FECB52\"], \"font\": {\"color\": \"#2a3f5f\"}, \"geo\": {\"bgcolor\": \"white\", \"lakecolor\": \"white\", \"landcolor\": \"#E5ECF6\", \"showlakes\": true, \"showland\": true, \"subunitcolor\": \"white\"}, \"hoverlabel\": {\"align\": \"left\"}, \"hovermode\": \"closest\", \"mapbox\": {\"style\": \"light\"}, \"paper_bgcolor\": \"white\", \"plot_bgcolor\": \"#E5ECF6\", \"polar\": {\"angularaxis\": {\"gridcolor\": \"white\", \"linecolor\": \"white\", \"ticks\": \"\"}, \"bgcolor\": \"#E5ECF6\", \"radialaxis\": {\"gridcolor\": \"white\", \"linecolor\": \"white\", \"ticks\": \"\"}}, \"scene\": {\"xaxis\": {\"backgroundcolor\": \"#E5ECF6\", \"gridcolor\": \"white\", \"gridwidth\": 2, \"linecolor\": \"white\", \"showbackground\": true, \"ticks\": \"\", \"zerolinecolor\": \"white\"}, \"yaxis\": {\"backgroundcolor\": \"#E5ECF6\", \"gridcolor\": \"white\", \"gridwidth\": 2, \"linecolor\": \"white\", \"showbackground\": true, \"ticks\": \"\", \"zerolinecolor\": \"white\"}, \"zaxis\": {\"backgroundcolor\": \"#E5ECF6\", \"gridcolor\": \"white\", \"gridwidth\": 2, \"linecolor\": \"white\", \"showbackground\": true, \"ticks\": \"\", \"zerolinecolor\": \"white\"}}, \"shapedefaults\": {\"line\": {\"color\": \"#2a3f5f\"}}, \"ternary\": {\"aaxis\": {\"gridcolor\": \"white\", \"linecolor\": \"white\", \"ticks\": \"\"}, \"baxis\": {\"gridcolor\": \"white\", \"linecolor\": \"white\", \"ticks\": \"\"}, \"bgcolor\": \"#E5ECF6\", \"caxis\": {\"gridcolor\": \"white\", \"linecolor\": \"white\", \"ticks\": \"\"}}, \"title\": {\"x\": 0.05}, \"xaxis\": {\"automargin\": true, \"gridcolor\": \"white\", \"linecolor\": \"white\", \"ticks\": \"\", \"title\": {\"standoff\": 15}, \"zerolinecolor\": \"white\", \"zerolinewidth\": 2}, \"yaxis\": {\"automargin\": true, \"gridcolor\": \"white\", \"linecolor\": \"white\", \"ticks\": \"\", \"title\": {\"standoff\": 15}, \"zerolinecolor\": \"white\", \"zerolinewidth\": 2}}}, \"title\": {\"font\": {\"color\": \"#4D5663\"}}, \"xaxis\": {\"gridcolor\": \"#E1E5ED\", \"showgrid\": true, \"tickfont\": {\"color\": \"#4D5663\"}, \"title\": {\"font\": {\"color\": \"#4D5663\"}, \"text\": \"\"}, \"zerolinecolor\": \"#E1E5ED\"}, \"yaxis\": {\"gridcolor\": \"#E1E5ED\", \"showgrid\": true, \"tickfont\": {\"color\": \"#4D5663\"}, \"title\": {\"font\": {\"color\": \"#4D5663\"}, \"text\": \"\"}, \"zerolinecolor\": \"#E1E5ED\"}},\n",
       "                        {\"showLink\": true, \"linkText\": \"Export to plot.ly\", \"plotlyServerURL\": \"https://plot.ly\", \"responsive\": true}\n",
       "                    ).then(function(){\n",
       "                            \n",
       "var gd = document.getElementById('5f3e04e4-ebbb-4924-a47c-a7cf56e54152');\n",
       "var x = new MutationObserver(function (mutations, observer) {{\n",
       "        var display = window.getComputedStyle(gd).display;\n",
       "        if (!display || display === 'none') {{\n",
       "            console.log([gd, 'removed!']);\n",
       "            Plotly.purge(gd);\n",
       "            observer.disconnect();\n",
       "        }}\n",
       "}});\n",
       "\n",
       "// Listen for the removal of the full notebook cells\n",
       "var notebookContainer = gd.closest('#notebook-container');\n",
       "if (notebookContainer) {{\n",
       "    x.observe(notebookContainer, {childList: true});\n",
       "}}\n",
       "\n",
       "// Listen for the clearing of the current output cell\n",
       "var outputEl = gd.closest('.output');\n",
       "if (outputEl) {{\n",
       "    x.observe(outputEl, {childList: true});\n",
       "}}\n",
       "\n",
       "                        })\n",
       "                };\n",
       "                });\n",
       "            </script>\n",
       "        </div>"
      ]
     },
     "metadata": {},
     "output_type": "display_data"
    }
   ],
   "source": [
    "df.iplot(kind='box')"
   ]
  },
  {
   "cell_type": "markdown",
   "metadata": {},
   "source": [
    "## 3d Surface"
   ]
  },
  {
   "cell_type": "code",
   "execution_count": 27,
   "metadata": {
    "jupyter": {
     "outputs_hidden": false
    }
   },
   "outputs": [
    {
     "data": {
      "application/vnd.plotly.v1+json": {
       "config": {
        "linkText": "Export to plot.ly",
        "plotlyServerURL": "https://plot.ly",
        "showLink": true
       },
       "data": [
        {
         "colorscale": [
          [
           0,
           "rgb(165,0,38)"
          ],
          [
           0.1,
           "rgb(215,48,39)"
          ],
          [
           0.2,
           "rgb(244,109,67)"
          ],
          [
           0.3,
           "rgb(253,174,97)"
          ],
          [
           0.4,
           "rgb(254,224,144)"
          ],
          [
           0.5,
           "rgb(255,255,191)"
          ],
          [
           0.6,
           "rgb(224,243,248)"
          ],
          [
           0.7,
           "rgb(171,217,233)"
          ],
          [
           0.8,
           "rgb(116,173,209)"
          ],
          [
           0.9,
           "rgb(69,117,180)"
          ],
          [
           1,
           "rgb(49,54,149)"
          ]
         ],
         "type": "surface",
         "x": [
          0,
          1,
          2,
          3,
          4
         ],
         "y": [
          "x",
          "y",
          "z"
         ],
         "z": [
          [
           1,
           2,
           3,
           4,
           5
          ],
          [
           10,
           20,
           30,
           20,
           10
          ],
          [
           5,
           4,
           3,
           2,
           1
          ]
         ]
        }
       ],
       "layout": {
        "legend": {
         "bgcolor": "#F5F6F9",
         "font": {
          "color": "#4D5663"
         }
        },
        "paper_bgcolor": "#F5F6F9",
        "plot_bgcolor": "#F5F6F9",
        "template": {
         "data": {
          "bar": [
           {
            "error_x": {
             "color": "#2a3f5f"
            },
            "error_y": {
             "color": "#2a3f5f"
            },
            "marker": {
             "line": {
              "color": "#E5ECF6",
              "width": 0.5
             }
            },
            "type": "bar"
           }
          ],
          "barpolar": [
           {
            "marker": {
             "line": {
              "color": "#E5ECF6",
              "width": 0.5
             }
            },
            "type": "barpolar"
           }
          ],
          "carpet": [
           {
            "aaxis": {
             "endlinecolor": "#2a3f5f",
             "gridcolor": "white",
             "linecolor": "white",
             "minorgridcolor": "white",
             "startlinecolor": "#2a3f5f"
            },
            "baxis": {
             "endlinecolor": "#2a3f5f",
             "gridcolor": "white",
             "linecolor": "white",
             "minorgridcolor": "white",
             "startlinecolor": "#2a3f5f"
            },
            "type": "carpet"
           }
          ],
          "choropleth": [
           {
            "colorbar": {
             "outlinewidth": 0,
             "ticks": ""
            },
            "type": "choropleth"
           }
          ],
          "contour": [
           {
            "colorbar": {
             "outlinewidth": 0,
             "ticks": ""
            },
            "colorscale": [
             [
              0,
              "#0d0887"
             ],
             [
              0.1111111111111111,
              "#46039f"
             ],
             [
              0.2222222222222222,
              "#7201a8"
             ],
             [
              0.3333333333333333,
              "#9c179e"
             ],
             [
              0.4444444444444444,
              "#bd3786"
             ],
             [
              0.5555555555555556,
              "#d8576b"
             ],
             [
              0.6666666666666666,
              "#ed7953"
             ],
             [
              0.7777777777777778,
              "#fb9f3a"
             ],
             [
              0.8888888888888888,
              "#fdca26"
             ],
             [
              1,
              "#f0f921"
             ]
            ],
            "type": "contour"
           }
          ],
          "contourcarpet": [
           {
            "colorbar": {
             "outlinewidth": 0,
             "ticks": ""
            },
            "type": "contourcarpet"
           }
          ],
          "heatmap": [
           {
            "colorbar": {
             "outlinewidth": 0,
             "ticks": ""
            },
            "colorscale": [
             [
              0,
              "#0d0887"
             ],
             [
              0.1111111111111111,
              "#46039f"
             ],
             [
              0.2222222222222222,
              "#7201a8"
             ],
             [
              0.3333333333333333,
              "#9c179e"
             ],
             [
              0.4444444444444444,
              "#bd3786"
             ],
             [
              0.5555555555555556,
              "#d8576b"
             ],
             [
              0.6666666666666666,
              "#ed7953"
             ],
             [
              0.7777777777777778,
              "#fb9f3a"
             ],
             [
              0.8888888888888888,
              "#fdca26"
             ],
             [
              1,
              "#f0f921"
             ]
            ],
            "type": "heatmap"
           }
          ],
          "heatmapgl": [
           {
            "colorbar": {
             "outlinewidth": 0,
             "ticks": ""
            },
            "colorscale": [
             [
              0,
              "#0d0887"
             ],
             [
              0.1111111111111111,
              "#46039f"
             ],
             [
              0.2222222222222222,
              "#7201a8"
             ],
             [
              0.3333333333333333,
              "#9c179e"
             ],
             [
              0.4444444444444444,
              "#bd3786"
             ],
             [
              0.5555555555555556,
              "#d8576b"
             ],
             [
              0.6666666666666666,
              "#ed7953"
             ],
             [
              0.7777777777777778,
              "#fb9f3a"
             ],
             [
              0.8888888888888888,
              "#fdca26"
             ],
             [
              1,
              "#f0f921"
             ]
            ],
            "type": "heatmapgl"
           }
          ],
          "histogram": [
           {
            "marker": {
             "colorbar": {
              "outlinewidth": 0,
              "ticks": ""
             }
            },
            "type": "histogram"
           }
          ],
          "histogram2d": [
           {
            "colorbar": {
             "outlinewidth": 0,
             "ticks": ""
            },
            "colorscale": [
             [
              0,
              "#0d0887"
             ],
             [
              0.1111111111111111,
              "#46039f"
             ],
             [
              0.2222222222222222,
              "#7201a8"
             ],
             [
              0.3333333333333333,
              "#9c179e"
             ],
             [
              0.4444444444444444,
              "#bd3786"
             ],
             [
              0.5555555555555556,
              "#d8576b"
             ],
             [
              0.6666666666666666,
              "#ed7953"
             ],
             [
              0.7777777777777778,
              "#fb9f3a"
             ],
             [
              0.8888888888888888,
              "#fdca26"
             ],
             [
              1,
              "#f0f921"
             ]
            ],
            "type": "histogram2d"
           }
          ],
          "histogram2dcontour": [
           {
            "colorbar": {
             "outlinewidth": 0,
             "ticks": ""
            },
            "colorscale": [
             [
              0,
              "#0d0887"
             ],
             [
              0.1111111111111111,
              "#46039f"
             ],
             [
              0.2222222222222222,
              "#7201a8"
             ],
             [
              0.3333333333333333,
              "#9c179e"
             ],
             [
              0.4444444444444444,
              "#bd3786"
             ],
             [
              0.5555555555555556,
              "#d8576b"
             ],
             [
              0.6666666666666666,
              "#ed7953"
             ],
             [
              0.7777777777777778,
              "#fb9f3a"
             ],
             [
              0.8888888888888888,
              "#fdca26"
             ],
             [
              1,
              "#f0f921"
             ]
            ],
            "type": "histogram2dcontour"
           }
          ],
          "mesh3d": [
           {
            "colorbar": {
             "outlinewidth": 0,
             "ticks": ""
            },
            "type": "mesh3d"
           }
          ],
          "parcoords": [
           {
            "line": {
             "colorbar": {
              "outlinewidth": 0,
              "ticks": ""
             }
            },
            "type": "parcoords"
           }
          ],
          "pie": [
           {
            "automargin": true,
            "type": "pie"
           }
          ],
          "scatter": [
           {
            "marker": {
             "colorbar": {
              "outlinewidth": 0,
              "ticks": ""
             }
            },
            "type": "scatter"
           }
          ],
          "scatter3d": [
           {
            "line": {
             "colorbar": {
              "outlinewidth": 0,
              "ticks": ""
             }
            },
            "marker": {
             "colorbar": {
              "outlinewidth": 0,
              "ticks": ""
             }
            },
            "type": "scatter3d"
           }
          ],
          "scattercarpet": [
           {
            "marker": {
             "colorbar": {
              "outlinewidth": 0,
              "ticks": ""
             }
            },
            "type": "scattercarpet"
           }
          ],
          "scattergeo": [
           {
            "marker": {
             "colorbar": {
              "outlinewidth": 0,
              "ticks": ""
             }
            },
            "type": "scattergeo"
           }
          ],
          "scattergl": [
           {
            "marker": {
             "colorbar": {
              "outlinewidth": 0,
              "ticks": ""
             }
            },
            "type": "scattergl"
           }
          ],
          "scattermapbox": [
           {
            "marker": {
             "colorbar": {
              "outlinewidth": 0,
              "ticks": ""
             }
            },
            "type": "scattermapbox"
           }
          ],
          "scatterpolar": [
           {
            "marker": {
             "colorbar": {
              "outlinewidth": 0,
              "ticks": ""
             }
            },
            "type": "scatterpolar"
           }
          ],
          "scatterpolargl": [
           {
            "marker": {
             "colorbar": {
              "outlinewidth": 0,
              "ticks": ""
             }
            },
            "type": "scatterpolargl"
           }
          ],
          "scatterternary": [
           {
            "marker": {
             "colorbar": {
              "outlinewidth": 0,
              "ticks": ""
             }
            },
            "type": "scatterternary"
           }
          ],
          "surface": [
           {
            "colorbar": {
             "outlinewidth": 0,
             "ticks": ""
            },
            "colorscale": [
             [
              0,
              "#0d0887"
             ],
             [
              0.1111111111111111,
              "#46039f"
             ],
             [
              0.2222222222222222,
              "#7201a8"
             ],
             [
              0.3333333333333333,
              "#9c179e"
             ],
             [
              0.4444444444444444,
              "#bd3786"
             ],
             [
              0.5555555555555556,
              "#d8576b"
             ],
             [
              0.6666666666666666,
              "#ed7953"
             ],
             [
              0.7777777777777778,
              "#fb9f3a"
             ],
             [
              0.8888888888888888,
              "#fdca26"
             ],
             [
              1,
              "#f0f921"
             ]
            ],
            "type": "surface"
           }
          ],
          "table": [
           {
            "cells": {
             "fill": {
              "color": "#EBF0F8"
             },
             "line": {
              "color": "white"
             }
            },
            "header": {
             "fill": {
              "color": "#C8D4E3"
             },
             "line": {
              "color": "white"
             }
            },
            "type": "table"
           }
          ]
         },
         "layout": {
          "annotationdefaults": {
           "arrowcolor": "#2a3f5f",
           "arrowhead": 0,
           "arrowwidth": 1
          },
          "coloraxis": {
           "colorbar": {
            "outlinewidth": 0,
            "ticks": ""
           }
          },
          "colorscale": {
           "diverging": [
            [
             0,
             "#8e0152"
            ],
            [
             0.1,
             "#c51b7d"
            ],
            [
             0.2,
             "#de77ae"
            ],
            [
             0.3,
             "#f1b6da"
            ],
            [
             0.4,
             "#fde0ef"
            ],
            [
             0.5,
             "#f7f7f7"
            ],
            [
             0.6,
             "#e6f5d0"
            ],
            [
             0.7,
             "#b8e186"
            ],
            [
             0.8,
             "#7fbc41"
            ],
            [
             0.9,
             "#4d9221"
            ],
            [
             1,
             "#276419"
            ]
           ],
           "sequential": [
            [
             0,
             "#0d0887"
            ],
            [
             0.1111111111111111,
             "#46039f"
            ],
            [
             0.2222222222222222,
             "#7201a8"
            ],
            [
             0.3333333333333333,
             "#9c179e"
            ],
            [
             0.4444444444444444,
             "#bd3786"
            ],
            [
             0.5555555555555556,
             "#d8576b"
            ],
            [
             0.6666666666666666,
             "#ed7953"
            ],
            [
             0.7777777777777778,
             "#fb9f3a"
            ],
            [
             0.8888888888888888,
             "#fdca26"
            ],
            [
             1,
             "#f0f921"
            ]
           ],
           "sequentialminus": [
            [
             0,
             "#0d0887"
            ],
            [
             0.1111111111111111,
             "#46039f"
            ],
            [
             0.2222222222222222,
             "#7201a8"
            ],
            [
             0.3333333333333333,
             "#9c179e"
            ],
            [
             0.4444444444444444,
             "#bd3786"
            ],
            [
             0.5555555555555556,
             "#d8576b"
            ],
            [
             0.6666666666666666,
             "#ed7953"
            ],
            [
             0.7777777777777778,
             "#fb9f3a"
            ],
            [
             0.8888888888888888,
             "#fdca26"
            ],
            [
             1,
             "#f0f921"
            ]
           ]
          },
          "colorway": [
           "#636efa",
           "#EF553B",
           "#00cc96",
           "#ab63fa",
           "#FFA15A",
           "#19d3f3",
           "#FF6692",
           "#B6E880",
           "#FF97FF",
           "#FECB52"
          ],
          "font": {
           "color": "#2a3f5f"
          },
          "geo": {
           "bgcolor": "white",
           "lakecolor": "white",
           "landcolor": "#E5ECF6",
           "showlakes": true,
           "showland": true,
           "subunitcolor": "white"
          },
          "hoverlabel": {
           "align": "left"
          },
          "hovermode": "closest",
          "mapbox": {
           "style": "light"
          },
          "paper_bgcolor": "white",
          "plot_bgcolor": "#E5ECF6",
          "polar": {
           "angularaxis": {
            "gridcolor": "white",
            "linecolor": "white",
            "ticks": ""
           },
           "bgcolor": "#E5ECF6",
           "radialaxis": {
            "gridcolor": "white",
            "linecolor": "white",
            "ticks": ""
           }
          },
          "scene": {
           "xaxis": {
            "backgroundcolor": "#E5ECF6",
            "gridcolor": "white",
            "gridwidth": 2,
            "linecolor": "white",
            "showbackground": true,
            "ticks": "",
            "zerolinecolor": "white"
           },
           "yaxis": {
            "backgroundcolor": "#E5ECF6",
            "gridcolor": "white",
            "gridwidth": 2,
            "linecolor": "white",
            "showbackground": true,
            "ticks": "",
            "zerolinecolor": "white"
           },
           "zaxis": {
            "backgroundcolor": "#E5ECF6",
            "gridcolor": "white",
            "gridwidth": 2,
            "linecolor": "white",
            "showbackground": true,
            "ticks": "",
            "zerolinecolor": "white"
           }
          },
          "shapedefaults": {
           "line": {
            "color": "#2a3f5f"
           }
          },
          "ternary": {
           "aaxis": {
            "gridcolor": "white",
            "linecolor": "white",
            "ticks": ""
           },
           "baxis": {
            "gridcolor": "white",
            "linecolor": "white",
            "ticks": ""
           },
           "bgcolor": "#E5ECF6",
           "caxis": {
            "gridcolor": "white",
            "linecolor": "white",
            "ticks": ""
           }
          },
          "title": {
           "x": 0.05
          },
          "xaxis": {
           "automargin": true,
           "gridcolor": "white",
           "linecolor": "white",
           "ticks": "",
           "title": {
            "standoff": 15
           },
           "zerolinecolor": "white",
           "zerolinewidth": 2
          },
          "yaxis": {
           "automargin": true,
           "gridcolor": "white",
           "linecolor": "white",
           "ticks": "",
           "title": {
            "standoff": 15
           },
           "zerolinecolor": "white",
           "zerolinewidth": 2
          }
         }
        },
        "title": {
         "font": {
          "color": "#4D5663"
         }
        },
        "xaxis": {
         "gridcolor": "#E1E5ED",
         "showgrid": true,
         "tickfont": {
          "color": "#4D5663"
         },
         "title": {
          "font": {
           "color": "#4D5663"
          },
          "text": ""
         },
         "zerolinecolor": "#E1E5ED"
        },
        "yaxis": {
         "gridcolor": "#E1E5ED",
         "showgrid": true,
         "tickfont": {
          "color": "#4D5663"
         },
         "title": {
          "font": {
           "color": "#4D5663"
          },
          "text": ""
         },
         "zerolinecolor": "#E1E5ED"
        }
       }
      },
      "text/html": [
       "<div>\n",
       "        \n",
       "        \n",
       "            <div id=\"3a789c5a-c622-4155-b336-65a5a65b9d4d\" class=\"plotly-graph-div\" style=\"height:525px; width:100%;\"></div>\n",
       "            <script type=\"text/javascript\">\n",
       "                require([\"plotly\"], function(Plotly) {\n",
       "                    window.PLOTLYENV=window.PLOTLYENV || {};\n",
       "                    window.PLOTLYENV.BASE_URL='https://plot.ly';\n",
       "                    \n",
       "                if (document.getElementById(\"3a789c5a-c622-4155-b336-65a5a65b9d4d\")) {\n",
       "                    Plotly.newPlot(\n",
       "                        '3a789c5a-c622-4155-b336-65a5a65b9d4d',\n",
       "                        [{\"colorscale\": [[0.0, \"rgb(165,0,38)\"], [0.1, \"rgb(215,48,39)\"], [0.2, \"rgb(244,109,67)\"], [0.3, \"rgb(253,174,97)\"], [0.4, \"rgb(254,224,144)\"], [0.5, \"rgb(255,255,191)\"], [0.6, \"rgb(224,243,248)\"], [0.7, \"rgb(171,217,233)\"], [0.8, \"rgb(116,173,209)\"], [0.9, \"rgb(69,117,180)\"], [1.0, \"rgb(49,54,149)\"]], \"type\": \"surface\", \"x\": [0, 1, 2, 3, 4], \"y\": [\"x\", \"y\", \"z\"], \"z\": [[1, 2, 3, 4, 5], [10, 20, 30, 20, 10], [5, 4, 3, 2, 1]]}],\n",
       "                        {\"legend\": {\"bgcolor\": \"#F5F6F9\", \"font\": {\"color\": \"#4D5663\"}}, \"paper_bgcolor\": \"#F5F6F9\", \"plot_bgcolor\": \"#F5F6F9\", \"template\": {\"data\": {\"bar\": [{\"error_x\": {\"color\": \"#2a3f5f\"}, \"error_y\": {\"color\": \"#2a3f5f\"}, \"marker\": {\"line\": {\"color\": \"#E5ECF6\", \"width\": 0.5}}, \"type\": \"bar\"}], \"barpolar\": [{\"marker\": {\"line\": {\"color\": \"#E5ECF6\", \"width\": 0.5}}, \"type\": \"barpolar\"}], \"carpet\": [{\"aaxis\": {\"endlinecolor\": \"#2a3f5f\", \"gridcolor\": \"white\", \"linecolor\": \"white\", \"minorgridcolor\": \"white\", \"startlinecolor\": \"#2a3f5f\"}, \"baxis\": {\"endlinecolor\": \"#2a3f5f\", \"gridcolor\": \"white\", \"linecolor\": \"white\", \"minorgridcolor\": \"white\", \"startlinecolor\": \"#2a3f5f\"}, \"type\": \"carpet\"}], \"choropleth\": [{\"colorbar\": {\"outlinewidth\": 0, \"ticks\": \"\"}, \"type\": \"choropleth\"}], \"contour\": [{\"colorbar\": {\"outlinewidth\": 0, \"ticks\": \"\"}, \"colorscale\": [[0.0, \"#0d0887\"], [0.1111111111111111, \"#46039f\"], [0.2222222222222222, \"#7201a8\"], [0.3333333333333333, \"#9c179e\"], [0.4444444444444444, \"#bd3786\"], [0.5555555555555556, \"#d8576b\"], [0.6666666666666666, \"#ed7953\"], [0.7777777777777778, \"#fb9f3a\"], [0.8888888888888888, \"#fdca26\"], [1.0, \"#f0f921\"]], \"type\": \"contour\"}], \"contourcarpet\": [{\"colorbar\": {\"outlinewidth\": 0, \"ticks\": \"\"}, \"type\": \"contourcarpet\"}], \"heatmap\": [{\"colorbar\": {\"outlinewidth\": 0, \"ticks\": \"\"}, \"colorscale\": [[0.0, \"#0d0887\"], [0.1111111111111111, \"#46039f\"], [0.2222222222222222, \"#7201a8\"], [0.3333333333333333, \"#9c179e\"], [0.4444444444444444, \"#bd3786\"], [0.5555555555555556, \"#d8576b\"], [0.6666666666666666, \"#ed7953\"], [0.7777777777777778, \"#fb9f3a\"], [0.8888888888888888, \"#fdca26\"], [1.0, \"#f0f921\"]], \"type\": \"heatmap\"}], \"heatmapgl\": [{\"colorbar\": {\"outlinewidth\": 0, \"ticks\": \"\"}, \"colorscale\": [[0.0, \"#0d0887\"], [0.1111111111111111, \"#46039f\"], [0.2222222222222222, \"#7201a8\"], [0.3333333333333333, \"#9c179e\"], [0.4444444444444444, \"#bd3786\"], [0.5555555555555556, \"#d8576b\"], [0.6666666666666666, \"#ed7953\"], [0.7777777777777778, \"#fb9f3a\"], [0.8888888888888888, \"#fdca26\"], [1.0, \"#f0f921\"]], \"type\": \"heatmapgl\"}], \"histogram\": [{\"marker\": {\"colorbar\": {\"outlinewidth\": 0, \"ticks\": \"\"}}, \"type\": \"histogram\"}], \"histogram2d\": [{\"colorbar\": {\"outlinewidth\": 0, \"ticks\": \"\"}, \"colorscale\": [[0.0, \"#0d0887\"], [0.1111111111111111, \"#46039f\"], [0.2222222222222222, \"#7201a8\"], [0.3333333333333333, \"#9c179e\"], [0.4444444444444444, \"#bd3786\"], [0.5555555555555556, \"#d8576b\"], [0.6666666666666666, \"#ed7953\"], [0.7777777777777778, \"#fb9f3a\"], [0.8888888888888888, \"#fdca26\"], [1.0, \"#f0f921\"]], \"type\": \"histogram2d\"}], \"histogram2dcontour\": [{\"colorbar\": {\"outlinewidth\": 0, \"ticks\": \"\"}, \"colorscale\": [[0.0, \"#0d0887\"], [0.1111111111111111, \"#46039f\"], [0.2222222222222222, \"#7201a8\"], [0.3333333333333333, \"#9c179e\"], [0.4444444444444444, \"#bd3786\"], [0.5555555555555556, \"#d8576b\"], [0.6666666666666666, \"#ed7953\"], [0.7777777777777778, \"#fb9f3a\"], [0.8888888888888888, \"#fdca26\"], [1.0, \"#f0f921\"]], \"type\": \"histogram2dcontour\"}], \"mesh3d\": [{\"colorbar\": {\"outlinewidth\": 0, \"ticks\": \"\"}, \"type\": \"mesh3d\"}], \"parcoords\": [{\"line\": {\"colorbar\": {\"outlinewidth\": 0, \"ticks\": \"\"}}, \"type\": \"parcoords\"}], \"pie\": [{\"automargin\": true, \"type\": \"pie\"}], \"scatter\": [{\"marker\": {\"colorbar\": {\"outlinewidth\": 0, \"ticks\": \"\"}}, \"type\": \"scatter\"}], \"scatter3d\": [{\"line\": {\"colorbar\": {\"outlinewidth\": 0, \"ticks\": \"\"}}, \"marker\": {\"colorbar\": {\"outlinewidth\": 0, \"ticks\": \"\"}}, \"type\": \"scatter3d\"}], \"scattercarpet\": [{\"marker\": {\"colorbar\": {\"outlinewidth\": 0, \"ticks\": \"\"}}, \"type\": \"scattercarpet\"}], \"scattergeo\": [{\"marker\": {\"colorbar\": {\"outlinewidth\": 0, \"ticks\": \"\"}}, \"type\": \"scattergeo\"}], \"scattergl\": [{\"marker\": {\"colorbar\": {\"outlinewidth\": 0, \"ticks\": \"\"}}, \"type\": \"scattergl\"}], \"scattermapbox\": [{\"marker\": {\"colorbar\": {\"outlinewidth\": 0, \"ticks\": \"\"}}, \"type\": \"scattermapbox\"}], \"scatterpolar\": [{\"marker\": {\"colorbar\": {\"outlinewidth\": 0, \"ticks\": \"\"}}, \"type\": \"scatterpolar\"}], \"scatterpolargl\": [{\"marker\": {\"colorbar\": {\"outlinewidth\": 0, \"ticks\": \"\"}}, \"type\": \"scatterpolargl\"}], \"scatterternary\": [{\"marker\": {\"colorbar\": {\"outlinewidth\": 0, \"ticks\": \"\"}}, \"type\": \"scatterternary\"}], \"surface\": [{\"colorbar\": {\"outlinewidth\": 0, \"ticks\": \"\"}, \"colorscale\": [[0.0, \"#0d0887\"], [0.1111111111111111, \"#46039f\"], [0.2222222222222222, \"#7201a8\"], [0.3333333333333333, \"#9c179e\"], [0.4444444444444444, \"#bd3786\"], [0.5555555555555556, \"#d8576b\"], [0.6666666666666666, \"#ed7953\"], [0.7777777777777778, \"#fb9f3a\"], [0.8888888888888888, \"#fdca26\"], [1.0, \"#f0f921\"]], \"type\": \"surface\"}], \"table\": [{\"cells\": {\"fill\": {\"color\": \"#EBF0F8\"}, \"line\": {\"color\": \"white\"}}, \"header\": {\"fill\": {\"color\": \"#C8D4E3\"}, \"line\": {\"color\": \"white\"}}, \"type\": \"table\"}]}, \"layout\": {\"annotationdefaults\": {\"arrowcolor\": \"#2a3f5f\", \"arrowhead\": 0, \"arrowwidth\": 1}, \"coloraxis\": {\"colorbar\": {\"outlinewidth\": 0, \"ticks\": \"\"}}, \"colorscale\": {\"diverging\": [[0, \"#8e0152\"], [0.1, \"#c51b7d\"], [0.2, \"#de77ae\"], [0.3, \"#f1b6da\"], [0.4, \"#fde0ef\"], [0.5, \"#f7f7f7\"], [0.6, \"#e6f5d0\"], [0.7, \"#b8e186\"], [0.8, \"#7fbc41\"], [0.9, \"#4d9221\"], [1, \"#276419\"]], \"sequential\": [[0.0, \"#0d0887\"], [0.1111111111111111, \"#46039f\"], [0.2222222222222222, \"#7201a8\"], [0.3333333333333333, \"#9c179e\"], [0.4444444444444444, \"#bd3786\"], [0.5555555555555556, \"#d8576b\"], [0.6666666666666666, \"#ed7953\"], [0.7777777777777778, \"#fb9f3a\"], [0.8888888888888888, \"#fdca26\"], [1.0, \"#f0f921\"]], \"sequentialminus\": [[0.0, \"#0d0887\"], [0.1111111111111111, \"#46039f\"], [0.2222222222222222, \"#7201a8\"], [0.3333333333333333, \"#9c179e\"], [0.4444444444444444, \"#bd3786\"], [0.5555555555555556, \"#d8576b\"], [0.6666666666666666, \"#ed7953\"], [0.7777777777777778, \"#fb9f3a\"], [0.8888888888888888, \"#fdca26\"], [1.0, \"#f0f921\"]]}, \"colorway\": [\"#636efa\", \"#EF553B\", \"#00cc96\", \"#ab63fa\", \"#FFA15A\", \"#19d3f3\", \"#FF6692\", \"#B6E880\", \"#FF97FF\", \"#FECB52\"], \"font\": {\"color\": \"#2a3f5f\"}, \"geo\": {\"bgcolor\": \"white\", \"lakecolor\": \"white\", \"landcolor\": \"#E5ECF6\", \"showlakes\": true, \"showland\": true, \"subunitcolor\": \"white\"}, \"hoverlabel\": {\"align\": \"left\"}, \"hovermode\": \"closest\", \"mapbox\": {\"style\": \"light\"}, \"paper_bgcolor\": \"white\", \"plot_bgcolor\": \"#E5ECF6\", \"polar\": {\"angularaxis\": {\"gridcolor\": \"white\", \"linecolor\": \"white\", \"ticks\": \"\"}, \"bgcolor\": \"#E5ECF6\", \"radialaxis\": {\"gridcolor\": \"white\", \"linecolor\": \"white\", \"ticks\": \"\"}}, \"scene\": {\"xaxis\": {\"backgroundcolor\": \"#E5ECF6\", \"gridcolor\": \"white\", \"gridwidth\": 2, \"linecolor\": \"white\", \"showbackground\": true, \"ticks\": \"\", \"zerolinecolor\": \"white\"}, \"yaxis\": {\"backgroundcolor\": \"#E5ECF6\", \"gridcolor\": \"white\", \"gridwidth\": 2, \"linecolor\": \"white\", \"showbackground\": true, \"ticks\": \"\", \"zerolinecolor\": \"white\"}, \"zaxis\": {\"backgroundcolor\": \"#E5ECF6\", \"gridcolor\": \"white\", \"gridwidth\": 2, \"linecolor\": \"white\", \"showbackground\": true, \"ticks\": \"\", \"zerolinecolor\": \"white\"}}, \"shapedefaults\": {\"line\": {\"color\": \"#2a3f5f\"}}, \"ternary\": {\"aaxis\": {\"gridcolor\": \"white\", \"linecolor\": \"white\", \"ticks\": \"\"}, \"baxis\": {\"gridcolor\": \"white\", \"linecolor\": \"white\", \"ticks\": \"\"}, \"bgcolor\": \"#E5ECF6\", \"caxis\": {\"gridcolor\": \"white\", \"linecolor\": \"white\", \"ticks\": \"\"}}, \"title\": {\"x\": 0.05}, \"xaxis\": {\"automargin\": true, \"gridcolor\": \"white\", \"linecolor\": \"white\", \"ticks\": \"\", \"title\": {\"standoff\": 15}, \"zerolinecolor\": \"white\", \"zerolinewidth\": 2}, \"yaxis\": {\"automargin\": true, \"gridcolor\": \"white\", \"linecolor\": \"white\", \"ticks\": \"\", \"title\": {\"standoff\": 15}, \"zerolinecolor\": \"white\", \"zerolinewidth\": 2}}}, \"title\": {\"font\": {\"color\": \"#4D5663\"}}, \"xaxis\": {\"gridcolor\": \"#E1E5ED\", \"showgrid\": true, \"tickfont\": {\"color\": \"#4D5663\"}, \"title\": {\"font\": {\"color\": \"#4D5663\"}, \"text\": \"\"}, \"zerolinecolor\": \"#E1E5ED\"}, \"yaxis\": {\"gridcolor\": \"#E1E5ED\", \"showgrid\": true, \"tickfont\": {\"color\": \"#4D5663\"}, \"title\": {\"font\": {\"color\": \"#4D5663\"}, \"text\": \"\"}, \"zerolinecolor\": \"#E1E5ED\"}},\n",
       "                        {\"showLink\": true, \"linkText\": \"Export to plot.ly\", \"plotlyServerURL\": \"https://plot.ly\", \"responsive\": true}\n",
       "                    ).then(function(){\n",
       "                            \n",
       "var gd = document.getElementById('3a789c5a-c622-4155-b336-65a5a65b9d4d');\n",
       "var x = new MutationObserver(function (mutations, observer) {{\n",
       "        var display = window.getComputedStyle(gd).display;\n",
       "        if (!display || display === 'none') {{\n",
       "            console.log([gd, 'removed!']);\n",
       "            Plotly.purge(gd);\n",
       "            observer.disconnect();\n",
       "        }}\n",
       "}});\n",
       "\n",
       "// Listen for the removal of the full notebook cells\n",
       "var notebookContainer = gd.closest('#notebook-container');\n",
       "if (notebookContainer) {{\n",
       "    x.observe(notebookContainer, {childList: true});\n",
       "}}\n",
       "\n",
       "// Listen for the clearing of the current output cell\n",
       "var outputEl = gd.closest('.output');\n",
       "if (outputEl) {{\n",
       "    x.observe(outputEl, {childList: true});\n",
       "}}\n",
       "\n",
       "                        })\n",
       "                };\n",
       "                });\n",
       "            </script>\n",
       "        </div>"
      ]
     },
     "metadata": {},
     "output_type": "display_data"
    }
   ],
   "source": [
    "df3 = pd.DataFrame({'x':[1,2,3,4,5],'y':[10,20,30,20,10],'z':[5,4,3,2,1]})\n",
    "df3.iplot(kind='surface',colorscale='rdylbu')"
   ]
  },
  {
   "cell_type": "markdown",
   "metadata": {},
   "source": [
    "## Spread"
   ]
  },
  {
   "cell_type": "code",
   "execution_count": 28,
   "metadata": {
    "jupyter": {
     "outputs_hidden": false
    }
   },
   "outputs": [
    {
     "name": "stderr",
     "output_type": "stream",
     "text": [
      "C:\\Users\\srika\\anaconda3\\lib\\site-packages\\cufflinks\\plotlytools.py:849: FutureWarning:\n",
      "\n",
      "The pandas.np module is deprecated and will be removed from pandas in a future version. Import numpy directly instead\n",
      "\n",
      "C:\\Users\\srika\\anaconda3\\lib\\site-packages\\cufflinks\\plotlytools.py:850: FutureWarning:\n",
      "\n",
      "The pandas.np module is deprecated and will be removed from pandas in a future version. Import numpy directly instead\n",
      "\n"
     ]
    },
    {
     "data": {
      "application/vnd.plotly.v1+json": {
       "config": {
        "linkText": "Export to plot.ly",
        "plotlyServerURL": "https://plot.ly",
        "showLink": true
       },
       "data": [
        {
         "line": {
          "color": "rgba(255, 153, 51, 1.0)",
          "dash": "solid",
          "shape": "linear",
          "width": 1.3
         },
         "mode": "lines",
         "name": "A",
         "text": "",
         "type": "scatter",
         "x": [
          0,
          1,
          2,
          3,
          4,
          5,
          6,
          7,
          8,
          9,
          10,
          11,
          12,
          13,
          14,
          15,
          16,
          17,
          18,
          19,
          20,
          21,
          22,
          23,
          24,
          25,
          26,
          27,
          28,
          29,
          30,
          31,
          32,
          33,
          34,
          35,
          36,
          37,
          38,
          39,
          40,
          41,
          42,
          43,
          44,
          45,
          46,
          47,
          48,
          49,
          50,
          51,
          52,
          53,
          54,
          55,
          56,
          57,
          58,
          59,
          60,
          61,
          62,
          63,
          64,
          65,
          66,
          67,
          68,
          69,
          70,
          71,
          72,
          73,
          74,
          75,
          76,
          77,
          78,
          79,
          80,
          81,
          82,
          83,
          84,
          85,
          86,
          87,
          88,
          89,
          90,
          91,
          92,
          93,
          94,
          95,
          96,
          97,
          98,
          99
         ],
         "y": [
          0.4680357176729802,
          -0.18089695435687647,
          0.003483194029145718,
          -0.8503226748006865,
          0.8146106228274449,
          0.15146587172216824,
          0.12723478221447262,
          0.3351004387413441,
          0.9414103775281865,
          -0.8857734378332426,
          -0.5701687051204497,
          -0.8893540639512774,
          0.14019123212902615,
          -0.966403721687782,
          0.33538370842415655,
          0.6702165022341717,
          -0.015213378402976164,
          -1.6090697702945362,
          0.7768280979717406,
          -0.020888206099068173,
          -1.3080179624540567,
          0.007249009389868164,
          0.2945209102593891,
          -0.9992695366250636,
          -0.6447006902415953,
          -1.0905563070634021,
          0.028797804449134032,
          -0.8843550330471293,
          1.0386401862451842,
          -0.6372696659703778,
          -0.07546361030812403,
          -0.6885808917640587,
          0.6960913089883859,
          0.7967344770276393,
          -0.31311403394368115,
          0.44535646682353447,
          1.2184826503543367,
          0.4897504444752817,
          1.0975181333688733,
          -1.2899287196667168,
          0.7672041598633657,
          -1.2666068328758595,
          1.0388834302251584,
          -2.7642984677037763,
          0.7743643434944764,
          0.5383447940237172,
          0.47174339868068116,
          -0.9813512577834447,
          -1.9094619873718108,
          0.09403883020114603,
          -0.16567173008209463,
          0.3497701577167347,
          0.7786062683999717,
          -0.9749299704877334,
          1.895335438858008,
          -0.4681186971331524,
          1.6906002800833542,
          -0.3863554355065704,
          -2.0996821386621938,
          0.13576410988414953,
          0.49662193548416167,
          0.6652139195938592,
          1.318582804966973,
          -0.03610763629279586,
          -0.4325131784953337,
          -0.6569998826577392,
          0.7840142952369771,
          1.3376479675287218,
          -0.24358433096939566,
          0.7227382172365205,
          -0.8355487413044241,
          0.7365537375544133,
          -0.5896650123534253,
          0.6979532707491521,
          0.4168212480194256,
          -1.156999280240315,
          0.49573377418729586,
          -0.8131742308332868,
          -0.023724459695214212,
          -0.6662885802270111,
          -0.5650900186908255,
          -0.14085214787252726,
          0.5047821408545787,
          -1.5536765581644607,
          -0.12215501843578472,
          -0.47462127467704807,
          -0.739431884829175,
          -0.28716816395346373,
          1.7938082735840795,
          -1.721425966026441,
          0.6277844324474082,
          -0.13192234352890128,
          0.5491320236601649,
          -0.5930336917559829,
          0.13740697896731097,
          1.1271661097434316,
          -0.5372438603757769,
          -0.7756176374275516,
          1.9872765631996863,
          1.1777260909975629
         ]
        },
        {
         "line": {
          "color": "rgba(55, 128, 191, 1.0)",
          "dash": "solid",
          "shape": "linear",
          "width": 1.3
         },
         "mode": "lines",
         "name": "B",
         "text": "",
         "type": "scatter",
         "x": [
          0,
          1,
          2,
          3,
          4,
          5,
          6,
          7,
          8,
          9,
          10,
          11,
          12,
          13,
          14,
          15,
          16,
          17,
          18,
          19,
          20,
          21,
          22,
          23,
          24,
          25,
          26,
          27,
          28,
          29,
          30,
          31,
          32,
          33,
          34,
          35,
          36,
          37,
          38,
          39,
          40,
          41,
          42,
          43,
          44,
          45,
          46,
          47,
          48,
          49,
          50,
          51,
          52,
          53,
          54,
          55,
          56,
          57,
          58,
          59,
          60,
          61,
          62,
          63,
          64,
          65,
          66,
          67,
          68,
          69,
          70,
          71,
          72,
          73,
          74,
          75,
          76,
          77,
          78,
          79,
          80,
          81,
          82,
          83,
          84,
          85,
          86,
          87,
          88,
          89,
          90,
          91,
          92,
          93,
          94,
          95,
          96,
          97,
          98,
          99
         ],
         "y": [
          -0.7434989651960935,
          -0.4607615024270917,
          1.8780782846811968,
          0.04828809145899935,
          -0.0029359171677269995,
          -0.08753811400269597,
          -0.3979045501815003,
          -1.3587319206144035,
          1.3058393881672048,
          -2.3358469828562334,
          1.7778387243432399,
          -0.8702029541219694,
          0.9935992049714233,
          1.4798461388258817,
          1.1275258510799964,
          1.477737769433274,
          0.36461748526784393,
          0.1831140969875315,
          0.17955620423002,
          2.12826660679801,
          -1.1186449675805272,
          1.1949120889777742,
          0.6551153688968544,
          0.7735108164924516,
          -0.7619829421982433,
          0.3818031659229591,
          -0.13223350833946632,
          -1.0411027537542916,
          0.7270464129765776,
          -0.46302451921768606,
          0.5627073813462292,
          0.08627527498922588,
          0.20036806041275756,
          0.01589035106560516,
          -1.5745988477361705,
          -0.5007655647549084,
          -1.874963053783075,
          -1.1902805653365587,
          -0.6179762986534144,
          0.3369724337050894,
          -0.09505535904528267,
          -0.5306506763564895,
          -0.030613138796697234,
          0.6341060188575188,
          0.23753214374573461,
          0.5756485863333742,
          -0.32928971144601865,
          0.07337782328325868,
          -0.3357057393863871,
          0.5900992992421492,
          -0.40898656611231804,
          -0.47322322257176525,
          0.2934714022237347,
          -0.3757543883540172,
          -0.1585512845422061,
          -0.25357244880222723,
          -1.5140291466870681,
          -0.7753885030539748,
          0.797052517782712,
          -0.3686557886848596,
          0.2855546620487415,
          1.6705044922929793,
          -0.43515134559370927,
          1.6595080594016447,
          -0.7252495287174796,
          -0.8330399931977461,
          -0.679219802873046,
          0.9390544951462232,
          0.09387454731372896,
          -0.3566775006611743,
          -2.1088990387458413,
          1.4528512643473823,
          -1.0261340964628949,
          0.23497758020160772,
          -0.4534270194828116,
          0.11397050565362599,
          0.2381586255109007,
          0.9988085406776966,
          0.025876815884210955,
          -1.2177486952525969,
          0.3174027772821797,
          0.5425099678014165,
          -1.1060029879681268,
          -1.9040147003254828,
          -0.09788757039869198,
          0.5027980532650275,
          0.5946564386503808,
          0.9040607377477198,
          -0.4997921123188726,
          1.0758831897921548,
          0.9939541985768044,
          1.4467641393910968,
          1.6622260071966777,
          -0.22074290486403597,
          0.0831484383304875,
          -1.0252544617631951,
          0.5697014336041655,
          -0.6944539659705443,
          0.2582200223961893,
          0.7920863962548249
         ]
        },
        {
         "connectgaps": false,
         "fill": "tozeroy",
         "line": {
          "color": "green",
          "dash": "solid",
          "shape": "linear",
          "width": 0.5
         },
         "mode": "lines",
         "name": "Spread",
         "showlegend": false,
         "type": "scatter",
         "x": [
          0,
          1,
          2,
          3,
          4,
          5,
          6,
          7,
          8,
          9,
          10,
          11,
          12,
          13,
          14,
          15,
          16,
          17,
          18,
          19,
          20,
          21,
          22,
          23,
          24,
          25,
          26,
          27,
          28,
          29,
          30,
          31,
          32,
          33,
          34,
          35,
          36,
          37,
          38,
          39,
          40,
          41,
          42,
          43,
          44,
          45,
          46,
          47,
          48,
          49,
          50,
          51,
          52,
          53,
          54,
          55,
          56,
          57,
          58,
          59,
          60,
          61,
          62,
          63,
          64,
          65,
          66,
          67,
          68,
          69,
          70,
          71,
          72,
          73,
          74,
          75,
          76,
          77,
          78,
          79,
          80,
          81,
          82,
          83,
          84,
          85,
          86,
          87,
          88,
          89,
          90,
          91,
          92,
          93,
          94,
          95,
          96,
          97,
          98,
          99
         ],
         "xaxis": "x2",
         "y": [
          1.2115346828690736,
          0.2798645480702152,
          "",
          "",
          0.8175465399951719,
          0.2390039857248642,
          0.5251393323959729,
          1.6938323593557476,
          "",
          1.450073545022991,
          "",
          "",
          "",
          "",
          "",
          "",
          "",
          "",
          0.5972718937417205,
          "",
          "",
          "",
          "",
          "",
          0.11728225195664799,
          "",
          0.16103131278860033,
          0.15674772070716236,
          0.3115937732686066,
          "",
          "",
          "",
          0.49572324857562833,
          0.7808441259620341,
          1.2614848137924894,
          0.9461220315784429,
          3.0934457041374115,
          1.6800310098118403,
          1.7154944320222878,
          "",
          0.8622595189086484,
          "",
          1.0694965690218556,
          "",
          0.5368321997487417,
          "",
          0.8010331101266999,
          "",
          "",
          "",
          0.2433148360302234,
          0.8229933802884999,
          0.485134866176237,
          "",
          2.053886723400214,
          "",
          3.2046294267704223,
          0.38903306754740435,
          "",
          0.5044198985690092,
          0.21106727343542014,
          "",
          1.7537341505606823,
          "",
          0.2927363502221459,
          0.1760401105400069,
          1.4632340981100231,
          0.39859347238249865,
          "",
          1.0794157178976949,
          1.273350297441417,
          "",
          0.4364690841094696,
          0.4629756905475444,
          0.8702482675022372,
          "",
          0.2575751486763952,
          "",
          "",
          0.5514601150255858,
          "",
          "",
          1.6107851288227055,
          0.3503381421610221,
          "",
          "",
          "",
          "",
          2.293600385902952,
          "",
          "",
          "",
          "",
          "",
          0.05425854063682346,
          2.1524205715066267,
          "",
          "",
          1.729056540803497,
          0.38563969474273796
         ],
         "yaxis": "y2"
        },
        {
         "connectgaps": false,
         "fill": "tozeroy",
         "line": {
          "color": "red",
          "dash": "solid",
          "shape": "linear",
          "width": 0.5
         },
         "mode": "lines",
         "name": "Spread",
         "showlegend": false,
         "type": "scatter",
         "x": [
          0,
          1,
          2,
          3,
          4,
          5,
          6,
          7,
          8,
          9,
          10,
          11,
          12,
          13,
          14,
          15,
          16,
          17,
          18,
          19,
          20,
          21,
          22,
          23,
          24,
          25,
          26,
          27,
          28,
          29,
          30,
          31,
          32,
          33,
          34,
          35,
          36,
          37,
          38,
          39,
          40,
          41,
          42,
          43,
          44,
          45,
          46,
          47,
          48,
          49,
          50,
          51,
          52,
          53,
          54,
          55,
          56,
          57,
          58,
          59,
          60,
          61,
          62,
          63,
          64,
          65,
          66,
          67,
          68,
          69,
          70,
          71,
          72,
          73,
          74,
          75,
          76,
          77,
          78,
          79,
          80,
          81,
          82,
          83,
          84,
          85,
          86,
          87,
          88,
          89,
          90,
          91,
          92,
          93,
          94,
          95,
          96,
          97,
          98,
          99
         ],
         "xaxis": "x2",
         "y": [
          "",
          "",
          -1.874595090652051,
          -0.8986107662596858,
          "",
          "",
          "",
          "",
          -0.36442901063901834,
          "",
          -2.3480074294636895,
          -0.01915110982930801,
          -0.8534079728423971,
          -2.4462498605136638,
          -0.7921421426558398,
          -0.8075212671991023,
          -0.3798308636708201,
          -1.7921838672820678,
          "",
          -2.1491548128970783,
          -0.18937299487352943,
          -1.1876630795879062,
          -0.3605944586374653,
          -1.7727803531175153,
          "",
          -1.4723594729863612,
          "",
          "",
          "",
          -0.17424514675269176,
          -0.6381709916543532,
          -0.7748561667532845,
          "",
          "",
          "",
          "",
          "",
          "",
          "",
          -1.6269011533718063,
          "",
          -0.73595615651937,
          "",
          -3.398404486561295,
          "",
          -0.03730379230965708,
          "",
          -1.0547290810667034,
          -1.5737562479854237,
          -0.4960604690410032,
          "",
          "",
          "",
          -0.5991755821337162,
          "",
          -0.21454624833092517,
          "",
          "",
          -2.896734656444906,
          "",
          "",
          -1.0052905726991201,
          "",
          -1.6956156956944406,
          "",
          "",
          "",
          "",
          -0.3374588782831246,
          "",
          "",
          -0.716297526792969,
          "",
          "",
          "",
          -1.270969785893941,
          "",
          -1.8119827715109835,
          -0.04960127557942517,
          "",
          -0.8824927959730052,
          -0.6833621156739438,
          "",
          "",
          -0.024267448037092743,
          -0.9774193279420755,
          -1.3340883234795557,
          -1.1912289017011835,
          "",
          -2.7973091558185956,
          -0.3661697661293962,
          -1.578686482919998,
          -1.1130939835365128,
          -0.3722907868919469,
          "",
          "",
          -1.1069452939799422,
          -0.08116367145700731,
          "",
          ""
         ],
         "yaxis": "y2"
        }
       ],
       "layout": {
        "hovermode": "x",
        "legend": {
         "bgcolor": "#F5F6F9",
         "font": {
          "color": "#4D5663"
         }
        },
        "paper_bgcolor": "#F5F6F9",
        "plot_bgcolor": "#F5F6F9",
        "template": {
         "data": {
          "bar": [
           {
            "error_x": {
             "color": "#2a3f5f"
            },
            "error_y": {
             "color": "#2a3f5f"
            },
            "marker": {
             "line": {
              "color": "#E5ECF6",
              "width": 0.5
             }
            },
            "type": "bar"
           }
          ],
          "barpolar": [
           {
            "marker": {
             "line": {
              "color": "#E5ECF6",
              "width": 0.5
             }
            },
            "type": "barpolar"
           }
          ],
          "carpet": [
           {
            "aaxis": {
             "endlinecolor": "#2a3f5f",
             "gridcolor": "white",
             "linecolor": "white",
             "minorgridcolor": "white",
             "startlinecolor": "#2a3f5f"
            },
            "baxis": {
             "endlinecolor": "#2a3f5f",
             "gridcolor": "white",
             "linecolor": "white",
             "minorgridcolor": "white",
             "startlinecolor": "#2a3f5f"
            },
            "type": "carpet"
           }
          ],
          "choropleth": [
           {
            "colorbar": {
             "outlinewidth": 0,
             "ticks": ""
            },
            "type": "choropleth"
           }
          ],
          "contour": [
           {
            "colorbar": {
             "outlinewidth": 0,
             "ticks": ""
            },
            "colorscale": [
             [
              0,
              "#0d0887"
             ],
             [
              0.1111111111111111,
              "#46039f"
             ],
             [
              0.2222222222222222,
              "#7201a8"
             ],
             [
              0.3333333333333333,
              "#9c179e"
             ],
             [
              0.4444444444444444,
              "#bd3786"
             ],
             [
              0.5555555555555556,
              "#d8576b"
             ],
             [
              0.6666666666666666,
              "#ed7953"
             ],
             [
              0.7777777777777778,
              "#fb9f3a"
             ],
             [
              0.8888888888888888,
              "#fdca26"
             ],
             [
              1,
              "#f0f921"
             ]
            ],
            "type": "contour"
           }
          ],
          "contourcarpet": [
           {
            "colorbar": {
             "outlinewidth": 0,
             "ticks": ""
            },
            "type": "contourcarpet"
           }
          ],
          "heatmap": [
           {
            "colorbar": {
             "outlinewidth": 0,
             "ticks": ""
            },
            "colorscale": [
             [
              0,
              "#0d0887"
             ],
             [
              0.1111111111111111,
              "#46039f"
             ],
             [
              0.2222222222222222,
              "#7201a8"
             ],
             [
              0.3333333333333333,
              "#9c179e"
             ],
             [
              0.4444444444444444,
              "#bd3786"
             ],
             [
              0.5555555555555556,
              "#d8576b"
             ],
             [
              0.6666666666666666,
              "#ed7953"
             ],
             [
              0.7777777777777778,
              "#fb9f3a"
             ],
             [
              0.8888888888888888,
              "#fdca26"
             ],
             [
              1,
              "#f0f921"
             ]
            ],
            "type": "heatmap"
           }
          ],
          "heatmapgl": [
           {
            "colorbar": {
             "outlinewidth": 0,
             "ticks": ""
            },
            "colorscale": [
             [
              0,
              "#0d0887"
             ],
             [
              0.1111111111111111,
              "#46039f"
             ],
             [
              0.2222222222222222,
              "#7201a8"
             ],
             [
              0.3333333333333333,
              "#9c179e"
             ],
             [
              0.4444444444444444,
              "#bd3786"
             ],
             [
              0.5555555555555556,
              "#d8576b"
             ],
             [
              0.6666666666666666,
              "#ed7953"
             ],
             [
              0.7777777777777778,
              "#fb9f3a"
             ],
             [
              0.8888888888888888,
              "#fdca26"
             ],
             [
              1,
              "#f0f921"
             ]
            ],
            "type": "heatmapgl"
           }
          ],
          "histogram": [
           {
            "marker": {
             "colorbar": {
              "outlinewidth": 0,
              "ticks": ""
             }
            },
            "type": "histogram"
           }
          ],
          "histogram2d": [
           {
            "colorbar": {
             "outlinewidth": 0,
             "ticks": ""
            },
            "colorscale": [
             [
              0,
              "#0d0887"
             ],
             [
              0.1111111111111111,
              "#46039f"
             ],
             [
              0.2222222222222222,
              "#7201a8"
             ],
             [
              0.3333333333333333,
              "#9c179e"
             ],
             [
              0.4444444444444444,
              "#bd3786"
             ],
             [
              0.5555555555555556,
              "#d8576b"
             ],
             [
              0.6666666666666666,
              "#ed7953"
             ],
             [
              0.7777777777777778,
              "#fb9f3a"
             ],
             [
              0.8888888888888888,
              "#fdca26"
             ],
             [
              1,
              "#f0f921"
             ]
            ],
            "type": "histogram2d"
           }
          ],
          "histogram2dcontour": [
           {
            "colorbar": {
             "outlinewidth": 0,
             "ticks": ""
            },
            "colorscale": [
             [
              0,
              "#0d0887"
             ],
             [
              0.1111111111111111,
              "#46039f"
             ],
             [
              0.2222222222222222,
              "#7201a8"
             ],
             [
              0.3333333333333333,
              "#9c179e"
             ],
             [
              0.4444444444444444,
              "#bd3786"
             ],
             [
              0.5555555555555556,
              "#d8576b"
             ],
             [
              0.6666666666666666,
              "#ed7953"
             ],
             [
              0.7777777777777778,
              "#fb9f3a"
             ],
             [
              0.8888888888888888,
              "#fdca26"
             ],
             [
              1,
              "#f0f921"
             ]
            ],
            "type": "histogram2dcontour"
           }
          ],
          "mesh3d": [
           {
            "colorbar": {
             "outlinewidth": 0,
             "ticks": ""
            },
            "type": "mesh3d"
           }
          ],
          "parcoords": [
           {
            "line": {
             "colorbar": {
              "outlinewidth": 0,
              "ticks": ""
             }
            },
            "type": "parcoords"
           }
          ],
          "pie": [
           {
            "automargin": true,
            "type": "pie"
           }
          ],
          "scatter": [
           {
            "marker": {
             "colorbar": {
              "outlinewidth": 0,
              "ticks": ""
             }
            },
            "type": "scatter"
           }
          ],
          "scatter3d": [
           {
            "line": {
             "colorbar": {
              "outlinewidth": 0,
              "ticks": ""
             }
            },
            "marker": {
             "colorbar": {
              "outlinewidth": 0,
              "ticks": ""
             }
            },
            "type": "scatter3d"
           }
          ],
          "scattercarpet": [
           {
            "marker": {
             "colorbar": {
              "outlinewidth": 0,
              "ticks": ""
             }
            },
            "type": "scattercarpet"
           }
          ],
          "scattergeo": [
           {
            "marker": {
             "colorbar": {
              "outlinewidth": 0,
              "ticks": ""
             }
            },
            "type": "scattergeo"
           }
          ],
          "scattergl": [
           {
            "marker": {
             "colorbar": {
              "outlinewidth": 0,
              "ticks": ""
             }
            },
            "type": "scattergl"
           }
          ],
          "scattermapbox": [
           {
            "marker": {
             "colorbar": {
              "outlinewidth": 0,
              "ticks": ""
             }
            },
            "type": "scattermapbox"
           }
          ],
          "scatterpolar": [
           {
            "marker": {
             "colorbar": {
              "outlinewidth": 0,
              "ticks": ""
             }
            },
            "type": "scatterpolar"
           }
          ],
          "scatterpolargl": [
           {
            "marker": {
             "colorbar": {
              "outlinewidth": 0,
              "ticks": ""
             }
            },
            "type": "scatterpolargl"
           }
          ],
          "scatterternary": [
           {
            "marker": {
             "colorbar": {
              "outlinewidth": 0,
              "ticks": ""
             }
            },
            "type": "scatterternary"
           }
          ],
          "surface": [
           {
            "colorbar": {
             "outlinewidth": 0,
             "ticks": ""
            },
            "colorscale": [
             [
              0,
              "#0d0887"
             ],
             [
              0.1111111111111111,
              "#46039f"
             ],
             [
              0.2222222222222222,
              "#7201a8"
             ],
             [
              0.3333333333333333,
              "#9c179e"
             ],
             [
              0.4444444444444444,
              "#bd3786"
             ],
             [
              0.5555555555555556,
              "#d8576b"
             ],
             [
              0.6666666666666666,
              "#ed7953"
             ],
             [
              0.7777777777777778,
              "#fb9f3a"
             ],
             [
              0.8888888888888888,
              "#fdca26"
             ],
             [
              1,
              "#f0f921"
             ]
            ],
            "type": "surface"
           }
          ],
          "table": [
           {
            "cells": {
             "fill": {
              "color": "#EBF0F8"
             },
             "line": {
              "color": "white"
             }
            },
            "header": {
             "fill": {
              "color": "#C8D4E3"
             },
             "line": {
              "color": "white"
             }
            },
            "type": "table"
           }
          ]
         },
         "layout": {
          "annotationdefaults": {
           "arrowcolor": "#2a3f5f",
           "arrowhead": 0,
           "arrowwidth": 1
          },
          "coloraxis": {
           "colorbar": {
            "outlinewidth": 0,
            "ticks": ""
           }
          },
          "colorscale": {
           "diverging": [
            [
             0,
             "#8e0152"
            ],
            [
             0.1,
             "#c51b7d"
            ],
            [
             0.2,
             "#de77ae"
            ],
            [
             0.3,
             "#f1b6da"
            ],
            [
             0.4,
             "#fde0ef"
            ],
            [
             0.5,
             "#f7f7f7"
            ],
            [
             0.6,
             "#e6f5d0"
            ],
            [
             0.7,
             "#b8e186"
            ],
            [
             0.8,
             "#7fbc41"
            ],
            [
             0.9,
             "#4d9221"
            ],
            [
             1,
             "#276419"
            ]
           ],
           "sequential": [
            [
             0,
             "#0d0887"
            ],
            [
             0.1111111111111111,
             "#46039f"
            ],
            [
             0.2222222222222222,
             "#7201a8"
            ],
            [
             0.3333333333333333,
             "#9c179e"
            ],
            [
             0.4444444444444444,
             "#bd3786"
            ],
            [
             0.5555555555555556,
             "#d8576b"
            ],
            [
             0.6666666666666666,
             "#ed7953"
            ],
            [
             0.7777777777777778,
             "#fb9f3a"
            ],
            [
             0.8888888888888888,
             "#fdca26"
            ],
            [
             1,
             "#f0f921"
            ]
           ],
           "sequentialminus": [
            [
             0,
             "#0d0887"
            ],
            [
             0.1111111111111111,
             "#46039f"
            ],
            [
             0.2222222222222222,
             "#7201a8"
            ],
            [
             0.3333333333333333,
             "#9c179e"
            ],
            [
             0.4444444444444444,
             "#bd3786"
            ],
            [
             0.5555555555555556,
             "#d8576b"
            ],
            [
             0.6666666666666666,
             "#ed7953"
            ],
            [
             0.7777777777777778,
             "#fb9f3a"
            ],
            [
             0.8888888888888888,
             "#fdca26"
            ],
            [
             1,
             "#f0f921"
            ]
           ]
          },
          "colorway": [
           "#636efa",
           "#EF553B",
           "#00cc96",
           "#ab63fa",
           "#FFA15A",
           "#19d3f3",
           "#FF6692",
           "#B6E880",
           "#FF97FF",
           "#FECB52"
          ],
          "font": {
           "color": "#2a3f5f"
          },
          "geo": {
           "bgcolor": "white",
           "lakecolor": "white",
           "landcolor": "#E5ECF6",
           "showlakes": true,
           "showland": true,
           "subunitcolor": "white"
          },
          "hoverlabel": {
           "align": "left"
          },
          "hovermode": "closest",
          "mapbox": {
           "style": "light"
          },
          "paper_bgcolor": "white",
          "plot_bgcolor": "#E5ECF6",
          "polar": {
           "angularaxis": {
            "gridcolor": "white",
            "linecolor": "white",
            "ticks": ""
           },
           "bgcolor": "#E5ECF6",
           "radialaxis": {
            "gridcolor": "white",
            "linecolor": "white",
            "ticks": ""
           }
          },
          "scene": {
           "xaxis": {
            "backgroundcolor": "#E5ECF6",
            "gridcolor": "white",
            "gridwidth": 2,
            "linecolor": "white",
            "showbackground": true,
            "ticks": "",
            "zerolinecolor": "white"
           },
           "yaxis": {
            "backgroundcolor": "#E5ECF6",
            "gridcolor": "white",
            "gridwidth": 2,
            "linecolor": "white",
            "showbackground": true,
            "ticks": "",
            "zerolinecolor": "white"
           },
           "zaxis": {
            "backgroundcolor": "#E5ECF6",
            "gridcolor": "white",
            "gridwidth": 2,
            "linecolor": "white",
            "showbackground": true,
            "ticks": "",
            "zerolinecolor": "white"
           }
          },
          "shapedefaults": {
           "line": {
            "color": "#2a3f5f"
           }
          },
          "ternary": {
           "aaxis": {
            "gridcolor": "white",
            "linecolor": "white",
            "ticks": ""
           },
           "baxis": {
            "gridcolor": "white",
            "linecolor": "white",
            "ticks": ""
           },
           "bgcolor": "#E5ECF6",
           "caxis": {
            "gridcolor": "white",
            "linecolor": "white",
            "ticks": ""
           }
          },
          "title": {
           "x": 0.05
          },
          "xaxis": {
           "automargin": true,
           "gridcolor": "white",
           "linecolor": "white",
           "ticks": "",
           "title": {
            "standoff": 15
           },
           "zerolinecolor": "white",
           "zerolinewidth": 2
          },
          "yaxis": {
           "automargin": true,
           "gridcolor": "white",
           "linecolor": "white",
           "ticks": "",
           "title": {
            "standoff": 15
           },
           "zerolinecolor": "white",
           "zerolinewidth": 2
          }
         }
        },
        "title": {
         "font": {
          "color": "#4D5663"
         }
        },
        "xaxis": {
         "gridcolor": "#E1E5ED",
         "showgrid": true,
         "tickfont": {
          "color": "#4D5663"
         },
         "title": {
          "font": {
           "color": "#4D5663"
          },
          "text": ""
         },
         "zerolinecolor": "#E1E5ED"
        },
        "xaxis2": {
         "anchor": "y2",
         "gridcolor": "#E1E5ED",
         "showgrid": true,
         "showticklabels": false,
         "tickfont": {
          "color": "#4D5663"
         },
         "title": {
          "font": {
           "color": "#4D5663"
          },
          "text": ""
         },
         "zerolinecolor": "#E1E5ED"
        },
        "yaxis": {
         "domain": [
          0.3,
          1
         ],
         "gridcolor": "#E1E5ED",
         "showgrid": true,
         "tickfont": {
          "color": "#4D5663"
         },
         "title": {
          "font": {
           "color": "#4D5663"
          },
          "text": ""
         },
         "zerolinecolor": "#E1E5ED"
        },
        "yaxis2": {
         "domain": [
          0,
          0.25
         ],
         "gridcolor": "#E1E5ED",
         "showgrid": true,
         "tickfont": {
          "color": "#4D5663"
         },
         "title": {
          "font": {
           "color": "#4D5663"
          },
          "text": "Spread"
         },
         "zerolinecolor": "#E1E5ED"
        }
       }
      },
      "text/html": [
       "<div>\n",
       "        \n",
       "        \n",
       "            <div id=\"a795dd56-147e-4dad-9515-3745e2d62861\" class=\"plotly-graph-div\" style=\"height:525px; width:100%;\"></div>\n",
       "            <script type=\"text/javascript\">\n",
       "                require([\"plotly\"], function(Plotly) {\n",
       "                    window.PLOTLYENV=window.PLOTLYENV || {};\n",
       "                    window.PLOTLYENV.BASE_URL='https://plot.ly';\n",
       "                    \n",
       "                if (document.getElementById(\"a795dd56-147e-4dad-9515-3745e2d62861\")) {\n",
       "                    Plotly.newPlot(\n",
       "                        'a795dd56-147e-4dad-9515-3745e2d62861',\n",
       "                        [{\"line\": {\"color\": \"rgba(255, 153, 51, 1.0)\", \"dash\": \"solid\", \"shape\": \"linear\", \"width\": 1.3}, \"mode\": \"lines\", \"name\": \"A\", \"text\": \"\", \"type\": \"scatter\", \"x\": [0, 1, 2, 3, 4, 5, 6, 7, 8, 9, 10, 11, 12, 13, 14, 15, 16, 17, 18, 19, 20, 21, 22, 23, 24, 25, 26, 27, 28, 29, 30, 31, 32, 33, 34, 35, 36, 37, 38, 39, 40, 41, 42, 43, 44, 45, 46, 47, 48, 49, 50, 51, 52, 53, 54, 55, 56, 57, 58, 59, 60, 61, 62, 63, 64, 65, 66, 67, 68, 69, 70, 71, 72, 73, 74, 75, 76, 77, 78, 79, 80, 81, 82, 83, 84, 85, 86, 87, 88, 89, 90, 91, 92, 93, 94, 95, 96, 97, 98, 99], \"y\": [0.4680357176729802, -0.18089695435687647, 0.003483194029145718, -0.8503226748006865, 0.8146106228274449, 0.15146587172216824, 0.12723478221447262, 0.3351004387413441, 0.9414103775281865, -0.8857734378332426, -0.5701687051204497, -0.8893540639512774, 0.14019123212902615, -0.966403721687782, 0.33538370842415655, 0.6702165022341717, -0.015213378402976164, -1.6090697702945362, 0.7768280979717406, -0.020888206099068173, -1.3080179624540567, 0.007249009389868164, 0.2945209102593891, -0.9992695366250636, -0.6447006902415953, -1.0905563070634021, 0.028797804449134032, -0.8843550330471293, 1.0386401862451842, -0.6372696659703778, -0.07546361030812403, -0.6885808917640587, 0.6960913089883859, 0.7967344770276393, -0.31311403394368115, 0.44535646682353447, 1.2184826503543367, 0.4897504444752817, 1.0975181333688733, -1.2899287196667168, 0.7672041598633657, -1.2666068328758595, 1.0388834302251584, -2.7642984677037763, 0.7743643434944764, 0.5383447940237172, 0.47174339868068116, -0.9813512577834447, -1.9094619873718108, 0.09403883020114603, -0.16567173008209463, 0.3497701577167347, 0.7786062683999717, -0.9749299704877334, 1.895335438858008, -0.4681186971331524, 1.6906002800833542, -0.3863554355065704, -2.0996821386621938, 0.13576410988414953, 0.49662193548416167, 0.6652139195938592, 1.318582804966973, -0.03610763629279586, -0.4325131784953337, -0.6569998826577392, 0.7840142952369771, 1.3376479675287218, -0.24358433096939566, 0.7227382172365205, -0.8355487413044241, 0.7365537375544133, -0.5896650123534253, 0.6979532707491521, 0.4168212480194256, -1.156999280240315, 0.49573377418729586, -0.8131742308332868, -0.023724459695214212, -0.6662885802270111, -0.5650900186908255, -0.14085214787252726, 0.5047821408545787, -1.5536765581644607, -0.12215501843578472, -0.47462127467704807, -0.739431884829175, -0.28716816395346373, 1.7938082735840795, -1.721425966026441, 0.6277844324474082, -0.13192234352890128, 0.5491320236601649, -0.5930336917559829, 0.13740697896731097, 1.1271661097434316, -0.5372438603757769, -0.7756176374275516, 1.9872765631996863, 1.1777260909975629]}, {\"line\": {\"color\": \"rgba(55, 128, 191, 1.0)\", \"dash\": \"solid\", \"shape\": \"linear\", \"width\": 1.3}, \"mode\": \"lines\", \"name\": \"B\", \"text\": \"\", \"type\": \"scatter\", \"x\": [0, 1, 2, 3, 4, 5, 6, 7, 8, 9, 10, 11, 12, 13, 14, 15, 16, 17, 18, 19, 20, 21, 22, 23, 24, 25, 26, 27, 28, 29, 30, 31, 32, 33, 34, 35, 36, 37, 38, 39, 40, 41, 42, 43, 44, 45, 46, 47, 48, 49, 50, 51, 52, 53, 54, 55, 56, 57, 58, 59, 60, 61, 62, 63, 64, 65, 66, 67, 68, 69, 70, 71, 72, 73, 74, 75, 76, 77, 78, 79, 80, 81, 82, 83, 84, 85, 86, 87, 88, 89, 90, 91, 92, 93, 94, 95, 96, 97, 98, 99], \"y\": [-0.7434989651960935, -0.4607615024270917, 1.8780782846811968, 0.04828809145899935, -0.0029359171677269995, -0.08753811400269597, -0.3979045501815003, -1.3587319206144035, 1.3058393881672048, -2.3358469828562334, 1.7778387243432399, -0.8702029541219694, 0.9935992049714233, 1.4798461388258817, 1.1275258510799964, 1.477737769433274, 0.36461748526784393, 0.1831140969875315, 0.17955620423002, 2.12826660679801, -1.1186449675805272, 1.1949120889777742, 0.6551153688968544, 0.7735108164924516, -0.7619829421982433, 0.3818031659229591, -0.13223350833946632, -1.0411027537542916, 0.7270464129765776, -0.46302451921768606, 0.5627073813462292, 0.08627527498922588, 0.20036806041275756, 0.01589035106560516, -1.5745988477361705, -0.5007655647549084, -1.874963053783075, -1.1902805653365587, -0.6179762986534144, 0.3369724337050894, -0.09505535904528267, -0.5306506763564895, -0.030613138796697234, 0.6341060188575188, 0.23753214374573461, 0.5756485863333742, -0.32928971144601865, 0.07337782328325868, -0.3357057393863871, 0.5900992992421492, -0.40898656611231804, -0.47322322257176525, 0.2934714022237347, -0.3757543883540172, -0.1585512845422061, -0.25357244880222723, -1.5140291466870681, -0.7753885030539748, 0.797052517782712, -0.3686557886848596, 0.2855546620487415, 1.6705044922929793, -0.43515134559370927, 1.6595080594016447, -0.7252495287174796, -0.8330399931977461, -0.679219802873046, 0.9390544951462232, 0.09387454731372896, -0.3566775006611743, -2.1088990387458413, 1.4528512643473823, -1.0261340964628949, 0.23497758020160772, -0.4534270194828116, 0.11397050565362599, 0.2381586255109007, 0.9988085406776966, 0.025876815884210955, -1.2177486952525969, 0.3174027772821797, 0.5425099678014165, -1.1060029879681268, -1.9040147003254828, -0.09788757039869198, 0.5027980532650275, 0.5946564386503808, 0.9040607377477198, -0.4997921123188726, 1.0758831897921548, 0.9939541985768044, 1.4467641393910968, 1.6622260071966777, -0.22074290486403597, 0.0831484383304875, -1.0252544617631951, 0.5697014336041655, -0.6944539659705443, 0.2582200223961893, 0.7920863962548249]}, {\"connectgaps\": false, \"fill\": \"tozeroy\", \"line\": {\"color\": \"green\", \"dash\": \"solid\", \"shape\": \"linear\", \"width\": 0.5}, \"mode\": \"lines\", \"name\": \"Spread\", \"showlegend\": false, \"type\": \"scatter\", \"x\": [0, 1, 2, 3, 4, 5, 6, 7, 8, 9, 10, 11, 12, 13, 14, 15, 16, 17, 18, 19, 20, 21, 22, 23, 24, 25, 26, 27, 28, 29, 30, 31, 32, 33, 34, 35, 36, 37, 38, 39, 40, 41, 42, 43, 44, 45, 46, 47, 48, 49, 50, 51, 52, 53, 54, 55, 56, 57, 58, 59, 60, 61, 62, 63, 64, 65, 66, 67, 68, 69, 70, 71, 72, 73, 74, 75, 76, 77, 78, 79, 80, 81, 82, 83, 84, 85, 86, 87, 88, 89, 90, 91, 92, 93, 94, 95, 96, 97, 98, 99], \"xaxis\": \"x2\", \"y\": [1.2115346828690736, 0.2798645480702152, \"\", \"\", 0.8175465399951719, 0.2390039857248642, 0.5251393323959729, 1.6938323593557476, \"\", 1.450073545022991, \"\", \"\", \"\", \"\", \"\", \"\", \"\", \"\", 0.5972718937417205, \"\", \"\", \"\", \"\", \"\", 0.11728225195664799, \"\", 0.16103131278860033, 0.15674772070716236, 0.3115937732686066, \"\", \"\", \"\", 0.49572324857562833, 0.7808441259620341, 1.2614848137924894, 0.9461220315784429, 3.0934457041374115, 1.6800310098118403, 1.7154944320222878, \"\", 0.8622595189086484, \"\", 1.0694965690218556, \"\", 0.5368321997487417, \"\", 0.8010331101266999, \"\", \"\", \"\", 0.2433148360302234, 0.8229933802884999, 0.485134866176237, \"\", 2.053886723400214, \"\", 3.2046294267704223, 0.38903306754740435, \"\", 0.5044198985690092, 0.21106727343542014, \"\", 1.7537341505606823, \"\", 0.2927363502221459, 0.1760401105400069, 1.4632340981100231, 0.39859347238249865, \"\", 1.0794157178976949, 1.273350297441417, \"\", 0.4364690841094696, 0.4629756905475444, 0.8702482675022372, \"\", 0.2575751486763952, \"\", \"\", 0.5514601150255858, \"\", \"\", 1.6107851288227055, 0.3503381421610221, \"\", \"\", \"\", \"\", 2.293600385902952, \"\", \"\", \"\", \"\", \"\", 0.05425854063682346, 2.1524205715066267, \"\", \"\", 1.729056540803497, 0.38563969474273796], \"yaxis\": \"y2\"}, {\"connectgaps\": false, \"fill\": \"tozeroy\", \"line\": {\"color\": \"red\", \"dash\": \"solid\", \"shape\": \"linear\", \"width\": 0.5}, \"mode\": \"lines\", \"name\": \"Spread\", \"showlegend\": false, \"type\": \"scatter\", \"x\": [0, 1, 2, 3, 4, 5, 6, 7, 8, 9, 10, 11, 12, 13, 14, 15, 16, 17, 18, 19, 20, 21, 22, 23, 24, 25, 26, 27, 28, 29, 30, 31, 32, 33, 34, 35, 36, 37, 38, 39, 40, 41, 42, 43, 44, 45, 46, 47, 48, 49, 50, 51, 52, 53, 54, 55, 56, 57, 58, 59, 60, 61, 62, 63, 64, 65, 66, 67, 68, 69, 70, 71, 72, 73, 74, 75, 76, 77, 78, 79, 80, 81, 82, 83, 84, 85, 86, 87, 88, 89, 90, 91, 92, 93, 94, 95, 96, 97, 98, 99], \"xaxis\": \"x2\", \"y\": [\"\", \"\", -1.874595090652051, -0.8986107662596858, \"\", \"\", \"\", \"\", -0.36442901063901834, \"\", -2.3480074294636895, -0.01915110982930801, -0.8534079728423971, -2.4462498605136638, -0.7921421426558398, -0.8075212671991023, -0.3798308636708201, -1.7921838672820678, \"\", -2.1491548128970783, -0.18937299487352943, -1.1876630795879062, -0.3605944586374653, -1.7727803531175153, \"\", -1.4723594729863612, \"\", \"\", \"\", -0.17424514675269176, -0.6381709916543532, -0.7748561667532845, \"\", \"\", \"\", \"\", \"\", \"\", \"\", -1.6269011533718063, \"\", -0.73595615651937, \"\", -3.398404486561295, \"\", -0.03730379230965708, \"\", -1.0547290810667034, -1.5737562479854237, -0.4960604690410032, \"\", \"\", \"\", -0.5991755821337162, \"\", -0.21454624833092517, \"\", \"\", -2.896734656444906, \"\", \"\", -1.0052905726991201, \"\", -1.6956156956944406, \"\", \"\", \"\", \"\", -0.3374588782831246, \"\", \"\", -0.716297526792969, \"\", \"\", \"\", -1.270969785893941, \"\", -1.8119827715109835, -0.04960127557942517, \"\", -0.8824927959730052, -0.6833621156739438, \"\", \"\", -0.024267448037092743, -0.9774193279420755, -1.3340883234795557, -1.1912289017011835, \"\", -2.7973091558185956, -0.3661697661293962, -1.578686482919998, -1.1130939835365128, -0.3722907868919469, \"\", \"\", -1.1069452939799422, -0.08116367145700731, \"\", \"\"], \"yaxis\": \"y2\"}],\n",
       "                        {\"hovermode\": \"x\", \"legend\": {\"bgcolor\": \"#F5F6F9\", \"font\": {\"color\": \"#4D5663\"}}, \"paper_bgcolor\": \"#F5F6F9\", \"plot_bgcolor\": \"#F5F6F9\", \"template\": {\"data\": {\"bar\": [{\"error_x\": {\"color\": \"#2a3f5f\"}, \"error_y\": {\"color\": \"#2a3f5f\"}, \"marker\": {\"line\": {\"color\": \"#E5ECF6\", \"width\": 0.5}}, \"type\": \"bar\"}], \"barpolar\": [{\"marker\": {\"line\": {\"color\": \"#E5ECF6\", \"width\": 0.5}}, \"type\": \"barpolar\"}], \"carpet\": [{\"aaxis\": {\"endlinecolor\": \"#2a3f5f\", \"gridcolor\": \"white\", \"linecolor\": \"white\", \"minorgridcolor\": \"white\", \"startlinecolor\": \"#2a3f5f\"}, \"baxis\": {\"endlinecolor\": \"#2a3f5f\", \"gridcolor\": \"white\", \"linecolor\": \"white\", \"minorgridcolor\": \"white\", \"startlinecolor\": \"#2a3f5f\"}, \"type\": \"carpet\"}], \"choropleth\": [{\"colorbar\": {\"outlinewidth\": 0, \"ticks\": \"\"}, \"type\": \"choropleth\"}], \"contour\": [{\"colorbar\": {\"outlinewidth\": 0, \"ticks\": \"\"}, \"colorscale\": [[0.0, \"#0d0887\"], [0.1111111111111111, \"#46039f\"], [0.2222222222222222, \"#7201a8\"], [0.3333333333333333, \"#9c179e\"], [0.4444444444444444, \"#bd3786\"], [0.5555555555555556, \"#d8576b\"], [0.6666666666666666, \"#ed7953\"], [0.7777777777777778, \"#fb9f3a\"], [0.8888888888888888, \"#fdca26\"], [1.0, \"#f0f921\"]], \"type\": \"contour\"}], \"contourcarpet\": [{\"colorbar\": {\"outlinewidth\": 0, \"ticks\": \"\"}, \"type\": \"contourcarpet\"}], \"heatmap\": [{\"colorbar\": {\"outlinewidth\": 0, \"ticks\": \"\"}, \"colorscale\": [[0.0, \"#0d0887\"], [0.1111111111111111, \"#46039f\"], [0.2222222222222222, \"#7201a8\"], [0.3333333333333333, \"#9c179e\"], [0.4444444444444444, \"#bd3786\"], [0.5555555555555556, \"#d8576b\"], [0.6666666666666666, \"#ed7953\"], [0.7777777777777778, \"#fb9f3a\"], [0.8888888888888888, \"#fdca26\"], [1.0, \"#f0f921\"]], \"type\": \"heatmap\"}], \"heatmapgl\": [{\"colorbar\": {\"outlinewidth\": 0, \"ticks\": \"\"}, \"colorscale\": [[0.0, \"#0d0887\"], [0.1111111111111111, \"#46039f\"], [0.2222222222222222, \"#7201a8\"], [0.3333333333333333, \"#9c179e\"], [0.4444444444444444, \"#bd3786\"], [0.5555555555555556, \"#d8576b\"], [0.6666666666666666, \"#ed7953\"], [0.7777777777777778, \"#fb9f3a\"], [0.8888888888888888, \"#fdca26\"], [1.0, \"#f0f921\"]], \"type\": \"heatmapgl\"}], \"histogram\": [{\"marker\": {\"colorbar\": {\"outlinewidth\": 0, \"ticks\": \"\"}}, \"type\": \"histogram\"}], \"histogram2d\": [{\"colorbar\": {\"outlinewidth\": 0, \"ticks\": \"\"}, \"colorscale\": [[0.0, \"#0d0887\"], [0.1111111111111111, \"#46039f\"], [0.2222222222222222, \"#7201a8\"], [0.3333333333333333, \"#9c179e\"], [0.4444444444444444, \"#bd3786\"], [0.5555555555555556, \"#d8576b\"], [0.6666666666666666, \"#ed7953\"], [0.7777777777777778, \"#fb9f3a\"], [0.8888888888888888, \"#fdca26\"], [1.0, \"#f0f921\"]], \"type\": \"histogram2d\"}], \"histogram2dcontour\": [{\"colorbar\": {\"outlinewidth\": 0, \"ticks\": \"\"}, \"colorscale\": [[0.0, \"#0d0887\"], [0.1111111111111111, \"#46039f\"], [0.2222222222222222, \"#7201a8\"], [0.3333333333333333, \"#9c179e\"], [0.4444444444444444, \"#bd3786\"], [0.5555555555555556, \"#d8576b\"], [0.6666666666666666, \"#ed7953\"], [0.7777777777777778, \"#fb9f3a\"], [0.8888888888888888, \"#fdca26\"], [1.0, \"#f0f921\"]], \"type\": \"histogram2dcontour\"}], \"mesh3d\": [{\"colorbar\": {\"outlinewidth\": 0, \"ticks\": \"\"}, \"type\": \"mesh3d\"}], \"parcoords\": [{\"line\": {\"colorbar\": {\"outlinewidth\": 0, \"ticks\": \"\"}}, \"type\": \"parcoords\"}], \"pie\": [{\"automargin\": true, \"type\": \"pie\"}], \"scatter\": [{\"marker\": {\"colorbar\": {\"outlinewidth\": 0, \"ticks\": \"\"}}, \"type\": \"scatter\"}], \"scatter3d\": [{\"line\": {\"colorbar\": {\"outlinewidth\": 0, \"ticks\": \"\"}}, \"marker\": {\"colorbar\": {\"outlinewidth\": 0, \"ticks\": \"\"}}, \"type\": \"scatter3d\"}], \"scattercarpet\": [{\"marker\": {\"colorbar\": {\"outlinewidth\": 0, \"ticks\": \"\"}}, \"type\": \"scattercarpet\"}], \"scattergeo\": [{\"marker\": {\"colorbar\": {\"outlinewidth\": 0, \"ticks\": \"\"}}, \"type\": \"scattergeo\"}], \"scattergl\": [{\"marker\": {\"colorbar\": {\"outlinewidth\": 0, \"ticks\": \"\"}}, \"type\": \"scattergl\"}], \"scattermapbox\": [{\"marker\": {\"colorbar\": {\"outlinewidth\": 0, \"ticks\": \"\"}}, \"type\": \"scattermapbox\"}], \"scatterpolar\": [{\"marker\": {\"colorbar\": {\"outlinewidth\": 0, \"ticks\": \"\"}}, \"type\": \"scatterpolar\"}], \"scatterpolargl\": [{\"marker\": {\"colorbar\": {\"outlinewidth\": 0, \"ticks\": \"\"}}, \"type\": \"scatterpolargl\"}], \"scatterternary\": [{\"marker\": {\"colorbar\": {\"outlinewidth\": 0, \"ticks\": \"\"}}, \"type\": \"scatterternary\"}], \"surface\": [{\"colorbar\": {\"outlinewidth\": 0, \"ticks\": \"\"}, \"colorscale\": [[0.0, \"#0d0887\"], [0.1111111111111111, \"#46039f\"], [0.2222222222222222, \"#7201a8\"], [0.3333333333333333, \"#9c179e\"], [0.4444444444444444, \"#bd3786\"], [0.5555555555555556, \"#d8576b\"], [0.6666666666666666, \"#ed7953\"], [0.7777777777777778, \"#fb9f3a\"], [0.8888888888888888, \"#fdca26\"], [1.0, \"#f0f921\"]], \"type\": \"surface\"}], \"table\": [{\"cells\": {\"fill\": {\"color\": \"#EBF0F8\"}, \"line\": {\"color\": \"white\"}}, \"header\": {\"fill\": {\"color\": \"#C8D4E3\"}, \"line\": {\"color\": \"white\"}}, \"type\": \"table\"}]}, \"layout\": {\"annotationdefaults\": {\"arrowcolor\": \"#2a3f5f\", \"arrowhead\": 0, \"arrowwidth\": 1}, \"coloraxis\": {\"colorbar\": {\"outlinewidth\": 0, \"ticks\": \"\"}}, \"colorscale\": {\"diverging\": [[0, \"#8e0152\"], [0.1, \"#c51b7d\"], [0.2, \"#de77ae\"], [0.3, \"#f1b6da\"], [0.4, \"#fde0ef\"], [0.5, \"#f7f7f7\"], [0.6, \"#e6f5d0\"], [0.7, \"#b8e186\"], [0.8, \"#7fbc41\"], [0.9, \"#4d9221\"], [1, \"#276419\"]], \"sequential\": [[0.0, \"#0d0887\"], [0.1111111111111111, \"#46039f\"], [0.2222222222222222, \"#7201a8\"], [0.3333333333333333, \"#9c179e\"], [0.4444444444444444, \"#bd3786\"], [0.5555555555555556, \"#d8576b\"], [0.6666666666666666, \"#ed7953\"], [0.7777777777777778, \"#fb9f3a\"], [0.8888888888888888, \"#fdca26\"], [1.0, \"#f0f921\"]], \"sequentialminus\": [[0.0, \"#0d0887\"], [0.1111111111111111, \"#46039f\"], [0.2222222222222222, \"#7201a8\"], [0.3333333333333333, \"#9c179e\"], [0.4444444444444444, \"#bd3786\"], [0.5555555555555556, \"#d8576b\"], [0.6666666666666666, \"#ed7953\"], [0.7777777777777778, \"#fb9f3a\"], [0.8888888888888888, \"#fdca26\"], [1.0, \"#f0f921\"]]}, \"colorway\": [\"#636efa\", \"#EF553B\", \"#00cc96\", \"#ab63fa\", \"#FFA15A\", \"#19d3f3\", \"#FF6692\", \"#B6E880\", \"#FF97FF\", \"#FECB52\"], \"font\": {\"color\": \"#2a3f5f\"}, \"geo\": {\"bgcolor\": \"white\", \"lakecolor\": \"white\", \"landcolor\": \"#E5ECF6\", \"showlakes\": true, \"showland\": true, \"subunitcolor\": \"white\"}, \"hoverlabel\": {\"align\": \"left\"}, \"hovermode\": \"closest\", \"mapbox\": {\"style\": \"light\"}, \"paper_bgcolor\": \"white\", \"plot_bgcolor\": \"#E5ECF6\", \"polar\": {\"angularaxis\": {\"gridcolor\": \"white\", \"linecolor\": \"white\", \"ticks\": \"\"}, \"bgcolor\": \"#E5ECF6\", \"radialaxis\": {\"gridcolor\": \"white\", \"linecolor\": \"white\", \"ticks\": \"\"}}, \"scene\": {\"xaxis\": {\"backgroundcolor\": \"#E5ECF6\", \"gridcolor\": \"white\", \"gridwidth\": 2, \"linecolor\": \"white\", \"showbackground\": true, \"ticks\": \"\", \"zerolinecolor\": \"white\"}, \"yaxis\": {\"backgroundcolor\": \"#E5ECF6\", \"gridcolor\": \"white\", \"gridwidth\": 2, \"linecolor\": \"white\", \"showbackground\": true, \"ticks\": \"\", \"zerolinecolor\": \"white\"}, \"zaxis\": {\"backgroundcolor\": \"#E5ECF6\", \"gridcolor\": \"white\", \"gridwidth\": 2, \"linecolor\": \"white\", \"showbackground\": true, \"ticks\": \"\", \"zerolinecolor\": \"white\"}}, \"shapedefaults\": {\"line\": {\"color\": \"#2a3f5f\"}}, \"ternary\": {\"aaxis\": {\"gridcolor\": \"white\", \"linecolor\": \"white\", \"ticks\": \"\"}, \"baxis\": {\"gridcolor\": \"white\", \"linecolor\": \"white\", \"ticks\": \"\"}, \"bgcolor\": \"#E5ECF6\", \"caxis\": {\"gridcolor\": \"white\", \"linecolor\": \"white\", \"ticks\": \"\"}}, \"title\": {\"x\": 0.05}, \"xaxis\": {\"automargin\": true, \"gridcolor\": \"white\", \"linecolor\": \"white\", \"ticks\": \"\", \"title\": {\"standoff\": 15}, \"zerolinecolor\": \"white\", \"zerolinewidth\": 2}, \"yaxis\": {\"automargin\": true, \"gridcolor\": \"white\", \"linecolor\": \"white\", \"ticks\": \"\", \"title\": {\"standoff\": 15}, \"zerolinecolor\": \"white\", \"zerolinewidth\": 2}}}, \"title\": {\"font\": {\"color\": \"#4D5663\"}}, \"xaxis\": {\"gridcolor\": \"#E1E5ED\", \"showgrid\": true, \"tickfont\": {\"color\": \"#4D5663\"}, \"title\": {\"font\": {\"color\": \"#4D5663\"}, \"text\": \"\"}, \"zerolinecolor\": \"#E1E5ED\"}, \"xaxis2\": {\"anchor\": \"y2\", \"gridcolor\": \"#E1E5ED\", \"showgrid\": true, \"showticklabels\": false, \"tickfont\": {\"color\": \"#4D5663\"}, \"title\": {\"font\": {\"color\": \"#4D5663\"}, \"text\": \"\"}, \"zerolinecolor\": \"#E1E5ED\"}, \"yaxis\": {\"domain\": [0.3, 1], \"gridcolor\": \"#E1E5ED\", \"showgrid\": true, \"tickfont\": {\"color\": \"#4D5663\"}, \"title\": {\"font\": {\"color\": \"#4D5663\"}, \"text\": \"\"}, \"zerolinecolor\": \"#E1E5ED\"}, \"yaxis2\": {\"domain\": [0, 0.25], \"gridcolor\": \"#E1E5ED\", \"showgrid\": true, \"tickfont\": {\"color\": \"#4D5663\"}, \"title\": {\"font\": {\"color\": \"#4D5663\"}, \"text\": \"Spread\"}, \"zerolinecolor\": \"#E1E5ED\"}},\n",
       "                        {\"showLink\": true, \"linkText\": \"Export to plot.ly\", \"plotlyServerURL\": \"https://plot.ly\", \"responsive\": true}\n",
       "                    ).then(function(){\n",
       "                            \n",
       "var gd = document.getElementById('a795dd56-147e-4dad-9515-3745e2d62861');\n",
       "var x = new MutationObserver(function (mutations, observer) {{\n",
       "        var display = window.getComputedStyle(gd).display;\n",
       "        if (!display || display === 'none') {{\n",
       "            console.log([gd, 'removed!']);\n",
       "            Plotly.purge(gd);\n",
       "            observer.disconnect();\n",
       "        }}\n",
       "}});\n",
       "\n",
       "// Listen for the removal of the full notebook cells\n",
       "var notebookContainer = gd.closest('#notebook-container');\n",
       "if (notebookContainer) {{\n",
       "    x.observe(notebookContainer, {childList: true});\n",
       "}}\n",
       "\n",
       "// Listen for the clearing of the current output cell\n",
       "var outputEl = gd.closest('.output');\n",
       "if (outputEl) {{\n",
       "    x.observe(outputEl, {childList: true});\n",
       "}}\n",
       "\n",
       "                        })\n",
       "                };\n",
       "                });\n",
       "            </script>\n",
       "        </div>"
      ]
     },
     "metadata": {},
     "output_type": "display_data"
    }
   ],
   "source": [
    "df[['A','B']].iplot(kind='spread')"
   ]
  },
  {
   "cell_type": "markdown",
   "metadata": {},
   "source": [
    "## histogram"
   ]
  },
  {
   "cell_type": "code",
   "execution_count": 29,
   "metadata": {
    "jupyter": {
     "outputs_hidden": false
    }
   },
   "outputs": [
    {
     "data": {
      "application/vnd.plotly.v1+json": {
       "config": {
        "linkText": "Export to plot.ly",
        "plotlyServerURL": "https://plot.ly",
        "showLink": true
       },
       "data": [
        {
         "histfunc": "count",
         "histnorm": "",
         "marker": {
          "color": "rgba(255, 153, 51, 1.0)",
          "line": {
           "color": "#4D5663",
           "width": 1.3
          }
         },
         "name": "A",
         "nbinsx": 25,
         "opacity": 0.8,
         "orientation": "v",
         "type": "histogram",
         "x": [
          0.4680357176729802,
          -0.18089695435687647,
          0.003483194029145718,
          -0.8503226748006865,
          0.8146106228274449,
          0.15146587172216824,
          0.12723478221447262,
          0.3351004387413441,
          0.9414103775281865,
          -0.8857734378332426,
          -0.5701687051204497,
          -0.8893540639512774,
          0.14019123212902615,
          -0.966403721687782,
          0.33538370842415655,
          0.6702165022341717,
          -0.015213378402976164,
          -1.6090697702945362,
          0.7768280979717406,
          -0.020888206099068173,
          -1.3080179624540567,
          0.007249009389868164,
          0.2945209102593891,
          -0.9992695366250636,
          -0.6447006902415953,
          -1.0905563070634021,
          0.028797804449134032,
          -0.8843550330471293,
          1.0386401862451842,
          -0.6372696659703778,
          -0.07546361030812403,
          -0.6885808917640587,
          0.6960913089883859,
          0.7967344770276393,
          -0.31311403394368115,
          0.44535646682353447,
          1.2184826503543367,
          0.4897504444752817,
          1.0975181333688733,
          -1.2899287196667168,
          0.7672041598633657,
          -1.2666068328758595,
          1.0388834302251584,
          -2.7642984677037763,
          0.7743643434944764,
          0.5383447940237172,
          0.47174339868068116,
          -0.9813512577834447,
          -1.9094619873718108,
          0.09403883020114603,
          -0.16567173008209463,
          0.3497701577167347,
          0.7786062683999717,
          -0.9749299704877334,
          1.895335438858008,
          -0.4681186971331524,
          1.6906002800833542,
          -0.3863554355065704,
          -2.0996821386621938,
          0.13576410988414953,
          0.49662193548416167,
          0.6652139195938592,
          1.318582804966973,
          -0.03610763629279586,
          -0.4325131784953337,
          -0.6569998826577392,
          0.7840142952369771,
          1.3376479675287218,
          -0.24358433096939566,
          0.7227382172365205,
          -0.8355487413044241,
          0.7365537375544133,
          -0.5896650123534253,
          0.6979532707491521,
          0.4168212480194256,
          -1.156999280240315,
          0.49573377418729586,
          -0.8131742308332868,
          -0.023724459695214212,
          -0.6662885802270111,
          -0.5650900186908255,
          -0.14085214787252726,
          0.5047821408545787,
          -1.5536765581644607,
          -0.12215501843578472,
          -0.47462127467704807,
          -0.739431884829175,
          -0.28716816395346373,
          1.7938082735840795,
          -1.721425966026441,
          0.6277844324474082,
          -0.13192234352890128,
          0.5491320236601649,
          -0.5930336917559829,
          0.13740697896731097,
          1.1271661097434316,
          -0.5372438603757769,
          -0.7756176374275516,
          1.9872765631996863,
          1.1777260909975629
         ]
        }
       ],
       "layout": {
        "barmode": "overlay",
        "legend": {
         "bgcolor": "#F5F6F9",
         "font": {
          "color": "#4D5663"
         }
        },
        "paper_bgcolor": "#F5F6F9",
        "plot_bgcolor": "#F5F6F9",
        "template": {
         "data": {
          "bar": [
           {
            "error_x": {
             "color": "#2a3f5f"
            },
            "error_y": {
             "color": "#2a3f5f"
            },
            "marker": {
             "line": {
              "color": "#E5ECF6",
              "width": 0.5
             }
            },
            "type": "bar"
           }
          ],
          "barpolar": [
           {
            "marker": {
             "line": {
              "color": "#E5ECF6",
              "width": 0.5
             }
            },
            "type": "barpolar"
           }
          ],
          "carpet": [
           {
            "aaxis": {
             "endlinecolor": "#2a3f5f",
             "gridcolor": "white",
             "linecolor": "white",
             "minorgridcolor": "white",
             "startlinecolor": "#2a3f5f"
            },
            "baxis": {
             "endlinecolor": "#2a3f5f",
             "gridcolor": "white",
             "linecolor": "white",
             "minorgridcolor": "white",
             "startlinecolor": "#2a3f5f"
            },
            "type": "carpet"
           }
          ],
          "choropleth": [
           {
            "colorbar": {
             "outlinewidth": 0,
             "ticks": ""
            },
            "type": "choropleth"
           }
          ],
          "contour": [
           {
            "colorbar": {
             "outlinewidth": 0,
             "ticks": ""
            },
            "colorscale": [
             [
              0,
              "#0d0887"
             ],
             [
              0.1111111111111111,
              "#46039f"
             ],
             [
              0.2222222222222222,
              "#7201a8"
             ],
             [
              0.3333333333333333,
              "#9c179e"
             ],
             [
              0.4444444444444444,
              "#bd3786"
             ],
             [
              0.5555555555555556,
              "#d8576b"
             ],
             [
              0.6666666666666666,
              "#ed7953"
             ],
             [
              0.7777777777777778,
              "#fb9f3a"
             ],
             [
              0.8888888888888888,
              "#fdca26"
             ],
             [
              1,
              "#f0f921"
             ]
            ],
            "type": "contour"
           }
          ],
          "contourcarpet": [
           {
            "colorbar": {
             "outlinewidth": 0,
             "ticks": ""
            },
            "type": "contourcarpet"
           }
          ],
          "heatmap": [
           {
            "colorbar": {
             "outlinewidth": 0,
             "ticks": ""
            },
            "colorscale": [
             [
              0,
              "#0d0887"
             ],
             [
              0.1111111111111111,
              "#46039f"
             ],
             [
              0.2222222222222222,
              "#7201a8"
             ],
             [
              0.3333333333333333,
              "#9c179e"
             ],
             [
              0.4444444444444444,
              "#bd3786"
             ],
             [
              0.5555555555555556,
              "#d8576b"
             ],
             [
              0.6666666666666666,
              "#ed7953"
             ],
             [
              0.7777777777777778,
              "#fb9f3a"
             ],
             [
              0.8888888888888888,
              "#fdca26"
             ],
             [
              1,
              "#f0f921"
             ]
            ],
            "type": "heatmap"
           }
          ],
          "heatmapgl": [
           {
            "colorbar": {
             "outlinewidth": 0,
             "ticks": ""
            },
            "colorscale": [
             [
              0,
              "#0d0887"
             ],
             [
              0.1111111111111111,
              "#46039f"
             ],
             [
              0.2222222222222222,
              "#7201a8"
             ],
             [
              0.3333333333333333,
              "#9c179e"
             ],
             [
              0.4444444444444444,
              "#bd3786"
             ],
             [
              0.5555555555555556,
              "#d8576b"
             ],
             [
              0.6666666666666666,
              "#ed7953"
             ],
             [
              0.7777777777777778,
              "#fb9f3a"
             ],
             [
              0.8888888888888888,
              "#fdca26"
             ],
             [
              1,
              "#f0f921"
             ]
            ],
            "type": "heatmapgl"
           }
          ],
          "histogram": [
           {
            "marker": {
             "colorbar": {
              "outlinewidth": 0,
              "ticks": ""
             }
            },
            "type": "histogram"
           }
          ],
          "histogram2d": [
           {
            "colorbar": {
             "outlinewidth": 0,
             "ticks": ""
            },
            "colorscale": [
             [
              0,
              "#0d0887"
             ],
             [
              0.1111111111111111,
              "#46039f"
             ],
             [
              0.2222222222222222,
              "#7201a8"
             ],
             [
              0.3333333333333333,
              "#9c179e"
             ],
             [
              0.4444444444444444,
              "#bd3786"
             ],
             [
              0.5555555555555556,
              "#d8576b"
             ],
             [
              0.6666666666666666,
              "#ed7953"
             ],
             [
              0.7777777777777778,
              "#fb9f3a"
             ],
             [
              0.8888888888888888,
              "#fdca26"
             ],
             [
              1,
              "#f0f921"
             ]
            ],
            "type": "histogram2d"
           }
          ],
          "histogram2dcontour": [
           {
            "colorbar": {
             "outlinewidth": 0,
             "ticks": ""
            },
            "colorscale": [
             [
              0,
              "#0d0887"
             ],
             [
              0.1111111111111111,
              "#46039f"
             ],
             [
              0.2222222222222222,
              "#7201a8"
             ],
             [
              0.3333333333333333,
              "#9c179e"
             ],
             [
              0.4444444444444444,
              "#bd3786"
             ],
             [
              0.5555555555555556,
              "#d8576b"
             ],
             [
              0.6666666666666666,
              "#ed7953"
             ],
             [
              0.7777777777777778,
              "#fb9f3a"
             ],
             [
              0.8888888888888888,
              "#fdca26"
             ],
             [
              1,
              "#f0f921"
             ]
            ],
            "type": "histogram2dcontour"
           }
          ],
          "mesh3d": [
           {
            "colorbar": {
             "outlinewidth": 0,
             "ticks": ""
            },
            "type": "mesh3d"
           }
          ],
          "parcoords": [
           {
            "line": {
             "colorbar": {
              "outlinewidth": 0,
              "ticks": ""
             }
            },
            "type": "parcoords"
           }
          ],
          "pie": [
           {
            "automargin": true,
            "type": "pie"
           }
          ],
          "scatter": [
           {
            "marker": {
             "colorbar": {
              "outlinewidth": 0,
              "ticks": ""
             }
            },
            "type": "scatter"
           }
          ],
          "scatter3d": [
           {
            "line": {
             "colorbar": {
              "outlinewidth": 0,
              "ticks": ""
             }
            },
            "marker": {
             "colorbar": {
              "outlinewidth": 0,
              "ticks": ""
             }
            },
            "type": "scatter3d"
           }
          ],
          "scattercarpet": [
           {
            "marker": {
             "colorbar": {
              "outlinewidth": 0,
              "ticks": ""
             }
            },
            "type": "scattercarpet"
           }
          ],
          "scattergeo": [
           {
            "marker": {
             "colorbar": {
              "outlinewidth": 0,
              "ticks": ""
             }
            },
            "type": "scattergeo"
           }
          ],
          "scattergl": [
           {
            "marker": {
             "colorbar": {
              "outlinewidth": 0,
              "ticks": ""
             }
            },
            "type": "scattergl"
           }
          ],
          "scattermapbox": [
           {
            "marker": {
             "colorbar": {
              "outlinewidth": 0,
              "ticks": ""
             }
            },
            "type": "scattermapbox"
           }
          ],
          "scatterpolar": [
           {
            "marker": {
             "colorbar": {
              "outlinewidth": 0,
              "ticks": ""
             }
            },
            "type": "scatterpolar"
           }
          ],
          "scatterpolargl": [
           {
            "marker": {
             "colorbar": {
              "outlinewidth": 0,
              "ticks": ""
             }
            },
            "type": "scatterpolargl"
           }
          ],
          "scatterternary": [
           {
            "marker": {
             "colorbar": {
              "outlinewidth": 0,
              "ticks": ""
             }
            },
            "type": "scatterternary"
           }
          ],
          "surface": [
           {
            "colorbar": {
             "outlinewidth": 0,
             "ticks": ""
            },
            "colorscale": [
             [
              0,
              "#0d0887"
             ],
             [
              0.1111111111111111,
              "#46039f"
             ],
             [
              0.2222222222222222,
              "#7201a8"
             ],
             [
              0.3333333333333333,
              "#9c179e"
             ],
             [
              0.4444444444444444,
              "#bd3786"
             ],
             [
              0.5555555555555556,
              "#d8576b"
             ],
             [
              0.6666666666666666,
              "#ed7953"
             ],
             [
              0.7777777777777778,
              "#fb9f3a"
             ],
             [
              0.8888888888888888,
              "#fdca26"
             ],
             [
              1,
              "#f0f921"
             ]
            ],
            "type": "surface"
           }
          ],
          "table": [
           {
            "cells": {
             "fill": {
              "color": "#EBF0F8"
             },
             "line": {
              "color": "white"
             }
            },
            "header": {
             "fill": {
              "color": "#C8D4E3"
             },
             "line": {
              "color": "white"
             }
            },
            "type": "table"
           }
          ]
         },
         "layout": {
          "annotationdefaults": {
           "arrowcolor": "#2a3f5f",
           "arrowhead": 0,
           "arrowwidth": 1
          },
          "coloraxis": {
           "colorbar": {
            "outlinewidth": 0,
            "ticks": ""
           }
          },
          "colorscale": {
           "diverging": [
            [
             0,
             "#8e0152"
            ],
            [
             0.1,
             "#c51b7d"
            ],
            [
             0.2,
             "#de77ae"
            ],
            [
             0.3,
             "#f1b6da"
            ],
            [
             0.4,
             "#fde0ef"
            ],
            [
             0.5,
             "#f7f7f7"
            ],
            [
             0.6,
             "#e6f5d0"
            ],
            [
             0.7,
             "#b8e186"
            ],
            [
             0.8,
             "#7fbc41"
            ],
            [
             0.9,
             "#4d9221"
            ],
            [
             1,
             "#276419"
            ]
           ],
           "sequential": [
            [
             0,
             "#0d0887"
            ],
            [
             0.1111111111111111,
             "#46039f"
            ],
            [
             0.2222222222222222,
             "#7201a8"
            ],
            [
             0.3333333333333333,
             "#9c179e"
            ],
            [
             0.4444444444444444,
             "#bd3786"
            ],
            [
             0.5555555555555556,
             "#d8576b"
            ],
            [
             0.6666666666666666,
             "#ed7953"
            ],
            [
             0.7777777777777778,
             "#fb9f3a"
            ],
            [
             0.8888888888888888,
             "#fdca26"
            ],
            [
             1,
             "#f0f921"
            ]
           ],
           "sequentialminus": [
            [
             0,
             "#0d0887"
            ],
            [
             0.1111111111111111,
             "#46039f"
            ],
            [
             0.2222222222222222,
             "#7201a8"
            ],
            [
             0.3333333333333333,
             "#9c179e"
            ],
            [
             0.4444444444444444,
             "#bd3786"
            ],
            [
             0.5555555555555556,
             "#d8576b"
            ],
            [
             0.6666666666666666,
             "#ed7953"
            ],
            [
             0.7777777777777778,
             "#fb9f3a"
            ],
            [
             0.8888888888888888,
             "#fdca26"
            ],
            [
             1,
             "#f0f921"
            ]
           ]
          },
          "colorway": [
           "#636efa",
           "#EF553B",
           "#00cc96",
           "#ab63fa",
           "#FFA15A",
           "#19d3f3",
           "#FF6692",
           "#B6E880",
           "#FF97FF",
           "#FECB52"
          ],
          "font": {
           "color": "#2a3f5f"
          },
          "geo": {
           "bgcolor": "white",
           "lakecolor": "white",
           "landcolor": "#E5ECF6",
           "showlakes": true,
           "showland": true,
           "subunitcolor": "white"
          },
          "hoverlabel": {
           "align": "left"
          },
          "hovermode": "closest",
          "mapbox": {
           "style": "light"
          },
          "paper_bgcolor": "white",
          "plot_bgcolor": "#E5ECF6",
          "polar": {
           "angularaxis": {
            "gridcolor": "white",
            "linecolor": "white",
            "ticks": ""
           },
           "bgcolor": "#E5ECF6",
           "radialaxis": {
            "gridcolor": "white",
            "linecolor": "white",
            "ticks": ""
           }
          },
          "scene": {
           "xaxis": {
            "backgroundcolor": "#E5ECF6",
            "gridcolor": "white",
            "gridwidth": 2,
            "linecolor": "white",
            "showbackground": true,
            "ticks": "",
            "zerolinecolor": "white"
           },
           "yaxis": {
            "backgroundcolor": "#E5ECF6",
            "gridcolor": "white",
            "gridwidth": 2,
            "linecolor": "white",
            "showbackground": true,
            "ticks": "",
            "zerolinecolor": "white"
           },
           "zaxis": {
            "backgroundcolor": "#E5ECF6",
            "gridcolor": "white",
            "gridwidth": 2,
            "linecolor": "white",
            "showbackground": true,
            "ticks": "",
            "zerolinecolor": "white"
           }
          },
          "shapedefaults": {
           "line": {
            "color": "#2a3f5f"
           }
          },
          "ternary": {
           "aaxis": {
            "gridcolor": "white",
            "linecolor": "white",
            "ticks": ""
           },
           "baxis": {
            "gridcolor": "white",
            "linecolor": "white",
            "ticks": ""
           },
           "bgcolor": "#E5ECF6",
           "caxis": {
            "gridcolor": "white",
            "linecolor": "white",
            "ticks": ""
           }
          },
          "title": {
           "x": 0.05
          },
          "xaxis": {
           "automargin": true,
           "gridcolor": "white",
           "linecolor": "white",
           "ticks": "",
           "title": {
            "standoff": 15
           },
           "zerolinecolor": "white",
           "zerolinewidth": 2
          },
          "yaxis": {
           "automargin": true,
           "gridcolor": "white",
           "linecolor": "white",
           "ticks": "",
           "title": {
            "standoff": 15
           },
           "zerolinecolor": "white",
           "zerolinewidth": 2
          }
         }
        },
        "title": {
         "font": {
          "color": "#4D5663"
         }
        },
        "xaxis": {
         "gridcolor": "#E1E5ED",
         "showgrid": true,
         "tickfont": {
          "color": "#4D5663"
         },
         "title": {
          "font": {
           "color": "#4D5663"
          },
          "text": ""
         },
         "zerolinecolor": "#E1E5ED"
        },
        "yaxis": {
         "gridcolor": "#E1E5ED",
         "showgrid": true,
         "tickfont": {
          "color": "#4D5663"
         },
         "title": {
          "font": {
           "color": "#4D5663"
          },
          "text": ""
         },
         "zerolinecolor": "#E1E5ED"
        }
       }
      },
      "text/html": [
       "<div>\n",
       "        \n",
       "        \n",
       "            <div id=\"17920090-ab70-4f76-b01a-8aea63ca04f5\" class=\"plotly-graph-div\" style=\"height:525px; width:100%;\"></div>\n",
       "            <script type=\"text/javascript\">\n",
       "                require([\"plotly\"], function(Plotly) {\n",
       "                    window.PLOTLYENV=window.PLOTLYENV || {};\n",
       "                    window.PLOTLYENV.BASE_URL='https://plot.ly';\n",
       "                    \n",
       "                if (document.getElementById(\"17920090-ab70-4f76-b01a-8aea63ca04f5\")) {\n",
       "                    Plotly.newPlot(\n",
       "                        '17920090-ab70-4f76-b01a-8aea63ca04f5',\n",
       "                        [{\"histfunc\": \"count\", \"histnorm\": \"\", \"marker\": {\"color\": \"rgba(255, 153, 51, 1.0)\", \"line\": {\"color\": \"#4D5663\", \"width\": 1.3}}, \"name\": \"A\", \"nbinsx\": 25, \"opacity\": 0.8, \"orientation\": \"v\", \"type\": \"histogram\", \"x\": [0.4680357176729802, -0.18089695435687647, 0.003483194029145718, -0.8503226748006865, 0.8146106228274449, 0.15146587172216824, 0.12723478221447262, 0.3351004387413441, 0.9414103775281865, -0.8857734378332426, -0.5701687051204497, -0.8893540639512774, 0.14019123212902615, -0.966403721687782, 0.33538370842415655, 0.6702165022341717, -0.015213378402976164, -1.6090697702945362, 0.7768280979717406, -0.020888206099068173, -1.3080179624540567, 0.007249009389868164, 0.2945209102593891, -0.9992695366250636, -0.6447006902415953, -1.0905563070634021, 0.028797804449134032, -0.8843550330471293, 1.0386401862451842, -0.6372696659703778, -0.07546361030812403, -0.6885808917640587, 0.6960913089883859, 0.7967344770276393, -0.31311403394368115, 0.44535646682353447, 1.2184826503543367, 0.4897504444752817, 1.0975181333688733, -1.2899287196667168, 0.7672041598633657, -1.2666068328758595, 1.0388834302251584, -2.7642984677037763, 0.7743643434944764, 0.5383447940237172, 0.47174339868068116, -0.9813512577834447, -1.9094619873718108, 0.09403883020114603, -0.16567173008209463, 0.3497701577167347, 0.7786062683999717, -0.9749299704877334, 1.895335438858008, -0.4681186971331524, 1.6906002800833542, -0.3863554355065704, -2.0996821386621938, 0.13576410988414953, 0.49662193548416167, 0.6652139195938592, 1.318582804966973, -0.03610763629279586, -0.4325131784953337, -0.6569998826577392, 0.7840142952369771, 1.3376479675287218, -0.24358433096939566, 0.7227382172365205, -0.8355487413044241, 0.7365537375544133, -0.5896650123534253, 0.6979532707491521, 0.4168212480194256, -1.156999280240315, 0.49573377418729586, -0.8131742308332868, -0.023724459695214212, -0.6662885802270111, -0.5650900186908255, -0.14085214787252726, 0.5047821408545787, -1.5536765581644607, -0.12215501843578472, -0.47462127467704807, -0.739431884829175, -0.28716816395346373, 1.7938082735840795, -1.721425966026441, 0.6277844324474082, -0.13192234352890128, 0.5491320236601649, -0.5930336917559829, 0.13740697896731097, 1.1271661097434316, -0.5372438603757769, -0.7756176374275516, 1.9872765631996863, 1.1777260909975629]}],\n",
       "                        {\"barmode\": \"overlay\", \"legend\": {\"bgcolor\": \"#F5F6F9\", \"font\": {\"color\": \"#4D5663\"}}, \"paper_bgcolor\": \"#F5F6F9\", \"plot_bgcolor\": \"#F5F6F9\", \"template\": {\"data\": {\"bar\": [{\"error_x\": {\"color\": \"#2a3f5f\"}, \"error_y\": {\"color\": \"#2a3f5f\"}, \"marker\": {\"line\": {\"color\": \"#E5ECF6\", \"width\": 0.5}}, \"type\": \"bar\"}], \"barpolar\": [{\"marker\": {\"line\": {\"color\": \"#E5ECF6\", \"width\": 0.5}}, \"type\": \"barpolar\"}], \"carpet\": [{\"aaxis\": {\"endlinecolor\": \"#2a3f5f\", \"gridcolor\": \"white\", \"linecolor\": \"white\", \"minorgridcolor\": \"white\", \"startlinecolor\": \"#2a3f5f\"}, \"baxis\": {\"endlinecolor\": \"#2a3f5f\", \"gridcolor\": \"white\", \"linecolor\": \"white\", \"minorgridcolor\": \"white\", \"startlinecolor\": \"#2a3f5f\"}, \"type\": \"carpet\"}], \"choropleth\": [{\"colorbar\": {\"outlinewidth\": 0, \"ticks\": \"\"}, \"type\": \"choropleth\"}], \"contour\": [{\"colorbar\": {\"outlinewidth\": 0, \"ticks\": \"\"}, \"colorscale\": [[0.0, \"#0d0887\"], [0.1111111111111111, \"#46039f\"], [0.2222222222222222, \"#7201a8\"], [0.3333333333333333, \"#9c179e\"], [0.4444444444444444, \"#bd3786\"], [0.5555555555555556, \"#d8576b\"], [0.6666666666666666, \"#ed7953\"], [0.7777777777777778, \"#fb9f3a\"], [0.8888888888888888, \"#fdca26\"], [1.0, \"#f0f921\"]], \"type\": \"contour\"}], \"contourcarpet\": [{\"colorbar\": {\"outlinewidth\": 0, \"ticks\": \"\"}, \"type\": \"contourcarpet\"}], \"heatmap\": [{\"colorbar\": {\"outlinewidth\": 0, \"ticks\": \"\"}, \"colorscale\": [[0.0, \"#0d0887\"], [0.1111111111111111, \"#46039f\"], [0.2222222222222222, \"#7201a8\"], [0.3333333333333333, \"#9c179e\"], [0.4444444444444444, \"#bd3786\"], [0.5555555555555556, \"#d8576b\"], [0.6666666666666666, \"#ed7953\"], [0.7777777777777778, \"#fb9f3a\"], [0.8888888888888888, \"#fdca26\"], [1.0, \"#f0f921\"]], \"type\": \"heatmap\"}], \"heatmapgl\": [{\"colorbar\": {\"outlinewidth\": 0, \"ticks\": \"\"}, \"colorscale\": [[0.0, \"#0d0887\"], [0.1111111111111111, \"#46039f\"], [0.2222222222222222, \"#7201a8\"], [0.3333333333333333, \"#9c179e\"], [0.4444444444444444, \"#bd3786\"], [0.5555555555555556, \"#d8576b\"], [0.6666666666666666, \"#ed7953\"], [0.7777777777777778, \"#fb9f3a\"], [0.8888888888888888, \"#fdca26\"], [1.0, \"#f0f921\"]], \"type\": \"heatmapgl\"}], \"histogram\": [{\"marker\": {\"colorbar\": {\"outlinewidth\": 0, \"ticks\": \"\"}}, \"type\": \"histogram\"}], \"histogram2d\": [{\"colorbar\": {\"outlinewidth\": 0, \"ticks\": \"\"}, \"colorscale\": [[0.0, \"#0d0887\"], [0.1111111111111111, \"#46039f\"], [0.2222222222222222, \"#7201a8\"], [0.3333333333333333, \"#9c179e\"], [0.4444444444444444, \"#bd3786\"], [0.5555555555555556, \"#d8576b\"], [0.6666666666666666, \"#ed7953\"], [0.7777777777777778, \"#fb9f3a\"], [0.8888888888888888, \"#fdca26\"], [1.0, \"#f0f921\"]], \"type\": \"histogram2d\"}], \"histogram2dcontour\": [{\"colorbar\": {\"outlinewidth\": 0, \"ticks\": \"\"}, \"colorscale\": [[0.0, \"#0d0887\"], [0.1111111111111111, \"#46039f\"], [0.2222222222222222, \"#7201a8\"], [0.3333333333333333, \"#9c179e\"], [0.4444444444444444, \"#bd3786\"], [0.5555555555555556, \"#d8576b\"], [0.6666666666666666, \"#ed7953\"], [0.7777777777777778, \"#fb9f3a\"], [0.8888888888888888, \"#fdca26\"], [1.0, \"#f0f921\"]], \"type\": \"histogram2dcontour\"}], \"mesh3d\": [{\"colorbar\": {\"outlinewidth\": 0, \"ticks\": \"\"}, \"type\": \"mesh3d\"}], \"parcoords\": [{\"line\": {\"colorbar\": {\"outlinewidth\": 0, \"ticks\": \"\"}}, \"type\": \"parcoords\"}], \"pie\": [{\"automargin\": true, \"type\": \"pie\"}], \"scatter\": [{\"marker\": {\"colorbar\": {\"outlinewidth\": 0, \"ticks\": \"\"}}, \"type\": \"scatter\"}], \"scatter3d\": [{\"line\": {\"colorbar\": {\"outlinewidth\": 0, \"ticks\": \"\"}}, \"marker\": {\"colorbar\": {\"outlinewidth\": 0, \"ticks\": \"\"}}, \"type\": \"scatter3d\"}], \"scattercarpet\": [{\"marker\": {\"colorbar\": {\"outlinewidth\": 0, \"ticks\": \"\"}}, \"type\": \"scattercarpet\"}], \"scattergeo\": [{\"marker\": {\"colorbar\": {\"outlinewidth\": 0, \"ticks\": \"\"}}, \"type\": \"scattergeo\"}], \"scattergl\": [{\"marker\": {\"colorbar\": {\"outlinewidth\": 0, \"ticks\": \"\"}}, \"type\": \"scattergl\"}], \"scattermapbox\": [{\"marker\": {\"colorbar\": {\"outlinewidth\": 0, \"ticks\": \"\"}}, \"type\": \"scattermapbox\"}], \"scatterpolar\": [{\"marker\": {\"colorbar\": {\"outlinewidth\": 0, \"ticks\": \"\"}}, \"type\": \"scatterpolar\"}], \"scatterpolargl\": [{\"marker\": {\"colorbar\": {\"outlinewidth\": 0, \"ticks\": \"\"}}, \"type\": \"scatterpolargl\"}], \"scatterternary\": [{\"marker\": {\"colorbar\": {\"outlinewidth\": 0, \"ticks\": \"\"}}, \"type\": \"scatterternary\"}], \"surface\": [{\"colorbar\": {\"outlinewidth\": 0, \"ticks\": \"\"}, \"colorscale\": [[0.0, \"#0d0887\"], [0.1111111111111111, \"#46039f\"], [0.2222222222222222, \"#7201a8\"], [0.3333333333333333, \"#9c179e\"], [0.4444444444444444, \"#bd3786\"], [0.5555555555555556, \"#d8576b\"], [0.6666666666666666, \"#ed7953\"], [0.7777777777777778, \"#fb9f3a\"], [0.8888888888888888, \"#fdca26\"], [1.0, \"#f0f921\"]], \"type\": \"surface\"}], \"table\": [{\"cells\": {\"fill\": {\"color\": \"#EBF0F8\"}, \"line\": {\"color\": \"white\"}}, \"header\": {\"fill\": {\"color\": \"#C8D4E3\"}, \"line\": {\"color\": \"white\"}}, \"type\": \"table\"}]}, \"layout\": {\"annotationdefaults\": {\"arrowcolor\": \"#2a3f5f\", \"arrowhead\": 0, \"arrowwidth\": 1}, \"coloraxis\": {\"colorbar\": {\"outlinewidth\": 0, \"ticks\": \"\"}}, \"colorscale\": {\"diverging\": [[0, \"#8e0152\"], [0.1, \"#c51b7d\"], [0.2, \"#de77ae\"], [0.3, \"#f1b6da\"], [0.4, \"#fde0ef\"], [0.5, \"#f7f7f7\"], [0.6, \"#e6f5d0\"], [0.7, \"#b8e186\"], [0.8, \"#7fbc41\"], [0.9, \"#4d9221\"], [1, \"#276419\"]], \"sequential\": [[0.0, \"#0d0887\"], [0.1111111111111111, \"#46039f\"], [0.2222222222222222, \"#7201a8\"], [0.3333333333333333, \"#9c179e\"], [0.4444444444444444, \"#bd3786\"], [0.5555555555555556, \"#d8576b\"], [0.6666666666666666, \"#ed7953\"], [0.7777777777777778, \"#fb9f3a\"], [0.8888888888888888, \"#fdca26\"], [1.0, \"#f0f921\"]], \"sequentialminus\": [[0.0, \"#0d0887\"], [0.1111111111111111, \"#46039f\"], [0.2222222222222222, \"#7201a8\"], [0.3333333333333333, \"#9c179e\"], [0.4444444444444444, \"#bd3786\"], [0.5555555555555556, \"#d8576b\"], [0.6666666666666666, \"#ed7953\"], [0.7777777777777778, \"#fb9f3a\"], [0.8888888888888888, \"#fdca26\"], [1.0, \"#f0f921\"]]}, \"colorway\": [\"#636efa\", \"#EF553B\", \"#00cc96\", \"#ab63fa\", \"#FFA15A\", \"#19d3f3\", \"#FF6692\", \"#B6E880\", \"#FF97FF\", \"#FECB52\"], \"font\": {\"color\": \"#2a3f5f\"}, \"geo\": {\"bgcolor\": \"white\", \"lakecolor\": \"white\", \"landcolor\": \"#E5ECF6\", \"showlakes\": true, \"showland\": true, \"subunitcolor\": \"white\"}, \"hoverlabel\": {\"align\": \"left\"}, \"hovermode\": \"closest\", \"mapbox\": {\"style\": \"light\"}, \"paper_bgcolor\": \"white\", \"plot_bgcolor\": \"#E5ECF6\", \"polar\": {\"angularaxis\": {\"gridcolor\": \"white\", \"linecolor\": \"white\", \"ticks\": \"\"}, \"bgcolor\": \"#E5ECF6\", \"radialaxis\": {\"gridcolor\": \"white\", \"linecolor\": \"white\", \"ticks\": \"\"}}, \"scene\": {\"xaxis\": {\"backgroundcolor\": \"#E5ECF6\", \"gridcolor\": \"white\", \"gridwidth\": 2, \"linecolor\": \"white\", \"showbackground\": true, \"ticks\": \"\", \"zerolinecolor\": \"white\"}, \"yaxis\": {\"backgroundcolor\": \"#E5ECF6\", \"gridcolor\": \"white\", \"gridwidth\": 2, \"linecolor\": \"white\", \"showbackground\": true, \"ticks\": \"\", \"zerolinecolor\": \"white\"}, \"zaxis\": {\"backgroundcolor\": \"#E5ECF6\", \"gridcolor\": \"white\", \"gridwidth\": 2, \"linecolor\": \"white\", \"showbackground\": true, \"ticks\": \"\", \"zerolinecolor\": \"white\"}}, \"shapedefaults\": {\"line\": {\"color\": \"#2a3f5f\"}}, \"ternary\": {\"aaxis\": {\"gridcolor\": \"white\", \"linecolor\": \"white\", \"ticks\": \"\"}, \"baxis\": {\"gridcolor\": \"white\", \"linecolor\": \"white\", \"ticks\": \"\"}, \"bgcolor\": \"#E5ECF6\", \"caxis\": {\"gridcolor\": \"white\", \"linecolor\": \"white\", \"ticks\": \"\"}}, \"title\": {\"x\": 0.05}, \"xaxis\": {\"automargin\": true, \"gridcolor\": \"white\", \"linecolor\": \"white\", \"ticks\": \"\", \"title\": {\"standoff\": 15}, \"zerolinecolor\": \"white\", \"zerolinewidth\": 2}, \"yaxis\": {\"automargin\": true, \"gridcolor\": \"white\", \"linecolor\": \"white\", \"ticks\": \"\", \"title\": {\"standoff\": 15}, \"zerolinecolor\": \"white\", \"zerolinewidth\": 2}}}, \"title\": {\"font\": {\"color\": \"#4D5663\"}}, \"xaxis\": {\"gridcolor\": \"#E1E5ED\", \"showgrid\": true, \"tickfont\": {\"color\": \"#4D5663\"}, \"title\": {\"font\": {\"color\": \"#4D5663\"}, \"text\": \"\"}, \"zerolinecolor\": \"#E1E5ED\"}, \"yaxis\": {\"gridcolor\": \"#E1E5ED\", \"showgrid\": true, \"tickfont\": {\"color\": \"#4D5663\"}, \"title\": {\"font\": {\"color\": \"#4D5663\"}, \"text\": \"\"}, \"zerolinecolor\": \"#E1E5ED\"}},\n",
       "                        {\"showLink\": true, \"linkText\": \"Export to plot.ly\", \"plotlyServerURL\": \"https://plot.ly\", \"responsive\": true}\n",
       "                    ).then(function(){\n",
       "                            \n",
       "var gd = document.getElementById('17920090-ab70-4f76-b01a-8aea63ca04f5');\n",
       "var x = new MutationObserver(function (mutations, observer) {{\n",
       "        var display = window.getComputedStyle(gd).display;\n",
       "        if (!display || display === 'none') {{\n",
       "            console.log([gd, 'removed!']);\n",
       "            Plotly.purge(gd);\n",
       "            observer.disconnect();\n",
       "        }}\n",
       "}});\n",
       "\n",
       "// Listen for the removal of the full notebook cells\n",
       "var notebookContainer = gd.closest('#notebook-container');\n",
       "if (notebookContainer) {{\n",
       "    x.observe(notebookContainer, {childList: true});\n",
       "}}\n",
       "\n",
       "// Listen for the clearing of the current output cell\n",
       "var outputEl = gd.closest('.output');\n",
       "if (outputEl) {{\n",
       "    x.observe(outputEl, {childList: true});\n",
       "}}\n",
       "\n",
       "                        })\n",
       "                };\n",
       "                });\n",
       "            </script>\n",
       "        </div>"
      ]
     },
     "metadata": {},
     "output_type": "display_data"
    }
   ],
   "source": [
    "df['A'].iplot(kind='hist',bins=25)"
   ]
  },
  {
   "cell_type": "code",
   "execution_count": 30,
   "metadata": {
    "jupyter": {
     "outputs_hidden": false
    }
   },
   "outputs": [
    {
     "data": {
      "application/vnd.plotly.v1+json": {
       "config": {
        "linkText": "Export to plot.ly",
        "plotlyServerURL": "https://plot.ly",
        "showLink": true
       },
       "data": [
        {
         "marker": {
          "color": [
           "rgb(255, 153, 51)",
           "rgb(55, 128, 191)",
           "rgb(50, 171, 96)",
           "rgb(128, 0, 128)",
           "rgb(219, 64, 82)",
           "rgb(0, 128, 128)",
           "rgb(255, 255, 51)",
           "rgb(128, 128, 0)",
           "rgb(251, 128, 114)",
           "rgb(128, 177, 211)"
          ],
          "line": {
           "width": 1.3
          },
          "size": [
           93,
           96,
           66,
           89,
           92,
           82,
           83,
           91,
           99,
           73,
           78,
           85,
           59,
           51,
           87,
           106,
           97,
           65,
           69,
           60,
           71,
           72,
           78,
           66,
           75,
           66,
           89,
           89,
           65,
           90,
           74,
           112,
           88,
           79,
           70,
           71,
           43,
           64,
           97,
           47,
           82,
           68,
           86,
           85,
           73,
           79,
           93,
           69,
           94,
           76,
           69,
           98,
           12,
           82,
           93,
           79,
           77,
           66,
           63,
           92,
           64,
           67,
           109,
           86,
           87,
           80,
           89,
           64,
           52,
           70,
           61,
           88,
           77,
           79,
           66,
           94,
           83,
           50,
           72,
           80,
           59,
           67,
           32,
           84,
           81,
           83,
           74,
           63,
           68,
           105,
           89,
           65,
           47,
           111,
           93,
           66,
           91,
           91,
           111,
           101
          ],
          "symbol": "circle"
         },
         "mode": "markers",
         "text": "",
         "type": "scatter",
         "x": [
          0.4680357176729802,
          -0.18089695435687647,
          0.003483194029145718,
          -0.8503226748006865,
          0.8146106228274449,
          0.15146587172216824,
          0.12723478221447262,
          0.3351004387413441,
          0.9414103775281865,
          -0.8857734378332426,
          -0.5701687051204497,
          -0.8893540639512774,
          0.14019123212902615,
          -0.966403721687782,
          0.33538370842415655,
          0.6702165022341717,
          -0.015213378402976164,
          -1.6090697702945362,
          0.7768280979717406,
          -0.020888206099068173,
          -1.3080179624540567,
          0.007249009389868164,
          0.2945209102593891,
          -0.9992695366250636,
          -0.6447006902415953,
          -1.0905563070634021,
          0.028797804449134032,
          -0.8843550330471293,
          1.0386401862451842,
          -0.6372696659703778,
          -0.07546361030812403,
          -0.6885808917640587,
          0.6960913089883859,
          0.7967344770276393,
          -0.31311403394368115,
          0.44535646682353447,
          1.2184826503543367,
          0.4897504444752817,
          1.0975181333688733,
          -1.2899287196667168,
          0.7672041598633657,
          -1.2666068328758595,
          1.0388834302251584,
          -2.7642984677037763,
          0.7743643434944764,
          0.5383447940237172,
          0.47174339868068116,
          -0.9813512577834447,
          -1.9094619873718108,
          0.09403883020114603,
          -0.16567173008209463,
          0.3497701577167347,
          0.7786062683999717,
          -0.9749299704877334,
          1.895335438858008,
          -0.4681186971331524,
          1.6906002800833542,
          -0.3863554355065704,
          -2.0996821386621938,
          0.13576410988414953,
          0.49662193548416167,
          0.6652139195938592,
          1.318582804966973,
          -0.03610763629279586,
          -0.4325131784953337,
          -0.6569998826577392,
          0.7840142952369771,
          1.3376479675287218,
          -0.24358433096939566,
          0.7227382172365205,
          -0.8355487413044241,
          0.7365537375544133,
          -0.5896650123534253,
          0.6979532707491521,
          0.4168212480194256,
          -1.156999280240315,
          0.49573377418729586,
          -0.8131742308332868,
          -0.023724459695214212,
          -0.6662885802270111,
          -0.5650900186908255,
          -0.14085214787252726,
          0.5047821408545787,
          -1.5536765581644607,
          -0.12215501843578472,
          -0.47462127467704807,
          -0.739431884829175,
          -0.28716816395346373,
          1.7938082735840795,
          -1.721425966026441,
          0.6277844324474082,
          -0.13192234352890128,
          0.5491320236601649,
          -0.5930336917559829,
          0.13740697896731097,
          1.1271661097434316,
          -0.5372438603757769,
          -0.7756176374275516,
          1.9872765631996863,
          1.1777260909975629
         ],
         "y": [
          -0.7434989651960935,
          -0.4607615024270917,
          1.8780782846811968,
          0.04828809145899935,
          -0.0029359171677269995,
          -0.08753811400269597,
          -0.3979045501815003,
          -1.3587319206144035,
          1.3058393881672048,
          -2.3358469828562334,
          1.7778387243432399,
          -0.8702029541219694,
          0.9935992049714233,
          1.4798461388258817,
          1.1275258510799964,
          1.477737769433274,
          0.36461748526784393,
          0.1831140969875315,
          0.17955620423002,
          2.12826660679801,
          -1.1186449675805272,
          1.1949120889777742,
          0.6551153688968544,
          0.7735108164924516,
          -0.7619829421982433,
          0.3818031659229591,
          -0.13223350833946632,
          -1.0411027537542916,
          0.7270464129765776,
          -0.46302451921768606,
          0.5627073813462292,
          0.08627527498922588,
          0.20036806041275756,
          0.01589035106560516,
          -1.5745988477361705,
          -0.5007655647549084,
          -1.874963053783075,
          -1.1902805653365587,
          -0.6179762986534144,
          0.3369724337050894,
          -0.09505535904528267,
          -0.5306506763564895,
          -0.030613138796697234,
          0.6341060188575188,
          0.23753214374573461,
          0.5756485863333742,
          -0.32928971144601865,
          0.07337782328325868,
          -0.3357057393863871,
          0.5900992992421492,
          -0.40898656611231804,
          -0.47322322257176525,
          0.2934714022237347,
          -0.3757543883540172,
          -0.1585512845422061,
          -0.25357244880222723,
          -1.5140291466870681,
          -0.7753885030539748,
          0.797052517782712,
          -0.3686557886848596,
          0.2855546620487415,
          1.6705044922929793,
          -0.43515134559370927,
          1.6595080594016447,
          -0.7252495287174796,
          -0.8330399931977461,
          -0.679219802873046,
          0.9390544951462232,
          0.09387454731372896,
          -0.3566775006611743,
          -2.1088990387458413,
          1.4528512643473823,
          -1.0261340964628949,
          0.23497758020160772,
          -0.4534270194828116,
          0.11397050565362599,
          0.2381586255109007,
          0.9988085406776966,
          0.025876815884210955,
          -1.2177486952525969,
          0.3174027772821797,
          0.5425099678014165,
          -1.1060029879681268,
          -1.9040147003254828,
          -0.09788757039869198,
          0.5027980532650275,
          0.5946564386503808,
          0.9040607377477198,
          -0.4997921123188726,
          1.0758831897921548,
          0.9939541985768044,
          1.4467641393910968,
          1.6622260071966777,
          -0.22074290486403597,
          0.0831484383304875,
          -1.0252544617631951,
          0.5697014336041655,
          -0.6944539659705443,
          0.2582200223961893,
          0.7920863962548249
         ]
        }
       ],
       "layout": {
        "legend": {
         "bgcolor": "#F5F6F9",
         "font": {
          "color": "#4D5663"
         }
        },
        "paper_bgcolor": "#F5F6F9",
        "plot_bgcolor": "#F5F6F9",
        "template": {
         "data": {
          "bar": [
           {
            "error_x": {
             "color": "#2a3f5f"
            },
            "error_y": {
             "color": "#2a3f5f"
            },
            "marker": {
             "line": {
              "color": "#E5ECF6",
              "width": 0.5
             }
            },
            "type": "bar"
           }
          ],
          "barpolar": [
           {
            "marker": {
             "line": {
              "color": "#E5ECF6",
              "width": 0.5
             }
            },
            "type": "barpolar"
           }
          ],
          "carpet": [
           {
            "aaxis": {
             "endlinecolor": "#2a3f5f",
             "gridcolor": "white",
             "linecolor": "white",
             "minorgridcolor": "white",
             "startlinecolor": "#2a3f5f"
            },
            "baxis": {
             "endlinecolor": "#2a3f5f",
             "gridcolor": "white",
             "linecolor": "white",
             "minorgridcolor": "white",
             "startlinecolor": "#2a3f5f"
            },
            "type": "carpet"
           }
          ],
          "choropleth": [
           {
            "colorbar": {
             "outlinewidth": 0,
             "ticks": ""
            },
            "type": "choropleth"
           }
          ],
          "contour": [
           {
            "colorbar": {
             "outlinewidth": 0,
             "ticks": ""
            },
            "colorscale": [
             [
              0,
              "#0d0887"
             ],
             [
              0.1111111111111111,
              "#46039f"
             ],
             [
              0.2222222222222222,
              "#7201a8"
             ],
             [
              0.3333333333333333,
              "#9c179e"
             ],
             [
              0.4444444444444444,
              "#bd3786"
             ],
             [
              0.5555555555555556,
              "#d8576b"
             ],
             [
              0.6666666666666666,
              "#ed7953"
             ],
             [
              0.7777777777777778,
              "#fb9f3a"
             ],
             [
              0.8888888888888888,
              "#fdca26"
             ],
             [
              1,
              "#f0f921"
             ]
            ],
            "type": "contour"
           }
          ],
          "contourcarpet": [
           {
            "colorbar": {
             "outlinewidth": 0,
             "ticks": ""
            },
            "type": "contourcarpet"
           }
          ],
          "heatmap": [
           {
            "colorbar": {
             "outlinewidth": 0,
             "ticks": ""
            },
            "colorscale": [
             [
              0,
              "#0d0887"
             ],
             [
              0.1111111111111111,
              "#46039f"
             ],
             [
              0.2222222222222222,
              "#7201a8"
             ],
             [
              0.3333333333333333,
              "#9c179e"
             ],
             [
              0.4444444444444444,
              "#bd3786"
             ],
             [
              0.5555555555555556,
              "#d8576b"
             ],
             [
              0.6666666666666666,
              "#ed7953"
             ],
             [
              0.7777777777777778,
              "#fb9f3a"
             ],
             [
              0.8888888888888888,
              "#fdca26"
             ],
             [
              1,
              "#f0f921"
             ]
            ],
            "type": "heatmap"
           }
          ],
          "heatmapgl": [
           {
            "colorbar": {
             "outlinewidth": 0,
             "ticks": ""
            },
            "colorscale": [
             [
              0,
              "#0d0887"
             ],
             [
              0.1111111111111111,
              "#46039f"
             ],
             [
              0.2222222222222222,
              "#7201a8"
             ],
             [
              0.3333333333333333,
              "#9c179e"
             ],
             [
              0.4444444444444444,
              "#bd3786"
             ],
             [
              0.5555555555555556,
              "#d8576b"
             ],
             [
              0.6666666666666666,
              "#ed7953"
             ],
             [
              0.7777777777777778,
              "#fb9f3a"
             ],
             [
              0.8888888888888888,
              "#fdca26"
             ],
             [
              1,
              "#f0f921"
             ]
            ],
            "type": "heatmapgl"
           }
          ],
          "histogram": [
           {
            "marker": {
             "colorbar": {
              "outlinewidth": 0,
              "ticks": ""
             }
            },
            "type": "histogram"
           }
          ],
          "histogram2d": [
           {
            "colorbar": {
             "outlinewidth": 0,
             "ticks": ""
            },
            "colorscale": [
             [
              0,
              "#0d0887"
             ],
             [
              0.1111111111111111,
              "#46039f"
             ],
             [
              0.2222222222222222,
              "#7201a8"
             ],
             [
              0.3333333333333333,
              "#9c179e"
             ],
             [
              0.4444444444444444,
              "#bd3786"
             ],
             [
              0.5555555555555556,
              "#d8576b"
             ],
             [
              0.6666666666666666,
              "#ed7953"
             ],
             [
              0.7777777777777778,
              "#fb9f3a"
             ],
             [
              0.8888888888888888,
              "#fdca26"
             ],
             [
              1,
              "#f0f921"
             ]
            ],
            "type": "histogram2d"
           }
          ],
          "histogram2dcontour": [
           {
            "colorbar": {
             "outlinewidth": 0,
             "ticks": ""
            },
            "colorscale": [
             [
              0,
              "#0d0887"
             ],
             [
              0.1111111111111111,
              "#46039f"
             ],
             [
              0.2222222222222222,
              "#7201a8"
             ],
             [
              0.3333333333333333,
              "#9c179e"
             ],
             [
              0.4444444444444444,
              "#bd3786"
             ],
             [
              0.5555555555555556,
              "#d8576b"
             ],
             [
              0.6666666666666666,
              "#ed7953"
             ],
             [
              0.7777777777777778,
              "#fb9f3a"
             ],
             [
              0.8888888888888888,
              "#fdca26"
             ],
             [
              1,
              "#f0f921"
             ]
            ],
            "type": "histogram2dcontour"
           }
          ],
          "mesh3d": [
           {
            "colorbar": {
             "outlinewidth": 0,
             "ticks": ""
            },
            "type": "mesh3d"
           }
          ],
          "parcoords": [
           {
            "line": {
             "colorbar": {
              "outlinewidth": 0,
              "ticks": ""
             }
            },
            "type": "parcoords"
           }
          ],
          "pie": [
           {
            "automargin": true,
            "type": "pie"
           }
          ],
          "scatter": [
           {
            "marker": {
             "colorbar": {
              "outlinewidth": 0,
              "ticks": ""
             }
            },
            "type": "scatter"
           }
          ],
          "scatter3d": [
           {
            "line": {
             "colorbar": {
              "outlinewidth": 0,
              "ticks": ""
             }
            },
            "marker": {
             "colorbar": {
              "outlinewidth": 0,
              "ticks": ""
             }
            },
            "type": "scatter3d"
           }
          ],
          "scattercarpet": [
           {
            "marker": {
             "colorbar": {
              "outlinewidth": 0,
              "ticks": ""
             }
            },
            "type": "scattercarpet"
           }
          ],
          "scattergeo": [
           {
            "marker": {
             "colorbar": {
              "outlinewidth": 0,
              "ticks": ""
             }
            },
            "type": "scattergeo"
           }
          ],
          "scattergl": [
           {
            "marker": {
             "colorbar": {
              "outlinewidth": 0,
              "ticks": ""
             }
            },
            "type": "scattergl"
           }
          ],
          "scattermapbox": [
           {
            "marker": {
             "colorbar": {
              "outlinewidth": 0,
              "ticks": ""
             }
            },
            "type": "scattermapbox"
           }
          ],
          "scatterpolar": [
           {
            "marker": {
             "colorbar": {
              "outlinewidth": 0,
              "ticks": ""
             }
            },
            "type": "scatterpolar"
           }
          ],
          "scatterpolargl": [
           {
            "marker": {
             "colorbar": {
              "outlinewidth": 0,
              "ticks": ""
             }
            },
            "type": "scatterpolargl"
           }
          ],
          "scatterternary": [
           {
            "marker": {
             "colorbar": {
              "outlinewidth": 0,
              "ticks": ""
             }
            },
            "type": "scatterternary"
           }
          ],
          "surface": [
           {
            "colorbar": {
             "outlinewidth": 0,
             "ticks": ""
            },
            "colorscale": [
             [
              0,
              "#0d0887"
             ],
             [
              0.1111111111111111,
              "#46039f"
             ],
             [
              0.2222222222222222,
              "#7201a8"
             ],
             [
              0.3333333333333333,
              "#9c179e"
             ],
             [
              0.4444444444444444,
              "#bd3786"
             ],
             [
              0.5555555555555556,
              "#d8576b"
             ],
             [
              0.6666666666666666,
              "#ed7953"
             ],
             [
              0.7777777777777778,
              "#fb9f3a"
             ],
             [
              0.8888888888888888,
              "#fdca26"
             ],
             [
              1,
              "#f0f921"
             ]
            ],
            "type": "surface"
           }
          ],
          "table": [
           {
            "cells": {
             "fill": {
              "color": "#EBF0F8"
             },
             "line": {
              "color": "white"
             }
            },
            "header": {
             "fill": {
              "color": "#C8D4E3"
             },
             "line": {
              "color": "white"
             }
            },
            "type": "table"
           }
          ]
         },
         "layout": {
          "annotationdefaults": {
           "arrowcolor": "#2a3f5f",
           "arrowhead": 0,
           "arrowwidth": 1
          },
          "coloraxis": {
           "colorbar": {
            "outlinewidth": 0,
            "ticks": ""
           }
          },
          "colorscale": {
           "diverging": [
            [
             0,
             "#8e0152"
            ],
            [
             0.1,
             "#c51b7d"
            ],
            [
             0.2,
             "#de77ae"
            ],
            [
             0.3,
             "#f1b6da"
            ],
            [
             0.4,
             "#fde0ef"
            ],
            [
             0.5,
             "#f7f7f7"
            ],
            [
             0.6,
             "#e6f5d0"
            ],
            [
             0.7,
             "#b8e186"
            ],
            [
             0.8,
             "#7fbc41"
            ],
            [
             0.9,
             "#4d9221"
            ],
            [
             1,
             "#276419"
            ]
           ],
           "sequential": [
            [
             0,
             "#0d0887"
            ],
            [
             0.1111111111111111,
             "#46039f"
            ],
            [
             0.2222222222222222,
             "#7201a8"
            ],
            [
             0.3333333333333333,
             "#9c179e"
            ],
            [
             0.4444444444444444,
             "#bd3786"
            ],
            [
             0.5555555555555556,
             "#d8576b"
            ],
            [
             0.6666666666666666,
             "#ed7953"
            ],
            [
             0.7777777777777778,
             "#fb9f3a"
            ],
            [
             0.8888888888888888,
             "#fdca26"
            ],
            [
             1,
             "#f0f921"
            ]
           ],
           "sequentialminus": [
            [
             0,
             "#0d0887"
            ],
            [
             0.1111111111111111,
             "#46039f"
            ],
            [
             0.2222222222222222,
             "#7201a8"
            ],
            [
             0.3333333333333333,
             "#9c179e"
            ],
            [
             0.4444444444444444,
             "#bd3786"
            ],
            [
             0.5555555555555556,
             "#d8576b"
            ],
            [
             0.6666666666666666,
             "#ed7953"
            ],
            [
             0.7777777777777778,
             "#fb9f3a"
            ],
            [
             0.8888888888888888,
             "#fdca26"
            ],
            [
             1,
             "#f0f921"
            ]
           ]
          },
          "colorway": [
           "#636efa",
           "#EF553B",
           "#00cc96",
           "#ab63fa",
           "#FFA15A",
           "#19d3f3",
           "#FF6692",
           "#B6E880",
           "#FF97FF",
           "#FECB52"
          ],
          "font": {
           "color": "#2a3f5f"
          },
          "geo": {
           "bgcolor": "white",
           "lakecolor": "white",
           "landcolor": "#E5ECF6",
           "showlakes": true,
           "showland": true,
           "subunitcolor": "white"
          },
          "hoverlabel": {
           "align": "left"
          },
          "hovermode": "closest",
          "mapbox": {
           "style": "light"
          },
          "paper_bgcolor": "white",
          "plot_bgcolor": "#E5ECF6",
          "polar": {
           "angularaxis": {
            "gridcolor": "white",
            "linecolor": "white",
            "ticks": ""
           },
           "bgcolor": "#E5ECF6",
           "radialaxis": {
            "gridcolor": "white",
            "linecolor": "white",
            "ticks": ""
           }
          },
          "scene": {
           "xaxis": {
            "backgroundcolor": "#E5ECF6",
            "gridcolor": "white",
            "gridwidth": 2,
            "linecolor": "white",
            "showbackground": true,
            "ticks": "",
            "zerolinecolor": "white"
           },
           "yaxis": {
            "backgroundcolor": "#E5ECF6",
            "gridcolor": "white",
            "gridwidth": 2,
            "linecolor": "white",
            "showbackground": true,
            "ticks": "",
            "zerolinecolor": "white"
           },
           "zaxis": {
            "backgroundcolor": "#E5ECF6",
            "gridcolor": "white",
            "gridwidth": 2,
            "linecolor": "white",
            "showbackground": true,
            "ticks": "",
            "zerolinecolor": "white"
           }
          },
          "shapedefaults": {
           "line": {
            "color": "#2a3f5f"
           }
          },
          "ternary": {
           "aaxis": {
            "gridcolor": "white",
            "linecolor": "white",
            "ticks": ""
           },
           "baxis": {
            "gridcolor": "white",
            "linecolor": "white",
            "ticks": ""
           },
           "bgcolor": "#E5ECF6",
           "caxis": {
            "gridcolor": "white",
            "linecolor": "white",
            "ticks": ""
           }
          },
          "title": {
           "x": 0.05
          },
          "xaxis": {
           "automargin": true,
           "gridcolor": "white",
           "linecolor": "white",
           "ticks": "",
           "title": {
            "standoff": 15
           },
           "zerolinecolor": "white",
           "zerolinewidth": 2
          },
          "yaxis": {
           "automargin": true,
           "gridcolor": "white",
           "linecolor": "white",
           "ticks": "",
           "title": {
            "standoff": 15
           },
           "zerolinecolor": "white",
           "zerolinewidth": 2
          }
         }
        },
        "title": {
         "font": {
          "color": "#4D5663"
         }
        },
        "xaxis": {
         "gridcolor": "#E1E5ED",
         "showgrid": true,
         "tickfont": {
          "color": "#4D5663"
         },
         "title": {
          "font": {
           "color": "#4D5663"
          },
          "text": ""
         },
         "zerolinecolor": "#E1E5ED"
        },
        "yaxis": {
         "gridcolor": "#E1E5ED",
         "showgrid": true,
         "tickfont": {
          "color": "#4D5663"
         },
         "title": {
          "font": {
           "color": "#4D5663"
          },
          "text": ""
         },
         "zerolinecolor": "#E1E5ED"
        }
       }
      },
      "text/html": [
       "<div>\n",
       "        \n",
       "        \n",
       "            <div id=\"3dd707be-8a0f-469b-8a3d-006ebc34eb74\" class=\"plotly-graph-div\" style=\"height:525px; width:100%;\"></div>\n",
       "            <script type=\"text/javascript\">\n",
       "                require([\"plotly\"], function(Plotly) {\n",
       "                    window.PLOTLYENV=window.PLOTLYENV || {};\n",
       "                    window.PLOTLYENV.BASE_URL='https://plot.ly';\n",
       "                    \n",
       "                if (document.getElementById(\"3dd707be-8a0f-469b-8a3d-006ebc34eb74\")) {\n",
       "                    Plotly.newPlot(\n",
       "                        '3dd707be-8a0f-469b-8a3d-006ebc34eb74',\n",
       "                        [{\"marker\": {\"color\": [\"rgb(255, 153, 51)\", \"rgb(55, 128, 191)\", \"rgb(50, 171, 96)\", \"rgb(128, 0, 128)\", \"rgb(219, 64, 82)\", \"rgb(0, 128, 128)\", \"rgb(255, 255, 51)\", \"rgb(128, 128, 0)\", \"rgb(251, 128, 114)\", \"rgb(128, 177, 211)\"], \"line\": {\"width\": 1.3}, \"size\": [93, 96, 66, 89, 92, 82, 83, 91, 99, 73, 78, 85, 59, 51, 87, 106, 97, 65, 69, 60, 71, 72, 78, 66, 75, 66, 89, 89, 65, 90, 74, 112, 88, 79, 70, 71, 43, 64, 97, 47, 82, 68, 86, 85, 73, 79, 93, 69, 94, 76, 69, 98, 12, 82, 93, 79, 77, 66, 63, 92, 64, 67, 109, 86, 87, 80, 89, 64, 52, 70, 61, 88, 77, 79, 66, 94, 83, 50, 72, 80, 59, 67, 32, 84, 81, 83, 74, 63, 68, 105, 89, 65, 47, 111, 93, 66, 91, 91, 111, 101], \"symbol\": \"circle\"}, \"mode\": \"markers\", \"text\": \"\", \"type\": \"scatter\", \"x\": [0.4680357176729802, -0.18089695435687647, 0.003483194029145718, -0.8503226748006865, 0.8146106228274449, 0.15146587172216824, 0.12723478221447262, 0.3351004387413441, 0.9414103775281865, -0.8857734378332426, -0.5701687051204497, -0.8893540639512774, 0.14019123212902615, -0.966403721687782, 0.33538370842415655, 0.6702165022341717, -0.015213378402976164, -1.6090697702945362, 0.7768280979717406, -0.020888206099068173, -1.3080179624540567, 0.007249009389868164, 0.2945209102593891, -0.9992695366250636, -0.6447006902415953, -1.0905563070634021, 0.028797804449134032, -0.8843550330471293, 1.0386401862451842, -0.6372696659703778, -0.07546361030812403, -0.6885808917640587, 0.6960913089883859, 0.7967344770276393, -0.31311403394368115, 0.44535646682353447, 1.2184826503543367, 0.4897504444752817, 1.0975181333688733, -1.2899287196667168, 0.7672041598633657, -1.2666068328758595, 1.0388834302251584, -2.7642984677037763, 0.7743643434944764, 0.5383447940237172, 0.47174339868068116, -0.9813512577834447, -1.9094619873718108, 0.09403883020114603, -0.16567173008209463, 0.3497701577167347, 0.7786062683999717, -0.9749299704877334, 1.895335438858008, -0.4681186971331524, 1.6906002800833542, -0.3863554355065704, -2.0996821386621938, 0.13576410988414953, 0.49662193548416167, 0.6652139195938592, 1.318582804966973, -0.03610763629279586, -0.4325131784953337, -0.6569998826577392, 0.7840142952369771, 1.3376479675287218, -0.24358433096939566, 0.7227382172365205, -0.8355487413044241, 0.7365537375544133, -0.5896650123534253, 0.6979532707491521, 0.4168212480194256, -1.156999280240315, 0.49573377418729586, -0.8131742308332868, -0.023724459695214212, -0.6662885802270111, -0.5650900186908255, -0.14085214787252726, 0.5047821408545787, -1.5536765581644607, -0.12215501843578472, -0.47462127467704807, -0.739431884829175, -0.28716816395346373, 1.7938082735840795, -1.721425966026441, 0.6277844324474082, -0.13192234352890128, 0.5491320236601649, -0.5930336917559829, 0.13740697896731097, 1.1271661097434316, -0.5372438603757769, -0.7756176374275516, 1.9872765631996863, 1.1777260909975629], \"y\": [-0.7434989651960935, -0.4607615024270917, 1.8780782846811968, 0.04828809145899935, -0.0029359171677269995, -0.08753811400269597, -0.3979045501815003, -1.3587319206144035, 1.3058393881672048, -2.3358469828562334, 1.7778387243432399, -0.8702029541219694, 0.9935992049714233, 1.4798461388258817, 1.1275258510799964, 1.477737769433274, 0.36461748526784393, 0.1831140969875315, 0.17955620423002, 2.12826660679801, -1.1186449675805272, 1.1949120889777742, 0.6551153688968544, 0.7735108164924516, -0.7619829421982433, 0.3818031659229591, -0.13223350833946632, -1.0411027537542916, 0.7270464129765776, -0.46302451921768606, 0.5627073813462292, 0.08627527498922588, 0.20036806041275756, 0.01589035106560516, -1.5745988477361705, -0.5007655647549084, -1.874963053783075, -1.1902805653365587, -0.6179762986534144, 0.3369724337050894, -0.09505535904528267, -0.5306506763564895, -0.030613138796697234, 0.6341060188575188, 0.23753214374573461, 0.5756485863333742, -0.32928971144601865, 0.07337782328325868, -0.3357057393863871, 0.5900992992421492, -0.40898656611231804, -0.47322322257176525, 0.2934714022237347, -0.3757543883540172, -0.1585512845422061, -0.25357244880222723, -1.5140291466870681, -0.7753885030539748, 0.797052517782712, -0.3686557886848596, 0.2855546620487415, 1.6705044922929793, -0.43515134559370927, 1.6595080594016447, -0.7252495287174796, -0.8330399931977461, -0.679219802873046, 0.9390544951462232, 0.09387454731372896, -0.3566775006611743, -2.1088990387458413, 1.4528512643473823, -1.0261340964628949, 0.23497758020160772, -0.4534270194828116, 0.11397050565362599, 0.2381586255109007, 0.9988085406776966, 0.025876815884210955, -1.2177486952525969, 0.3174027772821797, 0.5425099678014165, -1.1060029879681268, -1.9040147003254828, -0.09788757039869198, 0.5027980532650275, 0.5946564386503808, 0.9040607377477198, -0.4997921123188726, 1.0758831897921548, 0.9939541985768044, 1.4467641393910968, 1.6622260071966777, -0.22074290486403597, 0.0831484383304875, -1.0252544617631951, 0.5697014336041655, -0.6944539659705443, 0.2582200223961893, 0.7920863962548249]}],\n",
       "                        {\"legend\": {\"bgcolor\": \"#F5F6F9\", \"font\": {\"color\": \"#4D5663\"}}, \"paper_bgcolor\": \"#F5F6F9\", \"plot_bgcolor\": \"#F5F6F9\", \"template\": {\"data\": {\"bar\": [{\"error_x\": {\"color\": \"#2a3f5f\"}, \"error_y\": {\"color\": \"#2a3f5f\"}, \"marker\": {\"line\": {\"color\": \"#E5ECF6\", \"width\": 0.5}}, \"type\": \"bar\"}], \"barpolar\": [{\"marker\": {\"line\": {\"color\": \"#E5ECF6\", \"width\": 0.5}}, \"type\": \"barpolar\"}], \"carpet\": [{\"aaxis\": {\"endlinecolor\": \"#2a3f5f\", \"gridcolor\": \"white\", \"linecolor\": \"white\", \"minorgridcolor\": \"white\", \"startlinecolor\": \"#2a3f5f\"}, \"baxis\": {\"endlinecolor\": \"#2a3f5f\", \"gridcolor\": \"white\", \"linecolor\": \"white\", \"minorgridcolor\": \"white\", \"startlinecolor\": \"#2a3f5f\"}, \"type\": \"carpet\"}], \"choropleth\": [{\"colorbar\": {\"outlinewidth\": 0, \"ticks\": \"\"}, \"type\": \"choropleth\"}], \"contour\": [{\"colorbar\": {\"outlinewidth\": 0, \"ticks\": \"\"}, \"colorscale\": [[0.0, \"#0d0887\"], [0.1111111111111111, \"#46039f\"], [0.2222222222222222, \"#7201a8\"], [0.3333333333333333, \"#9c179e\"], [0.4444444444444444, \"#bd3786\"], [0.5555555555555556, \"#d8576b\"], [0.6666666666666666, \"#ed7953\"], [0.7777777777777778, \"#fb9f3a\"], [0.8888888888888888, \"#fdca26\"], [1.0, \"#f0f921\"]], \"type\": \"contour\"}], \"contourcarpet\": [{\"colorbar\": {\"outlinewidth\": 0, \"ticks\": \"\"}, \"type\": \"contourcarpet\"}], \"heatmap\": [{\"colorbar\": {\"outlinewidth\": 0, \"ticks\": \"\"}, \"colorscale\": [[0.0, \"#0d0887\"], [0.1111111111111111, \"#46039f\"], [0.2222222222222222, \"#7201a8\"], [0.3333333333333333, \"#9c179e\"], [0.4444444444444444, \"#bd3786\"], [0.5555555555555556, \"#d8576b\"], [0.6666666666666666, \"#ed7953\"], [0.7777777777777778, \"#fb9f3a\"], [0.8888888888888888, \"#fdca26\"], [1.0, \"#f0f921\"]], \"type\": \"heatmap\"}], \"heatmapgl\": [{\"colorbar\": {\"outlinewidth\": 0, \"ticks\": \"\"}, \"colorscale\": [[0.0, \"#0d0887\"], [0.1111111111111111, \"#46039f\"], [0.2222222222222222, \"#7201a8\"], [0.3333333333333333, \"#9c179e\"], [0.4444444444444444, \"#bd3786\"], [0.5555555555555556, \"#d8576b\"], [0.6666666666666666, \"#ed7953\"], [0.7777777777777778, \"#fb9f3a\"], [0.8888888888888888, \"#fdca26\"], [1.0, \"#f0f921\"]], \"type\": \"heatmapgl\"}], \"histogram\": [{\"marker\": {\"colorbar\": {\"outlinewidth\": 0, \"ticks\": \"\"}}, \"type\": \"histogram\"}], \"histogram2d\": [{\"colorbar\": {\"outlinewidth\": 0, \"ticks\": \"\"}, \"colorscale\": [[0.0, \"#0d0887\"], [0.1111111111111111, \"#46039f\"], [0.2222222222222222, \"#7201a8\"], [0.3333333333333333, \"#9c179e\"], [0.4444444444444444, \"#bd3786\"], [0.5555555555555556, \"#d8576b\"], [0.6666666666666666, \"#ed7953\"], [0.7777777777777778, \"#fb9f3a\"], [0.8888888888888888, \"#fdca26\"], [1.0, \"#f0f921\"]], \"type\": \"histogram2d\"}], \"histogram2dcontour\": [{\"colorbar\": {\"outlinewidth\": 0, \"ticks\": \"\"}, \"colorscale\": [[0.0, \"#0d0887\"], [0.1111111111111111, \"#46039f\"], [0.2222222222222222, \"#7201a8\"], [0.3333333333333333, \"#9c179e\"], [0.4444444444444444, \"#bd3786\"], [0.5555555555555556, \"#d8576b\"], [0.6666666666666666, \"#ed7953\"], [0.7777777777777778, \"#fb9f3a\"], [0.8888888888888888, \"#fdca26\"], [1.0, \"#f0f921\"]], \"type\": \"histogram2dcontour\"}], \"mesh3d\": [{\"colorbar\": {\"outlinewidth\": 0, \"ticks\": \"\"}, \"type\": \"mesh3d\"}], \"parcoords\": [{\"line\": {\"colorbar\": {\"outlinewidth\": 0, \"ticks\": \"\"}}, \"type\": \"parcoords\"}], \"pie\": [{\"automargin\": true, \"type\": \"pie\"}], \"scatter\": [{\"marker\": {\"colorbar\": {\"outlinewidth\": 0, \"ticks\": \"\"}}, \"type\": \"scatter\"}], \"scatter3d\": [{\"line\": {\"colorbar\": {\"outlinewidth\": 0, \"ticks\": \"\"}}, \"marker\": {\"colorbar\": {\"outlinewidth\": 0, \"ticks\": \"\"}}, \"type\": \"scatter3d\"}], \"scattercarpet\": [{\"marker\": {\"colorbar\": {\"outlinewidth\": 0, \"ticks\": \"\"}}, \"type\": \"scattercarpet\"}], \"scattergeo\": [{\"marker\": {\"colorbar\": {\"outlinewidth\": 0, \"ticks\": \"\"}}, \"type\": \"scattergeo\"}], \"scattergl\": [{\"marker\": {\"colorbar\": {\"outlinewidth\": 0, \"ticks\": \"\"}}, \"type\": \"scattergl\"}], \"scattermapbox\": [{\"marker\": {\"colorbar\": {\"outlinewidth\": 0, \"ticks\": \"\"}}, \"type\": \"scattermapbox\"}], \"scatterpolar\": [{\"marker\": {\"colorbar\": {\"outlinewidth\": 0, \"ticks\": \"\"}}, \"type\": \"scatterpolar\"}], \"scatterpolargl\": [{\"marker\": {\"colorbar\": {\"outlinewidth\": 0, \"ticks\": \"\"}}, \"type\": \"scatterpolargl\"}], \"scatterternary\": [{\"marker\": {\"colorbar\": {\"outlinewidth\": 0, \"ticks\": \"\"}}, \"type\": \"scatterternary\"}], \"surface\": [{\"colorbar\": {\"outlinewidth\": 0, \"ticks\": \"\"}, \"colorscale\": [[0.0, \"#0d0887\"], [0.1111111111111111, \"#46039f\"], [0.2222222222222222, \"#7201a8\"], [0.3333333333333333, \"#9c179e\"], [0.4444444444444444, \"#bd3786\"], [0.5555555555555556, \"#d8576b\"], [0.6666666666666666, \"#ed7953\"], [0.7777777777777778, \"#fb9f3a\"], [0.8888888888888888, \"#fdca26\"], [1.0, \"#f0f921\"]], \"type\": \"surface\"}], \"table\": [{\"cells\": {\"fill\": {\"color\": \"#EBF0F8\"}, \"line\": {\"color\": \"white\"}}, \"header\": {\"fill\": {\"color\": \"#C8D4E3\"}, \"line\": {\"color\": \"white\"}}, \"type\": \"table\"}]}, \"layout\": {\"annotationdefaults\": {\"arrowcolor\": \"#2a3f5f\", \"arrowhead\": 0, \"arrowwidth\": 1}, \"coloraxis\": {\"colorbar\": {\"outlinewidth\": 0, \"ticks\": \"\"}}, \"colorscale\": {\"diverging\": [[0, \"#8e0152\"], [0.1, \"#c51b7d\"], [0.2, \"#de77ae\"], [0.3, \"#f1b6da\"], [0.4, \"#fde0ef\"], [0.5, \"#f7f7f7\"], [0.6, \"#e6f5d0\"], [0.7, \"#b8e186\"], [0.8, \"#7fbc41\"], [0.9, \"#4d9221\"], [1, \"#276419\"]], \"sequential\": [[0.0, \"#0d0887\"], [0.1111111111111111, \"#46039f\"], [0.2222222222222222, \"#7201a8\"], [0.3333333333333333, \"#9c179e\"], [0.4444444444444444, \"#bd3786\"], [0.5555555555555556, \"#d8576b\"], [0.6666666666666666, \"#ed7953\"], [0.7777777777777778, \"#fb9f3a\"], [0.8888888888888888, \"#fdca26\"], [1.0, \"#f0f921\"]], \"sequentialminus\": [[0.0, \"#0d0887\"], [0.1111111111111111, \"#46039f\"], [0.2222222222222222, \"#7201a8\"], [0.3333333333333333, \"#9c179e\"], [0.4444444444444444, \"#bd3786\"], [0.5555555555555556, \"#d8576b\"], [0.6666666666666666, \"#ed7953\"], [0.7777777777777778, \"#fb9f3a\"], [0.8888888888888888, \"#fdca26\"], [1.0, \"#f0f921\"]]}, \"colorway\": [\"#636efa\", \"#EF553B\", \"#00cc96\", \"#ab63fa\", \"#FFA15A\", \"#19d3f3\", \"#FF6692\", \"#B6E880\", \"#FF97FF\", \"#FECB52\"], \"font\": {\"color\": \"#2a3f5f\"}, \"geo\": {\"bgcolor\": \"white\", \"lakecolor\": \"white\", \"landcolor\": \"#E5ECF6\", \"showlakes\": true, \"showland\": true, \"subunitcolor\": \"white\"}, \"hoverlabel\": {\"align\": \"left\"}, \"hovermode\": \"closest\", \"mapbox\": {\"style\": \"light\"}, \"paper_bgcolor\": \"white\", \"plot_bgcolor\": \"#E5ECF6\", \"polar\": {\"angularaxis\": {\"gridcolor\": \"white\", \"linecolor\": \"white\", \"ticks\": \"\"}, \"bgcolor\": \"#E5ECF6\", \"radialaxis\": {\"gridcolor\": \"white\", \"linecolor\": \"white\", \"ticks\": \"\"}}, \"scene\": {\"xaxis\": {\"backgroundcolor\": \"#E5ECF6\", \"gridcolor\": \"white\", \"gridwidth\": 2, \"linecolor\": \"white\", \"showbackground\": true, \"ticks\": \"\", \"zerolinecolor\": \"white\"}, \"yaxis\": {\"backgroundcolor\": \"#E5ECF6\", \"gridcolor\": \"white\", \"gridwidth\": 2, \"linecolor\": \"white\", \"showbackground\": true, \"ticks\": \"\", \"zerolinecolor\": \"white\"}, \"zaxis\": {\"backgroundcolor\": \"#E5ECF6\", \"gridcolor\": \"white\", \"gridwidth\": 2, \"linecolor\": \"white\", \"showbackground\": true, \"ticks\": \"\", \"zerolinecolor\": \"white\"}}, \"shapedefaults\": {\"line\": {\"color\": \"#2a3f5f\"}}, \"ternary\": {\"aaxis\": {\"gridcolor\": \"white\", \"linecolor\": \"white\", \"ticks\": \"\"}, \"baxis\": {\"gridcolor\": \"white\", \"linecolor\": \"white\", \"ticks\": \"\"}, \"bgcolor\": \"#E5ECF6\", \"caxis\": {\"gridcolor\": \"white\", \"linecolor\": \"white\", \"ticks\": \"\"}}, \"title\": {\"x\": 0.05}, \"xaxis\": {\"automargin\": true, \"gridcolor\": \"white\", \"linecolor\": \"white\", \"ticks\": \"\", \"title\": {\"standoff\": 15}, \"zerolinecolor\": \"white\", \"zerolinewidth\": 2}, \"yaxis\": {\"automargin\": true, \"gridcolor\": \"white\", \"linecolor\": \"white\", \"ticks\": \"\", \"title\": {\"standoff\": 15}, \"zerolinecolor\": \"white\", \"zerolinewidth\": 2}}}, \"title\": {\"font\": {\"color\": \"#4D5663\"}}, \"xaxis\": {\"gridcolor\": \"#E1E5ED\", \"showgrid\": true, \"tickfont\": {\"color\": \"#4D5663\"}, \"title\": {\"font\": {\"color\": \"#4D5663\"}, \"text\": \"\"}, \"zerolinecolor\": \"#E1E5ED\"}, \"yaxis\": {\"gridcolor\": \"#E1E5ED\", \"showgrid\": true, \"tickfont\": {\"color\": \"#4D5663\"}, \"title\": {\"font\": {\"color\": \"#4D5663\"}, \"text\": \"\"}, \"zerolinecolor\": \"#E1E5ED\"}},\n",
       "                        {\"showLink\": true, \"linkText\": \"Export to plot.ly\", \"plotlyServerURL\": \"https://plot.ly\", \"responsive\": true}\n",
       "                    ).then(function(){\n",
       "                            \n",
       "var gd = document.getElementById('3dd707be-8a0f-469b-8a3d-006ebc34eb74');\n",
       "var x = new MutationObserver(function (mutations, observer) {{\n",
       "        var display = window.getComputedStyle(gd).display;\n",
       "        if (!display || display === 'none') {{\n",
       "            console.log([gd, 'removed!']);\n",
       "            Plotly.purge(gd);\n",
       "            observer.disconnect();\n",
       "        }}\n",
       "}});\n",
       "\n",
       "// Listen for the removal of the full notebook cells\n",
       "var notebookContainer = gd.closest('#notebook-container');\n",
       "if (notebookContainer) {{\n",
       "    x.observe(notebookContainer, {childList: true});\n",
       "}}\n",
       "\n",
       "// Listen for the clearing of the current output cell\n",
       "var outputEl = gd.closest('.output');\n",
       "if (outputEl) {{\n",
       "    x.observe(outputEl, {childList: true});\n",
       "}}\n",
       "\n",
       "                        })\n",
       "                };\n",
       "                });\n",
       "            </script>\n",
       "        </div>"
      ]
     },
     "metadata": {},
     "output_type": "display_data"
    }
   ],
   "source": [
    "df.iplot(kind='bubble',x='A',y='B',size='C')"
   ]
  },
  {
   "cell_type": "markdown",
   "metadata": {},
   "source": [
    "## scatter_matrix()\n",
    "\n",
    "Similar to sns.pairplot()"
   ]
  },
  {
   "cell_type": "code",
   "execution_count": 31,
   "metadata": {
    "jupyter": {
     "outputs_hidden": false
    }
   },
   "outputs": [
    {
     "data": {
      "application/vnd.plotly.v1+json": {
       "config": {
        "linkText": "Export to plot.ly",
        "plotlyServerURL": "https://plot.ly",
        "showLink": true
       },
       "data": [
        {
         "histfunc": "count",
         "histnorm": "",
         "marker": {
          "color": "rgba(255, 153, 51, 1.0)",
          "line": {
           "color": "#4D5663",
           "width": 1.3
          }
         },
         "name": "A",
         "nbinsx": 10,
         "opacity": 0.8,
         "orientation": "v",
         "type": "histogram",
         "x": [
          0.4680357176729802,
          -0.18089695435687647,
          0.003483194029145718,
          -0.8503226748006865,
          0.8146106228274449,
          0.15146587172216824,
          0.12723478221447262,
          0.3351004387413441,
          0.9414103775281865,
          -0.8857734378332426,
          -0.5701687051204497,
          -0.8893540639512774,
          0.14019123212902615,
          -0.966403721687782,
          0.33538370842415655,
          0.6702165022341717,
          -0.015213378402976164,
          -1.6090697702945362,
          0.7768280979717406,
          -0.020888206099068173,
          -1.3080179624540567,
          0.007249009389868164,
          0.2945209102593891,
          -0.9992695366250636,
          -0.6447006902415953,
          -1.0905563070634021,
          0.028797804449134032,
          -0.8843550330471293,
          1.0386401862451842,
          -0.6372696659703778,
          -0.07546361030812403,
          -0.6885808917640587,
          0.6960913089883859,
          0.7967344770276393,
          -0.31311403394368115,
          0.44535646682353447,
          1.2184826503543367,
          0.4897504444752817,
          1.0975181333688733,
          -1.2899287196667168,
          0.7672041598633657,
          -1.2666068328758595,
          1.0388834302251584,
          -2.7642984677037763,
          0.7743643434944764,
          0.5383447940237172,
          0.47174339868068116,
          -0.9813512577834447,
          -1.9094619873718108,
          0.09403883020114603,
          -0.16567173008209463,
          0.3497701577167347,
          0.7786062683999717,
          -0.9749299704877334,
          1.895335438858008,
          -0.4681186971331524,
          1.6906002800833542,
          -0.3863554355065704,
          -2.0996821386621938,
          0.13576410988414953,
          0.49662193548416167,
          0.6652139195938592,
          1.318582804966973,
          -0.03610763629279586,
          -0.4325131784953337,
          -0.6569998826577392,
          0.7840142952369771,
          1.3376479675287218,
          -0.24358433096939566,
          0.7227382172365205,
          -0.8355487413044241,
          0.7365537375544133,
          -0.5896650123534253,
          0.6979532707491521,
          0.4168212480194256,
          -1.156999280240315,
          0.49573377418729586,
          -0.8131742308332868,
          -0.023724459695214212,
          -0.6662885802270111,
          -0.5650900186908255,
          -0.14085214787252726,
          0.5047821408545787,
          -1.5536765581644607,
          -0.12215501843578472,
          -0.47462127467704807,
          -0.739431884829175,
          -0.28716816395346373,
          1.7938082735840795,
          -1.721425966026441,
          0.6277844324474082,
          -0.13192234352890128,
          0.5491320236601649,
          -0.5930336917559829,
          0.13740697896731097,
          1.1271661097434316,
          -0.5372438603757769,
          -0.7756176374275516,
          1.9872765631996863,
          1.1777260909975629
         ],
         "xaxis": "x",
         "yaxis": "y"
        },
        {
         "line": {
          "color": "rgba(128, 128, 128, 1.0)",
          "dash": "solid",
          "shape": "linear",
          "width": 1.3
         },
         "marker": {
          "size": 2,
          "symbol": "circle"
         },
         "mode": "markers",
         "name": "A",
         "text": "",
         "type": "scatter",
         "x": [
          -0.7434989651960935,
          -0.4607615024270917,
          1.8780782846811968,
          0.04828809145899935,
          -0.0029359171677269995,
          -0.08753811400269597,
          -0.3979045501815003,
          -1.3587319206144035,
          1.3058393881672048,
          -2.3358469828562334,
          1.7778387243432399,
          -0.8702029541219694,
          0.9935992049714233,
          1.4798461388258817,
          1.1275258510799964,
          1.477737769433274,
          0.36461748526784393,
          0.1831140969875315,
          0.17955620423002,
          2.12826660679801,
          -1.1186449675805272,
          1.1949120889777742,
          0.6551153688968544,
          0.7735108164924516,
          -0.7619829421982433,
          0.3818031659229591,
          -0.13223350833946632,
          -1.0411027537542916,
          0.7270464129765776,
          -0.46302451921768606,
          0.5627073813462292,
          0.08627527498922588,
          0.20036806041275756,
          0.01589035106560516,
          -1.5745988477361705,
          -0.5007655647549084,
          -1.874963053783075,
          -1.1902805653365587,
          -0.6179762986534144,
          0.3369724337050894,
          -0.09505535904528267,
          -0.5306506763564895,
          -0.030613138796697234,
          0.6341060188575188,
          0.23753214374573461,
          0.5756485863333742,
          -0.32928971144601865,
          0.07337782328325868,
          -0.3357057393863871,
          0.5900992992421492,
          -0.40898656611231804,
          -0.47322322257176525,
          0.2934714022237347,
          -0.3757543883540172,
          -0.1585512845422061,
          -0.25357244880222723,
          -1.5140291466870681,
          -0.7753885030539748,
          0.797052517782712,
          -0.3686557886848596,
          0.2855546620487415,
          1.6705044922929793,
          -0.43515134559370927,
          1.6595080594016447,
          -0.7252495287174796,
          -0.8330399931977461,
          -0.679219802873046,
          0.9390544951462232,
          0.09387454731372896,
          -0.3566775006611743,
          -2.1088990387458413,
          1.4528512643473823,
          -1.0261340964628949,
          0.23497758020160772,
          -0.4534270194828116,
          0.11397050565362599,
          0.2381586255109007,
          0.9988085406776966,
          0.025876815884210955,
          -1.2177486952525969,
          0.3174027772821797,
          0.5425099678014165,
          -1.1060029879681268,
          -1.9040147003254828,
          -0.09788757039869198,
          0.5027980532650275,
          0.5946564386503808,
          0.9040607377477198,
          -0.4997921123188726,
          1.0758831897921548,
          0.9939541985768044,
          1.4467641393910968,
          1.6622260071966777,
          -0.22074290486403597,
          0.0831484383304875,
          -1.0252544617631951,
          0.5697014336041655,
          -0.6944539659705443,
          0.2582200223961893,
          0.7920863962548249
         ],
         "xaxis": "x2",
         "y": [
          0.4680357176729802,
          -0.18089695435687647,
          0.003483194029145718,
          -0.8503226748006865,
          0.8146106228274449,
          0.15146587172216824,
          0.12723478221447262,
          0.3351004387413441,
          0.9414103775281865,
          -0.8857734378332426,
          -0.5701687051204497,
          -0.8893540639512774,
          0.14019123212902615,
          -0.966403721687782,
          0.33538370842415655,
          0.6702165022341717,
          -0.015213378402976164,
          -1.6090697702945362,
          0.7768280979717406,
          -0.020888206099068173,
          -1.3080179624540567,
          0.007249009389868164,
          0.2945209102593891,
          -0.9992695366250636,
          -0.6447006902415953,
          -1.0905563070634021,
          0.028797804449134032,
          -0.8843550330471293,
          1.0386401862451842,
          -0.6372696659703778,
          -0.07546361030812403,
          -0.6885808917640587,
          0.6960913089883859,
          0.7967344770276393,
          -0.31311403394368115,
          0.44535646682353447,
          1.2184826503543367,
          0.4897504444752817,
          1.0975181333688733,
          -1.2899287196667168,
          0.7672041598633657,
          -1.2666068328758595,
          1.0388834302251584,
          -2.7642984677037763,
          0.7743643434944764,
          0.5383447940237172,
          0.47174339868068116,
          -0.9813512577834447,
          -1.9094619873718108,
          0.09403883020114603,
          -0.16567173008209463,
          0.3497701577167347,
          0.7786062683999717,
          -0.9749299704877334,
          1.895335438858008,
          -0.4681186971331524,
          1.6906002800833542,
          -0.3863554355065704,
          -2.0996821386621938,
          0.13576410988414953,
          0.49662193548416167,
          0.6652139195938592,
          1.318582804966973,
          -0.03610763629279586,
          -0.4325131784953337,
          -0.6569998826577392,
          0.7840142952369771,
          1.3376479675287218,
          -0.24358433096939566,
          0.7227382172365205,
          -0.8355487413044241,
          0.7365537375544133,
          -0.5896650123534253,
          0.6979532707491521,
          0.4168212480194256,
          -1.156999280240315,
          0.49573377418729586,
          -0.8131742308332868,
          -0.023724459695214212,
          -0.6662885802270111,
          -0.5650900186908255,
          -0.14085214787252726,
          0.5047821408545787,
          -1.5536765581644607,
          -0.12215501843578472,
          -0.47462127467704807,
          -0.739431884829175,
          -0.28716816395346373,
          1.7938082735840795,
          -1.721425966026441,
          0.6277844324474082,
          -0.13192234352890128,
          0.5491320236601649,
          -0.5930336917559829,
          0.13740697896731097,
          1.1271661097434316,
          -0.5372438603757769,
          -0.7756176374275516,
          1.9872765631996863,
          1.1777260909975629
         ],
         "yaxis": "y2"
        },
        {
         "line": {
          "color": "rgba(128, 128, 128, 1.0)",
          "dash": "solid",
          "shape": "linear",
          "width": 1.3
         },
         "marker": {
          "size": 2,
          "symbol": "circle"
         },
         "mode": "markers",
         "name": "A",
         "text": "",
         "type": "scatter",
         "x": [
          0.8389764892564305,
          1.013717717231092,
          -0.7297365537101015,
          0.6049139704487708,
          0.7723854906554027,
          0.21623666019717452,
          0.24654014892872012,
          0.7051543353596379,
          1.2091124520868546,
          -0.3219114610225776,
          -0.05848271170796087,
          0.3509714073961184,
          -1.1369574557963296,
          -1.5886052586822192,
          0.46897817236341155,
          1.600651483559872,
          1.0868744225621012,
          -0.8225697383868341,
          -0.5462549515435099,
          -1.0971324409605696,
          -0.42126901991509974,
          -0.40335240915835735,
          -0.06546332364885253,
          -0.7220096955108127,
          -0.24173070493788043,
          -0.7598326671349462,
          0.6241453849807918,
          0.5886794668426667,
          -0.8140869463568312,
          0.628972719389455,
          -0.24496151325077703,
          1.9084749507787575,
          0.5419417425942232,
          0.036735335651900826,
          -0.4792159487349968,
          -0.42916830260793176,
          -2.0635569387151755,
          -0.8682465428527645,
          1.0610949817311277,
          -1.840326548329223,
          0.1770727015256135,
          -0.5972928849101156,
          0.43234865840395753,
          0.36879339666131905,
          -0.31535918919124845,
          0.013286350305847863,
          0.839248722171213,
          -0.5391920294908384,
          0.9028477890920293,
          -0.1449266056100494,
          -0.5550747969708228,
          1.145173812738686,
          -3.9108580222565643,
          0.20059159084486752,
          0.8044663141218427,
          0.007719524278421231,
          -0.07497195612134629,
          -0.7483748180488207,
          -0.8848562233879459,
          0.7831684418093795,
          -0.8408722819203603,
          -0.6584752704475881,
          1.7632864008624585,
          0.4136157562434442,
          0.48584697095725743,
          0.048980905406493386,
          0.5879297579600218,
          -0.8481797780613902,
          -1.5696593179903302,
          -0.48235985761291955,
          -1.0057629092408216,
          0.5448252629602326,
          -0.10385777821915122,
          0.0034653602824622517,
          -0.7496905771230047,
          0.909499498712557,
          0.239924583265994,
          -1.6905948071653993,
          -0.3947023642386599,
          0.07330818187210192,
          -1.1687449252991113,
          -0.6927274731045221,
          -2.716605353800127,
          0.3213373310834251,
          0.13190931480579546,
          0.2755906045892328,
          -0.29173706907620944,
          -0.9130408164605344,
          -0.5978702046605517,
          1.5325682955088105,
          0.6030579947183526,
          -0.8182400542754837,
          -1.8411234610375216,
          1.8687986807306012,
          0.8290383550466602,
          -0.7397713800851328,
          0.6972307899398041,
          0.7355949199704094,
          1.8908724727703967,
          1.2874885440614134
         ],
         "xaxis": "x3",
         "y": [
          0.4680357176729802,
          -0.18089695435687647,
          0.003483194029145718,
          -0.8503226748006865,
          0.8146106228274449,
          0.15146587172216824,
          0.12723478221447262,
          0.3351004387413441,
          0.9414103775281865,
          -0.8857734378332426,
          -0.5701687051204497,
          -0.8893540639512774,
          0.14019123212902615,
          -0.966403721687782,
          0.33538370842415655,
          0.6702165022341717,
          -0.015213378402976164,
          -1.6090697702945362,
          0.7768280979717406,
          -0.020888206099068173,
          -1.3080179624540567,
          0.007249009389868164,
          0.2945209102593891,
          -0.9992695366250636,
          -0.6447006902415953,
          -1.0905563070634021,
          0.028797804449134032,
          -0.8843550330471293,
          1.0386401862451842,
          -0.6372696659703778,
          -0.07546361030812403,
          -0.6885808917640587,
          0.6960913089883859,
          0.7967344770276393,
          -0.31311403394368115,
          0.44535646682353447,
          1.2184826503543367,
          0.4897504444752817,
          1.0975181333688733,
          -1.2899287196667168,
          0.7672041598633657,
          -1.2666068328758595,
          1.0388834302251584,
          -2.7642984677037763,
          0.7743643434944764,
          0.5383447940237172,
          0.47174339868068116,
          -0.9813512577834447,
          -1.9094619873718108,
          0.09403883020114603,
          -0.16567173008209463,
          0.3497701577167347,
          0.7786062683999717,
          -0.9749299704877334,
          1.895335438858008,
          -0.4681186971331524,
          1.6906002800833542,
          -0.3863554355065704,
          -2.0996821386621938,
          0.13576410988414953,
          0.49662193548416167,
          0.6652139195938592,
          1.318582804966973,
          -0.03610763629279586,
          -0.4325131784953337,
          -0.6569998826577392,
          0.7840142952369771,
          1.3376479675287218,
          -0.24358433096939566,
          0.7227382172365205,
          -0.8355487413044241,
          0.7365537375544133,
          -0.5896650123534253,
          0.6979532707491521,
          0.4168212480194256,
          -1.156999280240315,
          0.49573377418729586,
          -0.8131742308332868,
          -0.023724459695214212,
          -0.6662885802270111,
          -0.5650900186908255,
          -0.14085214787252726,
          0.5047821408545787,
          -1.5536765581644607,
          -0.12215501843578472,
          -0.47462127467704807,
          -0.739431884829175,
          -0.28716816395346373,
          1.7938082735840795,
          -1.721425966026441,
          0.6277844324474082,
          -0.13192234352890128,
          0.5491320236601649,
          -0.5930336917559829,
          0.13740697896731097,
          1.1271661097434316,
          -0.5372438603757769,
          -0.7756176374275516,
          1.9872765631996863,
          1.1777260909975629
         ],
         "yaxis": "y3"
        },
        {
         "line": {
          "color": "rgba(128, 128, 128, 1.0)",
          "dash": "solid",
          "shape": "linear",
          "width": 1.3
         },
         "marker": {
          "size": 2,
          "symbol": "circle"
         },
         "mode": "markers",
         "name": "A",
         "text": "",
         "type": "scatter",
         "x": [
          -0.25191764743566786,
          0.4198145384895684,
          -1.3140941508038348,
          1.2318426219836836,
          -0.14897890875791223,
          -1.143166795336094,
          -1.0314134856330894,
          -1.1040878101495826,
          -0.0955712889122703,
          0.28520146090536724,
          0.6399015028076319,
          -0.8324485066954828,
          -0.07496044929395959,
          -0.7650854165785472,
          -1.2485280903188103,
          2.1795825771112973,
          -0.5620311364223277,
          -0.5585410294220939,
          -0.4537843776591725,
          1.233793314943582,
          0.3512069789710706,
          1.464975027321418,
          1.4746019752966584,
          -0.7371334777665244,
          -0.3636836678402213,
          -1.1003904903879351,
          -0.26791186145062823,
          1.0460755059400357,
          -0.7575438785027289,
          1.3470249818909699,
          0.07133753671463729,
          -0.01749365744707516,
          0.48036583265597094,
          1.1713636735859168,
          -0.5157245415583571,
          0.5016520145241842,
          0.3394304372496551,
          0.46647053193264854,
          -1.0188106058466928,
          1.4949434120261416,
          0.24926084734681345,
          -1.0489198293392754,
          -0.5869623591243232,
          -0.4092280759240029,
          0.5413342628376578,
          -1.5545202367727056,
          -0.8463730481017815,
          2.335589047731229,
          1.4719803000032543,
          1.114770745220192,
          0.0046618591717043694,
          0.23209447481814305,
          0.7197939214034708,
          -0.02268004328530468,
          -0.7705475169250952,
          -0.4059608801378683,
          -0.5030635358492516,
          -0.8643685639929041,
          1.0023979402469545,
          0.2979597397360903,
          1.1906332814088394,
          1.1501541102025645,
          -0.2979571434643375,
          0.7179382669095363,
          -0.8346320717706238,
          1.3723612403204208,
          -1.5862425603672,
          -1.899176752314106,
          0.7353372077394054,
          -0.6598542021621814,
          -0.339557181546737,
          -1.4171259531377154,
          -1.8014094698614205,
          -0.16763899618295058,
          -2.8202747028683604,
          2.2789088952890317,
          0.7425915113742065,
          -0.9350502296364102,
          0.07109195056103915,
          0.39849003187683757,
          0.48201874860427785,
          0.528536342311538,
          -0.8231155460076484,
          -0.5407270412105185,
          0.5105079121512099,
          -0.2005494666709388,
          -2.229405339748603,
          -0.8897868073956053,
          -0.015847545787378004,
          0.6477893421800326,
          0.2378032185505356,
          -1.1377323702203133,
          0.9803696608709259,
          -0.5202531721203323,
          -1.4329078151338888,
          0.7711951985853757,
          0.3764949065442717,
          0.7194210906701671,
          0.3824848220070624,
          0.5980286812170121
         ],
         "xaxis": "x4",
         "y": [
          0.4680357176729802,
          -0.18089695435687647,
          0.003483194029145718,
          -0.8503226748006865,
          0.8146106228274449,
          0.15146587172216824,
          0.12723478221447262,
          0.3351004387413441,
          0.9414103775281865,
          -0.8857734378332426,
          -0.5701687051204497,
          -0.8893540639512774,
          0.14019123212902615,
          -0.966403721687782,
          0.33538370842415655,
          0.6702165022341717,
          -0.015213378402976164,
          -1.6090697702945362,
          0.7768280979717406,
          -0.020888206099068173,
          -1.3080179624540567,
          0.007249009389868164,
          0.2945209102593891,
          -0.9992695366250636,
          -0.6447006902415953,
          -1.0905563070634021,
          0.028797804449134032,
          -0.8843550330471293,
          1.0386401862451842,
          -0.6372696659703778,
          -0.07546361030812403,
          -0.6885808917640587,
          0.6960913089883859,
          0.7967344770276393,
          -0.31311403394368115,
          0.44535646682353447,
          1.2184826503543367,
          0.4897504444752817,
          1.0975181333688733,
          -1.2899287196667168,
          0.7672041598633657,
          -1.2666068328758595,
          1.0388834302251584,
          -2.7642984677037763,
          0.7743643434944764,
          0.5383447940237172,
          0.47174339868068116,
          -0.9813512577834447,
          -1.9094619873718108,
          0.09403883020114603,
          -0.16567173008209463,
          0.3497701577167347,
          0.7786062683999717,
          -0.9749299704877334,
          1.895335438858008,
          -0.4681186971331524,
          1.6906002800833542,
          -0.3863554355065704,
          -2.0996821386621938,
          0.13576410988414953,
          0.49662193548416167,
          0.6652139195938592,
          1.318582804966973,
          -0.03610763629279586,
          -0.4325131784953337,
          -0.6569998826577392,
          0.7840142952369771,
          1.3376479675287218,
          -0.24358433096939566,
          0.7227382172365205,
          -0.8355487413044241,
          0.7365537375544133,
          -0.5896650123534253,
          0.6979532707491521,
          0.4168212480194256,
          -1.156999280240315,
          0.49573377418729586,
          -0.8131742308332868,
          -0.023724459695214212,
          -0.6662885802270111,
          -0.5650900186908255,
          -0.14085214787252726,
          0.5047821408545787,
          -1.5536765581644607,
          -0.12215501843578472,
          -0.47462127467704807,
          -0.739431884829175,
          -0.28716816395346373,
          1.7938082735840795,
          -1.721425966026441,
          0.6277844324474082,
          -0.13192234352890128,
          0.5491320236601649,
          -0.5930336917559829,
          0.13740697896731097,
          1.1271661097434316,
          -0.5372438603757769,
          -0.7756176374275516,
          1.9872765631996863,
          1.1777260909975629
         ],
         "yaxis": "y4"
        },
        {
         "line": {
          "color": "rgba(128, 128, 128, 1.0)",
          "dash": "solid",
          "shape": "linear",
          "width": 1.3
         },
         "marker": {
          "size": 2,
          "symbol": "circle"
         },
         "mode": "markers",
         "name": "B",
         "text": "",
         "type": "scatter",
         "x": [
          0.4680357176729802,
          -0.18089695435687647,
          0.003483194029145718,
          -0.8503226748006865,
          0.8146106228274449,
          0.15146587172216824,
          0.12723478221447262,
          0.3351004387413441,
          0.9414103775281865,
          -0.8857734378332426,
          -0.5701687051204497,
          -0.8893540639512774,
          0.14019123212902615,
          -0.966403721687782,
          0.33538370842415655,
          0.6702165022341717,
          -0.015213378402976164,
          -1.6090697702945362,
          0.7768280979717406,
          -0.020888206099068173,
          -1.3080179624540567,
          0.007249009389868164,
          0.2945209102593891,
          -0.9992695366250636,
          -0.6447006902415953,
          -1.0905563070634021,
          0.028797804449134032,
          -0.8843550330471293,
          1.0386401862451842,
          -0.6372696659703778,
          -0.07546361030812403,
          -0.6885808917640587,
          0.6960913089883859,
          0.7967344770276393,
          -0.31311403394368115,
          0.44535646682353447,
          1.2184826503543367,
          0.4897504444752817,
          1.0975181333688733,
          -1.2899287196667168,
          0.7672041598633657,
          -1.2666068328758595,
          1.0388834302251584,
          -2.7642984677037763,
          0.7743643434944764,
          0.5383447940237172,
          0.47174339868068116,
          -0.9813512577834447,
          -1.9094619873718108,
          0.09403883020114603,
          -0.16567173008209463,
          0.3497701577167347,
          0.7786062683999717,
          -0.9749299704877334,
          1.895335438858008,
          -0.4681186971331524,
          1.6906002800833542,
          -0.3863554355065704,
          -2.0996821386621938,
          0.13576410988414953,
          0.49662193548416167,
          0.6652139195938592,
          1.318582804966973,
          -0.03610763629279586,
          -0.4325131784953337,
          -0.6569998826577392,
          0.7840142952369771,
          1.3376479675287218,
          -0.24358433096939566,
          0.7227382172365205,
          -0.8355487413044241,
          0.7365537375544133,
          -0.5896650123534253,
          0.6979532707491521,
          0.4168212480194256,
          -1.156999280240315,
          0.49573377418729586,
          -0.8131742308332868,
          -0.023724459695214212,
          -0.6662885802270111,
          -0.5650900186908255,
          -0.14085214787252726,
          0.5047821408545787,
          -1.5536765581644607,
          -0.12215501843578472,
          -0.47462127467704807,
          -0.739431884829175,
          -0.28716816395346373,
          1.7938082735840795,
          -1.721425966026441,
          0.6277844324474082,
          -0.13192234352890128,
          0.5491320236601649,
          -0.5930336917559829,
          0.13740697896731097,
          1.1271661097434316,
          -0.5372438603757769,
          -0.7756176374275516,
          1.9872765631996863,
          1.1777260909975629
         ],
         "xaxis": "x5",
         "y": [
          -0.7434989651960935,
          -0.4607615024270917,
          1.8780782846811968,
          0.04828809145899935,
          -0.0029359171677269995,
          -0.08753811400269597,
          -0.3979045501815003,
          -1.3587319206144035,
          1.3058393881672048,
          -2.3358469828562334,
          1.7778387243432399,
          -0.8702029541219694,
          0.9935992049714233,
          1.4798461388258817,
          1.1275258510799964,
          1.477737769433274,
          0.36461748526784393,
          0.1831140969875315,
          0.17955620423002,
          2.12826660679801,
          -1.1186449675805272,
          1.1949120889777742,
          0.6551153688968544,
          0.7735108164924516,
          -0.7619829421982433,
          0.3818031659229591,
          -0.13223350833946632,
          -1.0411027537542916,
          0.7270464129765776,
          -0.46302451921768606,
          0.5627073813462292,
          0.08627527498922588,
          0.20036806041275756,
          0.01589035106560516,
          -1.5745988477361705,
          -0.5007655647549084,
          -1.874963053783075,
          -1.1902805653365587,
          -0.6179762986534144,
          0.3369724337050894,
          -0.09505535904528267,
          -0.5306506763564895,
          -0.030613138796697234,
          0.6341060188575188,
          0.23753214374573461,
          0.5756485863333742,
          -0.32928971144601865,
          0.07337782328325868,
          -0.3357057393863871,
          0.5900992992421492,
          -0.40898656611231804,
          -0.47322322257176525,
          0.2934714022237347,
          -0.3757543883540172,
          -0.1585512845422061,
          -0.25357244880222723,
          -1.5140291466870681,
          -0.7753885030539748,
          0.797052517782712,
          -0.3686557886848596,
          0.2855546620487415,
          1.6705044922929793,
          -0.43515134559370927,
          1.6595080594016447,
          -0.7252495287174796,
          -0.8330399931977461,
          -0.679219802873046,
          0.9390544951462232,
          0.09387454731372896,
          -0.3566775006611743,
          -2.1088990387458413,
          1.4528512643473823,
          -1.0261340964628949,
          0.23497758020160772,
          -0.4534270194828116,
          0.11397050565362599,
          0.2381586255109007,
          0.9988085406776966,
          0.025876815884210955,
          -1.2177486952525969,
          0.3174027772821797,
          0.5425099678014165,
          -1.1060029879681268,
          -1.9040147003254828,
          -0.09788757039869198,
          0.5027980532650275,
          0.5946564386503808,
          0.9040607377477198,
          -0.4997921123188726,
          1.0758831897921548,
          0.9939541985768044,
          1.4467641393910968,
          1.6622260071966777,
          -0.22074290486403597,
          0.0831484383304875,
          -1.0252544617631951,
          0.5697014336041655,
          -0.6944539659705443,
          0.2582200223961893,
          0.7920863962548249
         ],
         "yaxis": "y5"
        },
        {
         "histfunc": "count",
         "histnorm": "",
         "marker": {
          "color": "rgba(55, 128, 191, 1.0)",
          "line": {
           "color": "#4D5663",
           "width": 1.3
          }
         },
         "name": "B",
         "nbinsx": 10,
         "opacity": 0.8,
         "orientation": "v",
         "type": "histogram",
         "x": [
          -0.7434989651960935,
          -0.4607615024270917,
          1.8780782846811968,
          0.04828809145899935,
          -0.0029359171677269995,
          -0.08753811400269597,
          -0.3979045501815003,
          -1.3587319206144035,
          1.3058393881672048,
          -2.3358469828562334,
          1.7778387243432399,
          -0.8702029541219694,
          0.9935992049714233,
          1.4798461388258817,
          1.1275258510799964,
          1.477737769433274,
          0.36461748526784393,
          0.1831140969875315,
          0.17955620423002,
          2.12826660679801,
          -1.1186449675805272,
          1.1949120889777742,
          0.6551153688968544,
          0.7735108164924516,
          -0.7619829421982433,
          0.3818031659229591,
          -0.13223350833946632,
          -1.0411027537542916,
          0.7270464129765776,
          -0.46302451921768606,
          0.5627073813462292,
          0.08627527498922588,
          0.20036806041275756,
          0.01589035106560516,
          -1.5745988477361705,
          -0.5007655647549084,
          -1.874963053783075,
          -1.1902805653365587,
          -0.6179762986534144,
          0.3369724337050894,
          -0.09505535904528267,
          -0.5306506763564895,
          -0.030613138796697234,
          0.6341060188575188,
          0.23753214374573461,
          0.5756485863333742,
          -0.32928971144601865,
          0.07337782328325868,
          -0.3357057393863871,
          0.5900992992421492,
          -0.40898656611231804,
          -0.47322322257176525,
          0.2934714022237347,
          -0.3757543883540172,
          -0.1585512845422061,
          -0.25357244880222723,
          -1.5140291466870681,
          -0.7753885030539748,
          0.797052517782712,
          -0.3686557886848596,
          0.2855546620487415,
          1.6705044922929793,
          -0.43515134559370927,
          1.6595080594016447,
          -0.7252495287174796,
          -0.8330399931977461,
          -0.679219802873046,
          0.9390544951462232,
          0.09387454731372896,
          -0.3566775006611743,
          -2.1088990387458413,
          1.4528512643473823,
          -1.0261340964628949,
          0.23497758020160772,
          -0.4534270194828116,
          0.11397050565362599,
          0.2381586255109007,
          0.9988085406776966,
          0.025876815884210955,
          -1.2177486952525969,
          0.3174027772821797,
          0.5425099678014165,
          -1.1060029879681268,
          -1.9040147003254828,
          -0.09788757039869198,
          0.5027980532650275,
          0.5946564386503808,
          0.9040607377477198,
          -0.4997921123188726,
          1.0758831897921548,
          0.9939541985768044,
          1.4467641393910968,
          1.6622260071966777,
          -0.22074290486403597,
          0.0831484383304875,
          -1.0252544617631951,
          0.5697014336041655,
          -0.6944539659705443,
          0.2582200223961893,
          0.7920863962548249
         ],
         "xaxis": "x6",
         "yaxis": "y6"
        },
        {
         "line": {
          "color": "rgba(128, 128, 128, 1.0)",
          "dash": "solid",
          "shape": "linear",
          "width": 1.3
         },
         "marker": {
          "size": 2,
          "symbol": "circle"
         },
         "mode": "markers",
         "name": "B",
         "text": "",
         "type": "scatter",
         "x": [
          0.8389764892564305,
          1.013717717231092,
          -0.7297365537101015,
          0.6049139704487708,
          0.7723854906554027,
          0.21623666019717452,
          0.24654014892872012,
          0.7051543353596379,
          1.2091124520868546,
          -0.3219114610225776,
          -0.05848271170796087,
          0.3509714073961184,
          -1.1369574557963296,
          -1.5886052586822192,
          0.46897817236341155,
          1.600651483559872,
          1.0868744225621012,
          -0.8225697383868341,
          -0.5462549515435099,
          -1.0971324409605696,
          -0.42126901991509974,
          -0.40335240915835735,
          -0.06546332364885253,
          -0.7220096955108127,
          -0.24173070493788043,
          -0.7598326671349462,
          0.6241453849807918,
          0.5886794668426667,
          -0.8140869463568312,
          0.628972719389455,
          -0.24496151325077703,
          1.9084749507787575,
          0.5419417425942232,
          0.036735335651900826,
          -0.4792159487349968,
          -0.42916830260793176,
          -2.0635569387151755,
          -0.8682465428527645,
          1.0610949817311277,
          -1.840326548329223,
          0.1770727015256135,
          -0.5972928849101156,
          0.43234865840395753,
          0.36879339666131905,
          -0.31535918919124845,
          0.013286350305847863,
          0.839248722171213,
          -0.5391920294908384,
          0.9028477890920293,
          -0.1449266056100494,
          -0.5550747969708228,
          1.145173812738686,
          -3.9108580222565643,
          0.20059159084486752,
          0.8044663141218427,
          0.007719524278421231,
          -0.07497195612134629,
          -0.7483748180488207,
          -0.8848562233879459,
          0.7831684418093795,
          -0.8408722819203603,
          -0.6584752704475881,
          1.7632864008624585,
          0.4136157562434442,
          0.48584697095725743,
          0.048980905406493386,
          0.5879297579600218,
          -0.8481797780613902,
          -1.5696593179903302,
          -0.48235985761291955,
          -1.0057629092408216,
          0.5448252629602326,
          -0.10385777821915122,
          0.0034653602824622517,
          -0.7496905771230047,
          0.909499498712557,
          0.239924583265994,
          -1.6905948071653993,
          -0.3947023642386599,
          0.07330818187210192,
          -1.1687449252991113,
          -0.6927274731045221,
          -2.716605353800127,
          0.3213373310834251,
          0.13190931480579546,
          0.2755906045892328,
          -0.29173706907620944,
          -0.9130408164605344,
          -0.5978702046605517,
          1.5325682955088105,
          0.6030579947183526,
          -0.8182400542754837,
          -1.8411234610375216,
          1.8687986807306012,
          0.8290383550466602,
          -0.7397713800851328,
          0.6972307899398041,
          0.7355949199704094,
          1.8908724727703967,
          1.2874885440614134
         ],
         "xaxis": "x7",
         "y": [
          -0.7434989651960935,
          -0.4607615024270917,
          1.8780782846811968,
          0.04828809145899935,
          -0.0029359171677269995,
          -0.08753811400269597,
          -0.3979045501815003,
          -1.3587319206144035,
          1.3058393881672048,
          -2.3358469828562334,
          1.7778387243432399,
          -0.8702029541219694,
          0.9935992049714233,
          1.4798461388258817,
          1.1275258510799964,
          1.477737769433274,
          0.36461748526784393,
          0.1831140969875315,
          0.17955620423002,
          2.12826660679801,
          -1.1186449675805272,
          1.1949120889777742,
          0.6551153688968544,
          0.7735108164924516,
          -0.7619829421982433,
          0.3818031659229591,
          -0.13223350833946632,
          -1.0411027537542916,
          0.7270464129765776,
          -0.46302451921768606,
          0.5627073813462292,
          0.08627527498922588,
          0.20036806041275756,
          0.01589035106560516,
          -1.5745988477361705,
          -0.5007655647549084,
          -1.874963053783075,
          -1.1902805653365587,
          -0.6179762986534144,
          0.3369724337050894,
          -0.09505535904528267,
          -0.5306506763564895,
          -0.030613138796697234,
          0.6341060188575188,
          0.23753214374573461,
          0.5756485863333742,
          -0.32928971144601865,
          0.07337782328325868,
          -0.3357057393863871,
          0.5900992992421492,
          -0.40898656611231804,
          -0.47322322257176525,
          0.2934714022237347,
          -0.3757543883540172,
          -0.1585512845422061,
          -0.25357244880222723,
          -1.5140291466870681,
          -0.7753885030539748,
          0.797052517782712,
          -0.3686557886848596,
          0.2855546620487415,
          1.6705044922929793,
          -0.43515134559370927,
          1.6595080594016447,
          -0.7252495287174796,
          -0.8330399931977461,
          -0.679219802873046,
          0.9390544951462232,
          0.09387454731372896,
          -0.3566775006611743,
          -2.1088990387458413,
          1.4528512643473823,
          -1.0261340964628949,
          0.23497758020160772,
          -0.4534270194828116,
          0.11397050565362599,
          0.2381586255109007,
          0.9988085406776966,
          0.025876815884210955,
          -1.2177486952525969,
          0.3174027772821797,
          0.5425099678014165,
          -1.1060029879681268,
          -1.9040147003254828,
          -0.09788757039869198,
          0.5027980532650275,
          0.5946564386503808,
          0.9040607377477198,
          -0.4997921123188726,
          1.0758831897921548,
          0.9939541985768044,
          1.4467641393910968,
          1.6622260071966777,
          -0.22074290486403597,
          0.0831484383304875,
          -1.0252544617631951,
          0.5697014336041655,
          -0.6944539659705443,
          0.2582200223961893,
          0.7920863962548249
         ],
         "yaxis": "y7"
        },
        {
         "line": {
          "color": "rgba(128, 128, 128, 1.0)",
          "dash": "solid",
          "shape": "linear",
          "width": 1.3
         },
         "marker": {
          "size": 2,
          "symbol": "circle"
         },
         "mode": "markers",
         "name": "B",
         "text": "",
         "type": "scatter",
         "x": [
          -0.25191764743566786,
          0.4198145384895684,
          -1.3140941508038348,
          1.2318426219836836,
          -0.14897890875791223,
          -1.143166795336094,
          -1.0314134856330894,
          -1.1040878101495826,
          -0.0955712889122703,
          0.28520146090536724,
          0.6399015028076319,
          -0.8324485066954828,
          -0.07496044929395959,
          -0.7650854165785472,
          -1.2485280903188103,
          2.1795825771112973,
          -0.5620311364223277,
          -0.5585410294220939,
          -0.4537843776591725,
          1.233793314943582,
          0.3512069789710706,
          1.464975027321418,
          1.4746019752966584,
          -0.7371334777665244,
          -0.3636836678402213,
          -1.1003904903879351,
          -0.26791186145062823,
          1.0460755059400357,
          -0.7575438785027289,
          1.3470249818909699,
          0.07133753671463729,
          -0.01749365744707516,
          0.48036583265597094,
          1.1713636735859168,
          -0.5157245415583571,
          0.5016520145241842,
          0.3394304372496551,
          0.46647053193264854,
          -1.0188106058466928,
          1.4949434120261416,
          0.24926084734681345,
          -1.0489198293392754,
          -0.5869623591243232,
          -0.4092280759240029,
          0.5413342628376578,
          -1.5545202367727056,
          -0.8463730481017815,
          2.335589047731229,
          1.4719803000032543,
          1.114770745220192,
          0.0046618591717043694,
          0.23209447481814305,
          0.7197939214034708,
          -0.02268004328530468,
          -0.7705475169250952,
          -0.4059608801378683,
          -0.5030635358492516,
          -0.8643685639929041,
          1.0023979402469545,
          0.2979597397360903,
          1.1906332814088394,
          1.1501541102025645,
          -0.2979571434643375,
          0.7179382669095363,
          -0.8346320717706238,
          1.3723612403204208,
          -1.5862425603672,
          -1.899176752314106,
          0.7353372077394054,
          -0.6598542021621814,
          -0.339557181546737,
          -1.4171259531377154,
          -1.8014094698614205,
          -0.16763899618295058,
          -2.8202747028683604,
          2.2789088952890317,
          0.7425915113742065,
          -0.9350502296364102,
          0.07109195056103915,
          0.39849003187683757,
          0.48201874860427785,
          0.528536342311538,
          -0.8231155460076484,
          -0.5407270412105185,
          0.5105079121512099,
          -0.2005494666709388,
          -2.229405339748603,
          -0.8897868073956053,
          -0.015847545787378004,
          0.6477893421800326,
          0.2378032185505356,
          -1.1377323702203133,
          0.9803696608709259,
          -0.5202531721203323,
          -1.4329078151338888,
          0.7711951985853757,
          0.3764949065442717,
          0.7194210906701671,
          0.3824848220070624,
          0.5980286812170121
         ],
         "xaxis": "x8",
         "y": [
          -0.7434989651960935,
          -0.4607615024270917,
          1.8780782846811968,
          0.04828809145899935,
          -0.0029359171677269995,
          -0.08753811400269597,
          -0.3979045501815003,
          -1.3587319206144035,
          1.3058393881672048,
          -2.3358469828562334,
          1.7778387243432399,
          -0.8702029541219694,
          0.9935992049714233,
          1.4798461388258817,
          1.1275258510799964,
          1.477737769433274,
          0.36461748526784393,
          0.1831140969875315,
          0.17955620423002,
          2.12826660679801,
          -1.1186449675805272,
          1.1949120889777742,
          0.6551153688968544,
          0.7735108164924516,
          -0.7619829421982433,
          0.3818031659229591,
          -0.13223350833946632,
          -1.0411027537542916,
          0.7270464129765776,
          -0.46302451921768606,
          0.5627073813462292,
          0.08627527498922588,
          0.20036806041275756,
          0.01589035106560516,
          -1.5745988477361705,
          -0.5007655647549084,
          -1.874963053783075,
          -1.1902805653365587,
          -0.6179762986534144,
          0.3369724337050894,
          -0.09505535904528267,
          -0.5306506763564895,
          -0.030613138796697234,
          0.6341060188575188,
          0.23753214374573461,
          0.5756485863333742,
          -0.32928971144601865,
          0.07337782328325868,
          -0.3357057393863871,
          0.5900992992421492,
          -0.40898656611231804,
          -0.47322322257176525,
          0.2934714022237347,
          -0.3757543883540172,
          -0.1585512845422061,
          -0.25357244880222723,
          -1.5140291466870681,
          -0.7753885030539748,
          0.797052517782712,
          -0.3686557886848596,
          0.2855546620487415,
          1.6705044922929793,
          -0.43515134559370927,
          1.6595080594016447,
          -0.7252495287174796,
          -0.8330399931977461,
          -0.679219802873046,
          0.9390544951462232,
          0.09387454731372896,
          -0.3566775006611743,
          -2.1088990387458413,
          1.4528512643473823,
          -1.0261340964628949,
          0.23497758020160772,
          -0.4534270194828116,
          0.11397050565362599,
          0.2381586255109007,
          0.9988085406776966,
          0.025876815884210955,
          -1.2177486952525969,
          0.3174027772821797,
          0.5425099678014165,
          -1.1060029879681268,
          -1.9040147003254828,
          -0.09788757039869198,
          0.5027980532650275,
          0.5946564386503808,
          0.9040607377477198,
          -0.4997921123188726,
          1.0758831897921548,
          0.9939541985768044,
          1.4467641393910968,
          1.6622260071966777,
          -0.22074290486403597,
          0.0831484383304875,
          -1.0252544617631951,
          0.5697014336041655,
          -0.6944539659705443,
          0.2582200223961893,
          0.7920863962548249
         ],
         "yaxis": "y8"
        },
        {
         "line": {
          "color": "rgba(128, 128, 128, 1.0)",
          "dash": "solid",
          "shape": "linear",
          "width": 1.3
         },
         "marker": {
          "size": 2,
          "symbol": "circle"
         },
         "mode": "markers",
         "name": "C",
         "text": "",
         "type": "scatter",
         "x": [
          0.4680357176729802,
          -0.18089695435687647,
          0.003483194029145718,
          -0.8503226748006865,
          0.8146106228274449,
          0.15146587172216824,
          0.12723478221447262,
          0.3351004387413441,
          0.9414103775281865,
          -0.8857734378332426,
          -0.5701687051204497,
          -0.8893540639512774,
          0.14019123212902615,
          -0.966403721687782,
          0.33538370842415655,
          0.6702165022341717,
          -0.015213378402976164,
          -1.6090697702945362,
          0.7768280979717406,
          -0.020888206099068173,
          -1.3080179624540567,
          0.007249009389868164,
          0.2945209102593891,
          -0.9992695366250636,
          -0.6447006902415953,
          -1.0905563070634021,
          0.028797804449134032,
          -0.8843550330471293,
          1.0386401862451842,
          -0.6372696659703778,
          -0.07546361030812403,
          -0.6885808917640587,
          0.6960913089883859,
          0.7967344770276393,
          -0.31311403394368115,
          0.44535646682353447,
          1.2184826503543367,
          0.4897504444752817,
          1.0975181333688733,
          -1.2899287196667168,
          0.7672041598633657,
          -1.2666068328758595,
          1.0388834302251584,
          -2.7642984677037763,
          0.7743643434944764,
          0.5383447940237172,
          0.47174339868068116,
          -0.9813512577834447,
          -1.9094619873718108,
          0.09403883020114603,
          -0.16567173008209463,
          0.3497701577167347,
          0.7786062683999717,
          -0.9749299704877334,
          1.895335438858008,
          -0.4681186971331524,
          1.6906002800833542,
          -0.3863554355065704,
          -2.0996821386621938,
          0.13576410988414953,
          0.49662193548416167,
          0.6652139195938592,
          1.318582804966973,
          -0.03610763629279586,
          -0.4325131784953337,
          -0.6569998826577392,
          0.7840142952369771,
          1.3376479675287218,
          -0.24358433096939566,
          0.7227382172365205,
          -0.8355487413044241,
          0.7365537375544133,
          -0.5896650123534253,
          0.6979532707491521,
          0.4168212480194256,
          -1.156999280240315,
          0.49573377418729586,
          -0.8131742308332868,
          -0.023724459695214212,
          -0.6662885802270111,
          -0.5650900186908255,
          -0.14085214787252726,
          0.5047821408545787,
          -1.5536765581644607,
          -0.12215501843578472,
          -0.47462127467704807,
          -0.739431884829175,
          -0.28716816395346373,
          1.7938082735840795,
          -1.721425966026441,
          0.6277844324474082,
          -0.13192234352890128,
          0.5491320236601649,
          -0.5930336917559829,
          0.13740697896731097,
          1.1271661097434316,
          -0.5372438603757769,
          -0.7756176374275516,
          1.9872765631996863,
          1.1777260909975629
         ],
         "xaxis": "x9",
         "y": [
          0.8389764892564305,
          1.013717717231092,
          -0.7297365537101015,
          0.6049139704487708,
          0.7723854906554027,
          0.21623666019717452,
          0.24654014892872012,
          0.7051543353596379,
          1.2091124520868546,
          -0.3219114610225776,
          -0.05848271170796087,
          0.3509714073961184,
          -1.1369574557963296,
          -1.5886052586822192,
          0.46897817236341155,
          1.600651483559872,
          1.0868744225621012,
          -0.8225697383868341,
          -0.5462549515435099,
          -1.0971324409605696,
          -0.42126901991509974,
          -0.40335240915835735,
          -0.06546332364885253,
          -0.7220096955108127,
          -0.24173070493788043,
          -0.7598326671349462,
          0.6241453849807918,
          0.5886794668426667,
          -0.8140869463568312,
          0.628972719389455,
          -0.24496151325077703,
          1.9084749507787575,
          0.5419417425942232,
          0.036735335651900826,
          -0.4792159487349968,
          -0.42916830260793176,
          -2.0635569387151755,
          -0.8682465428527645,
          1.0610949817311277,
          -1.840326548329223,
          0.1770727015256135,
          -0.5972928849101156,
          0.43234865840395753,
          0.36879339666131905,
          -0.31535918919124845,
          0.013286350305847863,
          0.839248722171213,
          -0.5391920294908384,
          0.9028477890920293,
          -0.1449266056100494,
          -0.5550747969708228,
          1.145173812738686,
          -3.9108580222565643,
          0.20059159084486752,
          0.8044663141218427,
          0.007719524278421231,
          -0.07497195612134629,
          -0.7483748180488207,
          -0.8848562233879459,
          0.7831684418093795,
          -0.8408722819203603,
          -0.6584752704475881,
          1.7632864008624585,
          0.4136157562434442,
          0.48584697095725743,
          0.048980905406493386,
          0.5879297579600218,
          -0.8481797780613902,
          -1.5696593179903302,
          -0.48235985761291955,
          -1.0057629092408216,
          0.5448252629602326,
          -0.10385777821915122,
          0.0034653602824622517,
          -0.7496905771230047,
          0.909499498712557,
          0.239924583265994,
          -1.6905948071653993,
          -0.3947023642386599,
          0.07330818187210192,
          -1.1687449252991113,
          -0.6927274731045221,
          -2.716605353800127,
          0.3213373310834251,
          0.13190931480579546,
          0.2755906045892328,
          -0.29173706907620944,
          -0.9130408164605344,
          -0.5978702046605517,
          1.5325682955088105,
          0.6030579947183526,
          -0.8182400542754837,
          -1.8411234610375216,
          1.8687986807306012,
          0.8290383550466602,
          -0.7397713800851328,
          0.6972307899398041,
          0.7355949199704094,
          1.8908724727703967,
          1.2874885440614134
         ],
         "yaxis": "y9"
        },
        {
         "line": {
          "color": "rgba(128, 128, 128, 1.0)",
          "dash": "solid",
          "shape": "linear",
          "width": 1.3
         },
         "marker": {
          "size": 2,
          "symbol": "circle"
         },
         "mode": "markers",
         "name": "C",
         "text": "",
         "type": "scatter",
         "x": [
          -0.7434989651960935,
          -0.4607615024270917,
          1.8780782846811968,
          0.04828809145899935,
          -0.0029359171677269995,
          -0.08753811400269597,
          -0.3979045501815003,
          -1.3587319206144035,
          1.3058393881672048,
          -2.3358469828562334,
          1.7778387243432399,
          -0.8702029541219694,
          0.9935992049714233,
          1.4798461388258817,
          1.1275258510799964,
          1.477737769433274,
          0.36461748526784393,
          0.1831140969875315,
          0.17955620423002,
          2.12826660679801,
          -1.1186449675805272,
          1.1949120889777742,
          0.6551153688968544,
          0.7735108164924516,
          -0.7619829421982433,
          0.3818031659229591,
          -0.13223350833946632,
          -1.0411027537542916,
          0.7270464129765776,
          -0.46302451921768606,
          0.5627073813462292,
          0.08627527498922588,
          0.20036806041275756,
          0.01589035106560516,
          -1.5745988477361705,
          -0.5007655647549084,
          -1.874963053783075,
          -1.1902805653365587,
          -0.6179762986534144,
          0.3369724337050894,
          -0.09505535904528267,
          -0.5306506763564895,
          -0.030613138796697234,
          0.6341060188575188,
          0.23753214374573461,
          0.5756485863333742,
          -0.32928971144601865,
          0.07337782328325868,
          -0.3357057393863871,
          0.5900992992421492,
          -0.40898656611231804,
          -0.47322322257176525,
          0.2934714022237347,
          -0.3757543883540172,
          -0.1585512845422061,
          -0.25357244880222723,
          -1.5140291466870681,
          -0.7753885030539748,
          0.797052517782712,
          -0.3686557886848596,
          0.2855546620487415,
          1.6705044922929793,
          -0.43515134559370927,
          1.6595080594016447,
          -0.7252495287174796,
          -0.8330399931977461,
          -0.679219802873046,
          0.9390544951462232,
          0.09387454731372896,
          -0.3566775006611743,
          -2.1088990387458413,
          1.4528512643473823,
          -1.0261340964628949,
          0.23497758020160772,
          -0.4534270194828116,
          0.11397050565362599,
          0.2381586255109007,
          0.9988085406776966,
          0.025876815884210955,
          -1.2177486952525969,
          0.3174027772821797,
          0.5425099678014165,
          -1.1060029879681268,
          -1.9040147003254828,
          -0.09788757039869198,
          0.5027980532650275,
          0.5946564386503808,
          0.9040607377477198,
          -0.4997921123188726,
          1.0758831897921548,
          0.9939541985768044,
          1.4467641393910968,
          1.6622260071966777,
          -0.22074290486403597,
          0.0831484383304875,
          -1.0252544617631951,
          0.5697014336041655,
          -0.6944539659705443,
          0.2582200223961893,
          0.7920863962548249
         ],
         "xaxis": "x10",
         "y": [
          0.8389764892564305,
          1.013717717231092,
          -0.7297365537101015,
          0.6049139704487708,
          0.7723854906554027,
          0.21623666019717452,
          0.24654014892872012,
          0.7051543353596379,
          1.2091124520868546,
          -0.3219114610225776,
          -0.05848271170796087,
          0.3509714073961184,
          -1.1369574557963296,
          -1.5886052586822192,
          0.46897817236341155,
          1.600651483559872,
          1.0868744225621012,
          -0.8225697383868341,
          -0.5462549515435099,
          -1.0971324409605696,
          -0.42126901991509974,
          -0.40335240915835735,
          -0.06546332364885253,
          -0.7220096955108127,
          -0.24173070493788043,
          -0.7598326671349462,
          0.6241453849807918,
          0.5886794668426667,
          -0.8140869463568312,
          0.628972719389455,
          -0.24496151325077703,
          1.9084749507787575,
          0.5419417425942232,
          0.036735335651900826,
          -0.4792159487349968,
          -0.42916830260793176,
          -2.0635569387151755,
          -0.8682465428527645,
          1.0610949817311277,
          -1.840326548329223,
          0.1770727015256135,
          -0.5972928849101156,
          0.43234865840395753,
          0.36879339666131905,
          -0.31535918919124845,
          0.013286350305847863,
          0.839248722171213,
          -0.5391920294908384,
          0.9028477890920293,
          -0.1449266056100494,
          -0.5550747969708228,
          1.145173812738686,
          -3.9108580222565643,
          0.20059159084486752,
          0.8044663141218427,
          0.007719524278421231,
          -0.07497195612134629,
          -0.7483748180488207,
          -0.8848562233879459,
          0.7831684418093795,
          -0.8408722819203603,
          -0.6584752704475881,
          1.7632864008624585,
          0.4136157562434442,
          0.48584697095725743,
          0.048980905406493386,
          0.5879297579600218,
          -0.8481797780613902,
          -1.5696593179903302,
          -0.48235985761291955,
          -1.0057629092408216,
          0.5448252629602326,
          -0.10385777821915122,
          0.0034653602824622517,
          -0.7496905771230047,
          0.909499498712557,
          0.239924583265994,
          -1.6905948071653993,
          -0.3947023642386599,
          0.07330818187210192,
          -1.1687449252991113,
          -0.6927274731045221,
          -2.716605353800127,
          0.3213373310834251,
          0.13190931480579546,
          0.2755906045892328,
          -0.29173706907620944,
          -0.9130408164605344,
          -0.5978702046605517,
          1.5325682955088105,
          0.6030579947183526,
          -0.8182400542754837,
          -1.8411234610375216,
          1.8687986807306012,
          0.8290383550466602,
          -0.7397713800851328,
          0.6972307899398041,
          0.7355949199704094,
          1.8908724727703967,
          1.2874885440614134
         ],
         "yaxis": "y10"
        },
        {
         "histfunc": "count",
         "histnorm": "",
         "marker": {
          "color": "rgba(50, 171, 96, 1.0)",
          "line": {
           "color": "#4D5663",
           "width": 1.3
          }
         },
         "name": "C",
         "nbinsx": 10,
         "opacity": 0.8,
         "orientation": "v",
         "type": "histogram",
         "x": [
          0.8389764892564305,
          1.013717717231092,
          -0.7297365537101015,
          0.6049139704487708,
          0.7723854906554027,
          0.21623666019717452,
          0.24654014892872012,
          0.7051543353596379,
          1.2091124520868546,
          -0.3219114610225776,
          -0.05848271170796087,
          0.3509714073961184,
          -1.1369574557963296,
          -1.5886052586822192,
          0.46897817236341155,
          1.600651483559872,
          1.0868744225621012,
          -0.8225697383868341,
          -0.5462549515435099,
          -1.0971324409605696,
          -0.42126901991509974,
          -0.40335240915835735,
          -0.06546332364885253,
          -0.7220096955108127,
          -0.24173070493788043,
          -0.7598326671349462,
          0.6241453849807918,
          0.5886794668426667,
          -0.8140869463568312,
          0.628972719389455,
          -0.24496151325077703,
          1.9084749507787575,
          0.5419417425942232,
          0.036735335651900826,
          -0.4792159487349968,
          -0.42916830260793176,
          -2.0635569387151755,
          -0.8682465428527645,
          1.0610949817311277,
          -1.840326548329223,
          0.1770727015256135,
          -0.5972928849101156,
          0.43234865840395753,
          0.36879339666131905,
          -0.31535918919124845,
          0.013286350305847863,
          0.839248722171213,
          -0.5391920294908384,
          0.9028477890920293,
          -0.1449266056100494,
          -0.5550747969708228,
          1.145173812738686,
          -3.9108580222565643,
          0.20059159084486752,
          0.8044663141218427,
          0.007719524278421231,
          -0.07497195612134629,
          -0.7483748180488207,
          -0.8848562233879459,
          0.7831684418093795,
          -0.8408722819203603,
          -0.6584752704475881,
          1.7632864008624585,
          0.4136157562434442,
          0.48584697095725743,
          0.048980905406493386,
          0.5879297579600218,
          -0.8481797780613902,
          -1.5696593179903302,
          -0.48235985761291955,
          -1.0057629092408216,
          0.5448252629602326,
          -0.10385777821915122,
          0.0034653602824622517,
          -0.7496905771230047,
          0.909499498712557,
          0.239924583265994,
          -1.6905948071653993,
          -0.3947023642386599,
          0.07330818187210192,
          -1.1687449252991113,
          -0.6927274731045221,
          -2.716605353800127,
          0.3213373310834251,
          0.13190931480579546,
          0.2755906045892328,
          -0.29173706907620944,
          -0.9130408164605344,
          -0.5978702046605517,
          1.5325682955088105,
          0.6030579947183526,
          -0.8182400542754837,
          -1.8411234610375216,
          1.8687986807306012,
          0.8290383550466602,
          -0.7397713800851328,
          0.6972307899398041,
          0.7355949199704094,
          1.8908724727703967,
          1.2874885440614134
         ],
         "xaxis": "x11",
         "yaxis": "y11"
        },
        {
         "line": {
          "color": "rgba(128, 128, 128, 1.0)",
          "dash": "solid",
          "shape": "linear",
          "width": 1.3
         },
         "marker": {
          "size": 2,
          "symbol": "circle"
         },
         "mode": "markers",
         "name": "C",
         "text": "",
         "type": "scatter",
         "x": [
          -0.25191764743566786,
          0.4198145384895684,
          -1.3140941508038348,
          1.2318426219836836,
          -0.14897890875791223,
          -1.143166795336094,
          -1.0314134856330894,
          -1.1040878101495826,
          -0.0955712889122703,
          0.28520146090536724,
          0.6399015028076319,
          -0.8324485066954828,
          -0.07496044929395959,
          -0.7650854165785472,
          -1.2485280903188103,
          2.1795825771112973,
          -0.5620311364223277,
          -0.5585410294220939,
          -0.4537843776591725,
          1.233793314943582,
          0.3512069789710706,
          1.464975027321418,
          1.4746019752966584,
          -0.7371334777665244,
          -0.3636836678402213,
          -1.1003904903879351,
          -0.26791186145062823,
          1.0460755059400357,
          -0.7575438785027289,
          1.3470249818909699,
          0.07133753671463729,
          -0.01749365744707516,
          0.48036583265597094,
          1.1713636735859168,
          -0.5157245415583571,
          0.5016520145241842,
          0.3394304372496551,
          0.46647053193264854,
          -1.0188106058466928,
          1.4949434120261416,
          0.24926084734681345,
          -1.0489198293392754,
          -0.5869623591243232,
          -0.4092280759240029,
          0.5413342628376578,
          -1.5545202367727056,
          -0.8463730481017815,
          2.335589047731229,
          1.4719803000032543,
          1.114770745220192,
          0.0046618591717043694,
          0.23209447481814305,
          0.7197939214034708,
          -0.02268004328530468,
          -0.7705475169250952,
          -0.4059608801378683,
          -0.5030635358492516,
          -0.8643685639929041,
          1.0023979402469545,
          0.2979597397360903,
          1.1906332814088394,
          1.1501541102025645,
          -0.2979571434643375,
          0.7179382669095363,
          -0.8346320717706238,
          1.3723612403204208,
          -1.5862425603672,
          -1.899176752314106,
          0.7353372077394054,
          -0.6598542021621814,
          -0.339557181546737,
          -1.4171259531377154,
          -1.8014094698614205,
          -0.16763899618295058,
          -2.8202747028683604,
          2.2789088952890317,
          0.7425915113742065,
          -0.9350502296364102,
          0.07109195056103915,
          0.39849003187683757,
          0.48201874860427785,
          0.528536342311538,
          -0.8231155460076484,
          -0.5407270412105185,
          0.5105079121512099,
          -0.2005494666709388,
          -2.229405339748603,
          -0.8897868073956053,
          -0.015847545787378004,
          0.6477893421800326,
          0.2378032185505356,
          -1.1377323702203133,
          0.9803696608709259,
          -0.5202531721203323,
          -1.4329078151338888,
          0.7711951985853757,
          0.3764949065442717,
          0.7194210906701671,
          0.3824848220070624,
          0.5980286812170121
         ],
         "xaxis": "x12",
         "y": [
          0.8389764892564305,
          1.013717717231092,
          -0.7297365537101015,
          0.6049139704487708,
          0.7723854906554027,
          0.21623666019717452,
          0.24654014892872012,
          0.7051543353596379,
          1.2091124520868546,
          -0.3219114610225776,
          -0.05848271170796087,
          0.3509714073961184,
          -1.1369574557963296,
          -1.5886052586822192,
          0.46897817236341155,
          1.600651483559872,
          1.0868744225621012,
          -0.8225697383868341,
          -0.5462549515435099,
          -1.0971324409605696,
          -0.42126901991509974,
          -0.40335240915835735,
          -0.06546332364885253,
          -0.7220096955108127,
          -0.24173070493788043,
          -0.7598326671349462,
          0.6241453849807918,
          0.5886794668426667,
          -0.8140869463568312,
          0.628972719389455,
          -0.24496151325077703,
          1.9084749507787575,
          0.5419417425942232,
          0.036735335651900826,
          -0.4792159487349968,
          -0.42916830260793176,
          -2.0635569387151755,
          -0.8682465428527645,
          1.0610949817311277,
          -1.840326548329223,
          0.1770727015256135,
          -0.5972928849101156,
          0.43234865840395753,
          0.36879339666131905,
          -0.31535918919124845,
          0.013286350305847863,
          0.839248722171213,
          -0.5391920294908384,
          0.9028477890920293,
          -0.1449266056100494,
          -0.5550747969708228,
          1.145173812738686,
          -3.9108580222565643,
          0.20059159084486752,
          0.8044663141218427,
          0.007719524278421231,
          -0.07497195612134629,
          -0.7483748180488207,
          -0.8848562233879459,
          0.7831684418093795,
          -0.8408722819203603,
          -0.6584752704475881,
          1.7632864008624585,
          0.4136157562434442,
          0.48584697095725743,
          0.048980905406493386,
          0.5879297579600218,
          -0.8481797780613902,
          -1.5696593179903302,
          -0.48235985761291955,
          -1.0057629092408216,
          0.5448252629602326,
          -0.10385777821915122,
          0.0034653602824622517,
          -0.7496905771230047,
          0.909499498712557,
          0.239924583265994,
          -1.6905948071653993,
          -0.3947023642386599,
          0.07330818187210192,
          -1.1687449252991113,
          -0.6927274731045221,
          -2.716605353800127,
          0.3213373310834251,
          0.13190931480579546,
          0.2755906045892328,
          -0.29173706907620944,
          -0.9130408164605344,
          -0.5978702046605517,
          1.5325682955088105,
          0.6030579947183526,
          -0.8182400542754837,
          -1.8411234610375216,
          1.8687986807306012,
          0.8290383550466602,
          -0.7397713800851328,
          0.6972307899398041,
          0.7355949199704094,
          1.8908724727703967,
          1.2874885440614134
         ],
         "yaxis": "y12"
        },
        {
         "line": {
          "color": "rgba(128, 128, 128, 1.0)",
          "dash": "solid",
          "shape": "linear",
          "width": 1.3
         },
         "marker": {
          "size": 2,
          "symbol": "circle"
         },
         "mode": "markers",
         "name": "D",
         "text": "",
         "type": "scatter",
         "x": [
          0.4680357176729802,
          -0.18089695435687647,
          0.003483194029145718,
          -0.8503226748006865,
          0.8146106228274449,
          0.15146587172216824,
          0.12723478221447262,
          0.3351004387413441,
          0.9414103775281865,
          -0.8857734378332426,
          -0.5701687051204497,
          -0.8893540639512774,
          0.14019123212902615,
          -0.966403721687782,
          0.33538370842415655,
          0.6702165022341717,
          -0.015213378402976164,
          -1.6090697702945362,
          0.7768280979717406,
          -0.020888206099068173,
          -1.3080179624540567,
          0.007249009389868164,
          0.2945209102593891,
          -0.9992695366250636,
          -0.6447006902415953,
          -1.0905563070634021,
          0.028797804449134032,
          -0.8843550330471293,
          1.0386401862451842,
          -0.6372696659703778,
          -0.07546361030812403,
          -0.6885808917640587,
          0.6960913089883859,
          0.7967344770276393,
          -0.31311403394368115,
          0.44535646682353447,
          1.2184826503543367,
          0.4897504444752817,
          1.0975181333688733,
          -1.2899287196667168,
          0.7672041598633657,
          -1.2666068328758595,
          1.0388834302251584,
          -2.7642984677037763,
          0.7743643434944764,
          0.5383447940237172,
          0.47174339868068116,
          -0.9813512577834447,
          -1.9094619873718108,
          0.09403883020114603,
          -0.16567173008209463,
          0.3497701577167347,
          0.7786062683999717,
          -0.9749299704877334,
          1.895335438858008,
          -0.4681186971331524,
          1.6906002800833542,
          -0.3863554355065704,
          -2.0996821386621938,
          0.13576410988414953,
          0.49662193548416167,
          0.6652139195938592,
          1.318582804966973,
          -0.03610763629279586,
          -0.4325131784953337,
          -0.6569998826577392,
          0.7840142952369771,
          1.3376479675287218,
          -0.24358433096939566,
          0.7227382172365205,
          -0.8355487413044241,
          0.7365537375544133,
          -0.5896650123534253,
          0.6979532707491521,
          0.4168212480194256,
          -1.156999280240315,
          0.49573377418729586,
          -0.8131742308332868,
          -0.023724459695214212,
          -0.6662885802270111,
          -0.5650900186908255,
          -0.14085214787252726,
          0.5047821408545787,
          -1.5536765581644607,
          -0.12215501843578472,
          -0.47462127467704807,
          -0.739431884829175,
          -0.28716816395346373,
          1.7938082735840795,
          -1.721425966026441,
          0.6277844324474082,
          -0.13192234352890128,
          0.5491320236601649,
          -0.5930336917559829,
          0.13740697896731097,
          1.1271661097434316,
          -0.5372438603757769,
          -0.7756176374275516,
          1.9872765631996863,
          1.1777260909975629
         ],
         "xaxis": "x13",
         "y": [
          -0.25191764743566786,
          0.4198145384895684,
          -1.3140941508038348,
          1.2318426219836836,
          -0.14897890875791223,
          -1.143166795336094,
          -1.0314134856330894,
          -1.1040878101495826,
          -0.0955712889122703,
          0.28520146090536724,
          0.6399015028076319,
          -0.8324485066954828,
          -0.07496044929395959,
          -0.7650854165785472,
          -1.2485280903188103,
          2.1795825771112973,
          -0.5620311364223277,
          -0.5585410294220939,
          -0.4537843776591725,
          1.233793314943582,
          0.3512069789710706,
          1.464975027321418,
          1.4746019752966584,
          -0.7371334777665244,
          -0.3636836678402213,
          -1.1003904903879351,
          -0.26791186145062823,
          1.0460755059400357,
          -0.7575438785027289,
          1.3470249818909699,
          0.07133753671463729,
          -0.01749365744707516,
          0.48036583265597094,
          1.1713636735859168,
          -0.5157245415583571,
          0.5016520145241842,
          0.3394304372496551,
          0.46647053193264854,
          -1.0188106058466928,
          1.4949434120261416,
          0.24926084734681345,
          -1.0489198293392754,
          -0.5869623591243232,
          -0.4092280759240029,
          0.5413342628376578,
          -1.5545202367727056,
          -0.8463730481017815,
          2.335589047731229,
          1.4719803000032543,
          1.114770745220192,
          0.0046618591717043694,
          0.23209447481814305,
          0.7197939214034708,
          -0.02268004328530468,
          -0.7705475169250952,
          -0.4059608801378683,
          -0.5030635358492516,
          -0.8643685639929041,
          1.0023979402469545,
          0.2979597397360903,
          1.1906332814088394,
          1.1501541102025645,
          -0.2979571434643375,
          0.7179382669095363,
          -0.8346320717706238,
          1.3723612403204208,
          -1.5862425603672,
          -1.899176752314106,
          0.7353372077394054,
          -0.6598542021621814,
          -0.339557181546737,
          -1.4171259531377154,
          -1.8014094698614205,
          -0.16763899618295058,
          -2.8202747028683604,
          2.2789088952890317,
          0.7425915113742065,
          -0.9350502296364102,
          0.07109195056103915,
          0.39849003187683757,
          0.48201874860427785,
          0.528536342311538,
          -0.8231155460076484,
          -0.5407270412105185,
          0.5105079121512099,
          -0.2005494666709388,
          -2.229405339748603,
          -0.8897868073956053,
          -0.015847545787378004,
          0.6477893421800326,
          0.2378032185505356,
          -1.1377323702203133,
          0.9803696608709259,
          -0.5202531721203323,
          -1.4329078151338888,
          0.7711951985853757,
          0.3764949065442717,
          0.7194210906701671,
          0.3824848220070624,
          0.5980286812170121
         ],
         "yaxis": "y13"
        },
        {
         "line": {
          "color": "rgba(128, 128, 128, 1.0)",
          "dash": "solid",
          "shape": "linear",
          "width": 1.3
         },
         "marker": {
          "size": 2,
          "symbol": "circle"
         },
         "mode": "markers",
         "name": "D",
         "text": "",
         "type": "scatter",
         "x": [
          -0.7434989651960935,
          -0.4607615024270917,
          1.8780782846811968,
          0.04828809145899935,
          -0.0029359171677269995,
          -0.08753811400269597,
          -0.3979045501815003,
          -1.3587319206144035,
          1.3058393881672048,
          -2.3358469828562334,
          1.7778387243432399,
          -0.8702029541219694,
          0.9935992049714233,
          1.4798461388258817,
          1.1275258510799964,
          1.477737769433274,
          0.36461748526784393,
          0.1831140969875315,
          0.17955620423002,
          2.12826660679801,
          -1.1186449675805272,
          1.1949120889777742,
          0.6551153688968544,
          0.7735108164924516,
          -0.7619829421982433,
          0.3818031659229591,
          -0.13223350833946632,
          -1.0411027537542916,
          0.7270464129765776,
          -0.46302451921768606,
          0.5627073813462292,
          0.08627527498922588,
          0.20036806041275756,
          0.01589035106560516,
          -1.5745988477361705,
          -0.5007655647549084,
          -1.874963053783075,
          -1.1902805653365587,
          -0.6179762986534144,
          0.3369724337050894,
          -0.09505535904528267,
          -0.5306506763564895,
          -0.030613138796697234,
          0.6341060188575188,
          0.23753214374573461,
          0.5756485863333742,
          -0.32928971144601865,
          0.07337782328325868,
          -0.3357057393863871,
          0.5900992992421492,
          -0.40898656611231804,
          -0.47322322257176525,
          0.2934714022237347,
          -0.3757543883540172,
          -0.1585512845422061,
          -0.25357244880222723,
          -1.5140291466870681,
          -0.7753885030539748,
          0.797052517782712,
          -0.3686557886848596,
          0.2855546620487415,
          1.6705044922929793,
          -0.43515134559370927,
          1.6595080594016447,
          -0.7252495287174796,
          -0.8330399931977461,
          -0.679219802873046,
          0.9390544951462232,
          0.09387454731372896,
          -0.3566775006611743,
          -2.1088990387458413,
          1.4528512643473823,
          -1.0261340964628949,
          0.23497758020160772,
          -0.4534270194828116,
          0.11397050565362599,
          0.2381586255109007,
          0.9988085406776966,
          0.025876815884210955,
          -1.2177486952525969,
          0.3174027772821797,
          0.5425099678014165,
          -1.1060029879681268,
          -1.9040147003254828,
          -0.09788757039869198,
          0.5027980532650275,
          0.5946564386503808,
          0.9040607377477198,
          -0.4997921123188726,
          1.0758831897921548,
          0.9939541985768044,
          1.4467641393910968,
          1.6622260071966777,
          -0.22074290486403597,
          0.0831484383304875,
          -1.0252544617631951,
          0.5697014336041655,
          -0.6944539659705443,
          0.2582200223961893,
          0.7920863962548249
         ],
         "xaxis": "x14",
         "y": [
          -0.25191764743566786,
          0.4198145384895684,
          -1.3140941508038348,
          1.2318426219836836,
          -0.14897890875791223,
          -1.143166795336094,
          -1.0314134856330894,
          -1.1040878101495826,
          -0.0955712889122703,
          0.28520146090536724,
          0.6399015028076319,
          -0.8324485066954828,
          -0.07496044929395959,
          -0.7650854165785472,
          -1.2485280903188103,
          2.1795825771112973,
          -0.5620311364223277,
          -0.5585410294220939,
          -0.4537843776591725,
          1.233793314943582,
          0.3512069789710706,
          1.464975027321418,
          1.4746019752966584,
          -0.7371334777665244,
          -0.3636836678402213,
          -1.1003904903879351,
          -0.26791186145062823,
          1.0460755059400357,
          -0.7575438785027289,
          1.3470249818909699,
          0.07133753671463729,
          -0.01749365744707516,
          0.48036583265597094,
          1.1713636735859168,
          -0.5157245415583571,
          0.5016520145241842,
          0.3394304372496551,
          0.46647053193264854,
          -1.0188106058466928,
          1.4949434120261416,
          0.24926084734681345,
          -1.0489198293392754,
          -0.5869623591243232,
          -0.4092280759240029,
          0.5413342628376578,
          -1.5545202367727056,
          -0.8463730481017815,
          2.335589047731229,
          1.4719803000032543,
          1.114770745220192,
          0.0046618591717043694,
          0.23209447481814305,
          0.7197939214034708,
          -0.02268004328530468,
          -0.7705475169250952,
          -0.4059608801378683,
          -0.5030635358492516,
          -0.8643685639929041,
          1.0023979402469545,
          0.2979597397360903,
          1.1906332814088394,
          1.1501541102025645,
          -0.2979571434643375,
          0.7179382669095363,
          -0.8346320717706238,
          1.3723612403204208,
          -1.5862425603672,
          -1.899176752314106,
          0.7353372077394054,
          -0.6598542021621814,
          -0.339557181546737,
          -1.4171259531377154,
          -1.8014094698614205,
          -0.16763899618295058,
          -2.8202747028683604,
          2.2789088952890317,
          0.7425915113742065,
          -0.9350502296364102,
          0.07109195056103915,
          0.39849003187683757,
          0.48201874860427785,
          0.528536342311538,
          -0.8231155460076484,
          -0.5407270412105185,
          0.5105079121512099,
          -0.2005494666709388,
          -2.229405339748603,
          -0.8897868073956053,
          -0.015847545787378004,
          0.6477893421800326,
          0.2378032185505356,
          -1.1377323702203133,
          0.9803696608709259,
          -0.5202531721203323,
          -1.4329078151338888,
          0.7711951985853757,
          0.3764949065442717,
          0.7194210906701671,
          0.3824848220070624,
          0.5980286812170121
         ],
         "yaxis": "y14"
        },
        {
         "line": {
          "color": "rgba(128, 128, 128, 1.0)",
          "dash": "solid",
          "shape": "linear",
          "width": 1.3
         },
         "marker": {
          "size": 2,
          "symbol": "circle"
         },
         "mode": "markers",
         "name": "D",
         "text": "",
         "type": "scatter",
         "x": [
          0.8389764892564305,
          1.013717717231092,
          -0.7297365537101015,
          0.6049139704487708,
          0.7723854906554027,
          0.21623666019717452,
          0.24654014892872012,
          0.7051543353596379,
          1.2091124520868546,
          -0.3219114610225776,
          -0.05848271170796087,
          0.3509714073961184,
          -1.1369574557963296,
          -1.5886052586822192,
          0.46897817236341155,
          1.600651483559872,
          1.0868744225621012,
          -0.8225697383868341,
          -0.5462549515435099,
          -1.0971324409605696,
          -0.42126901991509974,
          -0.40335240915835735,
          -0.06546332364885253,
          -0.7220096955108127,
          -0.24173070493788043,
          -0.7598326671349462,
          0.6241453849807918,
          0.5886794668426667,
          -0.8140869463568312,
          0.628972719389455,
          -0.24496151325077703,
          1.9084749507787575,
          0.5419417425942232,
          0.036735335651900826,
          -0.4792159487349968,
          -0.42916830260793176,
          -2.0635569387151755,
          -0.8682465428527645,
          1.0610949817311277,
          -1.840326548329223,
          0.1770727015256135,
          -0.5972928849101156,
          0.43234865840395753,
          0.36879339666131905,
          -0.31535918919124845,
          0.013286350305847863,
          0.839248722171213,
          -0.5391920294908384,
          0.9028477890920293,
          -0.1449266056100494,
          -0.5550747969708228,
          1.145173812738686,
          -3.9108580222565643,
          0.20059159084486752,
          0.8044663141218427,
          0.007719524278421231,
          -0.07497195612134629,
          -0.7483748180488207,
          -0.8848562233879459,
          0.7831684418093795,
          -0.8408722819203603,
          -0.6584752704475881,
          1.7632864008624585,
          0.4136157562434442,
          0.48584697095725743,
          0.048980905406493386,
          0.5879297579600218,
          -0.8481797780613902,
          -1.5696593179903302,
          -0.48235985761291955,
          -1.0057629092408216,
          0.5448252629602326,
          -0.10385777821915122,
          0.0034653602824622517,
          -0.7496905771230047,
          0.909499498712557,
          0.239924583265994,
          -1.6905948071653993,
          -0.3947023642386599,
          0.07330818187210192,
          -1.1687449252991113,
          -0.6927274731045221,
          -2.716605353800127,
          0.3213373310834251,
          0.13190931480579546,
          0.2755906045892328,
          -0.29173706907620944,
          -0.9130408164605344,
          -0.5978702046605517,
          1.5325682955088105,
          0.6030579947183526,
          -0.8182400542754837,
          -1.8411234610375216,
          1.8687986807306012,
          0.8290383550466602,
          -0.7397713800851328,
          0.6972307899398041,
          0.7355949199704094,
          1.8908724727703967,
          1.2874885440614134
         ],
         "xaxis": "x15",
         "y": [
          -0.25191764743566786,
          0.4198145384895684,
          -1.3140941508038348,
          1.2318426219836836,
          -0.14897890875791223,
          -1.143166795336094,
          -1.0314134856330894,
          -1.1040878101495826,
          -0.0955712889122703,
          0.28520146090536724,
          0.6399015028076319,
          -0.8324485066954828,
          -0.07496044929395959,
          -0.7650854165785472,
          -1.2485280903188103,
          2.1795825771112973,
          -0.5620311364223277,
          -0.5585410294220939,
          -0.4537843776591725,
          1.233793314943582,
          0.3512069789710706,
          1.464975027321418,
          1.4746019752966584,
          -0.7371334777665244,
          -0.3636836678402213,
          -1.1003904903879351,
          -0.26791186145062823,
          1.0460755059400357,
          -0.7575438785027289,
          1.3470249818909699,
          0.07133753671463729,
          -0.01749365744707516,
          0.48036583265597094,
          1.1713636735859168,
          -0.5157245415583571,
          0.5016520145241842,
          0.3394304372496551,
          0.46647053193264854,
          -1.0188106058466928,
          1.4949434120261416,
          0.24926084734681345,
          -1.0489198293392754,
          -0.5869623591243232,
          -0.4092280759240029,
          0.5413342628376578,
          -1.5545202367727056,
          -0.8463730481017815,
          2.335589047731229,
          1.4719803000032543,
          1.114770745220192,
          0.0046618591717043694,
          0.23209447481814305,
          0.7197939214034708,
          -0.02268004328530468,
          -0.7705475169250952,
          -0.4059608801378683,
          -0.5030635358492516,
          -0.8643685639929041,
          1.0023979402469545,
          0.2979597397360903,
          1.1906332814088394,
          1.1501541102025645,
          -0.2979571434643375,
          0.7179382669095363,
          -0.8346320717706238,
          1.3723612403204208,
          -1.5862425603672,
          -1.899176752314106,
          0.7353372077394054,
          -0.6598542021621814,
          -0.339557181546737,
          -1.4171259531377154,
          -1.8014094698614205,
          -0.16763899618295058,
          -2.8202747028683604,
          2.2789088952890317,
          0.7425915113742065,
          -0.9350502296364102,
          0.07109195056103915,
          0.39849003187683757,
          0.48201874860427785,
          0.528536342311538,
          -0.8231155460076484,
          -0.5407270412105185,
          0.5105079121512099,
          -0.2005494666709388,
          -2.229405339748603,
          -0.8897868073956053,
          -0.015847545787378004,
          0.6477893421800326,
          0.2378032185505356,
          -1.1377323702203133,
          0.9803696608709259,
          -0.5202531721203323,
          -1.4329078151338888,
          0.7711951985853757,
          0.3764949065442717,
          0.7194210906701671,
          0.3824848220070624,
          0.5980286812170121
         ],
         "yaxis": "y15"
        },
        {
         "histfunc": "count",
         "histnorm": "",
         "marker": {
          "color": "rgba(128, 0, 128, 1.0)",
          "line": {
           "color": "#4D5663",
           "width": 1.3
          }
         },
         "name": "D",
         "nbinsx": 10,
         "opacity": 0.8,
         "orientation": "v",
         "type": "histogram",
         "x": [
          -0.25191764743566786,
          0.4198145384895684,
          -1.3140941508038348,
          1.2318426219836836,
          -0.14897890875791223,
          -1.143166795336094,
          -1.0314134856330894,
          -1.1040878101495826,
          -0.0955712889122703,
          0.28520146090536724,
          0.6399015028076319,
          -0.8324485066954828,
          -0.07496044929395959,
          -0.7650854165785472,
          -1.2485280903188103,
          2.1795825771112973,
          -0.5620311364223277,
          -0.5585410294220939,
          -0.4537843776591725,
          1.233793314943582,
          0.3512069789710706,
          1.464975027321418,
          1.4746019752966584,
          -0.7371334777665244,
          -0.3636836678402213,
          -1.1003904903879351,
          -0.26791186145062823,
          1.0460755059400357,
          -0.7575438785027289,
          1.3470249818909699,
          0.07133753671463729,
          -0.01749365744707516,
          0.48036583265597094,
          1.1713636735859168,
          -0.5157245415583571,
          0.5016520145241842,
          0.3394304372496551,
          0.46647053193264854,
          -1.0188106058466928,
          1.4949434120261416,
          0.24926084734681345,
          -1.0489198293392754,
          -0.5869623591243232,
          -0.4092280759240029,
          0.5413342628376578,
          -1.5545202367727056,
          -0.8463730481017815,
          2.335589047731229,
          1.4719803000032543,
          1.114770745220192,
          0.0046618591717043694,
          0.23209447481814305,
          0.7197939214034708,
          -0.02268004328530468,
          -0.7705475169250952,
          -0.4059608801378683,
          -0.5030635358492516,
          -0.8643685639929041,
          1.0023979402469545,
          0.2979597397360903,
          1.1906332814088394,
          1.1501541102025645,
          -0.2979571434643375,
          0.7179382669095363,
          -0.8346320717706238,
          1.3723612403204208,
          -1.5862425603672,
          -1.899176752314106,
          0.7353372077394054,
          -0.6598542021621814,
          -0.339557181546737,
          -1.4171259531377154,
          -1.8014094698614205,
          -0.16763899618295058,
          -2.8202747028683604,
          2.2789088952890317,
          0.7425915113742065,
          -0.9350502296364102,
          0.07109195056103915,
          0.39849003187683757,
          0.48201874860427785,
          0.528536342311538,
          -0.8231155460076484,
          -0.5407270412105185,
          0.5105079121512099,
          -0.2005494666709388,
          -2.229405339748603,
          -0.8897868073956053,
          -0.015847545787378004,
          0.6477893421800326,
          0.2378032185505356,
          -1.1377323702203133,
          0.9803696608709259,
          -0.5202531721203323,
          -1.4329078151338888,
          0.7711951985853757,
          0.3764949065442717,
          0.7194210906701671,
          0.3824848220070624,
          0.5980286812170121
         ],
         "xaxis": "x16",
         "yaxis": "y16"
        }
       ],
       "layout": {
        "bargap": 0.02,
        "legend": {
         "bgcolor": "#F5F6F9",
         "font": {
          "color": "#4D5663"
         }
        },
        "paper_bgcolor": "#F5F6F9",
        "plot_bgcolor": "#F5F6F9",
        "showlegend": false,
        "template": {
         "data": {
          "bar": [
           {
            "error_x": {
             "color": "#2a3f5f"
            },
            "error_y": {
             "color": "#2a3f5f"
            },
            "marker": {
             "line": {
              "color": "#E5ECF6",
              "width": 0.5
             }
            },
            "type": "bar"
           }
          ],
          "barpolar": [
           {
            "marker": {
             "line": {
              "color": "#E5ECF6",
              "width": 0.5
             }
            },
            "type": "barpolar"
           }
          ],
          "carpet": [
           {
            "aaxis": {
             "endlinecolor": "#2a3f5f",
             "gridcolor": "white",
             "linecolor": "white",
             "minorgridcolor": "white",
             "startlinecolor": "#2a3f5f"
            },
            "baxis": {
             "endlinecolor": "#2a3f5f",
             "gridcolor": "white",
             "linecolor": "white",
             "minorgridcolor": "white",
             "startlinecolor": "#2a3f5f"
            },
            "type": "carpet"
           }
          ],
          "choropleth": [
           {
            "colorbar": {
             "outlinewidth": 0,
             "ticks": ""
            },
            "type": "choropleth"
           }
          ],
          "contour": [
           {
            "colorbar": {
             "outlinewidth": 0,
             "ticks": ""
            },
            "colorscale": [
             [
              0,
              "#0d0887"
             ],
             [
              0.1111111111111111,
              "#46039f"
             ],
             [
              0.2222222222222222,
              "#7201a8"
             ],
             [
              0.3333333333333333,
              "#9c179e"
             ],
             [
              0.4444444444444444,
              "#bd3786"
             ],
             [
              0.5555555555555556,
              "#d8576b"
             ],
             [
              0.6666666666666666,
              "#ed7953"
             ],
             [
              0.7777777777777778,
              "#fb9f3a"
             ],
             [
              0.8888888888888888,
              "#fdca26"
             ],
             [
              1,
              "#f0f921"
             ]
            ],
            "type": "contour"
           }
          ],
          "contourcarpet": [
           {
            "colorbar": {
             "outlinewidth": 0,
             "ticks": ""
            },
            "type": "contourcarpet"
           }
          ],
          "heatmap": [
           {
            "colorbar": {
             "outlinewidth": 0,
             "ticks": ""
            },
            "colorscale": [
             [
              0,
              "#0d0887"
             ],
             [
              0.1111111111111111,
              "#46039f"
             ],
             [
              0.2222222222222222,
              "#7201a8"
             ],
             [
              0.3333333333333333,
              "#9c179e"
             ],
             [
              0.4444444444444444,
              "#bd3786"
             ],
             [
              0.5555555555555556,
              "#d8576b"
             ],
             [
              0.6666666666666666,
              "#ed7953"
             ],
             [
              0.7777777777777778,
              "#fb9f3a"
             ],
             [
              0.8888888888888888,
              "#fdca26"
             ],
             [
              1,
              "#f0f921"
             ]
            ],
            "type": "heatmap"
           }
          ],
          "heatmapgl": [
           {
            "colorbar": {
             "outlinewidth": 0,
             "ticks": ""
            },
            "colorscale": [
             [
              0,
              "#0d0887"
             ],
             [
              0.1111111111111111,
              "#46039f"
             ],
             [
              0.2222222222222222,
              "#7201a8"
             ],
             [
              0.3333333333333333,
              "#9c179e"
             ],
             [
              0.4444444444444444,
              "#bd3786"
             ],
             [
              0.5555555555555556,
              "#d8576b"
             ],
             [
              0.6666666666666666,
              "#ed7953"
             ],
             [
              0.7777777777777778,
              "#fb9f3a"
             ],
             [
              0.8888888888888888,
              "#fdca26"
             ],
             [
              1,
              "#f0f921"
             ]
            ],
            "type": "heatmapgl"
           }
          ],
          "histogram": [
           {
            "marker": {
             "colorbar": {
              "outlinewidth": 0,
              "ticks": ""
             }
            },
            "type": "histogram"
           }
          ],
          "histogram2d": [
           {
            "colorbar": {
             "outlinewidth": 0,
             "ticks": ""
            },
            "colorscale": [
             [
              0,
              "#0d0887"
             ],
             [
              0.1111111111111111,
              "#46039f"
             ],
             [
              0.2222222222222222,
              "#7201a8"
             ],
             [
              0.3333333333333333,
              "#9c179e"
             ],
             [
              0.4444444444444444,
              "#bd3786"
             ],
             [
              0.5555555555555556,
              "#d8576b"
             ],
             [
              0.6666666666666666,
              "#ed7953"
             ],
             [
              0.7777777777777778,
              "#fb9f3a"
             ],
             [
              0.8888888888888888,
              "#fdca26"
             ],
             [
              1,
              "#f0f921"
             ]
            ],
            "type": "histogram2d"
           }
          ],
          "histogram2dcontour": [
           {
            "colorbar": {
             "outlinewidth": 0,
             "ticks": ""
            },
            "colorscale": [
             [
              0,
              "#0d0887"
             ],
             [
              0.1111111111111111,
              "#46039f"
             ],
             [
              0.2222222222222222,
              "#7201a8"
             ],
             [
              0.3333333333333333,
              "#9c179e"
             ],
             [
              0.4444444444444444,
              "#bd3786"
             ],
             [
              0.5555555555555556,
              "#d8576b"
             ],
             [
              0.6666666666666666,
              "#ed7953"
             ],
             [
              0.7777777777777778,
              "#fb9f3a"
             ],
             [
              0.8888888888888888,
              "#fdca26"
             ],
             [
              1,
              "#f0f921"
             ]
            ],
            "type": "histogram2dcontour"
           }
          ],
          "mesh3d": [
           {
            "colorbar": {
             "outlinewidth": 0,
             "ticks": ""
            },
            "type": "mesh3d"
           }
          ],
          "parcoords": [
           {
            "line": {
             "colorbar": {
              "outlinewidth": 0,
              "ticks": ""
             }
            },
            "type": "parcoords"
           }
          ],
          "pie": [
           {
            "automargin": true,
            "type": "pie"
           }
          ],
          "scatter": [
           {
            "marker": {
             "colorbar": {
              "outlinewidth": 0,
              "ticks": ""
             }
            },
            "type": "scatter"
           }
          ],
          "scatter3d": [
           {
            "line": {
             "colorbar": {
              "outlinewidth": 0,
              "ticks": ""
             }
            },
            "marker": {
             "colorbar": {
              "outlinewidth": 0,
              "ticks": ""
             }
            },
            "type": "scatter3d"
           }
          ],
          "scattercarpet": [
           {
            "marker": {
             "colorbar": {
              "outlinewidth": 0,
              "ticks": ""
             }
            },
            "type": "scattercarpet"
           }
          ],
          "scattergeo": [
           {
            "marker": {
             "colorbar": {
              "outlinewidth": 0,
              "ticks": ""
             }
            },
            "type": "scattergeo"
           }
          ],
          "scattergl": [
           {
            "marker": {
             "colorbar": {
              "outlinewidth": 0,
              "ticks": ""
             }
            },
            "type": "scattergl"
           }
          ],
          "scattermapbox": [
           {
            "marker": {
             "colorbar": {
              "outlinewidth": 0,
              "ticks": ""
             }
            },
            "type": "scattermapbox"
           }
          ],
          "scatterpolar": [
           {
            "marker": {
             "colorbar": {
              "outlinewidth": 0,
              "ticks": ""
             }
            },
            "type": "scatterpolar"
           }
          ],
          "scatterpolargl": [
           {
            "marker": {
             "colorbar": {
              "outlinewidth": 0,
              "ticks": ""
             }
            },
            "type": "scatterpolargl"
           }
          ],
          "scatterternary": [
           {
            "marker": {
             "colorbar": {
              "outlinewidth": 0,
              "ticks": ""
             }
            },
            "type": "scatterternary"
           }
          ],
          "surface": [
           {
            "colorbar": {
             "outlinewidth": 0,
             "ticks": ""
            },
            "colorscale": [
             [
              0,
              "#0d0887"
             ],
             [
              0.1111111111111111,
              "#46039f"
             ],
             [
              0.2222222222222222,
              "#7201a8"
             ],
             [
              0.3333333333333333,
              "#9c179e"
             ],
             [
              0.4444444444444444,
              "#bd3786"
             ],
             [
              0.5555555555555556,
              "#d8576b"
             ],
             [
              0.6666666666666666,
              "#ed7953"
             ],
             [
              0.7777777777777778,
              "#fb9f3a"
             ],
             [
              0.8888888888888888,
              "#fdca26"
             ],
             [
              1,
              "#f0f921"
             ]
            ],
            "type": "surface"
           }
          ],
          "table": [
           {
            "cells": {
             "fill": {
              "color": "#EBF0F8"
             },
             "line": {
              "color": "white"
             }
            },
            "header": {
             "fill": {
              "color": "#C8D4E3"
             },
             "line": {
              "color": "white"
             }
            },
            "type": "table"
           }
          ]
         },
         "layout": {
          "annotationdefaults": {
           "arrowcolor": "#2a3f5f",
           "arrowhead": 0,
           "arrowwidth": 1
          },
          "coloraxis": {
           "colorbar": {
            "outlinewidth": 0,
            "ticks": ""
           }
          },
          "colorscale": {
           "diverging": [
            [
             0,
             "#8e0152"
            ],
            [
             0.1,
             "#c51b7d"
            ],
            [
             0.2,
             "#de77ae"
            ],
            [
             0.3,
             "#f1b6da"
            ],
            [
             0.4,
             "#fde0ef"
            ],
            [
             0.5,
             "#f7f7f7"
            ],
            [
             0.6,
             "#e6f5d0"
            ],
            [
             0.7,
             "#b8e186"
            ],
            [
             0.8,
             "#7fbc41"
            ],
            [
             0.9,
             "#4d9221"
            ],
            [
             1,
             "#276419"
            ]
           ],
           "sequential": [
            [
             0,
             "#0d0887"
            ],
            [
             0.1111111111111111,
             "#46039f"
            ],
            [
             0.2222222222222222,
             "#7201a8"
            ],
            [
             0.3333333333333333,
             "#9c179e"
            ],
            [
             0.4444444444444444,
             "#bd3786"
            ],
            [
             0.5555555555555556,
             "#d8576b"
            ],
            [
             0.6666666666666666,
             "#ed7953"
            ],
            [
             0.7777777777777778,
             "#fb9f3a"
            ],
            [
             0.8888888888888888,
             "#fdca26"
            ],
            [
             1,
             "#f0f921"
            ]
           ],
           "sequentialminus": [
            [
             0,
             "#0d0887"
            ],
            [
             0.1111111111111111,
             "#46039f"
            ],
            [
             0.2222222222222222,
             "#7201a8"
            ],
            [
             0.3333333333333333,
             "#9c179e"
            ],
            [
             0.4444444444444444,
             "#bd3786"
            ],
            [
             0.5555555555555556,
             "#d8576b"
            ],
            [
             0.6666666666666666,
             "#ed7953"
            ],
            [
             0.7777777777777778,
             "#fb9f3a"
            ],
            [
             0.8888888888888888,
             "#fdca26"
            ],
            [
             1,
             "#f0f921"
            ]
           ]
          },
          "colorway": [
           "#636efa",
           "#EF553B",
           "#00cc96",
           "#ab63fa",
           "#FFA15A",
           "#19d3f3",
           "#FF6692",
           "#B6E880",
           "#FF97FF",
           "#FECB52"
          ],
          "font": {
           "color": "#2a3f5f"
          },
          "geo": {
           "bgcolor": "white",
           "lakecolor": "white",
           "landcolor": "#E5ECF6",
           "showlakes": true,
           "showland": true,
           "subunitcolor": "white"
          },
          "hoverlabel": {
           "align": "left"
          },
          "hovermode": "closest",
          "mapbox": {
           "style": "light"
          },
          "paper_bgcolor": "white",
          "plot_bgcolor": "#E5ECF6",
          "polar": {
           "angularaxis": {
            "gridcolor": "white",
            "linecolor": "white",
            "ticks": ""
           },
           "bgcolor": "#E5ECF6",
           "radialaxis": {
            "gridcolor": "white",
            "linecolor": "white",
            "ticks": ""
           }
          },
          "scene": {
           "xaxis": {
            "backgroundcolor": "#E5ECF6",
            "gridcolor": "white",
            "gridwidth": 2,
            "linecolor": "white",
            "showbackground": true,
            "ticks": "",
            "zerolinecolor": "white"
           },
           "yaxis": {
            "backgroundcolor": "#E5ECF6",
            "gridcolor": "white",
            "gridwidth": 2,
            "linecolor": "white",
            "showbackground": true,
            "ticks": "",
            "zerolinecolor": "white"
           },
           "zaxis": {
            "backgroundcolor": "#E5ECF6",
            "gridcolor": "white",
            "gridwidth": 2,
            "linecolor": "white",
            "showbackground": true,
            "ticks": "",
            "zerolinecolor": "white"
           }
          },
          "shapedefaults": {
           "line": {
            "color": "#2a3f5f"
           }
          },
          "ternary": {
           "aaxis": {
            "gridcolor": "white",
            "linecolor": "white",
            "ticks": ""
           },
           "baxis": {
            "gridcolor": "white",
            "linecolor": "white",
            "ticks": ""
           },
           "bgcolor": "#E5ECF6",
           "caxis": {
            "gridcolor": "white",
            "linecolor": "white",
            "ticks": ""
           }
          },
          "title": {
           "x": 0.05
          },
          "xaxis": {
           "automargin": true,
           "gridcolor": "white",
           "linecolor": "white",
           "ticks": "",
           "title": {
            "standoff": 15
           },
           "zerolinecolor": "white",
           "zerolinewidth": 2
          },
          "yaxis": {
           "automargin": true,
           "gridcolor": "white",
           "linecolor": "white",
           "ticks": "",
           "title": {
            "standoff": 15
           },
           "zerolinecolor": "white",
           "zerolinewidth": 2
          }
         }
        },
        "title": {
         "font": {
          "color": "#4D5663"
         }
        },
        "xaxis": {
         "anchor": "y",
         "domain": [
          0,
          0.2125
         ],
         "gridcolor": "#E1E5ED",
         "showgrid": false,
         "tickfont": {
          "color": "#4D5663"
         },
         "title": {
          "font": {
           "color": "#4D5663"
          },
          "text": ""
         },
         "zerolinecolor": "#E1E5ED"
        },
        "xaxis10": {
         "anchor": "y10",
         "domain": [
          0.2625,
          0.475
         ],
         "gridcolor": "#E1E5ED",
         "showgrid": false,
         "tickfont": {
          "color": "#4D5663"
         },
         "title": {
          "font": {
           "color": "#4D5663"
          },
          "text": ""
         },
         "zerolinecolor": "#E1E5ED"
        },
        "xaxis11": {
         "anchor": "y11",
         "domain": [
          0.525,
          0.7375
         ],
         "gridcolor": "#E1E5ED",
         "showgrid": false,
         "tickfont": {
          "color": "#4D5663"
         },
         "title": {
          "font": {
           "color": "#4D5663"
          },
          "text": ""
         },
         "zerolinecolor": "#E1E5ED"
        },
        "xaxis12": {
         "anchor": "y12",
         "domain": [
          0.7875,
          1
         ],
         "gridcolor": "#E1E5ED",
         "showgrid": false,
         "tickfont": {
          "color": "#4D5663"
         },
         "title": {
          "font": {
           "color": "#4D5663"
          },
          "text": ""
         },
         "zerolinecolor": "#E1E5ED"
        },
        "xaxis13": {
         "anchor": "y13",
         "domain": [
          0,
          0.2125
         ],
         "gridcolor": "#E1E5ED",
         "showgrid": false,
         "tickfont": {
          "color": "#4D5663"
         },
         "title": {
          "font": {
           "color": "#4D5663"
          },
          "text": ""
         },
         "zerolinecolor": "#E1E5ED"
        },
        "xaxis14": {
         "anchor": "y14",
         "domain": [
          0.2625,
          0.475
         ],
         "gridcolor": "#E1E5ED",
         "showgrid": false,
         "tickfont": {
          "color": "#4D5663"
         },
         "title": {
          "font": {
           "color": "#4D5663"
          },
          "text": ""
         },
         "zerolinecolor": "#E1E5ED"
        },
        "xaxis15": {
         "anchor": "y15",
         "domain": [
          0.525,
          0.7375
         ],
         "gridcolor": "#E1E5ED",
         "showgrid": false,
         "tickfont": {
          "color": "#4D5663"
         },
         "title": {
          "font": {
           "color": "#4D5663"
          },
          "text": ""
         },
         "zerolinecolor": "#E1E5ED"
        },
        "xaxis16": {
         "anchor": "y16",
         "domain": [
          0.7875,
          1
         ],
         "gridcolor": "#E1E5ED",
         "showgrid": false,
         "tickfont": {
          "color": "#4D5663"
         },
         "title": {
          "font": {
           "color": "#4D5663"
          },
          "text": ""
         },
         "zerolinecolor": "#E1E5ED"
        },
        "xaxis2": {
         "anchor": "y2",
         "domain": [
          0.2625,
          0.475
         ],
         "gridcolor": "#E1E5ED",
         "showgrid": false,
         "tickfont": {
          "color": "#4D5663"
         },
         "title": {
          "font": {
           "color": "#4D5663"
          },
          "text": ""
         },
         "zerolinecolor": "#E1E5ED"
        },
        "xaxis3": {
         "anchor": "y3",
         "domain": [
          0.525,
          0.7375
         ],
         "gridcolor": "#E1E5ED",
         "showgrid": false,
         "tickfont": {
          "color": "#4D5663"
         },
         "title": {
          "font": {
           "color": "#4D5663"
          },
          "text": ""
         },
         "zerolinecolor": "#E1E5ED"
        },
        "xaxis4": {
         "anchor": "y4",
         "domain": [
          0.7875,
          1
         ],
         "gridcolor": "#E1E5ED",
         "showgrid": false,
         "tickfont": {
          "color": "#4D5663"
         },
         "title": {
          "font": {
           "color": "#4D5663"
          },
          "text": ""
         },
         "zerolinecolor": "#E1E5ED"
        },
        "xaxis5": {
         "anchor": "y5",
         "domain": [
          0,
          0.2125
         ],
         "gridcolor": "#E1E5ED",
         "showgrid": false,
         "tickfont": {
          "color": "#4D5663"
         },
         "title": {
          "font": {
           "color": "#4D5663"
          },
          "text": ""
         },
         "zerolinecolor": "#E1E5ED"
        },
        "xaxis6": {
         "anchor": "y6",
         "domain": [
          0.2625,
          0.475
         ],
         "gridcolor": "#E1E5ED",
         "showgrid": false,
         "tickfont": {
          "color": "#4D5663"
         },
         "title": {
          "font": {
           "color": "#4D5663"
          },
          "text": ""
         },
         "zerolinecolor": "#E1E5ED"
        },
        "xaxis7": {
         "anchor": "y7",
         "domain": [
          0.525,
          0.7375
         ],
         "gridcolor": "#E1E5ED",
         "showgrid": false,
         "tickfont": {
          "color": "#4D5663"
         },
         "title": {
          "font": {
           "color": "#4D5663"
          },
          "text": ""
         },
         "zerolinecolor": "#E1E5ED"
        },
        "xaxis8": {
         "anchor": "y8",
         "domain": [
          0.7875,
          1
         ],
         "gridcolor": "#E1E5ED",
         "showgrid": false,
         "tickfont": {
          "color": "#4D5663"
         },
         "title": {
          "font": {
           "color": "#4D5663"
          },
          "text": ""
         },
         "zerolinecolor": "#E1E5ED"
        },
        "xaxis9": {
         "anchor": "y9",
         "domain": [
          0,
          0.2125
         ],
         "gridcolor": "#E1E5ED",
         "showgrid": false,
         "tickfont": {
          "color": "#4D5663"
         },
         "title": {
          "font": {
           "color": "#4D5663"
          },
          "text": ""
         },
         "zerolinecolor": "#E1E5ED"
        },
        "yaxis": {
         "anchor": "x",
         "domain": [
          0.8025,
          1
         ],
         "gridcolor": "#E1E5ED",
         "showgrid": false,
         "tickfont": {
          "color": "#4D5663"
         },
         "title": {
          "font": {
           "color": "#4D5663"
          },
          "text": ""
         },
         "zerolinecolor": "#E1E5ED"
        },
        "yaxis10": {
         "anchor": "x10",
         "domain": [
          0.2675,
          0.465
         ],
         "gridcolor": "#E1E5ED",
         "showgrid": false,
         "tickfont": {
          "color": "#4D5663"
         },
         "title": {
          "font": {
           "color": "#4D5663"
          },
          "text": ""
         },
         "zerolinecolor": "#E1E5ED"
        },
        "yaxis11": {
         "anchor": "x11",
         "domain": [
          0.2675,
          0.465
         ],
         "gridcolor": "#E1E5ED",
         "showgrid": false,
         "tickfont": {
          "color": "#4D5663"
         },
         "title": {
          "font": {
           "color": "#4D5663"
          },
          "text": ""
         },
         "zerolinecolor": "#E1E5ED"
        },
        "yaxis12": {
         "anchor": "x12",
         "domain": [
          0.2675,
          0.465
         ],
         "gridcolor": "#E1E5ED",
         "showgrid": false,
         "tickfont": {
          "color": "#4D5663"
         },
         "title": {
          "font": {
           "color": "#4D5663"
          },
          "text": ""
         },
         "zerolinecolor": "#E1E5ED"
        },
        "yaxis13": {
         "anchor": "x13",
         "domain": [
          0,
          0.1975
         ],
         "gridcolor": "#E1E5ED",
         "showgrid": false,
         "tickfont": {
          "color": "#4D5663"
         },
         "title": {
          "font": {
           "color": "#4D5663"
          },
          "text": ""
         },
         "zerolinecolor": "#E1E5ED"
        },
        "yaxis14": {
         "anchor": "x14",
         "domain": [
          0,
          0.1975
         ],
         "gridcolor": "#E1E5ED",
         "showgrid": false,
         "tickfont": {
          "color": "#4D5663"
         },
         "title": {
          "font": {
           "color": "#4D5663"
          },
          "text": ""
         },
         "zerolinecolor": "#E1E5ED"
        },
        "yaxis15": {
         "anchor": "x15",
         "domain": [
          0,
          0.1975
         ],
         "gridcolor": "#E1E5ED",
         "showgrid": false,
         "tickfont": {
          "color": "#4D5663"
         },
         "title": {
          "font": {
           "color": "#4D5663"
          },
          "text": ""
         },
         "zerolinecolor": "#E1E5ED"
        },
        "yaxis16": {
         "anchor": "x16",
         "domain": [
          0,
          0.1975
         ],
         "gridcolor": "#E1E5ED",
         "showgrid": false,
         "tickfont": {
          "color": "#4D5663"
         },
         "title": {
          "font": {
           "color": "#4D5663"
          },
          "text": ""
         },
         "zerolinecolor": "#E1E5ED"
        },
        "yaxis2": {
         "anchor": "x2",
         "domain": [
          0.8025,
          1
         ],
         "gridcolor": "#E1E5ED",
         "showgrid": false,
         "tickfont": {
          "color": "#4D5663"
         },
         "title": {
          "font": {
           "color": "#4D5663"
          },
          "text": ""
         },
         "zerolinecolor": "#E1E5ED"
        },
        "yaxis3": {
         "anchor": "x3",
         "domain": [
          0.8025,
          1
         ],
         "gridcolor": "#E1E5ED",
         "showgrid": false,
         "tickfont": {
          "color": "#4D5663"
         },
         "title": {
          "font": {
           "color": "#4D5663"
          },
          "text": ""
         },
         "zerolinecolor": "#E1E5ED"
        },
        "yaxis4": {
         "anchor": "x4",
         "domain": [
          0.8025,
          1
         ],
         "gridcolor": "#E1E5ED",
         "showgrid": false,
         "tickfont": {
          "color": "#4D5663"
         },
         "title": {
          "font": {
           "color": "#4D5663"
          },
          "text": ""
         },
         "zerolinecolor": "#E1E5ED"
        },
        "yaxis5": {
         "anchor": "x5",
         "domain": [
          0.535,
          0.7325
         ],
         "gridcolor": "#E1E5ED",
         "showgrid": false,
         "tickfont": {
          "color": "#4D5663"
         },
         "title": {
          "font": {
           "color": "#4D5663"
          },
          "text": ""
         },
         "zerolinecolor": "#E1E5ED"
        },
        "yaxis6": {
         "anchor": "x6",
         "domain": [
          0.535,
          0.7325
         ],
         "gridcolor": "#E1E5ED",
         "showgrid": false,
         "tickfont": {
          "color": "#4D5663"
         },
         "title": {
          "font": {
           "color": "#4D5663"
          },
          "text": ""
         },
         "zerolinecolor": "#E1E5ED"
        },
        "yaxis7": {
         "anchor": "x7",
         "domain": [
          0.535,
          0.7325
         ],
         "gridcolor": "#E1E5ED",
         "showgrid": false,
         "tickfont": {
          "color": "#4D5663"
         },
         "title": {
          "font": {
           "color": "#4D5663"
          },
          "text": ""
         },
         "zerolinecolor": "#E1E5ED"
        },
        "yaxis8": {
         "anchor": "x8",
         "domain": [
          0.535,
          0.7325
         ],
         "gridcolor": "#E1E5ED",
         "showgrid": false,
         "tickfont": {
          "color": "#4D5663"
         },
         "title": {
          "font": {
           "color": "#4D5663"
          },
          "text": ""
         },
         "zerolinecolor": "#E1E5ED"
        },
        "yaxis9": {
         "anchor": "x9",
         "domain": [
          0.2675,
          0.465
         ],
         "gridcolor": "#E1E5ED",
         "showgrid": false,
         "tickfont": {
          "color": "#4D5663"
         },
         "title": {
          "font": {
           "color": "#4D5663"
          },
          "text": ""
         },
         "zerolinecolor": "#E1E5ED"
        }
       }
      },
      "text/html": [
       "<div>\n",
       "        \n",
       "        \n",
       "            <div id=\"23028d62-988f-4e6e-a3e2-cf2b207f8255\" class=\"plotly-graph-div\" style=\"height:525px; width:100%;\"></div>\n",
       "            <script type=\"text/javascript\">\n",
       "                require([\"plotly\"], function(Plotly) {\n",
       "                    window.PLOTLYENV=window.PLOTLYENV || {};\n",
       "                    window.PLOTLYENV.BASE_URL='https://plot.ly';\n",
       "                    \n",
       "                if (document.getElementById(\"23028d62-988f-4e6e-a3e2-cf2b207f8255\")) {\n",
       "                    Plotly.newPlot(\n",
       "                        '23028d62-988f-4e6e-a3e2-cf2b207f8255',\n",
       "                        [{\"histfunc\": \"count\", \"histnorm\": \"\", \"marker\": {\"color\": \"rgba(255, 153, 51, 1.0)\", \"line\": {\"color\": \"#4D5663\", \"width\": 1.3}}, \"name\": \"A\", \"nbinsx\": 10, \"opacity\": 0.8, \"orientation\": \"v\", \"type\": \"histogram\", \"x\": [0.4680357176729802, -0.18089695435687647, 0.003483194029145718, -0.8503226748006865, 0.8146106228274449, 0.15146587172216824, 0.12723478221447262, 0.3351004387413441, 0.9414103775281865, -0.8857734378332426, -0.5701687051204497, -0.8893540639512774, 0.14019123212902615, -0.966403721687782, 0.33538370842415655, 0.6702165022341717, -0.015213378402976164, -1.6090697702945362, 0.7768280979717406, -0.020888206099068173, -1.3080179624540567, 0.007249009389868164, 0.2945209102593891, -0.9992695366250636, -0.6447006902415953, -1.0905563070634021, 0.028797804449134032, -0.8843550330471293, 1.0386401862451842, -0.6372696659703778, -0.07546361030812403, -0.6885808917640587, 0.6960913089883859, 0.7967344770276393, -0.31311403394368115, 0.44535646682353447, 1.2184826503543367, 0.4897504444752817, 1.0975181333688733, -1.2899287196667168, 0.7672041598633657, -1.2666068328758595, 1.0388834302251584, -2.7642984677037763, 0.7743643434944764, 0.5383447940237172, 0.47174339868068116, -0.9813512577834447, -1.9094619873718108, 0.09403883020114603, -0.16567173008209463, 0.3497701577167347, 0.7786062683999717, -0.9749299704877334, 1.895335438858008, -0.4681186971331524, 1.6906002800833542, -0.3863554355065704, -2.0996821386621938, 0.13576410988414953, 0.49662193548416167, 0.6652139195938592, 1.318582804966973, -0.03610763629279586, -0.4325131784953337, -0.6569998826577392, 0.7840142952369771, 1.3376479675287218, -0.24358433096939566, 0.7227382172365205, -0.8355487413044241, 0.7365537375544133, -0.5896650123534253, 0.6979532707491521, 0.4168212480194256, -1.156999280240315, 0.49573377418729586, -0.8131742308332868, -0.023724459695214212, -0.6662885802270111, -0.5650900186908255, -0.14085214787252726, 0.5047821408545787, -1.5536765581644607, -0.12215501843578472, -0.47462127467704807, -0.739431884829175, -0.28716816395346373, 1.7938082735840795, -1.721425966026441, 0.6277844324474082, -0.13192234352890128, 0.5491320236601649, -0.5930336917559829, 0.13740697896731097, 1.1271661097434316, -0.5372438603757769, -0.7756176374275516, 1.9872765631996863, 1.1777260909975629], \"xaxis\": \"x\", \"yaxis\": \"y\"}, {\"line\": {\"color\": \"rgba(128, 128, 128, 1.0)\", \"dash\": \"solid\", \"shape\": \"linear\", \"width\": 1.3}, \"marker\": {\"size\": 2, \"symbol\": \"circle\"}, \"mode\": \"markers\", \"name\": \"A\", \"text\": \"\", \"type\": \"scatter\", \"x\": [-0.7434989651960935, -0.4607615024270917, 1.8780782846811968, 0.04828809145899935, -0.0029359171677269995, -0.08753811400269597, -0.3979045501815003, -1.3587319206144035, 1.3058393881672048, -2.3358469828562334, 1.7778387243432399, -0.8702029541219694, 0.9935992049714233, 1.4798461388258817, 1.1275258510799964, 1.477737769433274, 0.36461748526784393, 0.1831140969875315, 0.17955620423002, 2.12826660679801, -1.1186449675805272, 1.1949120889777742, 0.6551153688968544, 0.7735108164924516, -0.7619829421982433, 0.3818031659229591, -0.13223350833946632, -1.0411027537542916, 0.7270464129765776, -0.46302451921768606, 0.5627073813462292, 0.08627527498922588, 0.20036806041275756, 0.01589035106560516, -1.5745988477361705, -0.5007655647549084, -1.874963053783075, -1.1902805653365587, -0.6179762986534144, 0.3369724337050894, -0.09505535904528267, -0.5306506763564895, -0.030613138796697234, 0.6341060188575188, 0.23753214374573461, 0.5756485863333742, -0.32928971144601865, 0.07337782328325868, -0.3357057393863871, 0.5900992992421492, -0.40898656611231804, -0.47322322257176525, 0.2934714022237347, -0.3757543883540172, -0.1585512845422061, -0.25357244880222723, -1.5140291466870681, -0.7753885030539748, 0.797052517782712, -0.3686557886848596, 0.2855546620487415, 1.6705044922929793, -0.43515134559370927, 1.6595080594016447, -0.7252495287174796, -0.8330399931977461, -0.679219802873046, 0.9390544951462232, 0.09387454731372896, -0.3566775006611743, -2.1088990387458413, 1.4528512643473823, -1.0261340964628949, 0.23497758020160772, -0.4534270194828116, 0.11397050565362599, 0.2381586255109007, 0.9988085406776966, 0.025876815884210955, -1.2177486952525969, 0.3174027772821797, 0.5425099678014165, -1.1060029879681268, -1.9040147003254828, -0.09788757039869198, 0.5027980532650275, 0.5946564386503808, 0.9040607377477198, -0.4997921123188726, 1.0758831897921548, 0.9939541985768044, 1.4467641393910968, 1.6622260071966777, -0.22074290486403597, 0.0831484383304875, -1.0252544617631951, 0.5697014336041655, -0.6944539659705443, 0.2582200223961893, 0.7920863962548249], \"xaxis\": \"x2\", \"y\": [0.4680357176729802, -0.18089695435687647, 0.003483194029145718, -0.8503226748006865, 0.8146106228274449, 0.15146587172216824, 0.12723478221447262, 0.3351004387413441, 0.9414103775281865, -0.8857734378332426, -0.5701687051204497, -0.8893540639512774, 0.14019123212902615, -0.966403721687782, 0.33538370842415655, 0.6702165022341717, -0.015213378402976164, -1.6090697702945362, 0.7768280979717406, -0.020888206099068173, -1.3080179624540567, 0.007249009389868164, 0.2945209102593891, -0.9992695366250636, -0.6447006902415953, -1.0905563070634021, 0.028797804449134032, -0.8843550330471293, 1.0386401862451842, -0.6372696659703778, -0.07546361030812403, -0.6885808917640587, 0.6960913089883859, 0.7967344770276393, -0.31311403394368115, 0.44535646682353447, 1.2184826503543367, 0.4897504444752817, 1.0975181333688733, -1.2899287196667168, 0.7672041598633657, -1.2666068328758595, 1.0388834302251584, -2.7642984677037763, 0.7743643434944764, 0.5383447940237172, 0.47174339868068116, -0.9813512577834447, -1.9094619873718108, 0.09403883020114603, -0.16567173008209463, 0.3497701577167347, 0.7786062683999717, -0.9749299704877334, 1.895335438858008, -0.4681186971331524, 1.6906002800833542, -0.3863554355065704, -2.0996821386621938, 0.13576410988414953, 0.49662193548416167, 0.6652139195938592, 1.318582804966973, -0.03610763629279586, -0.4325131784953337, -0.6569998826577392, 0.7840142952369771, 1.3376479675287218, -0.24358433096939566, 0.7227382172365205, -0.8355487413044241, 0.7365537375544133, -0.5896650123534253, 0.6979532707491521, 0.4168212480194256, -1.156999280240315, 0.49573377418729586, -0.8131742308332868, -0.023724459695214212, -0.6662885802270111, -0.5650900186908255, -0.14085214787252726, 0.5047821408545787, -1.5536765581644607, -0.12215501843578472, -0.47462127467704807, -0.739431884829175, -0.28716816395346373, 1.7938082735840795, -1.721425966026441, 0.6277844324474082, -0.13192234352890128, 0.5491320236601649, -0.5930336917559829, 0.13740697896731097, 1.1271661097434316, -0.5372438603757769, -0.7756176374275516, 1.9872765631996863, 1.1777260909975629], \"yaxis\": \"y2\"}, {\"line\": {\"color\": \"rgba(128, 128, 128, 1.0)\", \"dash\": \"solid\", \"shape\": \"linear\", \"width\": 1.3}, \"marker\": {\"size\": 2, \"symbol\": \"circle\"}, \"mode\": \"markers\", \"name\": \"A\", \"text\": \"\", \"type\": \"scatter\", \"x\": [0.8389764892564305, 1.013717717231092, -0.7297365537101015, 0.6049139704487708, 0.7723854906554027, 0.21623666019717452, 0.24654014892872012, 0.7051543353596379, 1.2091124520868546, -0.3219114610225776, -0.05848271170796087, 0.3509714073961184, -1.1369574557963296, -1.5886052586822192, 0.46897817236341155, 1.600651483559872, 1.0868744225621012, -0.8225697383868341, -0.5462549515435099, -1.0971324409605696, -0.42126901991509974, -0.40335240915835735, -0.06546332364885253, -0.7220096955108127, -0.24173070493788043, -0.7598326671349462, 0.6241453849807918, 0.5886794668426667, -0.8140869463568312, 0.628972719389455, -0.24496151325077703, 1.9084749507787575, 0.5419417425942232, 0.036735335651900826, -0.4792159487349968, -0.42916830260793176, -2.0635569387151755, -0.8682465428527645, 1.0610949817311277, -1.840326548329223, 0.1770727015256135, -0.5972928849101156, 0.43234865840395753, 0.36879339666131905, -0.31535918919124845, 0.013286350305847863, 0.839248722171213, -0.5391920294908384, 0.9028477890920293, -0.1449266056100494, -0.5550747969708228, 1.145173812738686, -3.9108580222565643, 0.20059159084486752, 0.8044663141218427, 0.007719524278421231, -0.07497195612134629, -0.7483748180488207, -0.8848562233879459, 0.7831684418093795, -0.8408722819203603, -0.6584752704475881, 1.7632864008624585, 0.4136157562434442, 0.48584697095725743, 0.048980905406493386, 0.5879297579600218, -0.8481797780613902, -1.5696593179903302, -0.48235985761291955, -1.0057629092408216, 0.5448252629602326, -0.10385777821915122, 0.0034653602824622517, -0.7496905771230047, 0.909499498712557, 0.239924583265994, -1.6905948071653993, -0.3947023642386599, 0.07330818187210192, -1.1687449252991113, -0.6927274731045221, -2.716605353800127, 0.3213373310834251, 0.13190931480579546, 0.2755906045892328, -0.29173706907620944, -0.9130408164605344, -0.5978702046605517, 1.5325682955088105, 0.6030579947183526, -0.8182400542754837, -1.8411234610375216, 1.8687986807306012, 0.8290383550466602, -0.7397713800851328, 0.6972307899398041, 0.7355949199704094, 1.8908724727703967, 1.2874885440614134], \"xaxis\": \"x3\", \"y\": [0.4680357176729802, -0.18089695435687647, 0.003483194029145718, -0.8503226748006865, 0.8146106228274449, 0.15146587172216824, 0.12723478221447262, 0.3351004387413441, 0.9414103775281865, -0.8857734378332426, -0.5701687051204497, -0.8893540639512774, 0.14019123212902615, -0.966403721687782, 0.33538370842415655, 0.6702165022341717, -0.015213378402976164, -1.6090697702945362, 0.7768280979717406, -0.020888206099068173, -1.3080179624540567, 0.007249009389868164, 0.2945209102593891, -0.9992695366250636, -0.6447006902415953, -1.0905563070634021, 0.028797804449134032, -0.8843550330471293, 1.0386401862451842, -0.6372696659703778, -0.07546361030812403, -0.6885808917640587, 0.6960913089883859, 0.7967344770276393, -0.31311403394368115, 0.44535646682353447, 1.2184826503543367, 0.4897504444752817, 1.0975181333688733, -1.2899287196667168, 0.7672041598633657, -1.2666068328758595, 1.0388834302251584, -2.7642984677037763, 0.7743643434944764, 0.5383447940237172, 0.47174339868068116, -0.9813512577834447, -1.9094619873718108, 0.09403883020114603, -0.16567173008209463, 0.3497701577167347, 0.7786062683999717, -0.9749299704877334, 1.895335438858008, -0.4681186971331524, 1.6906002800833542, -0.3863554355065704, -2.0996821386621938, 0.13576410988414953, 0.49662193548416167, 0.6652139195938592, 1.318582804966973, -0.03610763629279586, -0.4325131784953337, -0.6569998826577392, 0.7840142952369771, 1.3376479675287218, -0.24358433096939566, 0.7227382172365205, -0.8355487413044241, 0.7365537375544133, -0.5896650123534253, 0.6979532707491521, 0.4168212480194256, -1.156999280240315, 0.49573377418729586, -0.8131742308332868, -0.023724459695214212, -0.6662885802270111, -0.5650900186908255, -0.14085214787252726, 0.5047821408545787, -1.5536765581644607, -0.12215501843578472, -0.47462127467704807, -0.739431884829175, -0.28716816395346373, 1.7938082735840795, -1.721425966026441, 0.6277844324474082, -0.13192234352890128, 0.5491320236601649, -0.5930336917559829, 0.13740697896731097, 1.1271661097434316, -0.5372438603757769, -0.7756176374275516, 1.9872765631996863, 1.1777260909975629], \"yaxis\": \"y3\"}, {\"line\": {\"color\": \"rgba(128, 128, 128, 1.0)\", \"dash\": \"solid\", \"shape\": \"linear\", \"width\": 1.3}, \"marker\": {\"size\": 2, \"symbol\": \"circle\"}, \"mode\": \"markers\", \"name\": \"A\", \"text\": \"\", \"type\": \"scatter\", \"x\": [-0.25191764743566786, 0.4198145384895684, -1.3140941508038348, 1.2318426219836836, -0.14897890875791223, -1.143166795336094, -1.0314134856330894, -1.1040878101495826, -0.0955712889122703, 0.28520146090536724, 0.6399015028076319, -0.8324485066954828, -0.07496044929395959, -0.7650854165785472, -1.2485280903188103, 2.1795825771112973, -0.5620311364223277, -0.5585410294220939, -0.4537843776591725, 1.233793314943582, 0.3512069789710706, 1.464975027321418, 1.4746019752966584, -0.7371334777665244, -0.3636836678402213, -1.1003904903879351, -0.26791186145062823, 1.0460755059400357, -0.7575438785027289, 1.3470249818909699, 0.07133753671463729, -0.01749365744707516, 0.48036583265597094, 1.1713636735859168, -0.5157245415583571, 0.5016520145241842, 0.3394304372496551, 0.46647053193264854, -1.0188106058466928, 1.4949434120261416, 0.24926084734681345, -1.0489198293392754, -0.5869623591243232, -0.4092280759240029, 0.5413342628376578, -1.5545202367727056, -0.8463730481017815, 2.335589047731229, 1.4719803000032543, 1.114770745220192, 0.0046618591717043694, 0.23209447481814305, 0.7197939214034708, -0.02268004328530468, -0.7705475169250952, -0.4059608801378683, -0.5030635358492516, -0.8643685639929041, 1.0023979402469545, 0.2979597397360903, 1.1906332814088394, 1.1501541102025645, -0.2979571434643375, 0.7179382669095363, -0.8346320717706238, 1.3723612403204208, -1.5862425603672, -1.899176752314106, 0.7353372077394054, -0.6598542021621814, -0.339557181546737, -1.4171259531377154, -1.8014094698614205, -0.16763899618295058, -2.8202747028683604, 2.2789088952890317, 0.7425915113742065, -0.9350502296364102, 0.07109195056103915, 0.39849003187683757, 0.48201874860427785, 0.528536342311538, -0.8231155460076484, -0.5407270412105185, 0.5105079121512099, -0.2005494666709388, -2.229405339748603, -0.8897868073956053, -0.015847545787378004, 0.6477893421800326, 0.2378032185505356, -1.1377323702203133, 0.9803696608709259, -0.5202531721203323, -1.4329078151338888, 0.7711951985853757, 0.3764949065442717, 0.7194210906701671, 0.3824848220070624, 0.5980286812170121], \"xaxis\": \"x4\", \"y\": [0.4680357176729802, -0.18089695435687647, 0.003483194029145718, -0.8503226748006865, 0.8146106228274449, 0.15146587172216824, 0.12723478221447262, 0.3351004387413441, 0.9414103775281865, -0.8857734378332426, -0.5701687051204497, -0.8893540639512774, 0.14019123212902615, -0.966403721687782, 0.33538370842415655, 0.6702165022341717, -0.015213378402976164, -1.6090697702945362, 0.7768280979717406, -0.020888206099068173, -1.3080179624540567, 0.007249009389868164, 0.2945209102593891, -0.9992695366250636, -0.6447006902415953, -1.0905563070634021, 0.028797804449134032, -0.8843550330471293, 1.0386401862451842, -0.6372696659703778, -0.07546361030812403, -0.6885808917640587, 0.6960913089883859, 0.7967344770276393, -0.31311403394368115, 0.44535646682353447, 1.2184826503543367, 0.4897504444752817, 1.0975181333688733, -1.2899287196667168, 0.7672041598633657, -1.2666068328758595, 1.0388834302251584, -2.7642984677037763, 0.7743643434944764, 0.5383447940237172, 0.47174339868068116, -0.9813512577834447, -1.9094619873718108, 0.09403883020114603, -0.16567173008209463, 0.3497701577167347, 0.7786062683999717, -0.9749299704877334, 1.895335438858008, -0.4681186971331524, 1.6906002800833542, -0.3863554355065704, -2.0996821386621938, 0.13576410988414953, 0.49662193548416167, 0.6652139195938592, 1.318582804966973, -0.03610763629279586, -0.4325131784953337, -0.6569998826577392, 0.7840142952369771, 1.3376479675287218, -0.24358433096939566, 0.7227382172365205, -0.8355487413044241, 0.7365537375544133, -0.5896650123534253, 0.6979532707491521, 0.4168212480194256, -1.156999280240315, 0.49573377418729586, -0.8131742308332868, -0.023724459695214212, -0.6662885802270111, -0.5650900186908255, -0.14085214787252726, 0.5047821408545787, -1.5536765581644607, -0.12215501843578472, -0.47462127467704807, -0.739431884829175, -0.28716816395346373, 1.7938082735840795, -1.721425966026441, 0.6277844324474082, -0.13192234352890128, 0.5491320236601649, -0.5930336917559829, 0.13740697896731097, 1.1271661097434316, -0.5372438603757769, -0.7756176374275516, 1.9872765631996863, 1.1777260909975629], \"yaxis\": \"y4\"}, {\"line\": {\"color\": \"rgba(128, 128, 128, 1.0)\", \"dash\": \"solid\", \"shape\": \"linear\", \"width\": 1.3}, \"marker\": {\"size\": 2, \"symbol\": \"circle\"}, \"mode\": \"markers\", \"name\": \"B\", \"text\": \"\", \"type\": \"scatter\", \"x\": [0.4680357176729802, -0.18089695435687647, 0.003483194029145718, -0.8503226748006865, 0.8146106228274449, 0.15146587172216824, 0.12723478221447262, 0.3351004387413441, 0.9414103775281865, -0.8857734378332426, -0.5701687051204497, -0.8893540639512774, 0.14019123212902615, -0.966403721687782, 0.33538370842415655, 0.6702165022341717, -0.015213378402976164, -1.6090697702945362, 0.7768280979717406, -0.020888206099068173, -1.3080179624540567, 0.007249009389868164, 0.2945209102593891, -0.9992695366250636, -0.6447006902415953, -1.0905563070634021, 0.028797804449134032, -0.8843550330471293, 1.0386401862451842, -0.6372696659703778, -0.07546361030812403, -0.6885808917640587, 0.6960913089883859, 0.7967344770276393, -0.31311403394368115, 0.44535646682353447, 1.2184826503543367, 0.4897504444752817, 1.0975181333688733, -1.2899287196667168, 0.7672041598633657, -1.2666068328758595, 1.0388834302251584, -2.7642984677037763, 0.7743643434944764, 0.5383447940237172, 0.47174339868068116, -0.9813512577834447, -1.9094619873718108, 0.09403883020114603, -0.16567173008209463, 0.3497701577167347, 0.7786062683999717, -0.9749299704877334, 1.895335438858008, -0.4681186971331524, 1.6906002800833542, -0.3863554355065704, -2.0996821386621938, 0.13576410988414953, 0.49662193548416167, 0.6652139195938592, 1.318582804966973, -0.03610763629279586, -0.4325131784953337, -0.6569998826577392, 0.7840142952369771, 1.3376479675287218, -0.24358433096939566, 0.7227382172365205, -0.8355487413044241, 0.7365537375544133, -0.5896650123534253, 0.6979532707491521, 0.4168212480194256, -1.156999280240315, 0.49573377418729586, -0.8131742308332868, -0.023724459695214212, -0.6662885802270111, -0.5650900186908255, -0.14085214787252726, 0.5047821408545787, -1.5536765581644607, -0.12215501843578472, -0.47462127467704807, -0.739431884829175, -0.28716816395346373, 1.7938082735840795, -1.721425966026441, 0.6277844324474082, -0.13192234352890128, 0.5491320236601649, -0.5930336917559829, 0.13740697896731097, 1.1271661097434316, -0.5372438603757769, -0.7756176374275516, 1.9872765631996863, 1.1777260909975629], \"xaxis\": \"x5\", \"y\": [-0.7434989651960935, -0.4607615024270917, 1.8780782846811968, 0.04828809145899935, -0.0029359171677269995, -0.08753811400269597, -0.3979045501815003, -1.3587319206144035, 1.3058393881672048, -2.3358469828562334, 1.7778387243432399, -0.8702029541219694, 0.9935992049714233, 1.4798461388258817, 1.1275258510799964, 1.477737769433274, 0.36461748526784393, 0.1831140969875315, 0.17955620423002, 2.12826660679801, -1.1186449675805272, 1.1949120889777742, 0.6551153688968544, 0.7735108164924516, -0.7619829421982433, 0.3818031659229591, -0.13223350833946632, -1.0411027537542916, 0.7270464129765776, -0.46302451921768606, 0.5627073813462292, 0.08627527498922588, 0.20036806041275756, 0.01589035106560516, -1.5745988477361705, -0.5007655647549084, -1.874963053783075, -1.1902805653365587, -0.6179762986534144, 0.3369724337050894, -0.09505535904528267, -0.5306506763564895, -0.030613138796697234, 0.6341060188575188, 0.23753214374573461, 0.5756485863333742, -0.32928971144601865, 0.07337782328325868, -0.3357057393863871, 0.5900992992421492, -0.40898656611231804, -0.47322322257176525, 0.2934714022237347, -0.3757543883540172, -0.1585512845422061, -0.25357244880222723, -1.5140291466870681, -0.7753885030539748, 0.797052517782712, -0.3686557886848596, 0.2855546620487415, 1.6705044922929793, -0.43515134559370927, 1.6595080594016447, -0.7252495287174796, -0.8330399931977461, -0.679219802873046, 0.9390544951462232, 0.09387454731372896, -0.3566775006611743, -2.1088990387458413, 1.4528512643473823, -1.0261340964628949, 0.23497758020160772, -0.4534270194828116, 0.11397050565362599, 0.2381586255109007, 0.9988085406776966, 0.025876815884210955, -1.2177486952525969, 0.3174027772821797, 0.5425099678014165, -1.1060029879681268, -1.9040147003254828, -0.09788757039869198, 0.5027980532650275, 0.5946564386503808, 0.9040607377477198, -0.4997921123188726, 1.0758831897921548, 0.9939541985768044, 1.4467641393910968, 1.6622260071966777, -0.22074290486403597, 0.0831484383304875, -1.0252544617631951, 0.5697014336041655, -0.6944539659705443, 0.2582200223961893, 0.7920863962548249], \"yaxis\": \"y5\"}, {\"histfunc\": \"count\", \"histnorm\": \"\", \"marker\": {\"color\": \"rgba(55, 128, 191, 1.0)\", \"line\": {\"color\": \"#4D5663\", \"width\": 1.3}}, \"name\": \"B\", \"nbinsx\": 10, \"opacity\": 0.8, \"orientation\": \"v\", \"type\": \"histogram\", \"x\": [-0.7434989651960935, -0.4607615024270917, 1.8780782846811968, 0.04828809145899935, -0.0029359171677269995, -0.08753811400269597, -0.3979045501815003, -1.3587319206144035, 1.3058393881672048, -2.3358469828562334, 1.7778387243432399, -0.8702029541219694, 0.9935992049714233, 1.4798461388258817, 1.1275258510799964, 1.477737769433274, 0.36461748526784393, 0.1831140969875315, 0.17955620423002, 2.12826660679801, -1.1186449675805272, 1.1949120889777742, 0.6551153688968544, 0.7735108164924516, -0.7619829421982433, 0.3818031659229591, -0.13223350833946632, -1.0411027537542916, 0.7270464129765776, -0.46302451921768606, 0.5627073813462292, 0.08627527498922588, 0.20036806041275756, 0.01589035106560516, -1.5745988477361705, -0.5007655647549084, -1.874963053783075, -1.1902805653365587, -0.6179762986534144, 0.3369724337050894, -0.09505535904528267, -0.5306506763564895, -0.030613138796697234, 0.6341060188575188, 0.23753214374573461, 0.5756485863333742, -0.32928971144601865, 0.07337782328325868, -0.3357057393863871, 0.5900992992421492, -0.40898656611231804, -0.47322322257176525, 0.2934714022237347, -0.3757543883540172, -0.1585512845422061, -0.25357244880222723, -1.5140291466870681, -0.7753885030539748, 0.797052517782712, -0.3686557886848596, 0.2855546620487415, 1.6705044922929793, -0.43515134559370927, 1.6595080594016447, -0.7252495287174796, -0.8330399931977461, -0.679219802873046, 0.9390544951462232, 0.09387454731372896, -0.3566775006611743, -2.1088990387458413, 1.4528512643473823, -1.0261340964628949, 0.23497758020160772, -0.4534270194828116, 0.11397050565362599, 0.2381586255109007, 0.9988085406776966, 0.025876815884210955, -1.2177486952525969, 0.3174027772821797, 0.5425099678014165, -1.1060029879681268, -1.9040147003254828, -0.09788757039869198, 0.5027980532650275, 0.5946564386503808, 0.9040607377477198, -0.4997921123188726, 1.0758831897921548, 0.9939541985768044, 1.4467641393910968, 1.6622260071966777, -0.22074290486403597, 0.0831484383304875, -1.0252544617631951, 0.5697014336041655, -0.6944539659705443, 0.2582200223961893, 0.7920863962548249], \"xaxis\": \"x6\", \"yaxis\": \"y6\"}, {\"line\": {\"color\": \"rgba(128, 128, 128, 1.0)\", \"dash\": \"solid\", \"shape\": \"linear\", \"width\": 1.3}, \"marker\": {\"size\": 2, \"symbol\": \"circle\"}, \"mode\": \"markers\", \"name\": \"B\", \"text\": \"\", \"type\": \"scatter\", \"x\": [0.8389764892564305, 1.013717717231092, -0.7297365537101015, 0.6049139704487708, 0.7723854906554027, 0.21623666019717452, 0.24654014892872012, 0.7051543353596379, 1.2091124520868546, -0.3219114610225776, -0.05848271170796087, 0.3509714073961184, -1.1369574557963296, -1.5886052586822192, 0.46897817236341155, 1.600651483559872, 1.0868744225621012, -0.8225697383868341, -0.5462549515435099, -1.0971324409605696, -0.42126901991509974, -0.40335240915835735, -0.06546332364885253, -0.7220096955108127, -0.24173070493788043, -0.7598326671349462, 0.6241453849807918, 0.5886794668426667, -0.8140869463568312, 0.628972719389455, -0.24496151325077703, 1.9084749507787575, 0.5419417425942232, 0.036735335651900826, -0.4792159487349968, -0.42916830260793176, -2.0635569387151755, -0.8682465428527645, 1.0610949817311277, -1.840326548329223, 0.1770727015256135, -0.5972928849101156, 0.43234865840395753, 0.36879339666131905, -0.31535918919124845, 0.013286350305847863, 0.839248722171213, -0.5391920294908384, 0.9028477890920293, -0.1449266056100494, -0.5550747969708228, 1.145173812738686, -3.9108580222565643, 0.20059159084486752, 0.8044663141218427, 0.007719524278421231, -0.07497195612134629, -0.7483748180488207, -0.8848562233879459, 0.7831684418093795, -0.8408722819203603, -0.6584752704475881, 1.7632864008624585, 0.4136157562434442, 0.48584697095725743, 0.048980905406493386, 0.5879297579600218, -0.8481797780613902, -1.5696593179903302, -0.48235985761291955, -1.0057629092408216, 0.5448252629602326, -0.10385777821915122, 0.0034653602824622517, -0.7496905771230047, 0.909499498712557, 0.239924583265994, -1.6905948071653993, -0.3947023642386599, 0.07330818187210192, -1.1687449252991113, -0.6927274731045221, -2.716605353800127, 0.3213373310834251, 0.13190931480579546, 0.2755906045892328, -0.29173706907620944, -0.9130408164605344, -0.5978702046605517, 1.5325682955088105, 0.6030579947183526, -0.8182400542754837, -1.8411234610375216, 1.8687986807306012, 0.8290383550466602, -0.7397713800851328, 0.6972307899398041, 0.7355949199704094, 1.8908724727703967, 1.2874885440614134], \"xaxis\": \"x7\", \"y\": [-0.7434989651960935, -0.4607615024270917, 1.8780782846811968, 0.04828809145899935, -0.0029359171677269995, -0.08753811400269597, -0.3979045501815003, -1.3587319206144035, 1.3058393881672048, -2.3358469828562334, 1.7778387243432399, -0.8702029541219694, 0.9935992049714233, 1.4798461388258817, 1.1275258510799964, 1.477737769433274, 0.36461748526784393, 0.1831140969875315, 0.17955620423002, 2.12826660679801, -1.1186449675805272, 1.1949120889777742, 0.6551153688968544, 0.7735108164924516, -0.7619829421982433, 0.3818031659229591, -0.13223350833946632, -1.0411027537542916, 0.7270464129765776, -0.46302451921768606, 0.5627073813462292, 0.08627527498922588, 0.20036806041275756, 0.01589035106560516, -1.5745988477361705, -0.5007655647549084, -1.874963053783075, -1.1902805653365587, -0.6179762986534144, 0.3369724337050894, -0.09505535904528267, -0.5306506763564895, -0.030613138796697234, 0.6341060188575188, 0.23753214374573461, 0.5756485863333742, -0.32928971144601865, 0.07337782328325868, -0.3357057393863871, 0.5900992992421492, -0.40898656611231804, -0.47322322257176525, 0.2934714022237347, -0.3757543883540172, -0.1585512845422061, -0.25357244880222723, -1.5140291466870681, -0.7753885030539748, 0.797052517782712, -0.3686557886848596, 0.2855546620487415, 1.6705044922929793, -0.43515134559370927, 1.6595080594016447, -0.7252495287174796, -0.8330399931977461, -0.679219802873046, 0.9390544951462232, 0.09387454731372896, -0.3566775006611743, -2.1088990387458413, 1.4528512643473823, -1.0261340964628949, 0.23497758020160772, -0.4534270194828116, 0.11397050565362599, 0.2381586255109007, 0.9988085406776966, 0.025876815884210955, -1.2177486952525969, 0.3174027772821797, 0.5425099678014165, -1.1060029879681268, -1.9040147003254828, -0.09788757039869198, 0.5027980532650275, 0.5946564386503808, 0.9040607377477198, -0.4997921123188726, 1.0758831897921548, 0.9939541985768044, 1.4467641393910968, 1.6622260071966777, -0.22074290486403597, 0.0831484383304875, -1.0252544617631951, 0.5697014336041655, -0.6944539659705443, 0.2582200223961893, 0.7920863962548249], \"yaxis\": \"y7\"}, {\"line\": {\"color\": \"rgba(128, 128, 128, 1.0)\", \"dash\": \"solid\", \"shape\": \"linear\", \"width\": 1.3}, \"marker\": {\"size\": 2, \"symbol\": \"circle\"}, \"mode\": \"markers\", \"name\": \"B\", \"text\": \"\", \"type\": \"scatter\", \"x\": [-0.25191764743566786, 0.4198145384895684, -1.3140941508038348, 1.2318426219836836, -0.14897890875791223, -1.143166795336094, -1.0314134856330894, -1.1040878101495826, -0.0955712889122703, 0.28520146090536724, 0.6399015028076319, -0.8324485066954828, -0.07496044929395959, -0.7650854165785472, -1.2485280903188103, 2.1795825771112973, -0.5620311364223277, -0.5585410294220939, -0.4537843776591725, 1.233793314943582, 0.3512069789710706, 1.464975027321418, 1.4746019752966584, -0.7371334777665244, -0.3636836678402213, -1.1003904903879351, -0.26791186145062823, 1.0460755059400357, -0.7575438785027289, 1.3470249818909699, 0.07133753671463729, -0.01749365744707516, 0.48036583265597094, 1.1713636735859168, -0.5157245415583571, 0.5016520145241842, 0.3394304372496551, 0.46647053193264854, -1.0188106058466928, 1.4949434120261416, 0.24926084734681345, -1.0489198293392754, -0.5869623591243232, -0.4092280759240029, 0.5413342628376578, -1.5545202367727056, -0.8463730481017815, 2.335589047731229, 1.4719803000032543, 1.114770745220192, 0.0046618591717043694, 0.23209447481814305, 0.7197939214034708, -0.02268004328530468, -0.7705475169250952, -0.4059608801378683, -0.5030635358492516, -0.8643685639929041, 1.0023979402469545, 0.2979597397360903, 1.1906332814088394, 1.1501541102025645, -0.2979571434643375, 0.7179382669095363, -0.8346320717706238, 1.3723612403204208, -1.5862425603672, -1.899176752314106, 0.7353372077394054, -0.6598542021621814, -0.339557181546737, -1.4171259531377154, -1.8014094698614205, -0.16763899618295058, -2.8202747028683604, 2.2789088952890317, 0.7425915113742065, -0.9350502296364102, 0.07109195056103915, 0.39849003187683757, 0.48201874860427785, 0.528536342311538, -0.8231155460076484, -0.5407270412105185, 0.5105079121512099, -0.2005494666709388, -2.229405339748603, -0.8897868073956053, -0.015847545787378004, 0.6477893421800326, 0.2378032185505356, -1.1377323702203133, 0.9803696608709259, -0.5202531721203323, -1.4329078151338888, 0.7711951985853757, 0.3764949065442717, 0.7194210906701671, 0.3824848220070624, 0.5980286812170121], \"xaxis\": \"x8\", \"y\": [-0.7434989651960935, -0.4607615024270917, 1.8780782846811968, 0.04828809145899935, -0.0029359171677269995, -0.08753811400269597, -0.3979045501815003, -1.3587319206144035, 1.3058393881672048, -2.3358469828562334, 1.7778387243432399, -0.8702029541219694, 0.9935992049714233, 1.4798461388258817, 1.1275258510799964, 1.477737769433274, 0.36461748526784393, 0.1831140969875315, 0.17955620423002, 2.12826660679801, -1.1186449675805272, 1.1949120889777742, 0.6551153688968544, 0.7735108164924516, -0.7619829421982433, 0.3818031659229591, -0.13223350833946632, -1.0411027537542916, 0.7270464129765776, -0.46302451921768606, 0.5627073813462292, 0.08627527498922588, 0.20036806041275756, 0.01589035106560516, -1.5745988477361705, -0.5007655647549084, -1.874963053783075, -1.1902805653365587, -0.6179762986534144, 0.3369724337050894, -0.09505535904528267, -0.5306506763564895, -0.030613138796697234, 0.6341060188575188, 0.23753214374573461, 0.5756485863333742, -0.32928971144601865, 0.07337782328325868, -0.3357057393863871, 0.5900992992421492, -0.40898656611231804, -0.47322322257176525, 0.2934714022237347, -0.3757543883540172, -0.1585512845422061, -0.25357244880222723, -1.5140291466870681, -0.7753885030539748, 0.797052517782712, -0.3686557886848596, 0.2855546620487415, 1.6705044922929793, -0.43515134559370927, 1.6595080594016447, -0.7252495287174796, -0.8330399931977461, -0.679219802873046, 0.9390544951462232, 0.09387454731372896, -0.3566775006611743, -2.1088990387458413, 1.4528512643473823, -1.0261340964628949, 0.23497758020160772, -0.4534270194828116, 0.11397050565362599, 0.2381586255109007, 0.9988085406776966, 0.025876815884210955, -1.2177486952525969, 0.3174027772821797, 0.5425099678014165, -1.1060029879681268, -1.9040147003254828, -0.09788757039869198, 0.5027980532650275, 0.5946564386503808, 0.9040607377477198, -0.4997921123188726, 1.0758831897921548, 0.9939541985768044, 1.4467641393910968, 1.6622260071966777, -0.22074290486403597, 0.0831484383304875, -1.0252544617631951, 0.5697014336041655, -0.6944539659705443, 0.2582200223961893, 0.7920863962548249], \"yaxis\": \"y8\"}, {\"line\": {\"color\": \"rgba(128, 128, 128, 1.0)\", \"dash\": \"solid\", \"shape\": \"linear\", \"width\": 1.3}, \"marker\": {\"size\": 2, \"symbol\": \"circle\"}, \"mode\": \"markers\", \"name\": \"C\", \"text\": \"\", \"type\": \"scatter\", \"x\": [0.4680357176729802, -0.18089695435687647, 0.003483194029145718, -0.8503226748006865, 0.8146106228274449, 0.15146587172216824, 0.12723478221447262, 0.3351004387413441, 0.9414103775281865, -0.8857734378332426, -0.5701687051204497, -0.8893540639512774, 0.14019123212902615, -0.966403721687782, 0.33538370842415655, 0.6702165022341717, -0.015213378402976164, -1.6090697702945362, 0.7768280979717406, -0.020888206099068173, -1.3080179624540567, 0.007249009389868164, 0.2945209102593891, -0.9992695366250636, -0.6447006902415953, -1.0905563070634021, 0.028797804449134032, -0.8843550330471293, 1.0386401862451842, -0.6372696659703778, -0.07546361030812403, -0.6885808917640587, 0.6960913089883859, 0.7967344770276393, -0.31311403394368115, 0.44535646682353447, 1.2184826503543367, 0.4897504444752817, 1.0975181333688733, -1.2899287196667168, 0.7672041598633657, -1.2666068328758595, 1.0388834302251584, -2.7642984677037763, 0.7743643434944764, 0.5383447940237172, 0.47174339868068116, -0.9813512577834447, -1.9094619873718108, 0.09403883020114603, -0.16567173008209463, 0.3497701577167347, 0.7786062683999717, -0.9749299704877334, 1.895335438858008, -0.4681186971331524, 1.6906002800833542, -0.3863554355065704, -2.0996821386621938, 0.13576410988414953, 0.49662193548416167, 0.6652139195938592, 1.318582804966973, -0.03610763629279586, -0.4325131784953337, -0.6569998826577392, 0.7840142952369771, 1.3376479675287218, -0.24358433096939566, 0.7227382172365205, -0.8355487413044241, 0.7365537375544133, -0.5896650123534253, 0.6979532707491521, 0.4168212480194256, -1.156999280240315, 0.49573377418729586, -0.8131742308332868, -0.023724459695214212, -0.6662885802270111, -0.5650900186908255, -0.14085214787252726, 0.5047821408545787, -1.5536765581644607, -0.12215501843578472, -0.47462127467704807, -0.739431884829175, -0.28716816395346373, 1.7938082735840795, -1.721425966026441, 0.6277844324474082, -0.13192234352890128, 0.5491320236601649, -0.5930336917559829, 0.13740697896731097, 1.1271661097434316, -0.5372438603757769, -0.7756176374275516, 1.9872765631996863, 1.1777260909975629], \"xaxis\": \"x9\", \"y\": [0.8389764892564305, 1.013717717231092, -0.7297365537101015, 0.6049139704487708, 0.7723854906554027, 0.21623666019717452, 0.24654014892872012, 0.7051543353596379, 1.2091124520868546, -0.3219114610225776, -0.05848271170796087, 0.3509714073961184, -1.1369574557963296, -1.5886052586822192, 0.46897817236341155, 1.600651483559872, 1.0868744225621012, -0.8225697383868341, -0.5462549515435099, -1.0971324409605696, -0.42126901991509974, -0.40335240915835735, -0.06546332364885253, -0.7220096955108127, -0.24173070493788043, -0.7598326671349462, 0.6241453849807918, 0.5886794668426667, -0.8140869463568312, 0.628972719389455, -0.24496151325077703, 1.9084749507787575, 0.5419417425942232, 0.036735335651900826, -0.4792159487349968, -0.42916830260793176, -2.0635569387151755, -0.8682465428527645, 1.0610949817311277, -1.840326548329223, 0.1770727015256135, -0.5972928849101156, 0.43234865840395753, 0.36879339666131905, -0.31535918919124845, 0.013286350305847863, 0.839248722171213, -0.5391920294908384, 0.9028477890920293, -0.1449266056100494, -0.5550747969708228, 1.145173812738686, -3.9108580222565643, 0.20059159084486752, 0.8044663141218427, 0.007719524278421231, -0.07497195612134629, -0.7483748180488207, -0.8848562233879459, 0.7831684418093795, -0.8408722819203603, -0.6584752704475881, 1.7632864008624585, 0.4136157562434442, 0.48584697095725743, 0.048980905406493386, 0.5879297579600218, -0.8481797780613902, -1.5696593179903302, -0.48235985761291955, -1.0057629092408216, 0.5448252629602326, -0.10385777821915122, 0.0034653602824622517, -0.7496905771230047, 0.909499498712557, 0.239924583265994, -1.6905948071653993, -0.3947023642386599, 0.07330818187210192, -1.1687449252991113, -0.6927274731045221, -2.716605353800127, 0.3213373310834251, 0.13190931480579546, 0.2755906045892328, -0.29173706907620944, -0.9130408164605344, -0.5978702046605517, 1.5325682955088105, 0.6030579947183526, -0.8182400542754837, -1.8411234610375216, 1.8687986807306012, 0.8290383550466602, -0.7397713800851328, 0.6972307899398041, 0.7355949199704094, 1.8908724727703967, 1.2874885440614134], \"yaxis\": \"y9\"}, {\"line\": {\"color\": \"rgba(128, 128, 128, 1.0)\", \"dash\": \"solid\", \"shape\": \"linear\", \"width\": 1.3}, \"marker\": {\"size\": 2, \"symbol\": \"circle\"}, \"mode\": \"markers\", \"name\": \"C\", \"text\": \"\", \"type\": \"scatter\", \"x\": [-0.7434989651960935, -0.4607615024270917, 1.8780782846811968, 0.04828809145899935, -0.0029359171677269995, -0.08753811400269597, -0.3979045501815003, -1.3587319206144035, 1.3058393881672048, -2.3358469828562334, 1.7778387243432399, -0.8702029541219694, 0.9935992049714233, 1.4798461388258817, 1.1275258510799964, 1.477737769433274, 0.36461748526784393, 0.1831140969875315, 0.17955620423002, 2.12826660679801, -1.1186449675805272, 1.1949120889777742, 0.6551153688968544, 0.7735108164924516, -0.7619829421982433, 0.3818031659229591, -0.13223350833946632, -1.0411027537542916, 0.7270464129765776, -0.46302451921768606, 0.5627073813462292, 0.08627527498922588, 0.20036806041275756, 0.01589035106560516, -1.5745988477361705, -0.5007655647549084, -1.874963053783075, -1.1902805653365587, -0.6179762986534144, 0.3369724337050894, -0.09505535904528267, -0.5306506763564895, -0.030613138796697234, 0.6341060188575188, 0.23753214374573461, 0.5756485863333742, -0.32928971144601865, 0.07337782328325868, -0.3357057393863871, 0.5900992992421492, -0.40898656611231804, -0.47322322257176525, 0.2934714022237347, -0.3757543883540172, -0.1585512845422061, -0.25357244880222723, -1.5140291466870681, -0.7753885030539748, 0.797052517782712, -0.3686557886848596, 0.2855546620487415, 1.6705044922929793, -0.43515134559370927, 1.6595080594016447, -0.7252495287174796, -0.8330399931977461, -0.679219802873046, 0.9390544951462232, 0.09387454731372896, -0.3566775006611743, -2.1088990387458413, 1.4528512643473823, -1.0261340964628949, 0.23497758020160772, -0.4534270194828116, 0.11397050565362599, 0.2381586255109007, 0.9988085406776966, 0.025876815884210955, -1.2177486952525969, 0.3174027772821797, 0.5425099678014165, -1.1060029879681268, -1.9040147003254828, -0.09788757039869198, 0.5027980532650275, 0.5946564386503808, 0.9040607377477198, -0.4997921123188726, 1.0758831897921548, 0.9939541985768044, 1.4467641393910968, 1.6622260071966777, -0.22074290486403597, 0.0831484383304875, -1.0252544617631951, 0.5697014336041655, -0.6944539659705443, 0.2582200223961893, 0.7920863962548249], \"xaxis\": \"x10\", \"y\": [0.8389764892564305, 1.013717717231092, -0.7297365537101015, 0.6049139704487708, 0.7723854906554027, 0.21623666019717452, 0.24654014892872012, 0.7051543353596379, 1.2091124520868546, -0.3219114610225776, -0.05848271170796087, 0.3509714073961184, -1.1369574557963296, -1.5886052586822192, 0.46897817236341155, 1.600651483559872, 1.0868744225621012, -0.8225697383868341, -0.5462549515435099, -1.0971324409605696, -0.42126901991509974, -0.40335240915835735, -0.06546332364885253, -0.7220096955108127, -0.24173070493788043, -0.7598326671349462, 0.6241453849807918, 0.5886794668426667, -0.8140869463568312, 0.628972719389455, -0.24496151325077703, 1.9084749507787575, 0.5419417425942232, 0.036735335651900826, -0.4792159487349968, -0.42916830260793176, -2.0635569387151755, -0.8682465428527645, 1.0610949817311277, -1.840326548329223, 0.1770727015256135, -0.5972928849101156, 0.43234865840395753, 0.36879339666131905, -0.31535918919124845, 0.013286350305847863, 0.839248722171213, -0.5391920294908384, 0.9028477890920293, -0.1449266056100494, -0.5550747969708228, 1.145173812738686, -3.9108580222565643, 0.20059159084486752, 0.8044663141218427, 0.007719524278421231, -0.07497195612134629, -0.7483748180488207, -0.8848562233879459, 0.7831684418093795, -0.8408722819203603, -0.6584752704475881, 1.7632864008624585, 0.4136157562434442, 0.48584697095725743, 0.048980905406493386, 0.5879297579600218, -0.8481797780613902, -1.5696593179903302, -0.48235985761291955, -1.0057629092408216, 0.5448252629602326, -0.10385777821915122, 0.0034653602824622517, -0.7496905771230047, 0.909499498712557, 0.239924583265994, -1.6905948071653993, -0.3947023642386599, 0.07330818187210192, -1.1687449252991113, -0.6927274731045221, -2.716605353800127, 0.3213373310834251, 0.13190931480579546, 0.2755906045892328, -0.29173706907620944, -0.9130408164605344, -0.5978702046605517, 1.5325682955088105, 0.6030579947183526, -0.8182400542754837, -1.8411234610375216, 1.8687986807306012, 0.8290383550466602, -0.7397713800851328, 0.6972307899398041, 0.7355949199704094, 1.8908724727703967, 1.2874885440614134], \"yaxis\": \"y10\"}, {\"histfunc\": \"count\", \"histnorm\": \"\", \"marker\": {\"color\": \"rgba(50, 171, 96, 1.0)\", \"line\": {\"color\": \"#4D5663\", \"width\": 1.3}}, \"name\": \"C\", \"nbinsx\": 10, \"opacity\": 0.8, \"orientation\": \"v\", \"type\": \"histogram\", \"x\": [0.8389764892564305, 1.013717717231092, -0.7297365537101015, 0.6049139704487708, 0.7723854906554027, 0.21623666019717452, 0.24654014892872012, 0.7051543353596379, 1.2091124520868546, -0.3219114610225776, -0.05848271170796087, 0.3509714073961184, -1.1369574557963296, -1.5886052586822192, 0.46897817236341155, 1.600651483559872, 1.0868744225621012, -0.8225697383868341, -0.5462549515435099, -1.0971324409605696, -0.42126901991509974, -0.40335240915835735, -0.06546332364885253, -0.7220096955108127, -0.24173070493788043, -0.7598326671349462, 0.6241453849807918, 0.5886794668426667, -0.8140869463568312, 0.628972719389455, -0.24496151325077703, 1.9084749507787575, 0.5419417425942232, 0.036735335651900826, -0.4792159487349968, -0.42916830260793176, -2.0635569387151755, -0.8682465428527645, 1.0610949817311277, -1.840326548329223, 0.1770727015256135, -0.5972928849101156, 0.43234865840395753, 0.36879339666131905, -0.31535918919124845, 0.013286350305847863, 0.839248722171213, -0.5391920294908384, 0.9028477890920293, -0.1449266056100494, -0.5550747969708228, 1.145173812738686, -3.9108580222565643, 0.20059159084486752, 0.8044663141218427, 0.007719524278421231, -0.07497195612134629, -0.7483748180488207, -0.8848562233879459, 0.7831684418093795, -0.8408722819203603, -0.6584752704475881, 1.7632864008624585, 0.4136157562434442, 0.48584697095725743, 0.048980905406493386, 0.5879297579600218, -0.8481797780613902, -1.5696593179903302, -0.48235985761291955, -1.0057629092408216, 0.5448252629602326, -0.10385777821915122, 0.0034653602824622517, -0.7496905771230047, 0.909499498712557, 0.239924583265994, -1.6905948071653993, -0.3947023642386599, 0.07330818187210192, -1.1687449252991113, -0.6927274731045221, -2.716605353800127, 0.3213373310834251, 0.13190931480579546, 0.2755906045892328, -0.29173706907620944, -0.9130408164605344, -0.5978702046605517, 1.5325682955088105, 0.6030579947183526, -0.8182400542754837, -1.8411234610375216, 1.8687986807306012, 0.8290383550466602, -0.7397713800851328, 0.6972307899398041, 0.7355949199704094, 1.8908724727703967, 1.2874885440614134], \"xaxis\": \"x11\", \"yaxis\": \"y11\"}, {\"line\": {\"color\": \"rgba(128, 128, 128, 1.0)\", \"dash\": \"solid\", \"shape\": \"linear\", \"width\": 1.3}, \"marker\": {\"size\": 2, \"symbol\": \"circle\"}, \"mode\": \"markers\", \"name\": \"C\", \"text\": \"\", \"type\": \"scatter\", \"x\": [-0.25191764743566786, 0.4198145384895684, -1.3140941508038348, 1.2318426219836836, -0.14897890875791223, -1.143166795336094, -1.0314134856330894, -1.1040878101495826, -0.0955712889122703, 0.28520146090536724, 0.6399015028076319, -0.8324485066954828, -0.07496044929395959, -0.7650854165785472, -1.2485280903188103, 2.1795825771112973, -0.5620311364223277, -0.5585410294220939, -0.4537843776591725, 1.233793314943582, 0.3512069789710706, 1.464975027321418, 1.4746019752966584, -0.7371334777665244, -0.3636836678402213, -1.1003904903879351, -0.26791186145062823, 1.0460755059400357, -0.7575438785027289, 1.3470249818909699, 0.07133753671463729, -0.01749365744707516, 0.48036583265597094, 1.1713636735859168, -0.5157245415583571, 0.5016520145241842, 0.3394304372496551, 0.46647053193264854, -1.0188106058466928, 1.4949434120261416, 0.24926084734681345, -1.0489198293392754, -0.5869623591243232, -0.4092280759240029, 0.5413342628376578, -1.5545202367727056, -0.8463730481017815, 2.335589047731229, 1.4719803000032543, 1.114770745220192, 0.0046618591717043694, 0.23209447481814305, 0.7197939214034708, -0.02268004328530468, -0.7705475169250952, -0.4059608801378683, -0.5030635358492516, -0.8643685639929041, 1.0023979402469545, 0.2979597397360903, 1.1906332814088394, 1.1501541102025645, -0.2979571434643375, 0.7179382669095363, -0.8346320717706238, 1.3723612403204208, -1.5862425603672, -1.899176752314106, 0.7353372077394054, -0.6598542021621814, -0.339557181546737, -1.4171259531377154, -1.8014094698614205, -0.16763899618295058, -2.8202747028683604, 2.2789088952890317, 0.7425915113742065, -0.9350502296364102, 0.07109195056103915, 0.39849003187683757, 0.48201874860427785, 0.528536342311538, -0.8231155460076484, -0.5407270412105185, 0.5105079121512099, -0.2005494666709388, -2.229405339748603, -0.8897868073956053, -0.015847545787378004, 0.6477893421800326, 0.2378032185505356, -1.1377323702203133, 0.9803696608709259, -0.5202531721203323, -1.4329078151338888, 0.7711951985853757, 0.3764949065442717, 0.7194210906701671, 0.3824848220070624, 0.5980286812170121], \"xaxis\": \"x12\", \"y\": [0.8389764892564305, 1.013717717231092, -0.7297365537101015, 0.6049139704487708, 0.7723854906554027, 0.21623666019717452, 0.24654014892872012, 0.7051543353596379, 1.2091124520868546, -0.3219114610225776, -0.05848271170796087, 0.3509714073961184, -1.1369574557963296, -1.5886052586822192, 0.46897817236341155, 1.600651483559872, 1.0868744225621012, -0.8225697383868341, -0.5462549515435099, -1.0971324409605696, -0.42126901991509974, -0.40335240915835735, -0.06546332364885253, -0.7220096955108127, -0.24173070493788043, -0.7598326671349462, 0.6241453849807918, 0.5886794668426667, -0.8140869463568312, 0.628972719389455, -0.24496151325077703, 1.9084749507787575, 0.5419417425942232, 0.036735335651900826, -0.4792159487349968, -0.42916830260793176, -2.0635569387151755, -0.8682465428527645, 1.0610949817311277, -1.840326548329223, 0.1770727015256135, -0.5972928849101156, 0.43234865840395753, 0.36879339666131905, -0.31535918919124845, 0.013286350305847863, 0.839248722171213, -0.5391920294908384, 0.9028477890920293, -0.1449266056100494, -0.5550747969708228, 1.145173812738686, -3.9108580222565643, 0.20059159084486752, 0.8044663141218427, 0.007719524278421231, -0.07497195612134629, -0.7483748180488207, -0.8848562233879459, 0.7831684418093795, -0.8408722819203603, -0.6584752704475881, 1.7632864008624585, 0.4136157562434442, 0.48584697095725743, 0.048980905406493386, 0.5879297579600218, -0.8481797780613902, -1.5696593179903302, -0.48235985761291955, -1.0057629092408216, 0.5448252629602326, -0.10385777821915122, 0.0034653602824622517, -0.7496905771230047, 0.909499498712557, 0.239924583265994, -1.6905948071653993, -0.3947023642386599, 0.07330818187210192, -1.1687449252991113, -0.6927274731045221, -2.716605353800127, 0.3213373310834251, 0.13190931480579546, 0.2755906045892328, -0.29173706907620944, -0.9130408164605344, -0.5978702046605517, 1.5325682955088105, 0.6030579947183526, -0.8182400542754837, -1.8411234610375216, 1.8687986807306012, 0.8290383550466602, -0.7397713800851328, 0.6972307899398041, 0.7355949199704094, 1.8908724727703967, 1.2874885440614134], \"yaxis\": \"y12\"}, {\"line\": {\"color\": \"rgba(128, 128, 128, 1.0)\", \"dash\": \"solid\", \"shape\": \"linear\", \"width\": 1.3}, \"marker\": {\"size\": 2, \"symbol\": \"circle\"}, \"mode\": \"markers\", \"name\": \"D\", \"text\": \"\", \"type\": \"scatter\", \"x\": [0.4680357176729802, -0.18089695435687647, 0.003483194029145718, -0.8503226748006865, 0.8146106228274449, 0.15146587172216824, 0.12723478221447262, 0.3351004387413441, 0.9414103775281865, -0.8857734378332426, -0.5701687051204497, -0.8893540639512774, 0.14019123212902615, -0.966403721687782, 0.33538370842415655, 0.6702165022341717, -0.015213378402976164, -1.6090697702945362, 0.7768280979717406, -0.020888206099068173, -1.3080179624540567, 0.007249009389868164, 0.2945209102593891, -0.9992695366250636, -0.6447006902415953, -1.0905563070634021, 0.028797804449134032, -0.8843550330471293, 1.0386401862451842, -0.6372696659703778, -0.07546361030812403, -0.6885808917640587, 0.6960913089883859, 0.7967344770276393, -0.31311403394368115, 0.44535646682353447, 1.2184826503543367, 0.4897504444752817, 1.0975181333688733, -1.2899287196667168, 0.7672041598633657, -1.2666068328758595, 1.0388834302251584, -2.7642984677037763, 0.7743643434944764, 0.5383447940237172, 0.47174339868068116, -0.9813512577834447, -1.9094619873718108, 0.09403883020114603, -0.16567173008209463, 0.3497701577167347, 0.7786062683999717, -0.9749299704877334, 1.895335438858008, -0.4681186971331524, 1.6906002800833542, -0.3863554355065704, -2.0996821386621938, 0.13576410988414953, 0.49662193548416167, 0.6652139195938592, 1.318582804966973, -0.03610763629279586, -0.4325131784953337, -0.6569998826577392, 0.7840142952369771, 1.3376479675287218, -0.24358433096939566, 0.7227382172365205, -0.8355487413044241, 0.7365537375544133, -0.5896650123534253, 0.6979532707491521, 0.4168212480194256, -1.156999280240315, 0.49573377418729586, -0.8131742308332868, -0.023724459695214212, -0.6662885802270111, -0.5650900186908255, -0.14085214787252726, 0.5047821408545787, -1.5536765581644607, -0.12215501843578472, -0.47462127467704807, -0.739431884829175, -0.28716816395346373, 1.7938082735840795, -1.721425966026441, 0.6277844324474082, -0.13192234352890128, 0.5491320236601649, -0.5930336917559829, 0.13740697896731097, 1.1271661097434316, -0.5372438603757769, -0.7756176374275516, 1.9872765631996863, 1.1777260909975629], \"xaxis\": \"x13\", \"y\": [-0.25191764743566786, 0.4198145384895684, -1.3140941508038348, 1.2318426219836836, -0.14897890875791223, -1.143166795336094, -1.0314134856330894, -1.1040878101495826, -0.0955712889122703, 0.28520146090536724, 0.6399015028076319, -0.8324485066954828, -0.07496044929395959, -0.7650854165785472, -1.2485280903188103, 2.1795825771112973, -0.5620311364223277, -0.5585410294220939, -0.4537843776591725, 1.233793314943582, 0.3512069789710706, 1.464975027321418, 1.4746019752966584, -0.7371334777665244, -0.3636836678402213, -1.1003904903879351, -0.26791186145062823, 1.0460755059400357, -0.7575438785027289, 1.3470249818909699, 0.07133753671463729, -0.01749365744707516, 0.48036583265597094, 1.1713636735859168, -0.5157245415583571, 0.5016520145241842, 0.3394304372496551, 0.46647053193264854, -1.0188106058466928, 1.4949434120261416, 0.24926084734681345, -1.0489198293392754, -0.5869623591243232, -0.4092280759240029, 0.5413342628376578, -1.5545202367727056, -0.8463730481017815, 2.335589047731229, 1.4719803000032543, 1.114770745220192, 0.0046618591717043694, 0.23209447481814305, 0.7197939214034708, -0.02268004328530468, -0.7705475169250952, -0.4059608801378683, -0.5030635358492516, -0.8643685639929041, 1.0023979402469545, 0.2979597397360903, 1.1906332814088394, 1.1501541102025645, -0.2979571434643375, 0.7179382669095363, -0.8346320717706238, 1.3723612403204208, -1.5862425603672, -1.899176752314106, 0.7353372077394054, -0.6598542021621814, -0.339557181546737, -1.4171259531377154, -1.8014094698614205, -0.16763899618295058, -2.8202747028683604, 2.2789088952890317, 0.7425915113742065, -0.9350502296364102, 0.07109195056103915, 0.39849003187683757, 0.48201874860427785, 0.528536342311538, -0.8231155460076484, -0.5407270412105185, 0.5105079121512099, -0.2005494666709388, -2.229405339748603, -0.8897868073956053, -0.015847545787378004, 0.6477893421800326, 0.2378032185505356, -1.1377323702203133, 0.9803696608709259, -0.5202531721203323, -1.4329078151338888, 0.7711951985853757, 0.3764949065442717, 0.7194210906701671, 0.3824848220070624, 0.5980286812170121], \"yaxis\": \"y13\"}, {\"line\": {\"color\": \"rgba(128, 128, 128, 1.0)\", \"dash\": \"solid\", \"shape\": \"linear\", \"width\": 1.3}, \"marker\": {\"size\": 2, \"symbol\": \"circle\"}, \"mode\": \"markers\", \"name\": \"D\", \"text\": \"\", \"type\": \"scatter\", \"x\": [-0.7434989651960935, -0.4607615024270917, 1.8780782846811968, 0.04828809145899935, -0.0029359171677269995, -0.08753811400269597, -0.3979045501815003, -1.3587319206144035, 1.3058393881672048, -2.3358469828562334, 1.7778387243432399, -0.8702029541219694, 0.9935992049714233, 1.4798461388258817, 1.1275258510799964, 1.477737769433274, 0.36461748526784393, 0.1831140969875315, 0.17955620423002, 2.12826660679801, -1.1186449675805272, 1.1949120889777742, 0.6551153688968544, 0.7735108164924516, -0.7619829421982433, 0.3818031659229591, -0.13223350833946632, -1.0411027537542916, 0.7270464129765776, -0.46302451921768606, 0.5627073813462292, 0.08627527498922588, 0.20036806041275756, 0.01589035106560516, -1.5745988477361705, -0.5007655647549084, -1.874963053783075, -1.1902805653365587, -0.6179762986534144, 0.3369724337050894, -0.09505535904528267, -0.5306506763564895, -0.030613138796697234, 0.6341060188575188, 0.23753214374573461, 0.5756485863333742, -0.32928971144601865, 0.07337782328325868, -0.3357057393863871, 0.5900992992421492, -0.40898656611231804, -0.47322322257176525, 0.2934714022237347, -0.3757543883540172, -0.1585512845422061, -0.25357244880222723, -1.5140291466870681, -0.7753885030539748, 0.797052517782712, -0.3686557886848596, 0.2855546620487415, 1.6705044922929793, -0.43515134559370927, 1.6595080594016447, -0.7252495287174796, -0.8330399931977461, -0.679219802873046, 0.9390544951462232, 0.09387454731372896, -0.3566775006611743, -2.1088990387458413, 1.4528512643473823, -1.0261340964628949, 0.23497758020160772, -0.4534270194828116, 0.11397050565362599, 0.2381586255109007, 0.9988085406776966, 0.025876815884210955, -1.2177486952525969, 0.3174027772821797, 0.5425099678014165, -1.1060029879681268, -1.9040147003254828, -0.09788757039869198, 0.5027980532650275, 0.5946564386503808, 0.9040607377477198, -0.4997921123188726, 1.0758831897921548, 0.9939541985768044, 1.4467641393910968, 1.6622260071966777, -0.22074290486403597, 0.0831484383304875, -1.0252544617631951, 0.5697014336041655, -0.6944539659705443, 0.2582200223961893, 0.7920863962548249], \"xaxis\": \"x14\", \"y\": [-0.25191764743566786, 0.4198145384895684, -1.3140941508038348, 1.2318426219836836, -0.14897890875791223, -1.143166795336094, -1.0314134856330894, -1.1040878101495826, -0.0955712889122703, 0.28520146090536724, 0.6399015028076319, -0.8324485066954828, -0.07496044929395959, -0.7650854165785472, -1.2485280903188103, 2.1795825771112973, -0.5620311364223277, -0.5585410294220939, -0.4537843776591725, 1.233793314943582, 0.3512069789710706, 1.464975027321418, 1.4746019752966584, -0.7371334777665244, -0.3636836678402213, -1.1003904903879351, -0.26791186145062823, 1.0460755059400357, -0.7575438785027289, 1.3470249818909699, 0.07133753671463729, -0.01749365744707516, 0.48036583265597094, 1.1713636735859168, -0.5157245415583571, 0.5016520145241842, 0.3394304372496551, 0.46647053193264854, -1.0188106058466928, 1.4949434120261416, 0.24926084734681345, -1.0489198293392754, -0.5869623591243232, -0.4092280759240029, 0.5413342628376578, -1.5545202367727056, -0.8463730481017815, 2.335589047731229, 1.4719803000032543, 1.114770745220192, 0.0046618591717043694, 0.23209447481814305, 0.7197939214034708, -0.02268004328530468, -0.7705475169250952, -0.4059608801378683, -0.5030635358492516, -0.8643685639929041, 1.0023979402469545, 0.2979597397360903, 1.1906332814088394, 1.1501541102025645, -0.2979571434643375, 0.7179382669095363, -0.8346320717706238, 1.3723612403204208, -1.5862425603672, -1.899176752314106, 0.7353372077394054, -0.6598542021621814, -0.339557181546737, -1.4171259531377154, -1.8014094698614205, -0.16763899618295058, -2.8202747028683604, 2.2789088952890317, 0.7425915113742065, -0.9350502296364102, 0.07109195056103915, 0.39849003187683757, 0.48201874860427785, 0.528536342311538, -0.8231155460076484, -0.5407270412105185, 0.5105079121512099, -0.2005494666709388, -2.229405339748603, -0.8897868073956053, -0.015847545787378004, 0.6477893421800326, 0.2378032185505356, -1.1377323702203133, 0.9803696608709259, -0.5202531721203323, -1.4329078151338888, 0.7711951985853757, 0.3764949065442717, 0.7194210906701671, 0.3824848220070624, 0.5980286812170121], \"yaxis\": \"y14\"}, {\"line\": {\"color\": \"rgba(128, 128, 128, 1.0)\", \"dash\": \"solid\", \"shape\": \"linear\", \"width\": 1.3}, \"marker\": {\"size\": 2, \"symbol\": \"circle\"}, \"mode\": \"markers\", \"name\": \"D\", \"text\": \"\", \"type\": \"scatter\", \"x\": [0.8389764892564305, 1.013717717231092, -0.7297365537101015, 0.6049139704487708, 0.7723854906554027, 0.21623666019717452, 0.24654014892872012, 0.7051543353596379, 1.2091124520868546, -0.3219114610225776, -0.05848271170796087, 0.3509714073961184, -1.1369574557963296, -1.5886052586822192, 0.46897817236341155, 1.600651483559872, 1.0868744225621012, -0.8225697383868341, -0.5462549515435099, -1.0971324409605696, -0.42126901991509974, -0.40335240915835735, -0.06546332364885253, -0.7220096955108127, -0.24173070493788043, -0.7598326671349462, 0.6241453849807918, 0.5886794668426667, -0.8140869463568312, 0.628972719389455, -0.24496151325077703, 1.9084749507787575, 0.5419417425942232, 0.036735335651900826, -0.4792159487349968, -0.42916830260793176, -2.0635569387151755, -0.8682465428527645, 1.0610949817311277, -1.840326548329223, 0.1770727015256135, -0.5972928849101156, 0.43234865840395753, 0.36879339666131905, -0.31535918919124845, 0.013286350305847863, 0.839248722171213, -0.5391920294908384, 0.9028477890920293, -0.1449266056100494, -0.5550747969708228, 1.145173812738686, -3.9108580222565643, 0.20059159084486752, 0.8044663141218427, 0.007719524278421231, -0.07497195612134629, -0.7483748180488207, -0.8848562233879459, 0.7831684418093795, -0.8408722819203603, -0.6584752704475881, 1.7632864008624585, 0.4136157562434442, 0.48584697095725743, 0.048980905406493386, 0.5879297579600218, -0.8481797780613902, -1.5696593179903302, -0.48235985761291955, -1.0057629092408216, 0.5448252629602326, -0.10385777821915122, 0.0034653602824622517, -0.7496905771230047, 0.909499498712557, 0.239924583265994, -1.6905948071653993, -0.3947023642386599, 0.07330818187210192, -1.1687449252991113, -0.6927274731045221, -2.716605353800127, 0.3213373310834251, 0.13190931480579546, 0.2755906045892328, -0.29173706907620944, -0.9130408164605344, -0.5978702046605517, 1.5325682955088105, 0.6030579947183526, -0.8182400542754837, -1.8411234610375216, 1.8687986807306012, 0.8290383550466602, -0.7397713800851328, 0.6972307899398041, 0.7355949199704094, 1.8908724727703967, 1.2874885440614134], \"xaxis\": \"x15\", \"y\": [-0.25191764743566786, 0.4198145384895684, -1.3140941508038348, 1.2318426219836836, -0.14897890875791223, -1.143166795336094, -1.0314134856330894, -1.1040878101495826, -0.0955712889122703, 0.28520146090536724, 0.6399015028076319, -0.8324485066954828, -0.07496044929395959, -0.7650854165785472, -1.2485280903188103, 2.1795825771112973, -0.5620311364223277, -0.5585410294220939, -0.4537843776591725, 1.233793314943582, 0.3512069789710706, 1.464975027321418, 1.4746019752966584, -0.7371334777665244, -0.3636836678402213, -1.1003904903879351, -0.26791186145062823, 1.0460755059400357, -0.7575438785027289, 1.3470249818909699, 0.07133753671463729, -0.01749365744707516, 0.48036583265597094, 1.1713636735859168, -0.5157245415583571, 0.5016520145241842, 0.3394304372496551, 0.46647053193264854, -1.0188106058466928, 1.4949434120261416, 0.24926084734681345, -1.0489198293392754, -0.5869623591243232, -0.4092280759240029, 0.5413342628376578, -1.5545202367727056, -0.8463730481017815, 2.335589047731229, 1.4719803000032543, 1.114770745220192, 0.0046618591717043694, 0.23209447481814305, 0.7197939214034708, -0.02268004328530468, -0.7705475169250952, -0.4059608801378683, -0.5030635358492516, -0.8643685639929041, 1.0023979402469545, 0.2979597397360903, 1.1906332814088394, 1.1501541102025645, -0.2979571434643375, 0.7179382669095363, -0.8346320717706238, 1.3723612403204208, -1.5862425603672, -1.899176752314106, 0.7353372077394054, -0.6598542021621814, -0.339557181546737, -1.4171259531377154, -1.8014094698614205, -0.16763899618295058, -2.8202747028683604, 2.2789088952890317, 0.7425915113742065, -0.9350502296364102, 0.07109195056103915, 0.39849003187683757, 0.48201874860427785, 0.528536342311538, -0.8231155460076484, -0.5407270412105185, 0.5105079121512099, -0.2005494666709388, -2.229405339748603, -0.8897868073956053, -0.015847545787378004, 0.6477893421800326, 0.2378032185505356, -1.1377323702203133, 0.9803696608709259, -0.5202531721203323, -1.4329078151338888, 0.7711951985853757, 0.3764949065442717, 0.7194210906701671, 0.3824848220070624, 0.5980286812170121], \"yaxis\": \"y15\"}, {\"histfunc\": \"count\", \"histnorm\": \"\", \"marker\": {\"color\": \"rgba(128, 0, 128, 1.0)\", \"line\": {\"color\": \"#4D5663\", \"width\": 1.3}}, \"name\": \"D\", \"nbinsx\": 10, \"opacity\": 0.8, \"orientation\": \"v\", \"type\": \"histogram\", \"x\": [-0.25191764743566786, 0.4198145384895684, -1.3140941508038348, 1.2318426219836836, -0.14897890875791223, -1.143166795336094, -1.0314134856330894, -1.1040878101495826, -0.0955712889122703, 0.28520146090536724, 0.6399015028076319, -0.8324485066954828, -0.07496044929395959, -0.7650854165785472, -1.2485280903188103, 2.1795825771112973, -0.5620311364223277, -0.5585410294220939, -0.4537843776591725, 1.233793314943582, 0.3512069789710706, 1.464975027321418, 1.4746019752966584, -0.7371334777665244, -0.3636836678402213, -1.1003904903879351, -0.26791186145062823, 1.0460755059400357, -0.7575438785027289, 1.3470249818909699, 0.07133753671463729, -0.01749365744707516, 0.48036583265597094, 1.1713636735859168, -0.5157245415583571, 0.5016520145241842, 0.3394304372496551, 0.46647053193264854, -1.0188106058466928, 1.4949434120261416, 0.24926084734681345, -1.0489198293392754, -0.5869623591243232, -0.4092280759240029, 0.5413342628376578, -1.5545202367727056, -0.8463730481017815, 2.335589047731229, 1.4719803000032543, 1.114770745220192, 0.0046618591717043694, 0.23209447481814305, 0.7197939214034708, -0.02268004328530468, -0.7705475169250952, -0.4059608801378683, -0.5030635358492516, -0.8643685639929041, 1.0023979402469545, 0.2979597397360903, 1.1906332814088394, 1.1501541102025645, -0.2979571434643375, 0.7179382669095363, -0.8346320717706238, 1.3723612403204208, -1.5862425603672, -1.899176752314106, 0.7353372077394054, -0.6598542021621814, -0.339557181546737, -1.4171259531377154, -1.8014094698614205, -0.16763899618295058, -2.8202747028683604, 2.2789088952890317, 0.7425915113742065, -0.9350502296364102, 0.07109195056103915, 0.39849003187683757, 0.48201874860427785, 0.528536342311538, -0.8231155460076484, -0.5407270412105185, 0.5105079121512099, -0.2005494666709388, -2.229405339748603, -0.8897868073956053, -0.015847545787378004, 0.6477893421800326, 0.2378032185505356, -1.1377323702203133, 0.9803696608709259, -0.5202531721203323, -1.4329078151338888, 0.7711951985853757, 0.3764949065442717, 0.7194210906701671, 0.3824848220070624, 0.5980286812170121], \"xaxis\": \"x16\", \"yaxis\": \"y16\"}],\n",
       "                        {\"bargap\": 0.02, \"legend\": {\"bgcolor\": \"#F5F6F9\", \"font\": {\"color\": \"#4D5663\"}}, \"paper_bgcolor\": \"#F5F6F9\", \"plot_bgcolor\": \"#F5F6F9\", \"showlegend\": false, \"template\": {\"data\": {\"bar\": [{\"error_x\": {\"color\": \"#2a3f5f\"}, \"error_y\": {\"color\": \"#2a3f5f\"}, \"marker\": {\"line\": {\"color\": \"#E5ECF6\", \"width\": 0.5}}, \"type\": \"bar\"}], \"barpolar\": [{\"marker\": {\"line\": {\"color\": \"#E5ECF6\", \"width\": 0.5}}, \"type\": \"barpolar\"}], \"carpet\": [{\"aaxis\": {\"endlinecolor\": \"#2a3f5f\", \"gridcolor\": \"white\", \"linecolor\": \"white\", \"minorgridcolor\": \"white\", \"startlinecolor\": \"#2a3f5f\"}, \"baxis\": {\"endlinecolor\": \"#2a3f5f\", \"gridcolor\": \"white\", \"linecolor\": \"white\", \"minorgridcolor\": \"white\", \"startlinecolor\": \"#2a3f5f\"}, \"type\": \"carpet\"}], \"choropleth\": [{\"colorbar\": {\"outlinewidth\": 0, \"ticks\": \"\"}, \"type\": \"choropleth\"}], \"contour\": [{\"colorbar\": {\"outlinewidth\": 0, \"ticks\": \"\"}, \"colorscale\": [[0.0, \"#0d0887\"], [0.1111111111111111, \"#46039f\"], [0.2222222222222222, \"#7201a8\"], [0.3333333333333333, \"#9c179e\"], [0.4444444444444444, \"#bd3786\"], [0.5555555555555556, \"#d8576b\"], [0.6666666666666666, \"#ed7953\"], [0.7777777777777778, \"#fb9f3a\"], [0.8888888888888888, \"#fdca26\"], [1.0, \"#f0f921\"]], \"type\": \"contour\"}], \"contourcarpet\": [{\"colorbar\": {\"outlinewidth\": 0, \"ticks\": \"\"}, \"type\": \"contourcarpet\"}], \"heatmap\": [{\"colorbar\": {\"outlinewidth\": 0, \"ticks\": \"\"}, \"colorscale\": [[0.0, \"#0d0887\"], [0.1111111111111111, \"#46039f\"], [0.2222222222222222, \"#7201a8\"], [0.3333333333333333, \"#9c179e\"], [0.4444444444444444, \"#bd3786\"], [0.5555555555555556, \"#d8576b\"], [0.6666666666666666, \"#ed7953\"], [0.7777777777777778, \"#fb9f3a\"], [0.8888888888888888, \"#fdca26\"], [1.0, \"#f0f921\"]], \"type\": \"heatmap\"}], \"heatmapgl\": [{\"colorbar\": {\"outlinewidth\": 0, \"ticks\": \"\"}, \"colorscale\": [[0.0, \"#0d0887\"], [0.1111111111111111, \"#46039f\"], [0.2222222222222222, \"#7201a8\"], [0.3333333333333333, \"#9c179e\"], [0.4444444444444444, \"#bd3786\"], [0.5555555555555556, \"#d8576b\"], [0.6666666666666666, \"#ed7953\"], [0.7777777777777778, \"#fb9f3a\"], [0.8888888888888888, \"#fdca26\"], [1.0, \"#f0f921\"]], \"type\": \"heatmapgl\"}], \"histogram\": [{\"marker\": {\"colorbar\": {\"outlinewidth\": 0, \"ticks\": \"\"}}, \"type\": \"histogram\"}], \"histogram2d\": [{\"colorbar\": {\"outlinewidth\": 0, \"ticks\": \"\"}, \"colorscale\": [[0.0, \"#0d0887\"], [0.1111111111111111, \"#46039f\"], [0.2222222222222222, \"#7201a8\"], [0.3333333333333333, \"#9c179e\"], [0.4444444444444444, \"#bd3786\"], [0.5555555555555556, \"#d8576b\"], [0.6666666666666666, \"#ed7953\"], [0.7777777777777778, \"#fb9f3a\"], [0.8888888888888888, \"#fdca26\"], [1.0, \"#f0f921\"]], \"type\": \"histogram2d\"}], \"histogram2dcontour\": [{\"colorbar\": {\"outlinewidth\": 0, \"ticks\": \"\"}, \"colorscale\": [[0.0, \"#0d0887\"], [0.1111111111111111, \"#46039f\"], [0.2222222222222222, \"#7201a8\"], [0.3333333333333333, \"#9c179e\"], [0.4444444444444444, \"#bd3786\"], [0.5555555555555556, \"#d8576b\"], [0.6666666666666666, \"#ed7953\"], [0.7777777777777778, \"#fb9f3a\"], [0.8888888888888888, \"#fdca26\"], [1.0, \"#f0f921\"]], \"type\": \"histogram2dcontour\"}], \"mesh3d\": [{\"colorbar\": {\"outlinewidth\": 0, \"ticks\": \"\"}, \"type\": \"mesh3d\"}], \"parcoords\": [{\"line\": {\"colorbar\": {\"outlinewidth\": 0, \"ticks\": \"\"}}, \"type\": \"parcoords\"}], \"pie\": [{\"automargin\": true, \"type\": \"pie\"}], \"scatter\": [{\"marker\": {\"colorbar\": {\"outlinewidth\": 0, \"ticks\": \"\"}}, \"type\": \"scatter\"}], \"scatter3d\": [{\"line\": {\"colorbar\": {\"outlinewidth\": 0, \"ticks\": \"\"}}, \"marker\": {\"colorbar\": {\"outlinewidth\": 0, \"ticks\": \"\"}}, \"type\": \"scatter3d\"}], \"scattercarpet\": [{\"marker\": {\"colorbar\": {\"outlinewidth\": 0, \"ticks\": \"\"}}, \"type\": \"scattercarpet\"}], \"scattergeo\": [{\"marker\": {\"colorbar\": {\"outlinewidth\": 0, \"ticks\": \"\"}}, \"type\": \"scattergeo\"}], \"scattergl\": [{\"marker\": {\"colorbar\": {\"outlinewidth\": 0, \"ticks\": \"\"}}, \"type\": \"scattergl\"}], \"scattermapbox\": [{\"marker\": {\"colorbar\": {\"outlinewidth\": 0, \"ticks\": \"\"}}, \"type\": \"scattermapbox\"}], \"scatterpolar\": [{\"marker\": {\"colorbar\": {\"outlinewidth\": 0, \"ticks\": \"\"}}, \"type\": \"scatterpolar\"}], \"scatterpolargl\": [{\"marker\": {\"colorbar\": {\"outlinewidth\": 0, \"ticks\": \"\"}}, \"type\": \"scatterpolargl\"}], \"scatterternary\": [{\"marker\": {\"colorbar\": {\"outlinewidth\": 0, \"ticks\": \"\"}}, \"type\": \"scatterternary\"}], \"surface\": [{\"colorbar\": {\"outlinewidth\": 0, \"ticks\": \"\"}, \"colorscale\": [[0.0, \"#0d0887\"], [0.1111111111111111, \"#46039f\"], [0.2222222222222222, \"#7201a8\"], [0.3333333333333333, \"#9c179e\"], [0.4444444444444444, \"#bd3786\"], [0.5555555555555556, \"#d8576b\"], [0.6666666666666666, \"#ed7953\"], [0.7777777777777778, \"#fb9f3a\"], [0.8888888888888888, \"#fdca26\"], [1.0, \"#f0f921\"]], \"type\": \"surface\"}], \"table\": [{\"cells\": {\"fill\": {\"color\": \"#EBF0F8\"}, \"line\": {\"color\": \"white\"}}, \"header\": {\"fill\": {\"color\": \"#C8D4E3\"}, \"line\": {\"color\": \"white\"}}, \"type\": \"table\"}]}, \"layout\": {\"annotationdefaults\": {\"arrowcolor\": \"#2a3f5f\", \"arrowhead\": 0, \"arrowwidth\": 1}, \"coloraxis\": {\"colorbar\": {\"outlinewidth\": 0, \"ticks\": \"\"}}, \"colorscale\": {\"diverging\": [[0, \"#8e0152\"], [0.1, \"#c51b7d\"], [0.2, \"#de77ae\"], [0.3, \"#f1b6da\"], [0.4, \"#fde0ef\"], [0.5, \"#f7f7f7\"], [0.6, \"#e6f5d0\"], [0.7, \"#b8e186\"], [0.8, \"#7fbc41\"], [0.9, \"#4d9221\"], [1, \"#276419\"]], \"sequential\": [[0.0, \"#0d0887\"], [0.1111111111111111, \"#46039f\"], [0.2222222222222222, \"#7201a8\"], [0.3333333333333333, \"#9c179e\"], [0.4444444444444444, \"#bd3786\"], [0.5555555555555556, \"#d8576b\"], [0.6666666666666666, \"#ed7953\"], [0.7777777777777778, \"#fb9f3a\"], [0.8888888888888888, \"#fdca26\"], [1.0, \"#f0f921\"]], \"sequentialminus\": [[0.0, \"#0d0887\"], [0.1111111111111111, \"#46039f\"], [0.2222222222222222, \"#7201a8\"], [0.3333333333333333, \"#9c179e\"], [0.4444444444444444, \"#bd3786\"], [0.5555555555555556, \"#d8576b\"], [0.6666666666666666, \"#ed7953\"], [0.7777777777777778, \"#fb9f3a\"], [0.8888888888888888, \"#fdca26\"], [1.0, \"#f0f921\"]]}, \"colorway\": [\"#636efa\", \"#EF553B\", \"#00cc96\", \"#ab63fa\", \"#FFA15A\", \"#19d3f3\", \"#FF6692\", \"#B6E880\", \"#FF97FF\", \"#FECB52\"], \"font\": {\"color\": \"#2a3f5f\"}, \"geo\": {\"bgcolor\": \"white\", \"lakecolor\": \"white\", \"landcolor\": \"#E5ECF6\", \"showlakes\": true, \"showland\": true, \"subunitcolor\": \"white\"}, \"hoverlabel\": {\"align\": \"left\"}, \"hovermode\": \"closest\", \"mapbox\": {\"style\": \"light\"}, \"paper_bgcolor\": \"white\", \"plot_bgcolor\": \"#E5ECF6\", \"polar\": {\"angularaxis\": {\"gridcolor\": \"white\", \"linecolor\": \"white\", \"ticks\": \"\"}, \"bgcolor\": \"#E5ECF6\", \"radialaxis\": {\"gridcolor\": \"white\", \"linecolor\": \"white\", \"ticks\": \"\"}}, \"scene\": {\"xaxis\": {\"backgroundcolor\": \"#E5ECF6\", \"gridcolor\": \"white\", \"gridwidth\": 2, \"linecolor\": \"white\", \"showbackground\": true, \"ticks\": \"\", \"zerolinecolor\": \"white\"}, \"yaxis\": {\"backgroundcolor\": \"#E5ECF6\", \"gridcolor\": \"white\", \"gridwidth\": 2, \"linecolor\": \"white\", \"showbackground\": true, \"ticks\": \"\", \"zerolinecolor\": \"white\"}, \"zaxis\": {\"backgroundcolor\": \"#E5ECF6\", \"gridcolor\": \"white\", \"gridwidth\": 2, \"linecolor\": \"white\", \"showbackground\": true, \"ticks\": \"\", \"zerolinecolor\": \"white\"}}, \"shapedefaults\": {\"line\": {\"color\": \"#2a3f5f\"}}, \"ternary\": {\"aaxis\": {\"gridcolor\": \"white\", \"linecolor\": \"white\", \"ticks\": \"\"}, \"baxis\": {\"gridcolor\": \"white\", \"linecolor\": \"white\", \"ticks\": \"\"}, \"bgcolor\": \"#E5ECF6\", \"caxis\": {\"gridcolor\": \"white\", \"linecolor\": \"white\", \"ticks\": \"\"}}, \"title\": {\"x\": 0.05}, \"xaxis\": {\"automargin\": true, \"gridcolor\": \"white\", \"linecolor\": \"white\", \"ticks\": \"\", \"title\": {\"standoff\": 15}, \"zerolinecolor\": \"white\", \"zerolinewidth\": 2}, \"yaxis\": {\"automargin\": true, \"gridcolor\": \"white\", \"linecolor\": \"white\", \"ticks\": \"\", \"title\": {\"standoff\": 15}, \"zerolinecolor\": \"white\", \"zerolinewidth\": 2}}}, \"title\": {\"font\": {\"color\": \"#4D5663\"}}, \"xaxis\": {\"anchor\": \"y\", \"domain\": [0.0, 0.2125], \"gridcolor\": \"#E1E5ED\", \"showgrid\": false, \"tickfont\": {\"color\": \"#4D5663\"}, \"title\": {\"font\": {\"color\": \"#4D5663\"}, \"text\": \"\"}, \"zerolinecolor\": \"#E1E5ED\"}, \"xaxis10\": {\"anchor\": \"y10\", \"domain\": [0.2625, 0.475], \"gridcolor\": \"#E1E5ED\", \"showgrid\": false, \"tickfont\": {\"color\": \"#4D5663\"}, \"title\": {\"font\": {\"color\": \"#4D5663\"}, \"text\": \"\"}, \"zerolinecolor\": \"#E1E5ED\"}, \"xaxis11\": {\"anchor\": \"y11\", \"domain\": [0.525, 0.7375], \"gridcolor\": \"#E1E5ED\", \"showgrid\": false, \"tickfont\": {\"color\": \"#4D5663\"}, \"title\": {\"font\": {\"color\": \"#4D5663\"}, \"text\": \"\"}, \"zerolinecolor\": \"#E1E5ED\"}, \"xaxis12\": {\"anchor\": \"y12\", \"domain\": [0.7875, 1.0], \"gridcolor\": \"#E1E5ED\", \"showgrid\": false, \"tickfont\": {\"color\": \"#4D5663\"}, \"title\": {\"font\": {\"color\": \"#4D5663\"}, \"text\": \"\"}, \"zerolinecolor\": \"#E1E5ED\"}, \"xaxis13\": {\"anchor\": \"y13\", \"domain\": [0.0, 0.2125], \"gridcolor\": \"#E1E5ED\", \"showgrid\": false, \"tickfont\": {\"color\": \"#4D5663\"}, \"title\": {\"font\": {\"color\": \"#4D5663\"}, \"text\": \"\"}, \"zerolinecolor\": \"#E1E5ED\"}, \"xaxis14\": {\"anchor\": \"y14\", \"domain\": [0.2625, 0.475], \"gridcolor\": \"#E1E5ED\", \"showgrid\": false, \"tickfont\": {\"color\": \"#4D5663\"}, \"title\": {\"font\": {\"color\": \"#4D5663\"}, \"text\": \"\"}, \"zerolinecolor\": \"#E1E5ED\"}, \"xaxis15\": {\"anchor\": \"y15\", \"domain\": [0.525, 0.7375], \"gridcolor\": \"#E1E5ED\", \"showgrid\": false, \"tickfont\": {\"color\": \"#4D5663\"}, \"title\": {\"font\": {\"color\": \"#4D5663\"}, \"text\": \"\"}, \"zerolinecolor\": \"#E1E5ED\"}, \"xaxis16\": {\"anchor\": \"y16\", \"domain\": [0.7875, 1.0], \"gridcolor\": \"#E1E5ED\", \"showgrid\": false, \"tickfont\": {\"color\": \"#4D5663\"}, \"title\": {\"font\": {\"color\": \"#4D5663\"}, \"text\": \"\"}, \"zerolinecolor\": \"#E1E5ED\"}, \"xaxis2\": {\"anchor\": \"y2\", \"domain\": [0.2625, 0.475], \"gridcolor\": \"#E1E5ED\", \"showgrid\": false, \"tickfont\": {\"color\": \"#4D5663\"}, \"title\": {\"font\": {\"color\": \"#4D5663\"}, \"text\": \"\"}, \"zerolinecolor\": \"#E1E5ED\"}, \"xaxis3\": {\"anchor\": \"y3\", \"domain\": [0.525, 0.7375], \"gridcolor\": \"#E1E5ED\", \"showgrid\": false, \"tickfont\": {\"color\": \"#4D5663\"}, \"title\": {\"font\": {\"color\": \"#4D5663\"}, \"text\": \"\"}, \"zerolinecolor\": \"#E1E5ED\"}, \"xaxis4\": {\"anchor\": \"y4\", \"domain\": [0.7875, 1.0], \"gridcolor\": \"#E1E5ED\", \"showgrid\": false, \"tickfont\": {\"color\": \"#4D5663\"}, \"title\": {\"font\": {\"color\": \"#4D5663\"}, \"text\": \"\"}, \"zerolinecolor\": \"#E1E5ED\"}, \"xaxis5\": {\"anchor\": \"y5\", \"domain\": [0.0, 0.2125], \"gridcolor\": \"#E1E5ED\", \"showgrid\": false, \"tickfont\": {\"color\": \"#4D5663\"}, \"title\": {\"font\": {\"color\": \"#4D5663\"}, \"text\": \"\"}, \"zerolinecolor\": \"#E1E5ED\"}, \"xaxis6\": {\"anchor\": \"y6\", \"domain\": [0.2625, 0.475], \"gridcolor\": \"#E1E5ED\", \"showgrid\": false, \"tickfont\": {\"color\": \"#4D5663\"}, \"title\": {\"font\": {\"color\": \"#4D5663\"}, \"text\": \"\"}, \"zerolinecolor\": \"#E1E5ED\"}, \"xaxis7\": {\"anchor\": \"y7\", \"domain\": [0.525, 0.7375], \"gridcolor\": \"#E1E5ED\", \"showgrid\": false, \"tickfont\": {\"color\": \"#4D5663\"}, \"title\": {\"font\": {\"color\": \"#4D5663\"}, \"text\": \"\"}, \"zerolinecolor\": \"#E1E5ED\"}, \"xaxis8\": {\"anchor\": \"y8\", \"domain\": [0.7875, 1.0], \"gridcolor\": \"#E1E5ED\", \"showgrid\": false, \"tickfont\": {\"color\": \"#4D5663\"}, \"title\": {\"font\": {\"color\": \"#4D5663\"}, \"text\": \"\"}, \"zerolinecolor\": \"#E1E5ED\"}, \"xaxis9\": {\"anchor\": \"y9\", \"domain\": [0.0, 0.2125], \"gridcolor\": \"#E1E5ED\", \"showgrid\": false, \"tickfont\": {\"color\": \"#4D5663\"}, \"title\": {\"font\": {\"color\": \"#4D5663\"}, \"text\": \"\"}, \"zerolinecolor\": \"#E1E5ED\"}, \"yaxis\": {\"anchor\": \"x\", \"domain\": [0.8025, 1.0], \"gridcolor\": \"#E1E5ED\", \"showgrid\": false, \"tickfont\": {\"color\": \"#4D5663\"}, \"title\": {\"font\": {\"color\": \"#4D5663\"}, \"text\": \"\"}, \"zerolinecolor\": \"#E1E5ED\"}, \"yaxis10\": {\"anchor\": \"x10\", \"domain\": [0.2675, 0.465], \"gridcolor\": \"#E1E5ED\", \"showgrid\": false, \"tickfont\": {\"color\": \"#4D5663\"}, \"title\": {\"font\": {\"color\": \"#4D5663\"}, \"text\": \"\"}, \"zerolinecolor\": \"#E1E5ED\"}, \"yaxis11\": {\"anchor\": \"x11\", \"domain\": [0.2675, 0.465], \"gridcolor\": \"#E1E5ED\", \"showgrid\": false, \"tickfont\": {\"color\": \"#4D5663\"}, \"title\": {\"font\": {\"color\": \"#4D5663\"}, \"text\": \"\"}, \"zerolinecolor\": \"#E1E5ED\"}, \"yaxis12\": {\"anchor\": \"x12\", \"domain\": [0.2675, 0.465], \"gridcolor\": \"#E1E5ED\", \"showgrid\": false, \"tickfont\": {\"color\": \"#4D5663\"}, \"title\": {\"font\": {\"color\": \"#4D5663\"}, \"text\": \"\"}, \"zerolinecolor\": \"#E1E5ED\"}, \"yaxis13\": {\"anchor\": \"x13\", \"domain\": [0.0, 0.1975], \"gridcolor\": \"#E1E5ED\", \"showgrid\": false, \"tickfont\": {\"color\": \"#4D5663\"}, \"title\": {\"font\": {\"color\": \"#4D5663\"}, \"text\": \"\"}, \"zerolinecolor\": \"#E1E5ED\"}, \"yaxis14\": {\"anchor\": \"x14\", \"domain\": [0.0, 0.1975], \"gridcolor\": \"#E1E5ED\", \"showgrid\": false, \"tickfont\": {\"color\": \"#4D5663\"}, \"title\": {\"font\": {\"color\": \"#4D5663\"}, \"text\": \"\"}, \"zerolinecolor\": \"#E1E5ED\"}, \"yaxis15\": {\"anchor\": \"x15\", \"domain\": [0.0, 0.1975], \"gridcolor\": \"#E1E5ED\", \"showgrid\": false, \"tickfont\": {\"color\": \"#4D5663\"}, \"title\": {\"font\": {\"color\": \"#4D5663\"}, \"text\": \"\"}, \"zerolinecolor\": \"#E1E5ED\"}, \"yaxis16\": {\"anchor\": \"x16\", \"domain\": [0.0, 0.1975], \"gridcolor\": \"#E1E5ED\", \"showgrid\": false, \"tickfont\": {\"color\": \"#4D5663\"}, \"title\": {\"font\": {\"color\": \"#4D5663\"}, \"text\": \"\"}, \"zerolinecolor\": \"#E1E5ED\"}, \"yaxis2\": {\"anchor\": \"x2\", \"domain\": [0.8025, 1.0], \"gridcolor\": \"#E1E5ED\", \"showgrid\": false, \"tickfont\": {\"color\": \"#4D5663\"}, \"title\": {\"font\": {\"color\": \"#4D5663\"}, \"text\": \"\"}, \"zerolinecolor\": \"#E1E5ED\"}, \"yaxis3\": {\"anchor\": \"x3\", \"domain\": [0.8025, 1.0], \"gridcolor\": \"#E1E5ED\", \"showgrid\": false, \"tickfont\": {\"color\": \"#4D5663\"}, \"title\": {\"font\": {\"color\": \"#4D5663\"}, \"text\": \"\"}, \"zerolinecolor\": \"#E1E5ED\"}, \"yaxis4\": {\"anchor\": \"x4\", \"domain\": [0.8025, 1.0], \"gridcolor\": \"#E1E5ED\", \"showgrid\": false, \"tickfont\": {\"color\": \"#4D5663\"}, \"title\": {\"font\": {\"color\": \"#4D5663\"}, \"text\": \"\"}, \"zerolinecolor\": \"#E1E5ED\"}, \"yaxis5\": {\"anchor\": \"x5\", \"domain\": [0.535, 0.7325], \"gridcolor\": \"#E1E5ED\", \"showgrid\": false, \"tickfont\": {\"color\": \"#4D5663\"}, \"title\": {\"font\": {\"color\": \"#4D5663\"}, \"text\": \"\"}, \"zerolinecolor\": \"#E1E5ED\"}, \"yaxis6\": {\"anchor\": \"x6\", \"domain\": [0.535, 0.7325], \"gridcolor\": \"#E1E5ED\", \"showgrid\": false, \"tickfont\": {\"color\": \"#4D5663\"}, \"title\": {\"font\": {\"color\": \"#4D5663\"}, \"text\": \"\"}, \"zerolinecolor\": \"#E1E5ED\"}, \"yaxis7\": {\"anchor\": \"x7\", \"domain\": [0.535, 0.7325], \"gridcolor\": \"#E1E5ED\", \"showgrid\": false, \"tickfont\": {\"color\": \"#4D5663\"}, \"title\": {\"font\": {\"color\": \"#4D5663\"}, \"text\": \"\"}, \"zerolinecolor\": \"#E1E5ED\"}, \"yaxis8\": {\"anchor\": \"x8\", \"domain\": [0.535, 0.7325], \"gridcolor\": \"#E1E5ED\", \"showgrid\": false, \"tickfont\": {\"color\": \"#4D5663\"}, \"title\": {\"font\": {\"color\": \"#4D5663\"}, \"text\": \"\"}, \"zerolinecolor\": \"#E1E5ED\"}, \"yaxis9\": {\"anchor\": \"x9\", \"domain\": [0.2675, 0.465], \"gridcolor\": \"#E1E5ED\", \"showgrid\": false, \"tickfont\": {\"color\": \"#4D5663\"}, \"title\": {\"font\": {\"color\": \"#4D5663\"}, \"text\": \"\"}, \"zerolinecolor\": \"#E1E5ED\"}},\n",
       "                        {\"showLink\": true, \"linkText\": \"Export to plot.ly\", \"plotlyServerURL\": \"https://plot.ly\", \"responsive\": true}\n",
       "                    ).then(function(){\n",
       "                            \n",
       "var gd = document.getElementById('23028d62-988f-4e6e-a3e2-cf2b207f8255');\n",
       "var x = new MutationObserver(function (mutations, observer) {{\n",
       "        var display = window.getComputedStyle(gd).display;\n",
       "        if (!display || display === 'none') {{\n",
       "            console.log([gd, 'removed!']);\n",
       "            Plotly.purge(gd);\n",
       "            observer.disconnect();\n",
       "        }}\n",
       "}});\n",
       "\n",
       "// Listen for the removal of the full notebook cells\n",
       "var notebookContainer = gd.closest('#notebook-container');\n",
       "if (notebookContainer) {{\n",
       "    x.observe(notebookContainer, {childList: true});\n",
       "}}\n",
       "\n",
       "// Listen for the clearing of the current output cell\n",
       "var outputEl = gd.closest('.output');\n",
       "if (outputEl) {{\n",
       "    x.observe(outputEl, {childList: true});\n",
       "}}\n",
       "\n",
       "                        })\n",
       "                };\n",
       "                });\n",
       "            </script>\n",
       "        </div>"
      ]
     },
     "metadata": {},
     "output_type": "display_data"
    }
   ],
   "source": [
    "df.scatter_matrix()"
   ]
  },
  {
   "cell_type": "code",
   "execution_count": null,
   "metadata": {},
   "outputs": [],
   "source": []
  },
  {
   "cell_type": "code",
   "execution_count": null,
   "metadata": {},
   "outputs": [],
   "source": []
  }
 ],
 "metadata": {
  "kernelspec": {
   "display_name": "Python 3",
   "language": "python",
   "name": "python3"
  },
  "language_info": {
   "codemirror_mode": {
    "name": "ipython",
    "version": 3
   },
   "file_extension": ".py",
   "mimetype": "text/x-python",
   "name": "python",
   "nbconvert_exporter": "python",
   "pygments_lexer": "ipython3",
   "version": "3.7.6"
  }
 },
 "nbformat": 4,
 "nbformat_minor": 4
}
