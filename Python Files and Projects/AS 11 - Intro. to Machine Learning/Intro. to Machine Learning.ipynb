{
 "cells": [
  {
   "cell_type": "markdown",
   "metadata": {},
   "source": [
    "#### Introduction to Machine Learning\n",
    "- Supervised Learning:\n",
    "    These algorithms are trained using \"labeled\" examples, such as an input hwhere the desired output is known.\n",
    "        - EX: a segment of text could have a category label such as SPAM vs. LEGITITMATE email, or Positivie vs. Negative movie Review\n",
    "        - The network receives a set of inputs along with the corresponding correct outputs, and the algorithm learns by comparing its actual output with correct outputs to find errors. It then modifies the model accordingly. Commonly used when historical data predicts future events.\n",
    "        - The data is often split into 3 sets (to fix the issue of using out single split of data to evaluate out models performance):\n",
    "            1) Training Data: Used to train model parameters\n",
    "            2) Validation Data: Used to determine what model hyperparameters to adjust\n",
    "            3) Test Data: Used to get some final performance metric (True Performance set)\n",
    "            "
   ]
  },
  {
   "cell_type": "markdown",
   "metadata": {},
   "source": [
    "- Model Evaluation\n",
    "\n",
    "    -- Key classification metrics:\n",
    "    \n",
    "        1) Accuracy: \n",
    "            - The number of correct predictions made by the model divided by the total number of predictions. (correct div. by total)\n",
    "            - Useful when target classes are well-balanced (i.e. roughly the same amount of cat images as we have dog images in the data)\n",
    "            - Not a good choice when you have unbalanced target classes\n",
    "             \n",
    "             \n",
    "        2) Recall (alse called Sensitivity): \n",
    "            - Ability of a model to find all the relevant cases within a dataset. The precise definition is the number of true positives divided by the number of true positives plus the number of false negatives ( true pos./(true pos. + false negs.) ) \n",
    "        \n",
    "        \n",
    "        3) Precision\n",
    "            - Ability of a classification model to identify only the relevant data points. Precision is defined as the number of true positives divided by the number of true positives plus the number of false positives ( true pos./(true pos. + false pos.) ) \n",
    "        \n",
    "        \n",
    "        \n",
    "        4) F1 Score\n",
    "            - In cases where we want to find an optimal blend of precision and recall (b/c a tradeoff occurs when implementing a model), the two metrics are combined in the F1 Score.\n",
    "            - The F1 Score is the harmonic mean of precision and recall taking both metrics into account in the following equation:\n",
    "                                    F_1 = 2 * ( (prec. * recall) / (prec. + recall) )\n",
    "            - Used instead of simple mean because it punishes extreme values\n",
    "        \n",
    "        \n",
    "    - A confusion matrix can help to analyze correct/incorrect predictions\n",
    "    \n",
    "    - Often, a precision vs. recall trade-off will occur. We must decide if the model wil focus on fixing False Positives OR False Negatives"
   ]
  },
  {
   "cell_type": "markdown",
   "metadata": {},
   "source": [
    "- Evaluating Regression\n",
    "\n",
    "    -- Regression is a task when a model attempts to predict continuous values (unlike categrocial values, which is classification). Some of the most common evaluation metrics for regression:\n",
    "        1) Mean Absolute Error (MAE): mean of the absolute value of errors\n",
    "            - Won't punish large errors\n",
    "        2) Mean Squared Error (MSE): mean of the squared errors\n",
    "            - Larger errors are noted more in MSE than in MAE, making MSE more popular\n",
    "        3) Root Mean Square Error (RMSE): square root of MSE\n",
    "            - Most popular    "
   ]
  },
  {
   "cell_type": "code",
   "execution_count": null,
   "metadata": {},
   "outputs": [],
   "source": []
  }
 ],
 "metadata": {
  "kernelspec": {
   "display_name": "Python 3",
   "language": "python",
   "name": "python3"
  },
  "language_info": {
   "codemirror_mode": {
    "name": "ipython",
    "version": 3
   },
   "file_extension": ".py",
   "mimetype": "text/x-python",
   "name": "python",
   "nbconvert_exporter": "python",
   "pygments_lexer": "ipython3",
   "version": "3.7.6"
  }
 },
 "nbformat": 4,
 "nbformat_minor": 4
}
